{
 "cells": [
  {
   "cell_type": "code",
   "execution_count": null,
   "id": "initial_id",
   "metadata": {
    "collapsed": true
   },
   "outputs": [],
   "source": [
    "import numpy as np\n",
    "import pandas as pd\n",
    "from cliffs import get_similarity_matrix\n",
    "from json import load\n",
    "from chython import smiles, GridDepict"
   ]
  },
  {
   "cell_type": "code",
   "execution_count": null,
   "outputs": [],
   "source": [
    "# Load target sequences and drugs from respective JSON files\n",
    "targets = load(open('../data/DAVIS/target_seq.txt'))\n",
    "drugs = {int(k): v for k, v in load(open('../data/DAVIS/SMILES.txt')).items()}\n",
    "\n",
    "# Load drug-target affinity data from a CSV file into a DataFrame\n",
    "affinity = pd.read_csv('../data/DAVIS/affinity.txt', sep=' ', header=None)\n",
    "\n",
    "# Map drug ids to indices (rows) and target ids to columns\n",
    "affinity.index = drugs\n",
    "affinity.columns = targets"
   ],
   "metadata": {
    "collapsed": false
   },
   "id": "45f1d3d891a8da84"
  },
  {
   "cell_type": "code",
   "execution_count": null,
   "outputs": [],
   "source": [
    "affinity"
   ],
   "metadata": {
    "collapsed": false
   },
   "id": "afcf2142119d93f8"
  },
  {
   "cell_type": "code",
   "execution_count": null,
   "outputs": [],
   "source": [
    "# Transform the 'affinity' DataFrame from wide format to long format\n",
    "unpivoted = affinity.stack().reset_index()\n",
    "\n",
    "# Rename the columns of the transformed DataFrame for clarity\n",
    "unpivoted.columns = ['drug', 'target', 'affinity']\n",
    "unpivoted"
   ],
   "metadata": {
    "collapsed": false
   },
   "id": "5e80b2800335d064"
  },
  {
   "cell_type": "code",
   "execution_count": null,
   "outputs": [],
   "source": [
    "# Calculate the similarity matrix for the drug molecules\n",
    "sim = get_similarity_matrix(list(drugs.values()))\n",
    "# Find non-zero elements in the similarity matrix, indicating pairs of similar drugs\n",
    "i, j = sim.nonzero()\n",
    "\n",
    "sim"
   ],
   "metadata": {
    "collapsed": false
   },
   "id": "9066a5ebfa3a91e"
  },
  {
   "cell_type": "code",
   "execution_count": null,
   "outputs": [],
   "source": [
    "i, j"
   ],
   "metadata": {
    "collapsed": false
   },
   "id": "4aefd9c51266a76"
  },
  {
   "cell_type": "code",
   "execution_count": null,
   "outputs": [],
   "source": [
    "groups = []\n",
    "\n",
    "# Loop through each group in the DataFrame 'unpivoted' grouped by 'target'\n",
    "# 'g_name' holds the name of the target, 'group' contains the corresponding rows\n",
    "for g_name, group in unpivoted.groupby('target', sort=False):\n",
    "    # Select corresponding rows from the affinity DataFrame for these drug pairs d1-d2\n",
    "    # 'd1' and 'd2' represent the first and second drug in the pair respectively\n",
    "    d1 = group.iloc[i]\n",
    "    d2 = group.iloc[j]\n",
    "    \n",
    "    # Calculate the 1-fold difference in affinity between the two drugs\n",
    "    # 'affinity_diff' is a boolean array where True indicates a significant difference\n",
    "    affinity_diff = np.abs(np.log10(d1.affinity.values) - np.log10(d2.affinity.values)) > 1\n",
    "    \n",
    "    # Select rows from d1 and d2 where the affinity difference is significant\n",
    "    cliff1 = d1.iloc[affinity_diff]\n",
    "    cliff2 = d2.iloc[affinity_diff]\n",
    "    \n",
    "    # Pair up corresponding rows from cliff1 and cliff2 side by side\n",
    "    paired = pd.concat([cliff1.reset_index(drop=True), cliff2.reset_index(drop=True)], axis=1)\n",
    "    # Rename columns for clarity\n",
    "    paired.columns = ['drug1', 'target', 'affinity1', 'drug2', 'remove', 'affinity2']\n",
    "    \n",
    "    # Rearrange and select only relevant columns\n",
    "    paired = paired[['target', 'drug1', 'drug2', 'affinity1', 'affinity2']].copy()\n",
    "    \n",
    "    # Add the paired DataFrame to the groups list\n",
    "    groups.append(paired)\n",
    "\n",
    "# Concatenate all group DataFrames into a single DataFrame\n",
    "groups = pd.concat(groups)"
   ],
   "metadata": {
    "collapsed": false
   },
   "id": "9b188ebcda10c628"
  },
  {
   "cell_type": "code",
   "execution_count": null,
   "outputs": [],
   "source": [
    "# Save to csv file\n",
    "groups.to_csv('../analysis/davis.csv', index=False)"
   ],
   "metadata": {
    "collapsed": false
   },
   "id": "20f6016089d59cd"
  },
  {
   "cell_type": "code",
   "execution_count": null,
   "outputs": [],
   "source": [
    "groups"
   ],
   "metadata": {
    "collapsed": false
   },
   "id": "ba6fc37e161c13cd"
  },
  {
   "cell_type": "code",
   "execution_count": null,
   "outputs": [],
   "source": [
    "# Compare random values\n",
    "affinity.loc[[5291,10074640]]"
   ],
   "metadata": {
    "collapsed": false
   },
   "id": "d93f5212c90f0b72"
  },
  {
   "cell_type": "code",
   "execution_count": null,
   "outputs": [],
   "source": [],
   "metadata": {
    "collapsed": false
   },
   "id": "687e3c64fd3fbfd1"
  }
 ],
 "metadata": {
  "kernelspec": {
   "display_name": "Python 3",
   "language": "python",
   "name": "python3"
  },
  "language_info": {
   "codemirror_mode": {
    "name": "ipython",
    "version": 2
   },
   "file_extension": ".py",
   "mimetype": "text/x-python",
   "name": "python",
   "nbconvert_exporter": "python",
   "pygments_lexer": "ipython2",
   "version": "2.7.6"
  }
 },
 "nbformat": 4,
 "nbformat_minor": 5
}
