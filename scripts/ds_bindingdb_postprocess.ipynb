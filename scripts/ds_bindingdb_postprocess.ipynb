{
 "cells": [
  {
   "cell_type": "code",
   "id": "1d4865ff-c4e3-48f0-9309-21babe4576e3",
   "metadata": {},
   "source": [
    "import torch\n",
    "from rdkit import Chem\n",
    "import pandas as pd\n",
    "from metrics import get_total_metrics\n",
    "from graphics import get_heatmap, get_differential_heatmap, get_pairs_heatmap"
   ],
   "outputs": [],
   "execution_count": null
  },
  {
   "metadata": {},
   "cell_type": "markdown",
   "source": "# Metrics calculating",
   "id": "c4cf28a5e9e419d"
  },
  {
   "metadata": {},
   "cell_type": "code",
   "source": "drug_target_data = pd.read_csv('../analysis/bindingdb_ki_d_t_aff_smiles_split.csv')",
   "id": "4461c76e7b5e2e75",
   "outputs": [],
   "execution_count": null
  },
  {
   "cell_type": "code",
   "source": [
    "test_data = drug_target_data[drug_target_data['split'] == 2] \n",
    "del test_data['split']"
   ],
   "metadata": {
    "collapsed": false
   },
   "id": "cb7e1cfb8e48233b",
   "outputs": [],
   "execution_count": null
  },
  {
   "metadata": {},
   "cell_type": "code",
   "source": "test_data_cleaned = test_data[~test_data['smiles'].apply(Chem.MolFromSmiles).isna()]",
   "id": "c2ec8dfb212f9633",
   "outputs": [],
   "execution_count": null
  },
  {
   "metadata": {},
   "cell_type": "code",
   "source": [
    "pred_DTI_best_vary_all = torch.load('../analysis/DTI_BDB_best_vary_all_2904')\n",
    "pred_DTI_TL_d_enc_KIBA = torch.load('../analysis/DTI_BDB_tl_nf_d_enc_KIBA_best_3004')"
   ],
   "id": "4acf7c4d2eb05772",
   "outputs": [],
   "execution_count": null
  },
  {
   "metadata": {},
   "cell_type": "code",
   "source": [
    "test_data_cleaned.insert(4, 'predicted', pred_DTI_TL_d_enc_KIBA)\n",
    "test_data_cleaned"
   ],
   "id": "7d2ac17e4cbee4d1",
   "outputs": [],
   "execution_count": null
  },
  {
   "metadata": {},
   "cell_type": "code",
   "source": "test_data_cleaned.to_csv('../analysis/DTI_BDB_tl_nf_d_enc_KIBA_best_3004_preds.csv', index=False)",
   "id": "16de1875b679daf9",
   "outputs": [],
   "execution_count": null
  },
  {
   "metadata": {},
   "cell_type": "code",
   "source": "results = get_total_metrics(test_data_cleaned, threshold_affinity=[0, 1, 1.5, 2, 2.5, 3, 3.5, 4], threshold_similarity=[0, 0.1, 0.3, 0.5, 0.7, 0.9])",
   "id": "48a8733e5465643a",
   "outputs": [],
   "execution_count": null
  },
  {
   "metadata": {},
   "cell_type": "code",
   "source": "results",
   "id": "2459e193b2b60552",
   "outputs": [],
   "execution_count": null
  },
  {
   "metadata": {},
   "cell_type": "code",
   "source": "results.to_csv('../analysis/DTI_BDB_tl_nf_d_enc_KIBA_best_3004_metrics.csv', index=False)",
   "id": "277f989508dbd87f",
   "outputs": [],
   "execution_count": null
  },
  {
   "metadata": {},
   "cell_type": "markdown",
   "source": "# Heatmaps",
   "id": "a59bf19789b88d53"
  },
  {
   "metadata": {},
   "cell_type": "code",
   "source": "results_DTI_BDB_best_vary_all = pd.read_csv('../analysis/DTI_BDB_best_vary_all_2904_metrics.csv')",
   "id": "2445c2bf073519e2",
   "outputs": [],
   "execution_count": null
  },
  {
   "metadata": {},
   "cell_type": "code",
   "source": "get_pairs_heatmap(results, 'DTI')",
   "id": "6d45992e0bdf4288",
   "outputs": [],
   "execution_count": null
  },
  {
   "metadata": {},
   "cell_type": "code",
   "source": "get_heatmap(results, 'rmse_micro', model_name='DTI_BDB_tl_nf_d_enc_KIBA_best')",
   "id": "cc531396729aaf1",
   "outputs": [],
   "execution_count": null
  },
  {
   "metadata": {},
   "cell_type": "code",
   "source": "get_differential_heatmap(results_DTI_BDB_best_vary_all, results, 'rmse_macro', 'DTI best overall vs TL best (KIBA d_encoder)')",
   "id": "e09eb10bd6f7402",
   "outputs": [],
   "execution_count": null
  }
 ],
 "metadata": {
  "kernelspec": {
   "display_name": "Python 3 (ipykernel)",
   "language": "python",
   "name": "python3"
  },
  "language_info": {
   "codemirror_mode": {
    "name": "ipython",
    "version": 3
   },
   "file_extension": ".py",
   "mimetype": "text/x-python",
   "name": "python",
   "nbconvert_exporter": "python",
   "pygments_lexer": "ipython3",
   "version": "3.10.12"
  }
 },
 "nbformat": 4,
 "nbformat_minor": 5
}
