{
 "cells": [
  {
   "cell_type": "code",
   "execution_count": 33,
   "id": "1d4865ff-c4e3-48f0-9309-21babe4576e3",
   "metadata": {
    "ExecuteTime": {
     "end_time": "2024-04-20T12:57:37.644380500Z",
     "start_time": "2024-04-20T12:57:37.547449200Z"
    }
   },
   "outputs": [],
   "source": [
    "import pandas as pd\n",
    "from json import load, dump\n",
    "from dataset import process_BindingDB, get_cliffs, split_data"
   ]
  },
  {
   "cell_type": "code",
   "execution_count": 17,
   "id": "9f18d9d73f00f90c",
   "metadata": {
    "collapsed": false
   },
   "outputs": [
    {
     "data": {
      "text/html": [
       "<div>\n",
       "<style scoped>\n",
       "    .dataframe tbody tr th:only-of-type {\n",
       "        vertical-align: middle;\n",
       "    }\n",
       "\n",
       "    .dataframe tbody tr th {\n",
       "        vertical-align: top;\n",
       "    }\n",
       "\n",
       "    .dataframe thead th {\n",
       "        text-align: right;\n",
       "    }\n",
       "</style>\n",
       "<table border=\"1\" class=\"dataframe\">\n",
       "  <thead>\n",
       "    <tr style=\"text-align: right;\">\n",
       "      <th></th>\n",
       "      <th>BindingDB Reactant_set_id</th>\n",
       "      <th>Ligand SMILES</th>\n",
       "      <th>Ligand InChI</th>\n",
       "      <th>Ligand InChI Key</th>\n",
       "      <th>BindingDB MonomerID</th>\n",
       "      <th>BindingDB Ligand Name</th>\n",
       "      <th>Target Name</th>\n",
       "      <th>Target Source Organism According to Curator or DataSource</th>\n",
       "      <th>Ki (nM)</th>\n",
       "      <th>IC50 (nM)</th>\n",
       "      <th>...</th>\n",
       "      <th>Unnamed: 233</th>\n",
       "      <th>Unnamed: 234</th>\n",
       "      <th>Unnamed: 235</th>\n",
       "      <th>Unnamed: 236</th>\n",
       "      <th>Unnamed: 237</th>\n",
       "      <th>Unnamed: 238</th>\n",
       "      <th>Unnamed: 239</th>\n",
       "      <th>Unnamed: 240</th>\n",
       "      <th>Unnamed: 241</th>\n",
       "      <th>Unnamed: 242</th>\n",
       "    </tr>\n",
       "  </thead>\n",
       "  <tbody>\n",
       "    <tr>\n",
       "      <th>0</th>\n",
       "      <td>2</td>\n",
       "      <td>O[C@@H]1[C@@H](O)[C@@H](Cc2ccccc2)N(C\\C=C\\c2cn...</td>\n",
       "      <td>InChI=1S/C31H34N6O3/c38-29-27(17-23-9-3-1-4-10...</td>\n",
       "      <td>UZLMEAPBHYEHAC-UNTBESQGSA-N</td>\n",
       "      <td>22</td>\n",
       "      <td>(4R,5S,6S,7R)-4,7-dibenzyl-5,6-dihydroxy-1,3-b...</td>\n",
       "      <td>Dimer of Gag-Pol polyprotein [501-599]</td>\n",
       "      <td>Human immunodeficiency virus 1</td>\n",
       "      <td>0.25</td>\n",
       "      <td>NaN</td>\n",
       "      <td>...</td>\n",
       "      <td>NaN</td>\n",
       "      <td>NaN</td>\n",
       "      <td>NaN</td>\n",
       "      <td>NaN</td>\n",
       "      <td>NaN</td>\n",
       "      <td>NaN</td>\n",
       "      <td>NaN</td>\n",
       "      <td>NaN</td>\n",
       "      <td>NaN</td>\n",
       "      <td>NaN</td>\n",
       "    </tr>\n",
       "    <tr>\n",
       "      <th>1</th>\n",
       "      <td>3</td>\n",
       "      <td>O[C@@H]1[C@@H](O)[C@@H](Cc2ccccc2)N(CC2CC2)C(=...</td>\n",
       "      <td>InChI=1S/C29H34N4O3/c34-27-25(16-21-8-3-1-4-9-...</td>\n",
       "      <td>HYNYUFZPPJMPOB-UTWJFGBXSA-N</td>\n",
       "      <td>23</td>\n",
       "      <td>(4R,5S,6S,7R)-4,7-dibenzyl-1-(cyclopropylmethy...</td>\n",
       "      <td>Dimer of Gag-Pol polyprotein [501-599]</td>\n",
       "      <td>Human immunodeficiency virus 1</td>\n",
       "      <td>0.41</td>\n",
       "      <td>NaN</td>\n",
       "      <td>...</td>\n",
       "      <td>NaN</td>\n",
       "      <td>NaN</td>\n",
       "      <td>NaN</td>\n",
       "      <td>NaN</td>\n",
       "      <td>NaN</td>\n",
       "      <td>NaN</td>\n",
       "      <td>NaN</td>\n",
       "      <td>NaN</td>\n",
       "      <td>NaN</td>\n",
       "      <td>NaN</td>\n",
       "    </tr>\n",
       "    <tr>\n",
       "      <th>2</th>\n",
       "      <td>4</td>\n",
       "      <td>OCCCCCCN1[C@H](Cc2ccccc2)[C@H](O)[C@@H](O)[C@@...</td>\n",
       "      <td>InChI=1S/C29H40N2O4/c32-18-10-2-1-9-17-30-25(1...</td>\n",
       "      <td>YXVAZXDWVZTGGD-VIJSPRBVSA-N</td>\n",
       "      <td>24</td>\n",
       "      <td>(4R,5S,6S,7R)-4,7-dibenzyl-1-(cyclopropylmethy...</td>\n",
       "      <td>Dimer of Gag-Pol polyprotein [501-599]</td>\n",
       "      <td>Human immunodeficiency virus 1</td>\n",
       "      <td>0.8</td>\n",
       "      <td>NaN</td>\n",
       "      <td>...</td>\n",
       "      <td>NaN</td>\n",
       "      <td>NaN</td>\n",
       "      <td>NaN</td>\n",
       "      <td>NaN</td>\n",
       "      <td>NaN</td>\n",
       "      <td>NaN</td>\n",
       "      <td>NaN</td>\n",
       "      <td>NaN</td>\n",
       "      <td>NaN</td>\n",
       "      <td>NaN</td>\n",
       "    </tr>\n",
       "    <tr>\n",
       "      <th>3</th>\n",
       "      <td>5</td>\n",
       "      <td>OCCCCCN1[C@H](Cc2ccccc2)[C@H](O)[C@@H](O)[C@@H...</td>\n",
       "      <td>InChI=1S/C28H38N2O4/c31-17-9-3-8-16-29-24(18-2...</td>\n",
       "      <td>WWTSWTPNILRSJX-XDZXDJIYSA-N</td>\n",
       "      <td>25</td>\n",
       "      <td>(4R,5S,6S,7R)-4,7-dibenzyl-1-(cyclopropylmethy...</td>\n",
       "      <td>Dimer of Gag-Pol polyprotein [501-599]</td>\n",
       "      <td>Human immunodeficiency virus 1</td>\n",
       "      <td>0.99</td>\n",
       "      <td>NaN</td>\n",
       "      <td>...</td>\n",
       "      <td>NaN</td>\n",
       "      <td>NaN</td>\n",
       "      <td>NaN</td>\n",
       "      <td>NaN</td>\n",
       "      <td>NaN</td>\n",
       "      <td>NaN</td>\n",
       "      <td>NaN</td>\n",
       "      <td>NaN</td>\n",
       "      <td>NaN</td>\n",
       "      <td>NaN</td>\n",
       "    </tr>\n",
       "    <tr>\n",
       "      <th>4</th>\n",
       "      <td>6</td>\n",
       "      <td>CCCCN1[C@H](Cc2ccccc2)[C@H](O)[C@@H](O)[C@@H](...</td>\n",
       "      <td>InChI=1S/C27H36N2O3/c1-2-3-16-28-23(17-20-10-6...</td>\n",
       "      <td>QDUGHFLRTUTUJH-XPGKHFPBSA-N</td>\n",
       "      <td>26</td>\n",
       "      <td>(4R,5S,6S,7R)-4,7-dibenzyl-1-butyl-3-(cyclopro...</td>\n",
       "      <td>Dimer of Gag-Pol polyprotein [501-599]</td>\n",
       "      <td>Human immunodeficiency virus 1</td>\n",
       "      <td>1.1</td>\n",
       "      <td>NaN</td>\n",
       "      <td>...</td>\n",
       "      <td>NaN</td>\n",
       "      <td>NaN</td>\n",
       "      <td>NaN</td>\n",
       "      <td>NaN</td>\n",
       "      <td>NaN</td>\n",
       "      <td>NaN</td>\n",
       "      <td>NaN</td>\n",
       "      <td>NaN</td>\n",
       "      <td>NaN</td>\n",
       "      <td>NaN</td>\n",
       "    </tr>\n",
       "  </tbody>\n",
       "</table>\n",
       "<p>5 rows × 243 columns</p>\n",
       "</div>"
      ],
      "text/plain": [
       "   BindingDB Reactant_set_id  \\\n",
       "0                          2   \n",
       "1                          3   \n",
       "2                          4   \n",
       "3                          5   \n",
       "4                          6   \n",
       "\n",
       "                                       Ligand SMILES  \\\n",
       "0  O[C@@H]1[C@@H](O)[C@@H](Cc2ccccc2)N(C\\C=C\\c2cn...   \n",
       "1  O[C@@H]1[C@@H](O)[C@@H](Cc2ccccc2)N(CC2CC2)C(=...   \n",
       "2  OCCCCCCN1[C@H](Cc2ccccc2)[C@H](O)[C@@H](O)[C@@...   \n",
       "3  OCCCCCN1[C@H](Cc2ccccc2)[C@H](O)[C@@H](O)[C@@H...   \n",
       "4  CCCCN1[C@H](Cc2ccccc2)[C@H](O)[C@@H](O)[C@@H](...   \n",
       "\n",
       "                                        Ligand InChI  \\\n",
       "0  InChI=1S/C31H34N6O3/c38-29-27(17-23-9-3-1-4-10...   \n",
       "1  InChI=1S/C29H34N4O3/c34-27-25(16-21-8-3-1-4-9-...   \n",
       "2  InChI=1S/C29H40N2O4/c32-18-10-2-1-9-17-30-25(1...   \n",
       "3  InChI=1S/C28H38N2O4/c31-17-9-3-8-16-29-24(18-2...   \n",
       "4  InChI=1S/C27H36N2O3/c1-2-3-16-28-23(17-20-10-6...   \n",
       "\n",
       "              Ligand InChI Key  BindingDB MonomerID  \\\n",
       "0  UZLMEAPBHYEHAC-UNTBESQGSA-N                   22   \n",
       "1  HYNYUFZPPJMPOB-UTWJFGBXSA-N                   23   \n",
       "2  YXVAZXDWVZTGGD-VIJSPRBVSA-N                   24   \n",
       "3  WWTSWTPNILRSJX-XDZXDJIYSA-N                   25   \n",
       "4  QDUGHFLRTUTUJH-XPGKHFPBSA-N                   26   \n",
       "\n",
       "                               BindingDB Ligand Name  \\\n",
       "0  (4R,5S,6S,7R)-4,7-dibenzyl-5,6-dihydroxy-1,3-b...   \n",
       "1  (4R,5S,6S,7R)-4,7-dibenzyl-1-(cyclopropylmethy...   \n",
       "2  (4R,5S,6S,7R)-4,7-dibenzyl-1-(cyclopropylmethy...   \n",
       "3  (4R,5S,6S,7R)-4,7-dibenzyl-1-(cyclopropylmethy...   \n",
       "4  (4R,5S,6S,7R)-4,7-dibenzyl-1-butyl-3-(cyclopro...   \n",
       "\n",
       "                              Target Name  \\\n",
       "0  Dimer of Gag-Pol polyprotein [501-599]   \n",
       "1  Dimer of Gag-Pol polyprotein [501-599]   \n",
       "2  Dimer of Gag-Pol polyprotein [501-599]   \n",
       "3  Dimer of Gag-Pol polyprotein [501-599]   \n",
       "4  Dimer of Gag-Pol polyprotein [501-599]   \n",
       "\n",
       "  Target Source Organism According to Curator or DataSource Ki (nM) IC50 (nM)  \\\n",
       "0                     Human immunodeficiency virus 1           0.25       NaN   \n",
       "1                     Human immunodeficiency virus 1           0.41       NaN   \n",
       "2                     Human immunodeficiency virus 1            0.8       NaN   \n",
       "3                     Human immunodeficiency virus 1           0.99       NaN   \n",
       "4                     Human immunodeficiency virus 1            1.1       NaN   \n",
       "\n",
       "   ... Unnamed: 233 Unnamed: 234  Unnamed: 235 Unnamed: 236  Unnamed: 237  \\\n",
       "0  ...          NaN          NaN           NaN          NaN           NaN   \n",
       "1  ...          NaN          NaN           NaN          NaN           NaN   \n",
       "2  ...          NaN          NaN           NaN          NaN           NaN   \n",
       "3  ...          NaN          NaN           NaN          NaN           NaN   \n",
       "4  ...          NaN          NaN           NaN          NaN           NaN   \n",
       "\n",
       "  Unnamed: 238 Unnamed: 239 Unnamed: 240 Unnamed: 241  Unnamed: 242  \n",
       "0          NaN          NaN          NaN          NaN           NaN  \n",
       "1          NaN          NaN          NaN          NaN           NaN  \n",
       "2          NaN          NaN          NaN          NaN           NaN  \n",
       "3          NaN          NaN          NaN          NaN           NaN  \n",
       "4          NaN          NaN          NaN          NaN           NaN  \n",
       "\n",
       "[5 rows x 243 columns]"
      ]
     },
     "execution_count": 17,
     "metadata": {},
     "output_type": "execute_result"
    }
   ],
   "source": [
    "df = pd.read_csv('/mnt/data/BindingDB_All.tsv', sep = '\\t', on_bad_lines='skip')\n",
    "df.head()"
   ]
  },
  {
   "cell_type": "code",
   "execution_count": null,
   "id": "b70c5206ea55dcf2",
   "metadata": {
    "collapsed": false
   },
   "outputs": [],
   "source": [
    "X_drug, X_SMILES, X_target, y = process_BindingDB('/mnt/data/BindingDB_All.tsv',\n",
    "                                         y = 'Ki', \n",
    "                                         binary = False, \n",
    "                                         convert_to_log = True)"
   ]
  },
  {
   "cell_type": "code",
   "execution_count": 74,
   "id": "9ce8e806-abae-4413-ae23-d8de4cf85910",
   "metadata": {},
   "outputs": [],
   "source": [
    "bindingdb_d_t_ki = pd.DataFrame({'drug': X_drug, 'SMILES': X_SMILES, 'target': X_target, 'Ki': y})"
   ]
  },
  {
   "cell_type": "code",
   "execution_count": 67,
   "id": "3a5068d3-4ca3-4e41-89f3-9f2e77e39058",
   "metadata": {},
   "outputs": [],
   "source": [
    "bindingdb_d_t_ki.to_csv('../analysis/bindingdb_d_t_ki.csv', index=False)"
   ]
  },
  {
   "cell_type": "code",
   "execution_count": 2,
   "outputs": [],
   "source": [
    "data_ki= pd.read_csv('../analysis/bindingdb_d_t_ki.csv')"
   ],
   "metadata": {
    "collapsed": false,
    "ExecuteTime": {
     "end_time": "2024-04-20T10:06:08.192408Z",
     "start_time": "2024-04-20T10:06:07.835658Z"
    }
   },
   "id": "e4f678ae7a3cf71e"
  },
  {
   "cell_type": "code",
   "execution_count": 3,
   "outputs": [
    {
     "data": {
      "text/plain": "                                                drug  \\\n0  (4R,5S,6S,7R)-4,7-dibenzyl-5,6-dihydroxy-1,3-b...   \n1  (4R,5S,6S,7R)-4,7-dibenzyl-1-(cyclopropylmethy...   \n2  (4R,5S,6S,7R)-4,7-dibenzyl-1-(cyclopropylmethy...   \n3  (4R,5S,6S,7R)-4,7-dibenzyl-1-(cyclopropylmethy...   \n4  (4R,5S,6S,7R)-4,7-dibenzyl-1-butyl-3-(cyclopro...   \n\n                                              SMILES  \\\n0  O[C@@H]1[C@@H](O)[C@@H](Cc2ccccc2)N(C\\C=C\\c2cn...   \n1  O[C@@H]1[C@@H](O)[C@@H](Cc2ccccc2)N(CC2CC2)C(=...   \n2  OCCCCCCN1[C@H](Cc2ccccc2)[C@H](O)[C@@H](O)[C@@...   \n3  OCCCCCN1[C@H](Cc2ccccc2)[C@H](O)[C@@H](O)[C@@H...   \n4  CCCCN1[C@H](Cc2ccccc2)[C@H](O)[C@@H](O)[C@@H](...   \n\n                                   target        Ki  \n0  Dimer of Gag-Pol polyprotein [501-599]  9.602060  \n1  Dimer of Gag-Pol polyprotein [501-599]  9.387216  \n2  Dimer of Gag-Pol polyprotein [501-599]  9.096910  \n3  Dimer of Gag-Pol polyprotein [501-599]  9.004365  \n4  Dimer of Gag-Pol polyprotein [501-599]  8.958607  ",
      "text/html": "<div>\n<style scoped>\n    .dataframe tbody tr th:only-of-type {\n        vertical-align: middle;\n    }\n\n    .dataframe tbody tr th {\n        vertical-align: top;\n    }\n\n    .dataframe thead th {\n        text-align: right;\n    }\n</style>\n<table border=\"1\" class=\"dataframe\">\n  <thead>\n    <tr style=\"text-align: right;\">\n      <th></th>\n      <th>drug</th>\n      <th>SMILES</th>\n      <th>target</th>\n      <th>Ki</th>\n    </tr>\n  </thead>\n  <tbody>\n    <tr>\n      <th>0</th>\n      <td>(4R,5S,6S,7R)-4,7-dibenzyl-5,6-dihydroxy-1,3-b...</td>\n      <td>O[C@@H]1[C@@H](O)[C@@H](Cc2ccccc2)N(C\\C=C\\c2cn...</td>\n      <td>Dimer of Gag-Pol polyprotein [501-599]</td>\n      <td>9.602060</td>\n    </tr>\n    <tr>\n      <th>1</th>\n      <td>(4R,5S,6S,7R)-4,7-dibenzyl-1-(cyclopropylmethy...</td>\n      <td>O[C@@H]1[C@@H](O)[C@@H](Cc2ccccc2)N(CC2CC2)C(=...</td>\n      <td>Dimer of Gag-Pol polyprotein [501-599]</td>\n      <td>9.387216</td>\n    </tr>\n    <tr>\n      <th>2</th>\n      <td>(4R,5S,6S,7R)-4,7-dibenzyl-1-(cyclopropylmethy...</td>\n      <td>OCCCCCCN1[C@H](Cc2ccccc2)[C@H](O)[C@@H](O)[C@@...</td>\n      <td>Dimer of Gag-Pol polyprotein [501-599]</td>\n      <td>9.096910</td>\n    </tr>\n    <tr>\n      <th>3</th>\n      <td>(4R,5S,6S,7R)-4,7-dibenzyl-1-(cyclopropylmethy...</td>\n      <td>OCCCCCN1[C@H](Cc2ccccc2)[C@H](O)[C@@H](O)[C@@H...</td>\n      <td>Dimer of Gag-Pol polyprotein [501-599]</td>\n      <td>9.004365</td>\n    </tr>\n    <tr>\n      <th>4</th>\n      <td>(4R,5S,6S,7R)-4,7-dibenzyl-1-butyl-3-(cyclopro...</td>\n      <td>CCCCN1[C@H](Cc2ccccc2)[C@H](O)[C@@H](O)[C@@H](...</td>\n      <td>Dimer of Gag-Pol polyprotein [501-599]</td>\n      <td>8.958607</td>\n    </tr>\n  </tbody>\n</table>\n</div>"
     },
     "execution_count": 3,
     "metadata": {},
     "output_type": "execute_result"
    }
   ],
   "source": [
    "data_ki.head()"
   ],
   "metadata": {
    "collapsed": false,
    "ExecuteTime": {
     "end_time": "2024-04-20T10:06:11.266134900Z",
     "start_time": "2024-04-20T10:06:11.150107600Z"
    }
   },
   "id": "1c7c83db45933305"
  },
  {
   "cell_type": "code",
   "execution_count": 5,
   "outputs": [],
   "source": [
    "data_ki.columns = 'drug', 'SMILES', 'target', 'affinity'"
   ],
   "metadata": {
    "collapsed": false,
    "ExecuteTime": {
     "end_time": "2024-04-20T10:06:49.194938300Z",
     "start_time": "2024-04-20T10:06:49.136019300Z"
    }
   },
   "id": "2130e0be866e1a67"
  },
  {
   "cell_type": "code",
   "execution_count": 6,
   "outputs": [
    {
     "data": {
      "text/plain": "                                                drug  \\\n0  (4R,5S,6S,7R)-4,7-dibenzyl-5,6-dihydroxy-1,3-b...   \n1  (4R,5S,6S,7R)-4,7-dibenzyl-1-(cyclopropylmethy...   \n2  (4R,5S,6S,7R)-4,7-dibenzyl-1-(cyclopropylmethy...   \n3  (4R,5S,6S,7R)-4,7-dibenzyl-1-(cyclopropylmethy...   \n4  (4R,5S,6S,7R)-4,7-dibenzyl-1-butyl-3-(cyclopro...   \n\n                                              SMILES  \\\n0  O[C@@H]1[C@@H](O)[C@@H](Cc2ccccc2)N(C\\C=C\\c2cn...   \n1  O[C@@H]1[C@@H](O)[C@@H](Cc2ccccc2)N(CC2CC2)C(=...   \n2  OCCCCCCN1[C@H](Cc2ccccc2)[C@H](O)[C@@H](O)[C@@...   \n3  OCCCCCN1[C@H](Cc2ccccc2)[C@H](O)[C@@H](O)[C@@H...   \n4  CCCCN1[C@H](Cc2ccccc2)[C@H](O)[C@@H](O)[C@@H](...   \n\n                                   target  affinity  \n0  Dimer of Gag-Pol polyprotein [501-599]  9.602060  \n1  Dimer of Gag-Pol polyprotein [501-599]  9.387216  \n2  Dimer of Gag-Pol polyprotein [501-599]  9.096910  \n3  Dimer of Gag-Pol polyprotein [501-599]  9.004365  \n4  Dimer of Gag-Pol polyprotein [501-599]  8.958607  ",
      "text/html": "<div>\n<style scoped>\n    .dataframe tbody tr th:only-of-type {\n        vertical-align: middle;\n    }\n\n    .dataframe tbody tr th {\n        vertical-align: top;\n    }\n\n    .dataframe thead th {\n        text-align: right;\n    }\n</style>\n<table border=\"1\" class=\"dataframe\">\n  <thead>\n    <tr style=\"text-align: right;\">\n      <th></th>\n      <th>drug</th>\n      <th>SMILES</th>\n      <th>target</th>\n      <th>affinity</th>\n    </tr>\n  </thead>\n  <tbody>\n    <tr>\n      <th>0</th>\n      <td>(4R,5S,6S,7R)-4,7-dibenzyl-5,6-dihydroxy-1,3-b...</td>\n      <td>O[C@@H]1[C@@H](O)[C@@H](Cc2ccccc2)N(C\\C=C\\c2cn...</td>\n      <td>Dimer of Gag-Pol polyprotein [501-599]</td>\n      <td>9.602060</td>\n    </tr>\n    <tr>\n      <th>1</th>\n      <td>(4R,5S,6S,7R)-4,7-dibenzyl-1-(cyclopropylmethy...</td>\n      <td>O[C@@H]1[C@@H](O)[C@@H](Cc2ccccc2)N(CC2CC2)C(=...</td>\n      <td>Dimer of Gag-Pol polyprotein [501-599]</td>\n      <td>9.387216</td>\n    </tr>\n    <tr>\n      <th>2</th>\n      <td>(4R,5S,6S,7R)-4,7-dibenzyl-1-(cyclopropylmethy...</td>\n      <td>OCCCCCCN1[C@H](Cc2ccccc2)[C@H](O)[C@@H](O)[C@@...</td>\n      <td>Dimer of Gag-Pol polyprotein [501-599]</td>\n      <td>9.096910</td>\n    </tr>\n    <tr>\n      <th>3</th>\n      <td>(4R,5S,6S,7R)-4,7-dibenzyl-1-(cyclopropylmethy...</td>\n      <td>OCCCCCN1[C@H](Cc2ccccc2)[C@H](O)[C@@H](O)[C@@H...</td>\n      <td>Dimer of Gag-Pol polyprotein [501-599]</td>\n      <td>9.004365</td>\n    </tr>\n    <tr>\n      <th>4</th>\n      <td>(4R,5S,6S,7R)-4,7-dibenzyl-1-butyl-3-(cyclopro...</td>\n      <td>CCCCN1[C@H](Cc2ccccc2)[C@H](O)[C@@H](O)[C@@H](...</td>\n      <td>Dimer of Gag-Pol polyprotein [501-599]</td>\n      <td>8.958607</td>\n    </tr>\n  </tbody>\n</table>\n</div>"
     },
     "execution_count": 6,
     "metadata": {},
     "output_type": "execute_result"
    }
   ],
   "source": [
    "data_ki.head()"
   ],
   "metadata": {
    "collapsed": false,
    "ExecuteTime": {
     "end_time": "2024-04-20T10:06:50.574484Z",
     "start_time": "2024-04-20T10:06:50.539112900Z"
    }
   },
   "id": "216de65db679a737"
  },
  {
   "cell_type": "code",
   "execution_count": null,
   "outputs": [],
   "source": [
    "cliff_pairs = get_cliffs(data_ki, threshold_affinity=1, threshold_similarity=0.9)"
   ],
   "metadata": {
    "collapsed": false
   },
   "id": "acd7a227e310819"
  },
  {
   "cell_type": "code",
   "execution_count": null,
   "outputs": [],
   "source": [
    "cliff_pairs"
   ],
   "metadata": {
    "collapsed": false
   },
   "id": "cd363b0c6a6b9e20"
  },
  {
   "cell_type": "code",
   "execution_count": 16,
   "outputs": [],
   "source": [
    "cliff_pairs_no_dup = cliff_pairs.drop_duplicates()"
   ],
   "metadata": {
    "collapsed": false,
    "ExecuteTime": {
     "end_time": "2024-04-17T11:54:03.415405100Z",
     "start_time": "2024-04-17T11:54:00.567274100Z"
    }
   },
   "id": "3f6793dd95cd9df8"
  },
  {
   "cell_type": "code",
   "execution_count": 17,
   "outputs": [
    {
     "data": {
      "text/plain": "(498786, 6)"
     },
     "execution_count": 17,
     "metadata": {},
     "output_type": "execute_result"
    }
   ],
   "source": [
    "cliff_pairs.shape"
   ],
   "metadata": {
    "collapsed": false,
    "ExecuteTime": {
     "end_time": "2024-04-17T11:54:04.067101800Z",
     "start_time": "2024-04-17T11:54:04.037473900Z"
    }
   },
   "id": "91997c5c5f2ef131"
  },
  {
   "cell_type": "code",
   "execution_count": 18,
   "outputs": [
    {
     "data": {
      "text/plain": "(252803, 6)"
     },
     "execution_count": 18,
     "metadata": {},
     "output_type": "execute_result"
    }
   ],
   "source": [
    "cliff_pairs_no_dup.shape"
   ],
   "metadata": {
    "collapsed": false,
    "ExecuteTime": {
     "end_time": "2024-04-17T11:54:04.791430100Z",
     "start_time": "2024-04-17T11:54:04.756873600Z"
    }
   },
   "id": "4088f1ca6e2b42ac"
  },
  {
   "cell_type": "code",
   "execution_count": null,
   "outputs": [],
   "source": [
    "#cliff_pairs_no_dup.to_csv('../analysis/bindindb_ki_cliff_pairs_ta1_ts0.9.csv', index=False)"
   ],
   "metadata": {
    "collapsed": false
   },
   "id": "9c0186d3a83710c9"
  },
  {
   "cell_type": "markdown",
   "source": [
    "# Split data for DDC task"
   ],
   "metadata": {
    "collapsed": false
   },
   "id": "1b9cae61e54ee22e"
  },
  {
   "cell_type": "code",
   "execution_count": 16,
   "outputs": [],
   "source": [
    "cliff_pairs_no_dup =  pd.read_csv('../analysis/bindindb_ki_cliff_pairs_ta1_ts0.9.csv')"
   ],
   "metadata": {
    "collapsed": false,
    "ExecuteTime": {
     "end_time": "2024-04-20T10:36:41.025084200Z",
     "start_time": "2024-04-20T10:36:40.222577Z"
    }
   },
   "id": "3155c3b4eba23ffe"
  },
  {
   "cell_type": "code",
   "execution_count": 17,
   "outputs": [],
   "source": [
    "target_ids = {t:i for i, t in enumerate(set(cliff_pairs_no_dup.target))}\n",
    "dump(target_ids, open('../analysis/target_mapping_bdb.json', 'w'))"
   ],
   "metadata": {
    "collapsed": false,
    "ExecuteTime": {
     "end_time": "2024-04-20T10:36:41.966848600Z",
     "start_time": "2024-04-20T10:36:41.937740600Z"
    }
   },
   "id": "d1ed4be4a752354a"
  },
  {
   "cell_type": "code",
   "execution_count": 18,
   "outputs": [],
   "source": [
    "target_ids = load(open('../analysis/target_mapping_bdb.json'))\n",
    "cliff_pairs_no_dup.loc[:, 'target'] = cliff_pairs_no_dup['target'].apply(target_ids.__getitem__)"
   ],
   "metadata": {
    "collapsed": false,
    "ExecuteTime": {
     "end_time": "2024-04-20T10:36:46.060373100Z",
     "start_time": "2024-04-20T10:36:46.011356600Z"
    }
   },
   "id": "2666d8957971e3e4"
  },
  {
   "cell_type": "code",
   "execution_count": 22,
   "outputs": [],
   "source": [
    "cliff_pairs_split_random = split_data(cliff_pairs_no_dup, split='random')\n",
    "cliff_pairs_split_random.to_csv('../analysis/bindingdb_ki_cliff_pairs_ta1_ts0.9_r_wt.csv', index=False)"
   ],
   "metadata": {
    "collapsed": false,
    "ExecuteTime": {
     "end_time": "2024-04-20T10:39:36.555793900Z",
     "start_time": "2024-04-20T10:39:33.307158500Z"
    }
   },
   "id": "6f896bcf2e839553"
  },
  {
   "cell_type": "code",
   "execution_count": 23,
   "outputs": [
    {
     "data": {
      "text/plain": "cliff\n0    28678\n1    10242\nName: count, dtype: int64"
     },
     "execution_count": 23,
     "metadata": {},
     "output_type": "execute_result"
    }
   ],
   "source": [
    "cliff_pairs_split_random['cliff'].value_counts()"
   ],
   "metadata": {
    "collapsed": false,
    "ExecuteTime": {
     "end_time": "2024-04-20T10:39:40.439660300Z",
     "start_time": "2024-04-20T10:39:40.165375100Z"
    }
   },
   "id": "d816af0357d81d7d"
  },
  {
   "cell_type": "code",
   "execution_count": 24,
   "outputs": [],
   "source": [
    "cliff_pairs_split_cb = split_data(cliff_pairs_no_dup, split='compound-based')\n",
    "cliff_pairs_split_cb.to_csv('../analysis/bindingdb_ki_cliff_pairs_ta1_ts0.9_cb_wt.csv', index=False)"
   ],
   "metadata": {
    "collapsed": false,
    "ExecuteTime": {
     "end_time": "2024-04-20T10:39:47.343754300Z",
     "start_time": "2024-04-20T10:39:44.147434900Z"
    }
   },
   "id": "79086637c35847ab"
  },
  {
   "cell_type": "code",
   "execution_count": 25,
   "outputs": [
    {
     "data": {
      "text/plain": "cliff\n0    28678\n1    10242\nName: count, dtype: int64"
     },
     "execution_count": 25,
     "metadata": {},
     "output_type": "execute_result"
    }
   ],
   "source": [
    "cliff_pairs_split_cb['cliff'].value_counts()"
   ],
   "metadata": {
    "collapsed": false,
    "ExecuteTime": {
     "end_time": "2024-04-20T10:39:48.367135900Z",
     "start_time": "2024-04-20T10:39:48.294526800Z"
    }
   },
   "id": "5ac651e787c06e71"
  },
  {
   "cell_type": "code",
   "execution_count": 26,
   "outputs": [
    {
     "data": {
      "text/plain": "                                                   drug1  \\\n16104  3-chloro-N-{4-chloro-2-[(4-chlorophenyl)carbam...   \n14061  5-chloro-N-[(3S)-1-[(2S)-1-(morpholin-4-yl)-1-...   \n20357  Azabicyclooctane scaffold, 14i::N-[(3aR,6S,6aS...   \n12027  (3R)-2-[(4-chloro-1,1-biphenyl-4-yl)methyl]-N-...   \n6407                        iodinated benzimidazole, 12a   \n\n                                                   drug2  \\\n16104  3-chloro-N-{4-chloro-2-[(4-chlorophenyl)carbam...   \n14061  5-chloro-N-[(3S)-1-[(2S)-1-(morpholin-4-yl)-1-...   \n20357  Azabicyclooctane scaffold, 14k::N-[(3aR,6S,6aS...   \n12027  (3R)-N-hydroxy-1,1-dioxo-2-{[4-(pyridin-4-yl)p...   \n6407                        iodinated benzimidazole, 13a   \n\n                                                 smiles1  \\\n16104  CN1CCN(Cc2csc(C(=O)Nc3ccc(Cl)cc3C(=O)Nc3ccc(Cl...   \n14061  C[C@H](N1CC[C@H](NS(=O)(=O)c2cc3cc(Cl)ccc3o2)C...   \n20357  CN[C@@H](C)C(=O)N[C@H](C(=O)N1CC[C@H]2CC[C@H](...   \n12027  ONC(=O)[C@H]1CCCS(=O)(=O)N1Cc1ccc(cc1)-c1ccc(C...   \n6407                      Clc1nc2c(I)c(I)c(I)c(I)c2[nH]1   \n\n                                                 smiles2  cliff target  split  \n16104  Clc1c(Cn2nccn2)csc1C(=O)Nc1ccc(Cl)cc1C(=O)Nc1c...      0    120      0  \n14061  C[C@H](N1CC[C@H](NS(=O)(=O)c2cc3cc(Cl)ccc3[nH]...      0    120      0  \n20357  CN[C@@H](C)C(=O)N[C@H](C(=O)N1CC[C@H]2CC[C@H](...      0     19      0  \n12027    ONC(=O)[C@H]1CCCS(=O)(=O)N1Cc1ccc(cc1)-c1ccncc1      0    252      0  \n6407                      Brc1nc2c(I)c(I)c(I)c(I)c2[nH]1      0     16      0  ",
      "text/html": "<div>\n<style scoped>\n    .dataframe tbody tr th:only-of-type {\n        vertical-align: middle;\n    }\n\n    .dataframe tbody tr th {\n        vertical-align: top;\n    }\n\n    .dataframe thead th {\n        text-align: right;\n    }\n</style>\n<table border=\"1\" class=\"dataframe\">\n  <thead>\n    <tr style=\"text-align: right;\">\n      <th></th>\n      <th>drug1</th>\n      <th>drug2</th>\n      <th>smiles1</th>\n      <th>smiles2</th>\n      <th>cliff</th>\n      <th>target</th>\n      <th>split</th>\n    </tr>\n  </thead>\n  <tbody>\n    <tr>\n      <th>16104</th>\n      <td>3-chloro-N-{4-chloro-2-[(4-chlorophenyl)carbam...</td>\n      <td>3-chloro-N-{4-chloro-2-[(4-chlorophenyl)carbam...</td>\n      <td>CN1CCN(Cc2csc(C(=O)Nc3ccc(Cl)cc3C(=O)Nc3ccc(Cl...</td>\n      <td>Clc1c(Cn2nccn2)csc1C(=O)Nc1ccc(Cl)cc1C(=O)Nc1c...</td>\n      <td>0</td>\n      <td>120</td>\n      <td>0</td>\n    </tr>\n    <tr>\n      <th>14061</th>\n      <td>5-chloro-N-[(3S)-1-[(2S)-1-(morpholin-4-yl)-1-...</td>\n      <td>5-chloro-N-[(3S)-1-[(2S)-1-(morpholin-4-yl)-1-...</td>\n      <td>C[C@H](N1CC[C@H](NS(=O)(=O)c2cc3cc(Cl)ccc3o2)C...</td>\n      <td>C[C@H](N1CC[C@H](NS(=O)(=O)c2cc3cc(Cl)ccc3[nH]...</td>\n      <td>0</td>\n      <td>120</td>\n      <td>0</td>\n    </tr>\n    <tr>\n      <th>20357</th>\n      <td>Azabicyclooctane scaffold, 14i::N-[(3aR,6S,6aS...</td>\n      <td>Azabicyclooctane scaffold, 14k::N-[(3aR,6S,6aS...</td>\n      <td>CN[C@@H](C)C(=O)N[C@H](C(=O)N1CC[C@H]2CC[C@H](...</td>\n      <td>CN[C@@H](C)C(=O)N[C@H](C(=O)N1CC[C@H]2CC[C@H](...</td>\n      <td>0</td>\n      <td>19</td>\n      <td>0</td>\n    </tr>\n    <tr>\n      <th>12027</th>\n      <td>(3R)-2-[(4-chloro-1,1-biphenyl-4-yl)methyl]-N-...</td>\n      <td>(3R)-N-hydroxy-1,1-dioxo-2-{[4-(pyridin-4-yl)p...</td>\n      <td>ONC(=O)[C@H]1CCCS(=O)(=O)N1Cc1ccc(cc1)-c1ccc(C...</td>\n      <td>ONC(=O)[C@H]1CCCS(=O)(=O)N1Cc1ccc(cc1)-c1ccncc1</td>\n      <td>0</td>\n      <td>252</td>\n      <td>0</td>\n    </tr>\n    <tr>\n      <th>6407</th>\n      <td>iodinated benzimidazole, 12a</td>\n      <td>iodinated benzimidazole, 13a</td>\n      <td>Clc1nc2c(I)c(I)c(I)c(I)c2[nH]1</td>\n      <td>Brc1nc2c(I)c(I)c(I)c(I)c2[nH]1</td>\n      <td>0</td>\n      <td>16</td>\n      <td>0</td>\n    </tr>\n  </tbody>\n</table>\n</div>"
     },
     "execution_count": 26,
     "metadata": {},
     "output_type": "execute_result"
    }
   ],
   "source": [
    "cliff_pairs_split_random.head()"
   ],
   "metadata": {
    "collapsed": false,
    "ExecuteTime": {
     "end_time": "2024-04-20T10:39:54.407657900Z",
     "start_time": "2024-04-20T10:39:54.316212200Z"
    }
   },
   "id": "f9c0c6f6eeb01087"
  },
  {
   "cell_type": "code",
   "execution_count": 27,
   "outputs": [
    {
     "data": {
      "text/plain": "                                               drug1  \\\n0  (4R,5S,6S,7R)-4,7-dibenzyl-5,6-dihydroxy-1,3-b...   \n1  (4R,5S,6S,7R)-4,7-dibenzyl-5,6-dihydroxy-1,3-b...   \n2  (4R,5S,6S,7R)-4,7-dibenzyl-5,6-dihydroxy-1,3-b...   \n3  (4R,5S,6S,7R)-4,7-dibenzyl-5,6-dihydroxy-1,3-b...   \n5  (4R,5S,6S,7R)-4,7-dibenzyl-1-(cyclopropylmethy...   \n\n                                               drug2  \\\n0  (4R,5S,6S,7R)-4,7-dibenzyl-1-(cyclopropylmethy...   \n1  (4R,5S,6S,7R)-4,7-dibenzyl-1-(cyclopropylmethy...   \n2  (4R,5S,6S,7R)-4,7-dibenzyl-5,6-dihydroxy-1,3-b...   \n3  (4R,5S,6S,7R)-4,7-dibenzyl-5,6-dihydroxy-1,3-b...   \n5  (4R,5S,6S,7R)-4,7-dibenzyl-1-(cyclopropylmethy...   \n\n                                             smiles1  \\\n0  O[C@@H]1[C@@H](O)[C@@H](Cc2ccccc2)N(C\\C=C\\c2cn...   \n1  O[C@@H]1[C@@H](O)[C@@H](Cc2ccccc2)N(C\\C=C\\c2cn...   \n2  O[C@@H]1[C@@H](O)[C@@H](Cc2ccccc2)N(C\\C=C\\c2cn...   \n3  O[C@@H]1[C@@H](O)[C@@H](Cc2ccccc2)N(C\\C=C\\c2cn...   \n5  O[C@@H]1[C@@H](O)[C@@H](Cc2ccccc2)N(CC2CC2)C(=...   \n\n                                             smiles2  cliff target  split  \n0  O[C@@H]1[C@@H](O)[C@@H](Cc2ccccc2)N(CC2CC2)C(=...      0     98      0  \n1  O[C@@H]1[C@@H](O)[C@@H](Cc2ccccc2)N(CC2CC2)C(=...      1     98      0  \n2  O[C@@H]1[C@@H](O)[C@@H](Cc2ccccc2)N(C\\C=C\\c2cc...      1     98      0  \n3  O[C@@H]1[C@@H](O)[C@@H](Cc2ccccc2)N(CCCc2ccccc...      1     98      0  \n5  O[C@@H]1[C@@H](O)[C@@H](Cc2ccccc2)N(CC2CC2)C(=...      1     98      0  ",
      "text/html": "<div>\n<style scoped>\n    .dataframe tbody tr th:only-of-type {\n        vertical-align: middle;\n    }\n\n    .dataframe tbody tr th {\n        vertical-align: top;\n    }\n\n    .dataframe thead th {\n        text-align: right;\n    }\n</style>\n<table border=\"1\" class=\"dataframe\">\n  <thead>\n    <tr style=\"text-align: right;\">\n      <th></th>\n      <th>drug1</th>\n      <th>drug2</th>\n      <th>smiles1</th>\n      <th>smiles2</th>\n      <th>cliff</th>\n      <th>target</th>\n      <th>split</th>\n    </tr>\n  </thead>\n  <tbody>\n    <tr>\n      <th>0</th>\n      <td>(4R,5S,6S,7R)-4,7-dibenzyl-5,6-dihydroxy-1,3-b...</td>\n      <td>(4R,5S,6S,7R)-4,7-dibenzyl-1-(cyclopropylmethy...</td>\n      <td>O[C@@H]1[C@@H](O)[C@@H](Cc2ccccc2)N(C\\C=C\\c2cn...</td>\n      <td>O[C@@H]1[C@@H](O)[C@@H](Cc2ccccc2)N(CC2CC2)C(=...</td>\n      <td>0</td>\n      <td>98</td>\n      <td>0</td>\n    </tr>\n    <tr>\n      <th>1</th>\n      <td>(4R,5S,6S,7R)-4,7-dibenzyl-5,6-dihydroxy-1,3-b...</td>\n      <td>(4R,5S,6S,7R)-4,7-dibenzyl-1-(cyclopropylmethy...</td>\n      <td>O[C@@H]1[C@@H](O)[C@@H](Cc2ccccc2)N(C\\C=C\\c2cn...</td>\n      <td>O[C@@H]1[C@@H](O)[C@@H](Cc2ccccc2)N(CC2CC2)C(=...</td>\n      <td>1</td>\n      <td>98</td>\n      <td>0</td>\n    </tr>\n    <tr>\n      <th>2</th>\n      <td>(4R,5S,6S,7R)-4,7-dibenzyl-5,6-dihydroxy-1,3-b...</td>\n      <td>(4R,5S,6S,7R)-4,7-dibenzyl-5,6-dihydroxy-1,3-b...</td>\n      <td>O[C@@H]1[C@@H](O)[C@@H](Cc2ccccc2)N(C\\C=C\\c2cn...</td>\n      <td>O[C@@H]1[C@@H](O)[C@@H](Cc2ccccc2)N(C\\C=C\\c2cc...</td>\n      <td>1</td>\n      <td>98</td>\n      <td>0</td>\n    </tr>\n    <tr>\n      <th>3</th>\n      <td>(4R,5S,6S,7R)-4,7-dibenzyl-5,6-dihydroxy-1,3-b...</td>\n      <td>(4R,5S,6S,7R)-4,7-dibenzyl-5,6-dihydroxy-1,3-b...</td>\n      <td>O[C@@H]1[C@@H](O)[C@@H](Cc2ccccc2)N(C\\C=C\\c2cn...</td>\n      <td>O[C@@H]1[C@@H](O)[C@@H](Cc2ccccc2)N(CCCc2ccccc...</td>\n      <td>1</td>\n      <td>98</td>\n      <td>0</td>\n    </tr>\n    <tr>\n      <th>5</th>\n      <td>(4R,5S,6S,7R)-4,7-dibenzyl-1-(cyclopropylmethy...</td>\n      <td>(4R,5S,6S,7R)-4,7-dibenzyl-1-(cyclopropylmethy...</td>\n      <td>O[C@@H]1[C@@H](O)[C@@H](Cc2ccccc2)N(CC2CC2)C(=...</td>\n      <td>O[C@@H]1[C@@H](O)[C@@H](Cc2ccccc2)N(CC2CC2)C(=...</td>\n      <td>1</td>\n      <td>98</td>\n      <td>0</td>\n    </tr>\n  </tbody>\n</table>\n</div>"
     },
     "execution_count": 27,
     "metadata": {},
     "output_type": "execute_result"
    }
   ],
   "source": [
    "cliff_pairs_split_cb.head()"
   ],
   "metadata": {
    "collapsed": false,
    "ExecuteTime": {
     "end_time": "2024-04-20T10:39:56.137502800Z",
     "start_time": "2024-04-20T10:39:56.007230800Z"
    }
   },
   "id": "21e12fe5a046fe5e"
  },
  {
   "cell_type": "code",
   "execution_count": 35,
   "outputs": [],
   "source": [
    "cliff_pairs_split_random = pd.read_csv('../analysis/bindingdb_ki_cliff_pairs_ta1_ts0.9_r_wt.csv')"
   ],
   "metadata": {
    "collapsed": false,
    "ExecuteTime": {
     "end_time": "2024-04-17T12:47:17.240951Z",
     "start_time": "2024-04-17T12:47:14.640046600Z"
    }
   },
   "id": "523372a1ba22903f"
  },
  {
   "cell_type": "code",
   "execution_count": 34,
   "outputs": [
    {
     "data": {
      "text/plain": "676"
     },
     "execution_count": 34,
     "metadata": {},
     "output_type": "execute_result"
    }
   ],
   "source": [
    "cliff_pairs_split_random['target'].nunique()"
   ],
   "metadata": {
    "collapsed": false,
    "ExecuteTime": {
     "end_time": "2024-04-17T12:30:00.343045100Z",
     "start_time": "2024-04-17T12:30:00.190681600Z"
    }
   },
   "id": "64749905411c738c"
  },
  {
   "cell_type": "code",
   "execution_count": 36,
   "outputs": [
    {
     "data": {
      "text/plain": "                                                    drug1  \\\n0       Azabicyclooctane scaffold, 14l::N-[(3aR,6S,6aS...   \n1                          US8952157, 140::US9303025, 140   \n2                                           US8623889, 33   \n3       2-(hydrazinecarbonyl)-3-(2-methylphenyl)-1H-in...   \n4                           VIP [D- Arg14]::VIP [D-Arg14]   \n...                                                   ...   \n252798  (phenylmethyl) N-[[(6aR,9S,10aR)-4,7-dimethyl-...   \n252799  US9062078, 69::US9475819, 69::US9637496, 69::U...   \n252800                                      US9120756, 12   \n252801                                     US9067949, 189   \n252802                                     US9125913, 259   \n\n                                                    drug2  \\\n0       Azabicyclooctane scaffold, 14p::N-[(3aR,6S,6aS...   \n1                          US8952157, 133::US9303025, 133   \n2                                           US8623889, 46   \n3       3-(2-fluorophenyl)-2-(hydrazinecarbonyl)-1H-in...   \n4                           VIP [D- Asn24]::VIP [D-Asn24]   \n...                                                   ...   \n252798  (phenylmethyl) N-[[(6aR,9S,10aR)-4,7-dimethyl-...   \n252799  US9062078, 177::US9475819, 177::US9637496, 177...   \n252800                                      US9120756, 13   \n252801                                     US9067949, 209   \n252802                                     US9125913, 436   \n\n                                                  smiles1  \\\n0       CN[C@@H](C)C(=O)N[C@H](C(=O)N1CC[C@H]2CC[C@H](...   \n1       CC1(C)CCC(CN2CCN(CC2)c2ccc(C(=O)NS(=O)(=O)c3cc...   \n2                      O=C(Nc1cc2ccc(cc2cn1)N1CCCC1)C1CC1   \n3         Cc1ccccc1-c1c([nH]c2ccc(cc12)S(N)(=O)=O)C(=O)NN   \n4       CC[C@H](C)[C@H](NC(=O)[C@H](CO)NC(=O)[C@H](CC(...   \n...                                                   ...   \n252798  CN1C[C@H](CNC(=O)OCc2ccccc2)C[C@H]2[C@H]1Cc1cn...   \n252799  Cc1cc(on1)-c1ccc(C)nc1C(=O)N1C2CCC1C(COc1ccc(F...   \n252800  CC(C(=O)NCc1cc(nn1-c1ccc(C)cc1)C(C)(C)C)c1ccc(...   \n252801       COc1cc(cc2c3CNCCc3oc12)S(=O)(=O)c1ccc(Cl)cc1   \n252802  CC1(C)CCC(CN2CCN(CC2)c2ccc(C(=O)NS(=O)(=O)c3cc...   \n\n                                                  smiles2  cliff  target  \\\n0       CN[C@@H](C)C(=O)N[C@H](C(=O)N1CC[C@H]2CC[C@H](...      0     411   \n1       CC1(C)CCC(CN2CCN(CC2)c2ccc(C(=O)NS(=O)(=O)c3cc...      0     530   \n2                     O=C(Nc1cc2ccc(cc2cn1)N1CCNCC1)C1CC1      1     139   \n3           NNC(=O)c1[nH]c2ccc(cc2c1-c1ccccc1F)S(N)(=O)=O      0     226   \n4       CC[C@H](C)[C@H](NC(=O)[C@H](CO)NC(=O)[C@@H](CC...      1      65   \n...                                                   ...    ...     ...   \n252798  CN1C[C@H](CNC(=O)OCc2ccccc2)C[C@H]2[C@H]1Cc1cn...      0     349   \n252799  Cc1coc(n1)-c1ccc(C)nc1C(=O)N1C2CCC1C(COc1ccc(F...      0     176   \n252800  CC(C(=O)NCc1cc(nn1-c1ccc(cc1)C(C)(C)C)C(C)(C)C...      0     508   \n252801       Fc1ccc(cc1)S(=O)(=O)c1cc(C#N)c2oc3CCNCc3c2c1      1     123   \n252802  CC1(C)CCC(CN2CCN(CC2)c2ccc(C(=O)NS(=O)(=O)c3cc...      1      68   \n\n        split  \n0           0  \n1           0  \n2           0  \n3           0  \n4           0  \n...       ...  \n252798      2  \n252799      2  \n252800      2  \n252801      2  \n252802      2  \n\n[252803 rows x 7 columns]",
      "text/html": "<div>\n<style scoped>\n    .dataframe tbody tr th:only-of-type {\n        vertical-align: middle;\n    }\n\n    .dataframe tbody tr th {\n        vertical-align: top;\n    }\n\n    .dataframe thead th {\n        text-align: right;\n    }\n</style>\n<table border=\"1\" class=\"dataframe\">\n  <thead>\n    <tr style=\"text-align: right;\">\n      <th></th>\n      <th>drug1</th>\n      <th>drug2</th>\n      <th>smiles1</th>\n      <th>smiles2</th>\n      <th>cliff</th>\n      <th>target</th>\n      <th>split</th>\n    </tr>\n  </thead>\n  <tbody>\n    <tr>\n      <th>0</th>\n      <td>Azabicyclooctane scaffold, 14l::N-[(3aR,6S,6aS...</td>\n      <td>Azabicyclooctane scaffold, 14p::N-[(3aR,6S,6aS...</td>\n      <td>CN[C@@H](C)C(=O)N[C@H](C(=O)N1CC[C@H]2CC[C@H](...</td>\n      <td>CN[C@@H](C)C(=O)N[C@H](C(=O)N1CC[C@H]2CC[C@H](...</td>\n      <td>0</td>\n      <td>411</td>\n      <td>0</td>\n    </tr>\n    <tr>\n      <th>1</th>\n      <td>US8952157, 140::US9303025, 140</td>\n      <td>US8952157, 133::US9303025, 133</td>\n      <td>CC1(C)CCC(CN2CCN(CC2)c2ccc(C(=O)NS(=O)(=O)c3cc...</td>\n      <td>CC1(C)CCC(CN2CCN(CC2)c2ccc(C(=O)NS(=O)(=O)c3cc...</td>\n      <td>0</td>\n      <td>530</td>\n      <td>0</td>\n    </tr>\n    <tr>\n      <th>2</th>\n      <td>US8623889, 33</td>\n      <td>US8623889, 46</td>\n      <td>O=C(Nc1cc2ccc(cc2cn1)N1CCCC1)C1CC1</td>\n      <td>O=C(Nc1cc2ccc(cc2cn1)N1CCNCC1)C1CC1</td>\n      <td>1</td>\n      <td>139</td>\n      <td>0</td>\n    </tr>\n    <tr>\n      <th>3</th>\n      <td>2-(hydrazinecarbonyl)-3-(2-methylphenyl)-1H-in...</td>\n      <td>3-(2-fluorophenyl)-2-(hydrazinecarbonyl)-1H-in...</td>\n      <td>Cc1ccccc1-c1c([nH]c2ccc(cc12)S(N)(=O)=O)C(=O)NN</td>\n      <td>NNC(=O)c1[nH]c2ccc(cc2c1-c1ccccc1F)S(N)(=O)=O</td>\n      <td>0</td>\n      <td>226</td>\n      <td>0</td>\n    </tr>\n    <tr>\n      <th>4</th>\n      <td>VIP [D- Arg14]::VIP [D-Arg14]</td>\n      <td>VIP [D- Asn24]::VIP [D-Asn24]</td>\n      <td>CC[C@H](C)[C@H](NC(=O)[C@H](CO)NC(=O)[C@H](CC(...</td>\n      <td>CC[C@H](C)[C@H](NC(=O)[C@H](CO)NC(=O)[C@@H](CC...</td>\n      <td>1</td>\n      <td>65</td>\n      <td>0</td>\n    </tr>\n    <tr>\n      <th>...</th>\n      <td>...</td>\n      <td>...</td>\n      <td>...</td>\n      <td>...</td>\n      <td>...</td>\n      <td>...</td>\n      <td>...</td>\n    </tr>\n    <tr>\n      <th>252798</th>\n      <td>(phenylmethyl) N-[[(6aR,9S,10aR)-4,7-dimethyl-...</td>\n      <td>(phenylmethyl) N-[[(6aR,9S,10aR)-4,7-dimethyl-...</td>\n      <td>CN1C[C@H](CNC(=O)OCc2ccccc2)C[C@H]2[C@H]1Cc1cn...</td>\n      <td>CN1C[C@H](CNC(=O)OCc2ccccc2)C[C@H]2[C@H]1Cc1cn...</td>\n      <td>0</td>\n      <td>349</td>\n      <td>2</td>\n    </tr>\n    <tr>\n      <th>252799</th>\n      <td>US9062078, 69::US9475819, 69::US9637496, 69::U...</td>\n      <td>US9062078, 177::US9475819, 177::US9637496, 177...</td>\n      <td>Cc1cc(on1)-c1ccc(C)nc1C(=O)N1C2CCC1C(COc1ccc(F...</td>\n      <td>Cc1coc(n1)-c1ccc(C)nc1C(=O)N1C2CCC1C(COc1ccc(F...</td>\n      <td>0</td>\n      <td>176</td>\n      <td>2</td>\n    </tr>\n    <tr>\n      <th>252800</th>\n      <td>US9120756, 12</td>\n      <td>US9120756, 13</td>\n      <td>CC(C(=O)NCc1cc(nn1-c1ccc(C)cc1)C(C)(C)C)c1ccc(...</td>\n      <td>CC(C(=O)NCc1cc(nn1-c1ccc(cc1)C(C)(C)C)C(C)(C)C...</td>\n      <td>0</td>\n      <td>508</td>\n      <td>2</td>\n    </tr>\n    <tr>\n      <th>252801</th>\n      <td>US9067949, 189</td>\n      <td>US9067949, 209</td>\n      <td>COc1cc(cc2c3CNCCc3oc12)S(=O)(=O)c1ccc(Cl)cc1</td>\n      <td>Fc1ccc(cc1)S(=O)(=O)c1cc(C#N)c2oc3CCNCc3c2c1</td>\n      <td>1</td>\n      <td>123</td>\n      <td>2</td>\n    </tr>\n    <tr>\n      <th>252802</th>\n      <td>US9125913, 259</td>\n      <td>US9125913, 436</td>\n      <td>CC1(C)CCC(CN2CCN(CC2)c2ccc(C(=O)NS(=O)(=O)c3cc...</td>\n      <td>CC1(C)CCC(CN2CCN(CC2)c2ccc(C(=O)NS(=O)(=O)c3cc...</td>\n      <td>1</td>\n      <td>68</td>\n      <td>2</td>\n    </tr>\n  </tbody>\n</table>\n<p>252803 rows × 7 columns</p>\n</div>"
     },
     "execution_count": 36,
     "metadata": {},
     "output_type": "execute_result"
    }
   ],
   "source": [
    "cliff_pairs_split_random"
   ],
   "metadata": {
    "collapsed": false,
    "ExecuteTime": {
     "end_time": "2024-04-17T12:47:30.716560700Z",
     "start_time": "2024-04-17T12:47:30.540816500Z"
    }
   },
   "id": "a8773ba5b63bf53c"
  },
  {
   "cell_type": "markdown",
   "source": [
    "# Split data for DTI task"
   ],
   "metadata": {
    "collapsed": false
   },
   "id": "e74864a6fa3b4de0"
  },
  {
   "cell_type": "code",
   "execution_count": 28,
   "outputs": [],
   "source": [
    "data_ki= pd.read_csv('../analysis/bindingdb_d_t_ki.csv')"
   ],
   "metadata": {
    "collapsed": false,
    "ExecuteTime": {
     "end_time": "2024-04-20T12:48:24.563201800Z",
     "start_time": "2024-04-20T12:48:22.553543800Z"
    }
   },
   "id": "becbe8426f2e1c66"
  },
  {
   "cell_type": "code",
   "execution_count": 31,
   "outputs": [
    {
     "data": {
      "text/plain": "                                                drug  \\\n0  (4R,5S,6S,7R)-4,7-dibenzyl-5,6-dihydroxy-1,3-b...   \n1  (4R,5S,6S,7R)-4,7-dibenzyl-1-(cyclopropylmethy...   \n2  (4R,5S,6S,7R)-4,7-dibenzyl-1-(cyclopropylmethy...   \n3  (4R,5S,6S,7R)-4,7-dibenzyl-1-(cyclopropylmethy...   \n4  (4R,5S,6S,7R)-4,7-dibenzyl-1-butyl-3-(cyclopro...   \n\n                                              SMILES  \\\n0  O[C@@H]1[C@@H](O)[C@@H](Cc2ccccc2)N(C\\C=C\\c2cn...   \n1  O[C@@H]1[C@@H](O)[C@@H](Cc2ccccc2)N(CC2CC2)C(=...   \n2  OCCCCCCN1[C@H](Cc2ccccc2)[C@H](O)[C@@H](O)[C@@...   \n3  OCCCCCN1[C@H](Cc2ccccc2)[C@H](O)[C@@H](O)[C@@H...   \n4  CCCCN1[C@H](Cc2ccccc2)[C@H](O)[C@@H](O)[C@@H](...   \n\n                                   target  affinity  \n0  Dimer of Gag-Pol polyprotein [501-599]  9.602060  \n1  Dimer of Gag-Pol polyprotein [501-599]  9.387216  \n2  Dimer of Gag-Pol polyprotein [501-599]  9.096910  \n3  Dimer of Gag-Pol polyprotein [501-599]  9.004365  \n4  Dimer of Gag-Pol polyprotein [501-599]  8.958607  ",
      "text/html": "<div>\n<style scoped>\n    .dataframe tbody tr th:only-of-type {\n        vertical-align: middle;\n    }\n\n    .dataframe tbody tr th {\n        vertical-align: top;\n    }\n\n    .dataframe thead th {\n        text-align: right;\n    }\n</style>\n<table border=\"1\" class=\"dataframe\">\n  <thead>\n    <tr style=\"text-align: right;\">\n      <th></th>\n      <th>drug</th>\n      <th>SMILES</th>\n      <th>target</th>\n      <th>affinity</th>\n    </tr>\n  </thead>\n  <tbody>\n    <tr>\n      <th>0</th>\n      <td>(4R,5S,6S,7R)-4,7-dibenzyl-5,6-dihydroxy-1,3-b...</td>\n      <td>O[C@@H]1[C@@H](O)[C@@H](Cc2ccccc2)N(C\\C=C\\c2cn...</td>\n      <td>Dimer of Gag-Pol polyprotein [501-599]</td>\n      <td>9.602060</td>\n    </tr>\n    <tr>\n      <th>1</th>\n      <td>(4R,5S,6S,7R)-4,7-dibenzyl-1-(cyclopropylmethy...</td>\n      <td>O[C@@H]1[C@@H](O)[C@@H](Cc2ccccc2)N(CC2CC2)C(=...</td>\n      <td>Dimer of Gag-Pol polyprotein [501-599]</td>\n      <td>9.387216</td>\n    </tr>\n    <tr>\n      <th>2</th>\n      <td>(4R,5S,6S,7R)-4,7-dibenzyl-1-(cyclopropylmethy...</td>\n      <td>OCCCCCCN1[C@H](Cc2ccccc2)[C@H](O)[C@@H](O)[C@@...</td>\n      <td>Dimer of Gag-Pol polyprotein [501-599]</td>\n      <td>9.096910</td>\n    </tr>\n    <tr>\n      <th>3</th>\n      <td>(4R,5S,6S,7R)-4,7-dibenzyl-1-(cyclopropylmethy...</td>\n      <td>OCCCCCN1[C@H](Cc2ccccc2)[C@H](O)[C@@H](O)[C@@H...</td>\n      <td>Dimer of Gag-Pol polyprotein [501-599]</td>\n      <td>9.004365</td>\n    </tr>\n    <tr>\n      <th>4</th>\n      <td>(4R,5S,6S,7R)-4,7-dibenzyl-1-butyl-3-(cyclopro...</td>\n      <td>CCCCN1[C@H](Cc2ccccc2)[C@H](O)[C@@H](O)[C@@H](...</td>\n      <td>Dimer of Gag-Pol polyprotein [501-599]</td>\n      <td>8.958607</td>\n    </tr>\n  </tbody>\n</table>\n</div>"
     },
     "execution_count": 31,
     "metadata": {},
     "output_type": "execute_result"
    }
   ],
   "source": [
    "data_ki.head()"
   ],
   "metadata": {
    "collapsed": false,
    "ExecuteTime": {
     "end_time": "2024-04-20T12:48:46.527384600Z",
     "start_time": "2024-04-20T12:48:46.220140900Z"
    }
   },
   "id": "19b3de9d26297f5a"
  },
  {
   "cell_type": "code",
   "execution_count": 34,
   "outputs": [],
   "source": [
    "with open('../analysis/target_mapping_bdb.json', 'r') as f:\n",
    "    target_ids = load(f)\n",
    "\n",
    "# Get the highest current ID to ensure new IDs are unique\n",
    "current_max_id = max(target_ids.values())\n",
    "\n",
    "# Function to get or create target ID\n",
    "def get_or_create_target_id(target):\n",
    "    global current_max_id\n",
    "    if target in target_ids:\n",
    "        return target_ids[target]\n",
    "    else:\n",
    "        current_max_id += 1\n",
    "        target_ids[target] = current_max_id\n",
    "        return current_max_id"
   ],
   "metadata": {
    "collapsed": false,
    "ExecuteTime": {
     "end_time": "2024-04-20T12:58:45.868451700Z",
     "start_time": "2024-04-20T12:58:45.728675400Z"
    }
   },
   "id": "1473ae5369f35199"
  },
  {
   "cell_type": "code",
   "execution_count": 35,
   "outputs": [],
   "source": [
    "data_ki['target'] = data_ki['target'].apply(get_or_create_target_id)\n"
   ],
   "metadata": {
    "collapsed": false,
    "ExecuteTime": {
     "end_time": "2024-04-20T12:59:09.324795600Z",
     "start_time": "2024-04-20T12:59:09.167444400Z"
    }
   },
   "id": "3e12edf85297c731"
  },
  {
   "cell_type": "code",
   "execution_count": 36,
   "outputs": [
    {
     "data": {
      "text/plain": "                                                drug  \\\n0  (4R,5S,6S,7R)-4,7-dibenzyl-5,6-dihydroxy-1,3-b...   \n1  (4R,5S,6S,7R)-4,7-dibenzyl-1-(cyclopropylmethy...   \n2  (4R,5S,6S,7R)-4,7-dibenzyl-1-(cyclopropylmethy...   \n3  (4R,5S,6S,7R)-4,7-dibenzyl-1-(cyclopropylmethy...   \n4  (4R,5S,6S,7R)-4,7-dibenzyl-1-butyl-3-(cyclopro...   \n\n                                              SMILES  target  affinity  \n0  O[C@@H]1[C@@H](O)[C@@H](Cc2ccccc2)N(C\\C=C\\c2cn...     529  9.602060  \n1  O[C@@H]1[C@@H](O)[C@@H](Cc2ccccc2)N(CC2CC2)C(=...     529  9.387216  \n2  OCCCCCCN1[C@H](Cc2ccccc2)[C@H](O)[C@@H](O)[C@@...     529  9.096910  \n3  OCCCCCN1[C@H](Cc2ccccc2)[C@H](O)[C@@H](O)[C@@H...     529  9.004365  \n4  CCCCN1[C@H](Cc2ccccc2)[C@H](O)[C@@H](O)[C@@H](...     529  8.958607  ",
      "text/html": "<div>\n<style scoped>\n    .dataframe tbody tr th:only-of-type {\n        vertical-align: middle;\n    }\n\n    .dataframe tbody tr th {\n        vertical-align: top;\n    }\n\n    .dataframe thead th {\n        text-align: right;\n    }\n</style>\n<table border=\"1\" class=\"dataframe\">\n  <thead>\n    <tr style=\"text-align: right;\">\n      <th></th>\n      <th>drug</th>\n      <th>SMILES</th>\n      <th>target</th>\n      <th>affinity</th>\n    </tr>\n  </thead>\n  <tbody>\n    <tr>\n      <th>0</th>\n      <td>(4R,5S,6S,7R)-4,7-dibenzyl-5,6-dihydroxy-1,3-b...</td>\n      <td>O[C@@H]1[C@@H](O)[C@@H](Cc2ccccc2)N(C\\C=C\\c2cn...</td>\n      <td>529</td>\n      <td>9.602060</td>\n    </tr>\n    <tr>\n      <th>1</th>\n      <td>(4R,5S,6S,7R)-4,7-dibenzyl-1-(cyclopropylmethy...</td>\n      <td>O[C@@H]1[C@@H](O)[C@@H](Cc2ccccc2)N(CC2CC2)C(=...</td>\n      <td>529</td>\n      <td>9.387216</td>\n    </tr>\n    <tr>\n      <th>2</th>\n      <td>(4R,5S,6S,7R)-4,7-dibenzyl-1-(cyclopropylmethy...</td>\n      <td>OCCCCCCN1[C@H](Cc2ccccc2)[C@H](O)[C@@H](O)[C@@...</td>\n      <td>529</td>\n      <td>9.096910</td>\n    </tr>\n    <tr>\n      <th>3</th>\n      <td>(4R,5S,6S,7R)-4,7-dibenzyl-1-(cyclopropylmethy...</td>\n      <td>OCCCCCN1[C@H](Cc2ccccc2)[C@H](O)[C@@H](O)[C@@H...</td>\n      <td>529</td>\n      <td>9.004365</td>\n    </tr>\n    <tr>\n      <th>4</th>\n      <td>(4R,5S,6S,7R)-4,7-dibenzyl-1-butyl-3-(cyclopro...</td>\n      <td>CCCCN1[C@H](Cc2ccccc2)[C@H](O)[C@@H](O)[C@@H](...</td>\n      <td>529</td>\n      <td>8.958607</td>\n    </tr>\n  </tbody>\n</table>\n</div>"
     },
     "execution_count": 36,
     "metadata": {},
     "output_type": "execute_result"
    }
   ],
   "source": [
    "data_ki.head()"
   ],
   "metadata": {
    "collapsed": false,
    "ExecuteTime": {
     "end_time": "2024-04-20T12:59:15.563847400Z",
     "start_time": "2024-04-20T12:59:15.417189600Z"
    }
   },
   "id": "5f732c9bb1270d92"
  },
  {
   "cell_type": "code",
   "execution_count": 37,
   "outputs": [
    {
     "data": {
      "text/plain": "1018"
     },
     "execution_count": 37,
     "metadata": {},
     "output_type": "execute_result"
    }
   ],
   "source": [
    "data_ki['target'].nunique()"
   ],
   "metadata": {
    "collapsed": false,
    "ExecuteTime": {
     "end_time": "2024-04-20T12:59:51.153517300Z",
     "start_time": "2024-04-20T12:59:50.984113500Z"
    }
   },
   "id": "9ec4dc9f0fa0993a"
  },
  {
   "cell_type": "code",
   "execution_count": 38,
   "outputs": [],
   "source": [
    "data_ki_aff_split = split_data(data_ki, 'random')"
   ],
   "metadata": {
    "collapsed": false,
    "ExecuteTime": {
     "end_time": "2024-04-20T13:01:21.656518300Z",
     "start_time": "2024-04-20T13:01:21.085220800Z"
    }
   },
   "id": "4ab1f011b440f6b"
  },
  {
   "cell_type": "code",
   "execution_count": 43,
   "outputs": [],
   "source": [
    "data_ki_aff_split = data_ki_aff_split.rename(columns={'SMILES': 'smiles'})"
   ],
   "metadata": {
    "collapsed": false,
    "ExecuteTime": {
     "end_time": "2024-04-20T13:05:25.400297900Z",
     "start_time": "2024-04-20T13:05:25.205288400Z"
    }
   },
   "id": "d46e2c2759ad306a"
  },
  {
   "cell_type": "code",
   "execution_count": 46,
   "outputs": [
    {
     "data": {
      "text/plain": "                                                    drug  \\\n0      (risperidone)3-{2-[4-(6-Fluoro-benzo[d]isoxazo...   \n1      4-Amino-3-fluorobenzenesulfonamide::4-amino-3-...   \n2      5-(4-chloro-3-methylphenyl)-1-[(4-methylphenyl...   \n3      2-{[(2-chlorophenyl)methyl](3,5-dichloro-2-hyd...   \n4      AcNH-4-NO2-Phe-c[D-Cys-Tyr-D-Trp-Lys-Thr-Cys]-...   \n...                                                  ...   \n78623  US9079866, 302::US9745328, Compound 302::US988...   \n78624  2-aminobenzene-1-sulfonamide::CHEMBL6705::US10...   \n78625                                      CHEMBL2016866   \n78626                                     US8604061, 260   \n78627  Ambien::CHEMBL911::Dalparan::N,N-dimethyl-2-[6...   \n\n                                                  smiles  target  affinity  \\\n0        Cc1nc2CCCCn2c(=O)c1CCN1CCC(CC1)c1noc2cc(F)ccc12     620  9.522879   \n1                                 Nc1ccc(cc1F)S(N)(=O)=O     182  7.221849   \n2      Cc1ccc(Cn2nc(cc2-c2ccc(Cl)c(C)c2)C(=O)NC2[C@@]...     821  5.000000   \n3      CC(N(Cc1ccccc1Cl)S(=O)(=O)c1cc(Cl)cc(Cl)c1O)C(...      89  5.619789   \n4      CC(C)[C@H]1NC(=O)[C@H](CCCCN)NC(=O)[C@@H](Cc2c...     332  7.000000   \n...                                                  ...     ...       ...   \n78623         Nc1ncc(cn1)-c1ccc(cc1F)-c1ccccc1S(N)(=O)=O     517  5.602060   \n78624                                Nc1ccccc1S(N)(=O)=O     536  5.204815   \n78625  NC(=N)c1ccc(CNC(=O)[C@@H]2CCC(=O)NCc3cccc(CNC(...     106  5.464706   \n78626                          NC1=NC(CO1)c1cc(Cl)ccc1Cl     397  8.886057   \n78627          CN(C)C(=O)Cc1c(nc2ccc(C)cn12)-c1ccc(C)cc1     644  7.987163   \n\n       split  \n0          0  \n1          0  \n2          0  \n3          0  \n4          0  \n...      ...  \n78623      2  \n78624      2  \n78625      2  \n78626      2  \n78627      2  \n\n[78628 rows x 5 columns]",
      "text/html": "<div>\n<style scoped>\n    .dataframe tbody tr th:only-of-type {\n        vertical-align: middle;\n    }\n\n    .dataframe tbody tr th {\n        vertical-align: top;\n    }\n\n    .dataframe thead th {\n        text-align: right;\n    }\n</style>\n<table border=\"1\" class=\"dataframe\">\n  <thead>\n    <tr style=\"text-align: right;\">\n      <th></th>\n      <th>drug</th>\n      <th>smiles</th>\n      <th>target</th>\n      <th>affinity</th>\n      <th>split</th>\n    </tr>\n  </thead>\n  <tbody>\n    <tr>\n      <th>0</th>\n      <td>(risperidone)3-{2-[4-(6-Fluoro-benzo[d]isoxazo...</td>\n      <td>Cc1nc2CCCCn2c(=O)c1CCN1CCC(CC1)c1noc2cc(F)ccc12</td>\n      <td>620</td>\n      <td>9.522879</td>\n      <td>0</td>\n    </tr>\n    <tr>\n      <th>1</th>\n      <td>4-Amino-3-fluorobenzenesulfonamide::4-amino-3-...</td>\n      <td>Nc1ccc(cc1F)S(N)(=O)=O</td>\n      <td>182</td>\n      <td>7.221849</td>\n      <td>0</td>\n    </tr>\n    <tr>\n      <th>2</th>\n      <td>5-(4-chloro-3-methylphenyl)-1-[(4-methylphenyl...</td>\n      <td>Cc1ccc(Cn2nc(cc2-c2ccc(Cl)c(C)c2)C(=O)NC2[C@@]...</td>\n      <td>821</td>\n      <td>5.000000</td>\n      <td>0</td>\n    </tr>\n    <tr>\n      <th>3</th>\n      <td>2-{[(2-chlorophenyl)methyl](3,5-dichloro-2-hyd...</td>\n      <td>CC(N(Cc1ccccc1Cl)S(=O)(=O)c1cc(Cl)cc(Cl)c1O)C(...</td>\n      <td>89</td>\n      <td>5.619789</td>\n      <td>0</td>\n    </tr>\n    <tr>\n      <th>4</th>\n      <td>AcNH-4-NO2-Phe-c[D-Cys-Tyr-D-Trp-Lys-Thr-Cys]-...</td>\n      <td>CC(C)[C@H]1NC(=O)[C@H](CCCCN)NC(=O)[C@@H](Cc2c...</td>\n      <td>332</td>\n      <td>7.000000</td>\n      <td>0</td>\n    </tr>\n    <tr>\n      <th>...</th>\n      <td>...</td>\n      <td>...</td>\n      <td>...</td>\n      <td>...</td>\n      <td>...</td>\n    </tr>\n    <tr>\n      <th>78623</th>\n      <td>US9079866, 302::US9745328, Compound 302::US988...</td>\n      <td>Nc1ncc(cn1)-c1ccc(cc1F)-c1ccccc1S(N)(=O)=O</td>\n      <td>517</td>\n      <td>5.602060</td>\n      <td>2</td>\n    </tr>\n    <tr>\n      <th>78624</th>\n      <td>2-aminobenzene-1-sulfonamide::CHEMBL6705::US10...</td>\n      <td>Nc1ccccc1S(N)(=O)=O</td>\n      <td>536</td>\n      <td>5.204815</td>\n      <td>2</td>\n    </tr>\n    <tr>\n      <th>78625</th>\n      <td>CHEMBL2016866</td>\n      <td>NC(=N)c1ccc(CNC(=O)[C@@H]2CCC(=O)NCc3cccc(CNC(...</td>\n      <td>106</td>\n      <td>5.464706</td>\n      <td>2</td>\n    </tr>\n    <tr>\n      <th>78626</th>\n      <td>US8604061, 260</td>\n      <td>NC1=NC(CO1)c1cc(Cl)ccc1Cl</td>\n      <td>397</td>\n      <td>8.886057</td>\n      <td>2</td>\n    </tr>\n    <tr>\n      <th>78627</th>\n      <td>Ambien::CHEMBL911::Dalparan::N,N-dimethyl-2-[6...</td>\n      <td>CN(C)C(=O)Cc1c(nc2ccc(C)cn12)-c1ccc(C)cc1</td>\n      <td>644</td>\n      <td>7.987163</td>\n      <td>2</td>\n    </tr>\n  </tbody>\n</table>\n<p>78628 rows × 5 columns</p>\n</div>"
     },
     "execution_count": 46,
     "metadata": {},
     "output_type": "execute_result"
    }
   ],
   "source": [
    "data_ki_aff_split"
   ],
   "metadata": {
    "collapsed": false,
    "ExecuteTime": {
     "end_time": "2024-04-20T13:05:45.274053600Z",
     "start_time": "2024-04-20T13:05:45.016617300Z"
    }
   },
   "id": "ad6a5543b58710fb"
  },
  {
   "cell_type": "code",
   "execution_count": 45,
   "outputs": [],
   "source": [
    "data_ki_aff_split.to_csv('../analysis/bindingdb_ki_d_t_aff_smiles_split.csv', index=False)"
   ],
   "metadata": {
    "collapsed": false,
    "ExecuteTime": {
     "start_time": "2024-04-20T13:05:36.936435Z"
    }
   },
   "id": "8dfd24ce18bad83"
  },
  {
   "cell_type": "code",
   "execution_count": 53,
   "outputs": [
    {
     "data": {
      "text/plain": "split\n0    55039\n2    15726\n1     7863\nName: count, dtype: int64"
     },
     "execution_count": 53,
     "metadata": {},
     "output_type": "execute_result"
    }
   ],
   "source": [
    "data_ki_aff_split.split.value_counts()"
   ],
   "metadata": {
    "collapsed": false,
    "ExecuteTime": {
     "end_time": "2024-04-20T13:10:21.134271400Z",
     "start_time": "2024-04-20T13:10:20.870287700Z"
    }
   },
   "id": "cfde80a997265ba9"
  }
 ],
 "metadata": {
  "kernelspec": {
   "display_name": "Python 3 (ipykernel)",
   "language": "python",
   "name": "python3"
  },
  "language_info": {
   "codemirror_mode": {
    "name": "ipython",
    "version": 3
   },
   "file_extension": ".py",
   "mimetype": "text/x-python",
   "name": "python",
   "nbconvert_exporter": "python",
   "pygments_lexer": "ipython3",
   "version": "3.10.12"
  }
 },
 "nbformat": 4,
 "nbformat_minor": 5
}
