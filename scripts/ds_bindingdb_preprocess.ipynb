{
 "cells": [
  {
   "cell_type": "code",
   "execution_count": 1,
   "id": "1d4865ff-c4e3-48f0-9309-21babe4576e3",
   "metadata": {
    "ExecuteTime": {
     "end_time": "2024-04-17T11:49:22.597799700Z",
     "start_time": "2024-04-17T11:48:26.777834100Z"
    }
   },
   "outputs": [],
   "source": [
    "import pandas as pd\n",
    "import json\n",
    "from dataset import process_BindingDB, get_cliffs, split_data\n",
    "from graphics import get_hist_prop"
   ]
  },
  {
   "cell_type": "code",
   "execution_count": 17,
   "id": "9f18d9d73f00f90c",
   "metadata": {
    "collapsed": false
   },
   "outputs": [
    {
     "data": {
      "text/html": [
       "<div>\n",
       "<style scoped>\n",
       "    .dataframe tbody tr th:only-of-type {\n",
       "        vertical-align: middle;\n",
       "    }\n",
       "\n",
       "    .dataframe tbody tr th {\n",
       "        vertical-align: top;\n",
       "    }\n",
       "\n",
       "    .dataframe thead th {\n",
       "        text-align: right;\n",
       "    }\n",
       "</style>\n",
       "<table border=\"1\" class=\"dataframe\">\n",
       "  <thead>\n",
       "    <tr style=\"text-align: right;\">\n",
       "      <th></th>\n",
       "      <th>BindingDB Reactant_set_id</th>\n",
       "      <th>Ligand SMILES</th>\n",
       "      <th>Ligand InChI</th>\n",
       "      <th>Ligand InChI Key</th>\n",
       "      <th>BindingDB MonomerID</th>\n",
       "      <th>BindingDB Ligand Name</th>\n",
       "      <th>Target Name</th>\n",
       "      <th>Target Source Organism According to Curator or DataSource</th>\n",
       "      <th>Ki (nM)</th>\n",
       "      <th>IC50 (nM)</th>\n",
       "      <th>...</th>\n",
       "      <th>Unnamed: 233</th>\n",
       "      <th>Unnamed: 234</th>\n",
       "      <th>Unnamed: 235</th>\n",
       "      <th>Unnamed: 236</th>\n",
       "      <th>Unnamed: 237</th>\n",
       "      <th>Unnamed: 238</th>\n",
       "      <th>Unnamed: 239</th>\n",
       "      <th>Unnamed: 240</th>\n",
       "      <th>Unnamed: 241</th>\n",
       "      <th>Unnamed: 242</th>\n",
       "    </tr>\n",
       "  </thead>\n",
       "  <tbody>\n",
       "    <tr>\n",
       "      <th>0</th>\n",
       "      <td>2</td>\n",
       "      <td>O[C@@H]1[C@@H](O)[C@@H](Cc2ccccc2)N(C\\C=C\\c2cn...</td>\n",
       "      <td>InChI=1S/C31H34N6O3/c38-29-27(17-23-9-3-1-4-10...</td>\n",
       "      <td>UZLMEAPBHYEHAC-UNTBESQGSA-N</td>\n",
       "      <td>22</td>\n",
       "      <td>(4R,5S,6S,7R)-4,7-dibenzyl-5,6-dihydroxy-1,3-b...</td>\n",
       "      <td>Dimer of Gag-Pol polyprotein [501-599]</td>\n",
       "      <td>Human immunodeficiency virus 1</td>\n",
       "      <td>0.25</td>\n",
       "      <td>NaN</td>\n",
       "      <td>...</td>\n",
       "      <td>NaN</td>\n",
       "      <td>NaN</td>\n",
       "      <td>NaN</td>\n",
       "      <td>NaN</td>\n",
       "      <td>NaN</td>\n",
       "      <td>NaN</td>\n",
       "      <td>NaN</td>\n",
       "      <td>NaN</td>\n",
       "      <td>NaN</td>\n",
       "      <td>NaN</td>\n",
       "    </tr>\n",
       "    <tr>\n",
       "      <th>1</th>\n",
       "      <td>3</td>\n",
       "      <td>O[C@@H]1[C@@H](O)[C@@H](Cc2ccccc2)N(CC2CC2)C(=...</td>\n",
       "      <td>InChI=1S/C29H34N4O3/c34-27-25(16-21-8-3-1-4-9-...</td>\n",
       "      <td>HYNYUFZPPJMPOB-UTWJFGBXSA-N</td>\n",
       "      <td>23</td>\n",
       "      <td>(4R,5S,6S,7R)-4,7-dibenzyl-1-(cyclopropylmethy...</td>\n",
       "      <td>Dimer of Gag-Pol polyprotein [501-599]</td>\n",
       "      <td>Human immunodeficiency virus 1</td>\n",
       "      <td>0.41</td>\n",
       "      <td>NaN</td>\n",
       "      <td>...</td>\n",
       "      <td>NaN</td>\n",
       "      <td>NaN</td>\n",
       "      <td>NaN</td>\n",
       "      <td>NaN</td>\n",
       "      <td>NaN</td>\n",
       "      <td>NaN</td>\n",
       "      <td>NaN</td>\n",
       "      <td>NaN</td>\n",
       "      <td>NaN</td>\n",
       "      <td>NaN</td>\n",
       "    </tr>\n",
       "    <tr>\n",
       "      <th>2</th>\n",
       "      <td>4</td>\n",
       "      <td>OCCCCCCN1[C@H](Cc2ccccc2)[C@H](O)[C@@H](O)[C@@...</td>\n",
       "      <td>InChI=1S/C29H40N2O4/c32-18-10-2-1-9-17-30-25(1...</td>\n",
       "      <td>YXVAZXDWVZTGGD-VIJSPRBVSA-N</td>\n",
       "      <td>24</td>\n",
       "      <td>(4R,5S,6S,7R)-4,7-dibenzyl-1-(cyclopropylmethy...</td>\n",
       "      <td>Dimer of Gag-Pol polyprotein [501-599]</td>\n",
       "      <td>Human immunodeficiency virus 1</td>\n",
       "      <td>0.8</td>\n",
       "      <td>NaN</td>\n",
       "      <td>...</td>\n",
       "      <td>NaN</td>\n",
       "      <td>NaN</td>\n",
       "      <td>NaN</td>\n",
       "      <td>NaN</td>\n",
       "      <td>NaN</td>\n",
       "      <td>NaN</td>\n",
       "      <td>NaN</td>\n",
       "      <td>NaN</td>\n",
       "      <td>NaN</td>\n",
       "      <td>NaN</td>\n",
       "    </tr>\n",
       "    <tr>\n",
       "      <th>3</th>\n",
       "      <td>5</td>\n",
       "      <td>OCCCCCN1[C@H](Cc2ccccc2)[C@H](O)[C@@H](O)[C@@H...</td>\n",
       "      <td>InChI=1S/C28H38N2O4/c31-17-9-3-8-16-29-24(18-2...</td>\n",
       "      <td>WWTSWTPNILRSJX-XDZXDJIYSA-N</td>\n",
       "      <td>25</td>\n",
       "      <td>(4R,5S,6S,7R)-4,7-dibenzyl-1-(cyclopropylmethy...</td>\n",
       "      <td>Dimer of Gag-Pol polyprotein [501-599]</td>\n",
       "      <td>Human immunodeficiency virus 1</td>\n",
       "      <td>0.99</td>\n",
       "      <td>NaN</td>\n",
       "      <td>...</td>\n",
       "      <td>NaN</td>\n",
       "      <td>NaN</td>\n",
       "      <td>NaN</td>\n",
       "      <td>NaN</td>\n",
       "      <td>NaN</td>\n",
       "      <td>NaN</td>\n",
       "      <td>NaN</td>\n",
       "      <td>NaN</td>\n",
       "      <td>NaN</td>\n",
       "      <td>NaN</td>\n",
       "    </tr>\n",
       "    <tr>\n",
       "      <th>4</th>\n",
       "      <td>6</td>\n",
       "      <td>CCCCN1[C@H](Cc2ccccc2)[C@H](O)[C@@H](O)[C@@H](...</td>\n",
       "      <td>InChI=1S/C27H36N2O3/c1-2-3-16-28-23(17-20-10-6...</td>\n",
       "      <td>QDUGHFLRTUTUJH-XPGKHFPBSA-N</td>\n",
       "      <td>26</td>\n",
       "      <td>(4R,5S,6S,7R)-4,7-dibenzyl-1-butyl-3-(cyclopro...</td>\n",
       "      <td>Dimer of Gag-Pol polyprotein [501-599]</td>\n",
       "      <td>Human immunodeficiency virus 1</td>\n",
       "      <td>1.1</td>\n",
       "      <td>NaN</td>\n",
       "      <td>...</td>\n",
       "      <td>NaN</td>\n",
       "      <td>NaN</td>\n",
       "      <td>NaN</td>\n",
       "      <td>NaN</td>\n",
       "      <td>NaN</td>\n",
       "      <td>NaN</td>\n",
       "      <td>NaN</td>\n",
       "      <td>NaN</td>\n",
       "      <td>NaN</td>\n",
       "      <td>NaN</td>\n",
       "    </tr>\n",
       "  </tbody>\n",
       "</table>\n",
       "<p>5 rows × 243 columns</p>\n",
       "</div>"
      ],
      "text/plain": [
       "   BindingDB Reactant_set_id  \\\n",
       "0                          2   \n",
       "1                          3   \n",
       "2                          4   \n",
       "3                          5   \n",
       "4                          6   \n",
       "\n",
       "                                       Ligand SMILES  \\\n",
       "0  O[C@@H]1[C@@H](O)[C@@H](Cc2ccccc2)N(C\\C=C\\c2cn...   \n",
       "1  O[C@@H]1[C@@H](O)[C@@H](Cc2ccccc2)N(CC2CC2)C(=...   \n",
       "2  OCCCCCCN1[C@H](Cc2ccccc2)[C@H](O)[C@@H](O)[C@@...   \n",
       "3  OCCCCCN1[C@H](Cc2ccccc2)[C@H](O)[C@@H](O)[C@@H...   \n",
       "4  CCCCN1[C@H](Cc2ccccc2)[C@H](O)[C@@H](O)[C@@H](...   \n",
       "\n",
       "                                        Ligand InChI  \\\n",
       "0  InChI=1S/C31H34N6O3/c38-29-27(17-23-9-3-1-4-10...   \n",
       "1  InChI=1S/C29H34N4O3/c34-27-25(16-21-8-3-1-4-9-...   \n",
       "2  InChI=1S/C29H40N2O4/c32-18-10-2-1-9-17-30-25(1...   \n",
       "3  InChI=1S/C28H38N2O4/c31-17-9-3-8-16-29-24(18-2...   \n",
       "4  InChI=1S/C27H36N2O3/c1-2-3-16-28-23(17-20-10-6...   \n",
       "\n",
       "              Ligand InChI Key  BindingDB MonomerID  \\\n",
       "0  UZLMEAPBHYEHAC-UNTBESQGSA-N                   22   \n",
       "1  HYNYUFZPPJMPOB-UTWJFGBXSA-N                   23   \n",
       "2  YXVAZXDWVZTGGD-VIJSPRBVSA-N                   24   \n",
       "3  WWTSWTPNILRSJX-XDZXDJIYSA-N                   25   \n",
       "4  QDUGHFLRTUTUJH-XPGKHFPBSA-N                   26   \n",
       "\n",
       "                               BindingDB Ligand Name  \\\n",
       "0  (4R,5S,6S,7R)-4,7-dibenzyl-5,6-dihydroxy-1,3-b...   \n",
       "1  (4R,5S,6S,7R)-4,7-dibenzyl-1-(cyclopropylmethy...   \n",
       "2  (4R,5S,6S,7R)-4,7-dibenzyl-1-(cyclopropylmethy...   \n",
       "3  (4R,5S,6S,7R)-4,7-dibenzyl-1-(cyclopropylmethy...   \n",
       "4  (4R,5S,6S,7R)-4,7-dibenzyl-1-butyl-3-(cyclopro...   \n",
       "\n",
       "                              Target Name  \\\n",
       "0  Dimer of Gag-Pol polyprotein [501-599]   \n",
       "1  Dimer of Gag-Pol polyprotein [501-599]   \n",
       "2  Dimer of Gag-Pol polyprotein [501-599]   \n",
       "3  Dimer of Gag-Pol polyprotein [501-599]   \n",
       "4  Dimer of Gag-Pol polyprotein [501-599]   \n",
       "\n",
       "  Target Source Organism According to Curator or DataSource Ki (nM) IC50 (nM)  \\\n",
       "0                     Human immunodeficiency virus 1           0.25       NaN   \n",
       "1                     Human immunodeficiency virus 1           0.41       NaN   \n",
       "2                     Human immunodeficiency virus 1            0.8       NaN   \n",
       "3                     Human immunodeficiency virus 1           0.99       NaN   \n",
       "4                     Human immunodeficiency virus 1            1.1       NaN   \n",
       "\n",
       "   ... Unnamed: 233 Unnamed: 234  Unnamed: 235 Unnamed: 236  Unnamed: 237  \\\n",
       "0  ...          NaN          NaN           NaN          NaN           NaN   \n",
       "1  ...          NaN          NaN           NaN          NaN           NaN   \n",
       "2  ...          NaN          NaN           NaN          NaN           NaN   \n",
       "3  ...          NaN          NaN           NaN          NaN           NaN   \n",
       "4  ...          NaN          NaN           NaN          NaN           NaN   \n",
       "\n",
       "  Unnamed: 238 Unnamed: 239 Unnamed: 240 Unnamed: 241  Unnamed: 242  \n",
       "0          NaN          NaN          NaN          NaN           NaN  \n",
       "1          NaN          NaN          NaN          NaN           NaN  \n",
       "2          NaN          NaN          NaN          NaN           NaN  \n",
       "3          NaN          NaN          NaN          NaN           NaN  \n",
       "4          NaN          NaN          NaN          NaN           NaN  \n",
       "\n",
       "[5 rows x 243 columns]"
      ]
     },
     "execution_count": 17,
     "metadata": {},
     "output_type": "execute_result"
    }
   ],
   "source": [
    "df = pd.read_csv('/mnt/data/BindingDB_All.tsv', sep = '\\t', on_bad_lines='skip')\n",
    "df.head()"
   ]
  },
  {
   "cell_type": "code",
   "execution_count": null,
   "id": "b70c5206ea55dcf2",
   "metadata": {
    "collapsed": false
   },
   "outputs": [],
   "source": [
    "X_drug, X_SMILES, X_target, y = process_BindingDB('/mnt/data/BindingDB_All.tsv',\n",
    "                                         y = 'Ki', \n",
    "                                         binary = False, \n",
    "                                         convert_to_log = True)"
   ]
  },
  {
   "cell_type": "code",
   "execution_count": 74,
   "id": "9ce8e806-abae-4413-ae23-d8de4cf85910",
   "metadata": {},
   "outputs": [],
   "source": [
    "bindingdb_d_t_ki = pd.DataFrame({'drug': X_drug, 'SMILES': X_SMILES, 'target': X_target, 'Ki': y})"
   ]
  },
  {
   "cell_type": "code",
   "execution_count": 67,
   "id": "3a5068d3-4ca3-4e41-89f3-9f2e77e39058",
   "metadata": {},
   "outputs": [],
   "source": [
    "bindingdb_d_t_ki.to_csv('../analysis/bindingdb_d_t_ki.csv', index=False)"
   ]
  },
  {
   "cell_type": "code",
   "execution_count": 3,
   "outputs": [],
   "source": [
    "data_ki= pd.read_csv('../analysis/bindingdb_d_t_ki.csv')"
   ],
   "metadata": {
    "collapsed": false,
    "ExecuteTime": {
     "end_time": "2024-04-17T11:49:53.399603300Z",
     "start_time": "2024-04-17T11:49:51.646714900Z"
    }
   },
   "id": "e4f678ae7a3cf71e"
  },
  {
   "cell_type": "code",
   "execution_count": 4,
   "outputs": [
    {
     "data": {
      "text/plain": "                                                drug  \\\n0  (4R,5S,6S,7R)-4,7-dibenzyl-5,6-dihydroxy-1,3-b...   \n1  (4R,5S,6S,7R)-4,7-dibenzyl-1-(cyclopropylmethy...   \n2  (4R,5S,6S,7R)-4,7-dibenzyl-1-(cyclopropylmethy...   \n3  (4R,5S,6S,7R)-4,7-dibenzyl-1-(cyclopropylmethy...   \n4  (4R,5S,6S,7R)-4,7-dibenzyl-1-butyl-3-(cyclopro...   \n\n                                              SMILES  \\\n0  O[C@@H]1[C@@H](O)[C@@H](Cc2ccccc2)N(C\\C=C\\c2cn...   \n1  O[C@@H]1[C@@H](O)[C@@H](Cc2ccccc2)N(CC2CC2)C(=...   \n2  OCCCCCCN1[C@H](Cc2ccccc2)[C@H](O)[C@@H](O)[C@@...   \n3  OCCCCCN1[C@H](Cc2ccccc2)[C@H](O)[C@@H](O)[C@@H...   \n4  CCCCN1[C@H](Cc2ccccc2)[C@H](O)[C@@H](O)[C@@H](...   \n\n                                   target        Ki  \n0  Dimer of Gag-Pol polyprotein [501-599]  9.602060  \n1  Dimer of Gag-Pol polyprotein [501-599]  9.387216  \n2  Dimer of Gag-Pol polyprotein [501-599]  9.096910  \n3  Dimer of Gag-Pol polyprotein [501-599]  9.004365  \n4  Dimer of Gag-Pol polyprotein [501-599]  8.958607  ",
      "text/html": "<div>\n<style scoped>\n    .dataframe tbody tr th:only-of-type {\n        vertical-align: middle;\n    }\n\n    .dataframe tbody tr th {\n        vertical-align: top;\n    }\n\n    .dataframe thead th {\n        text-align: right;\n    }\n</style>\n<table border=\"1\" class=\"dataframe\">\n  <thead>\n    <tr style=\"text-align: right;\">\n      <th></th>\n      <th>drug</th>\n      <th>SMILES</th>\n      <th>target</th>\n      <th>Ki</th>\n    </tr>\n  </thead>\n  <tbody>\n    <tr>\n      <th>0</th>\n      <td>(4R,5S,6S,7R)-4,7-dibenzyl-5,6-dihydroxy-1,3-b...</td>\n      <td>O[C@@H]1[C@@H](O)[C@@H](Cc2ccccc2)N(C\\C=C\\c2cn...</td>\n      <td>Dimer of Gag-Pol polyprotein [501-599]</td>\n      <td>9.602060</td>\n    </tr>\n    <tr>\n      <th>1</th>\n      <td>(4R,5S,6S,7R)-4,7-dibenzyl-1-(cyclopropylmethy...</td>\n      <td>O[C@@H]1[C@@H](O)[C@@H](Cc2ccccc2)N(CC2CC2)C(=...</td>\n      <td>Dimer of Gag-Pol polyprotein [501-599]</td>\n      <td>9.387216</td>\n    </tr>\n    <tr>\n      <th>2</th>\n      <td>(4R,5S,6S,7R)-4,7-dibenzyl-1-(cyclopropylmethy...</td>\n      <td>OCCCCCCN1[C@H](Cc2ccccc2)[C@H](O)[C@@H](O)[C@@...</td>\n      <td>Dimer of Gag-Pol polyprotein [501-599]</td>\n      <td>9.096910</td>\n    </tr>\n    <tr>\n      <th>3</th>\n      <td>(4R,5S,6S,7R)-4,7-dibenzyl-1-(cyclopropylmethy...</td>\n      <td>OCCCCCN1[C@H](Cc2ccccc2)[C@H](O)[C@@H](O)[C@@H...</td>\n      <td>Dimer of Gag-Pol polyprotein [501-599]</td>\n      <td>9.004365</td>\n    </tr>\n    <tr>\n      <th>4</th>\n      <td>(4R,5S,6S,7R)-4,7-dibenzyl-1-butyl-3-(cyclopro...</td>\n      <td>CCCCN1[C@H](Cc2ccccc2)[C@H](O)[C@@H](O)[C@@H](...</td>\n      <td>Dimer of Gag-Pol polyprotein [501-599]</td>\n      <td>8.958607</td>\n    </tr>\n  </tbody>\n</table>\n</div>"
     },
     "execution_count": 4,
     "metadata": {},
     "output_type": "execute_result"
    }
   ],
   "source": [
    "data_ki.head()"
   ],
   "metadata": {
    "collapsed": false,
    "ExecuteTime": {
     "end_time": "2024-04-17T11:49:55.297094900Z",
     "start_time": "2024-04-17T11:49:55.108732800Z"
    }
   },
   "id": "1c7c83db45933305"
  },
  {
   "cell_type": "code",
   "execution_count": 5,
   "outputs": [],
   "source": [
    "data_ki.columns = 'drug', 'SMILES', 'target', 'affinity'"
   ],
   "metadata": {
    "collapsed": false,
    "ExecuteTime": {
     "end_time": "2024-04-17T11:50:38.042483900Z",
     "start_time": "2024-04-17T11:50:37.870514900Z"
    }
   },
   "id": "2130e0be866e1a67"
  },
  {
   "cell_type": "code",
   "execution_count": 7,
   "outputs": [
    {
     "data": {
      "text/plain": "                                                drug  \\\n0  (4R,5S,6S,7R)-4,7-dibenzyl-5,6-dihydroxy-1,3-b...   \n1  (4R,5S,6S,7R)-4,7-dibenzyl-1-(cyclopropylmethy...   \n2  (4R,5S,6S,7R)-4,7-dibenzyl-1-(cyclopropylmethy...   \n3  (4R,5S,6S,7R)-4,7-dibenzyl-1-(cyclopropylmethy...   \n4  (4R,5S,6S,7R)-4,7-dibenzyl-1-butyl-3-(cyclopro...   \n\n                                              SMILES  \\\n0  O[C@@H]1[C@@H](O)[C@@H](Cc2ccccc2)N(C\\C=C\\c2cn...   \n1  O[C@@H]1[C@@H](O)[C@@H](Cc2ccccc2)N(CC2CC2)C(=...   \n2  OCCCCCCN1[C@H](Cc2ccccc2)[C@H](O)[C@@H](O)[C@@...   \n3  OCCCCCN1[C@H](Cc2ccccc2)[C@H](O)[C@@H](O)[C@@H...   \n4  CCCCN1[C@H](Cc2ccccc2)[C@H](O)[C@@H](O)[C@@H](...   \n\n                                   target  affinity  \n0  Dimer of Gag-Pol polyprotein [501-599]  9.602060  \n1  Dimer of Gag-Pol polyprotein [501-599]  9.387216  \n2  Dimer of Gag-Pol polyprotein [501-599]  9.096910  \n3  Dimer of Gag-Pol polyprotein [501-599]  9.004365  \n4  Dimer of Gag-Pol polyprotein [501-599]  8.958607  ",
      "text/html": "<div>\n<style scoped>\n    .dataframe tbody tr th:only-of-type {\n        vertical-align: middle;\n    }\n\n    .dataframe tbody tr th {\n        vertical-align: top;\n    }\n\n    .dataframe thead th {\n        text-align: right;\n    }\n</style>\n<table border=\"1\" class=\"dataframe\">\n  <thead>\n    <tr style=\"text-align: right;\">\n      <th></th>\n      <th>drug</th>\n      <th>SMILES</th>\n      <th>target</th>\n      <th>affinity</th>\n    </tr>\n  </thead>\n  <tbody>\n    <tr>\n      <th>0</th>\n      <td>(4R,5S,6S,7R)-4,7-dibenzyl-5,6-dihydroxy-1,3-b...</td>\n      <td>O[C@@H]1[C@@H](O)[C@@H](Cc2ccccc2)N(C\\C=C\\c2cn...</td>\n      <td>Dimer of Gag-Pol polyprotein [501-599]</td>\n      <td>9.602060</td>\n    </tr>\n    <tr>\n      <th>1</th>\n      <td>(4R,5S,6S,7R)-4,7-dibenzyl-1-(cyclopropylmethy...</td>\n      <td>O[C@@H]1[C@@H](O)[C@@H](Cc2ccccc2)N(CC2CC2)C(=...</td>\n      <td>Dimer of Gag-Pol polyprotein [501-599]</td>\n      <td>9.387216</td>\n    </tr>\n    <tr>\n      <th>2</th>\n      <td>(4R,5S,6S,7R)-4,7-dibenzyl-1-(cyclopropylmethy...</td>\n      <td>OCCCCCCN1[C@H](Cc2ccccc2)[C@H](O)[C@@H](O)[C@@...</td>\n      <td>Dimer of Gag-Pol polyprotein [501-599]</td>\n      <td>9.096910</td>\n    </tr>\n    <tr>\n      <th>3</th>\n      <td>(4R,5S,6S,7R)-4,7-dibenzyl-1-(cyclopropylmethy...</td>\n      <td>OCCCCCN1[C@H](Cc2ccccc2)[C@H](O)[C@@H](O)[C@@H...</td>\n      <td>Dimer of Gag-Pol polyprotein [501-599]</td>\n      <td>9.004365</td>\n    </tr>\n    <tr>\n      <th>4</th>\n      <td>(4R,5S,6S,7R)-4,7-dibenzyl-1-butyl-3-(cyclopro...</td>\n      <td>CCCCN1[C@H](Cc2ccccc2)[C@H](O)[C@@H](O)[C@@H](...</td>\n      <td>Dimer of Gag-Pol polyprotein [501-599]</td>\n      <td>8.958607</td>\n    </tr>\n  </tbody>\n</table>\n</div>"
     },
     "execution_count": 7,
     "metadata": {},
     "output_type": "execute_result"
    }
   ],
   "source": [
    "data_ki.head()"
   ],
   "metadata": {
    "collapsed": false,
    "ExecuteTime": {
     "end_time": "2024-04-17T11:50:53.932862Z",
     "start_time": "2024-04-17T11:50:53.647628400Z"
    }
   },
   "id": "216de65db679a737"
  },
  {
   "cell_type": "code",
   "execution_count": null,
   "outputs": [],
   "source": [
    "cliff_pairs = get_cliffs(data_ki, threshold_affinity=1, threshold_similarity=0.9)"
   ],
   "metadata": {
    "collapsed": false
   },
   "id": "acd7a227e310819"
  },
  {
   "cell_type": "code",
   "execution_count": null,
   "outputs": [],
   "source": [
    "cliff_pairs"
   ],
   "metadata": {
    "collapsed": false
   },
   "id": "cd363b0c6a6b9e20"
  },
  {
   "cell_type": "code",
   "execution_count": null,
   "outputs": [],
   "source": [
    "#cliff_pairs.to_csv('../analysis/bindindb_ki_cliff_pairs_ta1_ts0.9.csv', index=False)"
   ],
   "metadata": {
    "collapsed": false
   },
   "id": "9c0186d3a83710c9"
  },
  {
   "cell_type": "code",
   "execution_count": 15,
   "outputs": [],
   "source": [
    "cliff_pairs =  pd.read_csv('../analysis/bindindb_ki_cliff_pairs_ta1_ts0.9.csv')"
   ],
   "metadata": {
    "collapsed": false,
    "ExecuteTime": {
     "end_time": "2024-04-17T11:53:59.656792700Z",
     "start_time": "2024-04-17T11:53:53.780321900Z"
    }
   },
   "id": "3155c3b4eba23ffe"
  },
  {
   "cell_type": "code",
   "execution_count": 16,
   "outputs": [],
   "source": [
    "cliff_pairs_no_dup = cliff_pairs.drop_duplicates()"
   ],
   "metadata": {
    "collapsed": false,
    "ExecuteTime": {
     "end_time": "2024-04-17T11:54:03.415405100Z",
     "start_time": "2024-04-17T11:54:00.567274100Z"
    }
   },
   "id": "3f6793dd95cd9df8"
  },
  {
   "cell_type": "code",
   "execution_count": 17,
   "outputs": [
    {
     "data": {
      "text/plain": "(498786, 6)"
     },
     "execution_count": 17,
     "metadata": {},
     "output_type": "execute_result"
    }
   ],
   "source": [
    "cliff_pairs.shape"
   ],
   "metadata": {
    "collapsed": false,
    "ExecuteTime": {
     "end_time": "2024-04-17T11:54:04.067101800Z",
     "start_time": "2024-04-17T11:54:04.037473900Z"
    }
   },
   "id": "91997c5c5f2ef131"
  },
  {
   "cell_type": "code",
   "execution_count": 18,
   "outputs": [
    {
     "data": {
      "text/plain": "(252803, 6)"
     },
     "execution_count": 18,
     "metadata": {},
     "output_type": "execute_result"
    }
   ],
   "source": [
    "cliff_pairs_no_dup.shape"
   ],
   "metadata": {
    "collapsed": false,
    "ExecuteTime": {
     "end_time": "2024-04-17T11:54:04.791430100Z",
     "start_time": "2024-04-17T11:54:04.756873600Z"
    }
   },
   "id": "4088f1ca6e2b42ac"
  },
  {
   "cell_type": "code",
   "execution_count": 19,
   "outputs": [],
   "source": [
    "# target_ids = {t:i for i, t in enumerate(set(cliff_pairs_no_dup.target))}\n",
    "# json.dump(target_ids, open('target_mapping_bdb.json', 'w'))"
   ],
   "metadata": {
    "collapsed": false,
    "ExecuteTime": {
     "end_time": "2024-04-17T11:54:06.449472100Z",
     "start_time": "2024-04-17T11:54:06.306430300Z"
    }
   },
   "id": "d1ed4be4a752354a"
  },
  {
   "cell_type": "code",
   "execution_count": 20,
   "outputs": [],
   "source": [
    "target_ids = json.load(open('../analysis/target_mapping_bdb.json'))\n",
    "cliff_pairs_no_dup.loc[:, 'target'] = cliff_pairs_no_dup['target'].apply(target_ids.__getitem__)"
   ],
   "metadata": {
    "collapsed": false,
    "ExecuteTime": {
     "end_time": "2024-04-17T11:54:09.718259900Z",
     "start_time": "2024-04-17T11:54:09.380100900Z"
    }
   },
   "id": "2666d8957971e3e4"
  },
  {
   "cell_type": "code",
   "execution_count": 21,
   "outputs": [],
   "source": [
    "cliff_pairs_split_random = split_data(cliff_pairs_no_dup, split='random')\n",
    "# cliff_pairs_split_random.to_csv('../analysis/bindingdb_ki_cliff_pairs_ta1_ts0.9_r_wt.csv', index=False)"
   ],
   "metadata": {
    "collapsed": false,
    "ExecuteTime": {
     "end_time": "2024-04-17T11:54:14.348400600Z",
     "start_time": "2024-04-17T11:54:14.068778600Z"
    }
   },
   "id": "6f896bcf2e839553"
  },
  {
   "cell_type": "code",
   "execution_count": 22,
   "outputs": [
    {
     "data": {
      "text/plain": "cliff\n0    181499\n1     71304\nName: count, dtype: int64"
     },
     "execution_count": 22,
     "metadata": {},
     "output_type": "execute_result"
    }
   ],
   "source": [
    "cliff_pairs_split_random['cliff'].value_counts()"
   ],
   "metadata": {
    "collapsed": false,
    "ExecuteTime": {
     "end_time": "2024-04-17T11:54:15.639432300Z",
     "start_time": "2024-04-17T11:54:15.520497100Z"
    }
   },
   "id": "d816af0357d81d7d"
  },
  {
   "cell_type": "code",
   "execution_count": 23,
   "outputs": [],
   "source": [
    "cliff_pairs_split_cb = split_data(cliff_pairs_no_dup, split='compound-based')\n",
    "# cliff_pairs_split_cb.to_csv('../analysis/bindingdb_ki_cliff_pairs_ta1_ts0.9_cb_wt.csv', index=False)"
   ],
   "metadata": {
    "collapsed": false,
    "ExecuteTime": {
     "end_time": "2024-04-17T11:54:18.420540200Z",
     "start_time": "2024-04-17T11:54:17.156819300Z"
    }
   },
   "id": "79086637c35847ab"
  },
  {
   "cell_type": "code",
   "execution_count": 24,
   "outputs": [
    {
     "data": {
      "text/plain": "cliff\n0    181499\n1     71304\nName: count, dtype: int64"
     },
     "execution_count": 24,
     "metadata": {},
     "output_type": "execute_result"
    }
   ],
   "source": [
    "cliff_pairs_split_cb['cliff'].value_counts()"
   ],
   "metadata": {
    "collapsed": false,
    "ExecuteTime": {
     "end_time": "2024-04-17T11:54:19.651496Z",
     "start_time": "2024-04-17T11:54:19.480003300Z"
    }
   },
   "id": "5ac651e787c06e71"
  },
  {
   "cell_type": "code",
   "execution_count": 27,
   "outputs": [
    {
     "data": {
      "text/plain": "                                                    drug1  \\\n283493  Azabicyclooctane scaffold, 14l::N-[(3aR,6S,6aS...   \n180509                     US8952157, 140::US9303025, 140   \n460969                                      US8623889, 33   \n73353   2-(hydrazinecarbonyl)-3-(2-methylphenyl)-1H-in...   \n391442                      VIP [D- Arg14]::VIP [D-Arg14]   \n\n                                                    drug2  \\\n283493  Azabicyclooctane scaffold, 14p::N-[(3aR,6S,6aS...   \n180509                     US8952157, 133::US9303025, 133   \n460969                                      US8623889, 46   \n73353   3-(2-fluorophenyl)-2-(hydrazinecarbonyl)-1H-in...   \n391442                      VIP [D- Asn24]::VIP [D-Asn24]   \n\n                                                  smiles1  \\\n283493  CN[C@@H](C)C(=O)N[C@H](C(=O)N1CC[C@H]2CC[C@H](...   \n180509  CC1(C)CCC(CN2CCN(CC2)c2ccc(C(=O)NS(=O)(=O)c3cc...   \n460969                 O=C(Nc1cc2ccc(cc2cn1)N1CCCC1)C1CC1   \n73353     Cc1ccccc1-c1c([nH]c2ccc(cc12)S(N)(=O)=O)C(=O)NN   \n391442  CC[C@H](C)[C@H](NC(=O)[C@H](CO)NC(=O)[C@H](CC(...   \n\n                                                  smiles2  cliff target  split  \n283493  CN[C@@H](C)C(=O)N[C@H](C(=O)N1CC[C@H]2CC[C@H](...      0    411      0  \n180509  CC1(C)CCC(CN2CCN(CC2)c2ccc(C(=O)NS(=O)(=O)c3cc...      0    530      0  \n460969                O=C(Nc1cc2ccc(cc2cn1)N1CCNCC1)C1CC1      1    139      0  \n73353       NNC(=O)c1[nH]c2ccc(cc2c1-c1ccccc1F)S(N)(=O)=O      0    226      0  \n391442  CC[C@H](C)[C@H](NC(=O)[C@H](CO)NC(=O)[C@@H](CC...      1     65      0  ",
      "text/html": "<div>\n<style scoped>\n    .dataframe tbody tr th:only-of-type {\n        vertical-align: middle;\n    }\n\n    .dataframe tbody tr th {\n        vertical-align: top;\n    }\n\n    .dataframe thead th {\n        text-align: right;\n    }\n</style>\n<table border=\"1\" class=\"dataframe\">\n  <thead>\n    <tr style=\"text-align: right;\">\n      <th></th>\n      <th>drug1</th>\n      <th>drug2</th>\n      <th>smiles1</th>\n      <th>smiles2</th>\n      <th>cliff</th>\n      <th>target</th>\n      <th>split</th>\n    </tr>\n  </thead>\n  <tbody>\n    <tr>\n      <th>283493</th>\n      <td>Azabicyclooctane scaffold, 14l::N-[(3aR,6S,6aS...</td>\n      <td>Azabicyclooctane scaffold, 14p::N-[(3aR,6S,6aS...</td>\n      <td>CN[C@@H](C)C(=O)N[C@H](C(=O)N1CC[C@H]2CC[C@H](...</td>\n      <td>CN[C@@H](C)C(=O)N[C@H](C(=O)N1CC[C@H]2CC[C@H](...</td>\n      <td>0</td>\n      <td>411</td>\n      <td>0</td>\n    </tr>\n    <tr>\n      <th>180509</th>\n      <td>US8952157, 140::US9303025, 140</td>\n      <td>US8952157, 133::US9303025, 133</td>\n      <td>CC1(C)CCC(CN2CCN(CC2)c2ccc(C(=O)NS(=O)(=O)c3cc...</td>\n      <td>CC1(C)CCC(CN2CCN(CC2)c2ccc(C(=O)NS(=O)(=O)c3cc...</td>\n      <td>0</td>\n      <td>530</td>\n      <td>0</td>\n    </tr>\n    <tr>\n      <th>460969</th>\n      <td>US8623889, 33</td>\n      <td>US8623889, 46</td>\n      <td>O=C(Nc1cc2ccc(cc2cn1)N1CCCC1)C1CC1</td>\n      <td>O=C(Nc1cc2ccc(cc2cn1)N1CCNCC1)C1CC1</td>\n      <td>1</td>\n      <td>139</td>\n      <td>0</td>\n    </tr>\n    <tr>\n      <th>73353</th>\n      <td>2-(hydrazinecarbonyl)-3-(2-methylphenyl)-1H-in...</td>\n      <td>3-(2-fluorophenyl)-2-(hydrazinecarbonyl)-1H-in...</td>\n      <td>Cc1ccccc1-c1c([nH]c2ccc(cc12)S(N)(=O)=O)C(=O)NN</td>\n      <td>NNC(=O)c1[nH]c2ccc(cc2c1-c1ccccc1F)S(N)(=O)=O</td>\n      <td>0</td>\n      <td>226</td>\n      <td>0</td>\n    </tr>\n    <tr>\n      <th>391442</th>\n      <td>VIP [D- Arg14]::VIP [D-Arg14]</td>\n      <td>VIP [D- Asn24]::VIP [D-Asn24]</td>\n      <td>CC[C@H](C)[C@H](NC(=O)[C@H](CO)NC(=O)[C@H](CC(...</td>\n      <td>CC[C@H](C)[C@H](NC(=O)[C@H](CO)NC(=O)[C@@H](CC...</td>\n      <td>1</td>\n      <td>65</td>\n      <td>0</td>\n    </tr>\n  </tbody>\n</table>\n</div>"
     },
     "execution_count": 27,
     "metadata": {},
     "output_type": "execute_result"
    }
   ],
   "source": [
    "cliff_pairs_split_random.head()"
   ],
   "metadata": {
    "collapsed": false,
    "ExecuteTime": {
     "end_time": "2024-04-17T11:55:43.107373300Z",
     "start_time": "2024-04-17T11:55:42.968234500Z"
    }
   },
   "id": "f9c0c6f6eeb01087"
  },
  {
   "cell_type": "code",
   "execution_count": 28,
   "outputs": [
    {
     "data": {
      "text/plain": "                                               drug1  \\\n0  (4R,5S,6S,7R)-4,7-dibenzyl-5,6-dihydroxy-1,3-b...   \n1  (4R,5S,6S,7R)-4,7-dibenzyl-5,6-dihydroxy-1,3-b...   \n3  (4R,5S,6S,7R)-4,7-dibenzyl-5,6-dihydroxy-1,3-b...   \n4  (4R,5S,6S,7R)-4,7-dibenzyl-5,6-dihydroxy-1,3-b...   \n5  (4R,5S,6S,7R)-4,7-dibenzyl-1-(cyclopropylmethy...   \n\n                                               drug2  \\\n0  (4R,5S,6S,7R)-4,7-dibenzyl-1-(cyclopropylmethy...   \n1  (4R,5S,6S,7R)-4,7-dibenzyl-1-(cyclopropylmethy...   \n3  (4R,5S,6S,7R)-4,7-dibenzyl-5,6-dihydroxy-1,3-b...   \n4  (4R,5S,6S,7R)-4,7-dibenzyl-5,6-dihydroxy-1,3-b...   \n5  (4R,5S,6S,7R)-4,7-dibenzyl-1-(cyclopropylmethy...   \n\n                                             smiles1  \\\n0  O[C@@H]1[C@@H](O)[C@@H](Cc2ccccc2)N(C\\C=C\\c2cn...   \n1  O[C@@H]1[C@@H](O)[C@@H](Cc2ccccc2)N(C\\C=C\\c2cn...   \n3  O[C@@H]1[C@@H](O)[C@@H](Cc2ccccc2)N(C\\C=C\\c2cn...   \n4  O[C@@H]1[C@@H](O)[C@@H](Cc2ccccc2)N(C\\C=C\\c2cn...   \n5  O[C@@H]1[C@@H](O)[C@@H](Cc2ccccc2)N(CC2CC2)C(=...   \n\n                                             smiles2  cliff target  split  \n0  O[C@@H]1[C@@H](O)[C@@H](Cc2ccccc2)N(CC2CC2)C(=...      0    550      0  \n1  O[C@@H]1[C@@H](O)[C@@H](Cc2ccccc2)N(CC2CC2)C(=...      1    550      0  \n3  O[C@@H]1[C@@H](O)[C@@H](Cc2ccccc2)N(CCCc2ccccc...      1    550      0  \n4  O[C@@H]1[C@@H](O)[C@@H](Cc2ccccc2)N(CC#Cc2cccc...      1    550      0  \n5  O[C@@H]1[C@@H](O)[C@@H](Cc2ccccc2)N(CC2CC2)C(=...      1    550      0  ",
      "text/html": "<div>\n<style scoped>\n    .dataframe tbody tr th:only-of-type {\n        vertical-align: middle;\n    }\n\n    .dataframe tbody tr th {\n        vertical-align: top;\n    }\n\n    .dataframe thead th {\n        text-align: right;\n    }\n</style>\n<table border=\"1\" class=\"dataframe\">\n  <thead>\n    <tr style=\"text-align: right;\">\n      <th></th>\n      <th>drug1</th>\n      <th>drug2</th>\n      <th>smiles1</th>\n      <th>smiles2</th>\n      <th>cliff</th>\n      <th>target</th>\n      <th>split</th>\n    </tr>\n  </thead>\n  <tbody>\n    <tr>\n      <th>0</th>\n      <td>(4R,5S,6S,7R)-4,7-dibenzyl-5,6-dihydroxy-1,3-b...</td>\n      <td>(4R,5S,6S,7R)-4,7-dibenzyl-1-(cyclopropylmethy...</td>\n      <td>O[C@@H]1[C@@H](O)[C@@H](Cc2ccccc2)N(C\\C=C\\c2cn...</td>\n      <td>O[C@@H]1[C@@H](O)[C@@H](Cc2ccccc2)N(CC2CC2)C(=...</td>\n      <td>0</td>\n      <td>550</td>\n      <td>0</td>\n    </tr>\n    <tr>\n      <th>1</th>\n      <td>(4R,5S,6S,7R)-4,7-dibenzyl-5,6-dihydroxy-1,3-b...</td>\n      <td>(4R,5S,6S,7R)-4,7-dibenzyl-1-(cyclopropylmethy...</td>\n      <td>O[C@@H]1[C@@H](O)[C@@H](Cc2ccccc2)N(C\\C=C\\c2cn...</td>\n      <td>O[C@@H]1[C@@H](O)[C@@H](Cc2ccccc2)N(CC2CC2)C(=...</td>\n      <td>1</td>\n      <td>550</td>\n      <td>0</td>\n    </tr>\n    <tr>\n      <th>3</th>\n      <td>(4R,5S,6S,7R)-4,7-dibenzyl-5,6-dihydroxy-1,3-b...</td>\n      <td>(4R,5S,6S,7R)-4,7-dibenzyl-5,6-dihydroxy-1,3-b...</td>\n      <td>O[C@@H]1[C@@H](O)[C@@H](Cc2ccccc2)N(C\\C=C\\c2cn...</td>\n      <td>O[C@@H]1[C@@H](O)[C@@H](Cc2ccccc2)N(CCCc2ccccc...</td>\n      <td>1</td>\n      <td>550</td>\n      <td>0</td>\n    </tr>\n    <tr>\n      <th>4</th>\n      <td>(4R,5S,6S,7R)-4,7-dibenzyl-5,6-dihydroxy-1,3-b...</td>\n      <td>(4R,5S,6S,7R)-4,7-dibenzyl-5,6-dihydroxy-1,3-b...</td>\n      <td>O[C@@H]1[C@@H](O)[C@@H](Cc2ccccc2)N(C\\C=C\\c2cn...</td>\n      <td>O[C@@H]1[C@@H](O)[C@@H](Cc2ccccc2)N(CC#Cc2cccc...</td>\n      <td>1</td>\n      <td>550</td>\n      <td>0</td>\n    </tr>\n    <tr>\n      <th>5</th>\n      <td>(4R,5S,6S,7R)-4,7-dibenzyl-1-(cyclopropylmethy...</td>\n      <td>(4R,5S,6S,7R)-4,7-dibenzyl-1-(cyclopropylmethy...</td>\n      <td>O[C@@H]1[C@@H](O)[C@@H](Cc2ccccc2)N(CC2CC2)C(=...</td>\n      <td>O[C@@H]1[C@@H](O)[C@@H](Cc2ccccc2)N(CC2CC2)C(=...</td>\n      <td>1</td>\n      <td>550</td>\n      <td>0</td>\n    </tr>\n  </tbody>\n</table>\n</div>"
     },
     "execution_count": 28,
     "metadata": {},
     "output_type": "execute_result"
    }
   ],
   "source": [
    "cliff_pairs_split_cb.head()"
   ],
   "metadata": {
    "collapsed": false,
    "ExecuteTime": {
     "end_time": "2024-04-17T11:56:05.513862400Z",
     "start_time": "2024-04-17T11:56:05.337561700Z"
    }
   },
   "id": "21e12fe5a046fe5e"
  },
  {
   "cell_type": "code",
   "execution_count": null,
   "outputs": [],
   "source": [],
   "metadata": {
    "collapsed": false
   },
   "id": "64749905411c738c"
  }
 ],
 "metadata": {
  "kernelspec": {
   "display_name": "Python 3 (ipykernel)",
   "language": "python",
   "name": "python3"
  },
  "language_info": {
   "codemirror_mode": {
    "name": "ipython",
    "version": 3
   },
   "file_extension": ".py",
   "mimetype": "text/x-python",
   "name": "python",
   "nbconvert_exporter": "python",
   "pygments_lexer": "ipython3",
   "version": "3.10.12"
  }
 },
 "nbformat": 4,
 "nbformat_minor": 5
}
