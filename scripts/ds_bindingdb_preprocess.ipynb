{
 "cells": [
  {
   "cell_type": "code",
   "id": "1d4865ff-c4e3-48f0-9309-21babe4576e3",
   "metadata": {},
   "source": [
    "import pandas as pd\n",
    "from json import load, dump\n",
    "from dataset import process_BindingDB, get_cliffs, split_data\n",
    "\n",
    "import matplotlib.pyplot as plt\n",
    "import seaborn as sns"
   ],
   "outputs": [],
   "execution_count": null
  },
  {
   "cell_type": "markdown",
   "source": [
    "# Data preprocessing"
   ],
   "metadata": {
    "collapsed": false
   },
   "id": "657fca615e8235d4"
  },
  {
   "cell_type": "code",
   "id": "9f18d9d73f00f90c",
   "metadata": {
    "collapsed": false
   },
   "source": [
    "df = pd.read_csv('/mnt/data/BindingDB_All.tsv', sep = '\\t', on_bad_lines='skip')\n",
    "df.head()"
   ],
   "outputs": [],
   "execution_count": null
  },
  {
   "cell_type": "code",
   "id": "b70c5206ea55dcf2",
   "metadata": {
    "collapsed": false
   },
   "source": [
    "X_drug, X_SMILES, X_target, y = process_BindingDB('/mnt/data/BindingDB_All.tsv',\n",
    "                                         y = 'Ki',\n",
    "                                         binary = False,\n",
    "                                         convert_to_log = True)"
   ],
   "outputs": [],
   "execution_count": null
  },
  {
   "cell_type": "code",
   "id": "9ce8e806-abae-4413-ae23-d8de4cf85910",
   "metadata": {},
   "source": [
    "bindingdb_d_t_ki = pd.DataFrame({'drug': X_drug, 'SMILES': X_SMILES, 'target': X_target, 'Ki': y})"
   ],
   "outputs": [],
   "execution_count": null
  },
  {
   "cell_type": "code",
   "id": "3a5068d3-4ca3-4e41-89f3-9f2e77e39058",
   "metadata": {},
   "source": [
    "bindingdb_d_t_ki.to_csv('../analysis/bindingdb_d_t_ki.csv', index=False)"
   ],
   "outputs": [],
   "execution_count": null
  },
  {
   "cell_type": "code",
   "source": [
    "data_ki= pd.read_csv('../analysis/bindingdb_d_t_ki.csv')"
   ],
   "metadata": {
    "collapsed": false
   },
   "id": "e4f678ae7a3cf71e",
   "outputs": [],
   "execution_count": null
  },
  {
   "cell_type": "code",
   "source": [
    "data_ki.columns = 'drug', 'SMILES', 'target', 'affinity'"
   ],
   "metadata": {
    "collapsed": false
   },
   "id": "2130e0be866e1a67",
   "outputs": [],
   "execution_count": null
  },
  {
   "cell_type": "code",
   "source": [
    "data_ki.head()"
   ],
   "metadata": {
    "collapsed": false
   },
   "id": "216de65db679a737",
   "outputs": [],
   "execution_count": null
  },
  {
   "cell_type": "code",
   "source": [
    "cliff_pairs = get_cliffs(data_ki, threshold_affinity=1, threshold_similarity=0.9)"
   ],
   "metadata": {
    "collapsed": false
   },
   "id": "acd7a227e310819",
   "outputs": [],
   "execution_count": null
  },
  {
   "cell_type": "code",
   "source": [
    "cliff_pairs"
   ],
   "metadata": {
    "collapsed": false
   },
   "id": "cd363b0c6a6b9e20",
   "outputs": [],
   "execution_count": null
  },
  {
   "cell_type": "code",
   "source": [
    "cliff_pairs_no_dup = cliff_pairs.drop_duplicates()"
   ],
   "metadata": {
    "collapsed": false
   },
   "id": "3f6793dd95cd9df8",
   "outputs": [],
   "execution_count": null
  },
  {
   "cell_type": "code",
   "source": [
    "cliff_pairs.shape"
   ],
   "metadata": {
    "collapsed": false
   },
   "id": "91997c5c5f2ef131",
   "outputs": [],
   "execution_count": null
  },
  {
   "cell_type": "code",
   "source": [
    "cliff_pairs_no_dup.shape"
   ],
   "metadata": {
    "collapsed": false
   },
   "id": "4088f1ca6e2b42ac",
   "outputs": [],
   "execution_count": null
  },
  {
   "cell_type": "code",
   "source": [
    "#cliff_pairs_no_dup.to_csv('../analysis/bindindb_ki_cliff_pairs_ta1_ts0.9.csv', index=False)"
   ],
   "metadata": {
    "collapsed": false
   },
   "id": "9c0186d3a83710c9",
   "outputs": [],
   "execution_count": null
  },
  {
   "cell_type": "markdown",
   "source": [
    "# EDA"
   ],
   "metadata": {
    "collapsed": false
   },
   "id": "1f6a611fc3240404"
  },
  {
   "cell_type": "code",
   "source": [
    "target_counts = pd.DataFrame(cliff_pairs_no_dup['target'].value_counts())"
   ],
   "metadata": {
    "collapsed": false
   },
   "id": "9bcb5cbfab9e0609",
   "outputs": [],
   "execution_count": null
  },
  {
   "cell_type": "code",
   "source": [
    "target_counts"
   ],
   "metadata": {
    "collapsed": false
   },
   "id": "4a68b02c0078ed3c",
   "outputs": [],
   "execution_count": null
  },
  {
   "cell_type": "code",
   "source": [
    "plt.hist(target_counts['counts'], bins=50, log=True)\n",
    "plt.xlabel('Value')\n",
    "plt.ylabel('Frequency')\n",
    "plt.title('Histogram of Counts on Log Scale')\n",
    "plt.show()"
   ],
   "metadata": {
    "collapsed": false
   },
   "id": "48bbe0d4c4d3887f",
   "outputs": [],
   "execution_count": null
  },
  {
   "cell_type": "code",
   "source": [
    "sns.histplot(data = target_counts['counts'], log_scale=True)"
   ],
   "metadata": {
    "collapsed": false
   },
   "id": "23dbd275a0d353b9",
   "outputs": [],
   "execution_count": null
  },
  {
   "cell_type": "markdown",
   "source": [
    "# Split data for DDC task"
   ],
   "metadata": {
    "collapsed": false
   },
   "id": "1b9cae61e54ee22e"
  },
  {
   "cell_type": "code",
   "source": [
    "cliff_pairs_no_dup =  pd.read_csv('../analysis/bindindb_ki_cliff_pairs_ta1_ts0.9.csv')"
   ],
   "metadata": {
    "collapsed": false
   },
   "id": "3155c3b4eba23ffe",
   "outputs": [],
   "execution_count": null
  },
  {
   "cell_type": "code",
   "source": [
    "cliff_pairs_no_dup.shape"
   ],
   "metadata": {
    "collapsed": false
   },
   "id": "3a9bc0bb48e0638f",
   "outputs": [],
   "execution_count": null
  },
  {
   "cell_type": "code",
   "source": [
    "target_ids = {t:i for i, t in enumerate(set(cliff_pairs_no_dup.target))}\n",
    "dump(target_ids, open('../analysis/target_mapping_bdb.json', 'w'))"
   ],
   "metadata": {
    "collapsed": false
   },
   "id": "d1ed4be4a752354a",
   "outputs": [],
   "execution_count": null
  },
  {
   "cell_type": "code",
   "source": [
    "target_ids = load(open('../analysis/target_mapping_bdb.json'))\n",
    "cliff_pairs_no_dup.loc[:, 'target'] = cliff_pairs_no_dup['target'].apply(target_ids.__getitem__)"
   ],
   "metadata": {
    "collapsed": false
   },
   "id": "2666d8957971e3e4",
   "outputs": [],
   "execution_count": null
  },
  {
   "cell_type": "code",
   "source": [
    "cliff_pairs_split_random = split_data(cliff_pairs_no_dup, split='random')\n",
    "cliff_pairs_split_random.to_csv('../analysis/bindingdb_ki_cliff_pairs_ta1_ts0.9_r_wt.csv', index=False)"
   ],
   "metadata": {
    "collapsed": false
   },
   "id": "6f896bcf2e839553",
   "outputs": [],
   "execution_count": null
  },
  {
   "cell_type": "code",
   "source": [
    "cliff_pairs_split_random['cliff'].value_counts()"
   ],
   "metadata": {
    "collapsed": false
   },
   "id": "d816af0357d81d7d",
   "outputs": [],
   "execution_count": null
  },
  {
   "cell_type": "code",
   "source": [
    "cliff_pairs_split_cb = split_data(cliff_pairs_no_dup, split='compound-based')\n",
    "cliff_pairs_split_cb.to_csv('../analysis/bindingdb_ki_cliff_pairs_ta1_ts0.9_cb_wt.csv', index=False)"
   ],
   "metadata": {
    "collapsed": false
   },
   "id": "79086637c35847ab",
   "outputs": [],
   "execution_count": null
  },
  {
   "cell_type": "code",
   "source": [
    "cliff_pairs_split_cb['cliff'].value_counts()"
   ],
   "metadata": {
    "collapsed": false
   },
   "id": "5ac651e787c06e71",
   "outputs": [],
   "execution_count": null
  },
  {
   "cell_type": "code",
   "source": [
    "cliff_pairs_split_random.head()"
   ],
   "metadata": {
    "collapsed": false
   },
   "id": "f9c0c6f6eeb01087",
   "outputs": [],
   "execution_count": null
  },
  {
   "cell_type": "code",
   "source": [
    "cliff_pairs_split_cb.head()"
   ],
   "metadata": {
    "collapsed": false
   },
   "id": "21e12fe5a046fe5e",
   "outputs": [],
   "execution_count": null
  },
  {
   "cell_type": "code",
   "source": [
    "cliff_pairs_split_random = pd.read_csv('../analysis/bindingdb_ki_cliff_pairs_ta1_ts0.9_r_wt.csv')"
   ],
   "metadata": {
    "collapsed": false
   },
   "id": "523372a1ba22903f",
   "outputs": [],
   "execution_count": null
  },
  {
   "cell_type": "code",
   "source": [
    "cliff_pairs_split_random['target'].nunique()"
   ],
   "metadata": {
    "collapsed": false
   },
   "id": "64749905411c738c",
   "outputs": [],
   "execution_count": null
  },
  {
   "metadata": {},
   "cell_type": "code",
   "source": "cliff_pairs_split_random",
   "id": "ff3b5e423fa7efb2",
   "outputs": [],
   "execution_count": null
  },
  {
   "cell_type": "markdown",
   "source": [
    "# Split data for DTI task"
   ],
   "metadata": {
    "collapsed": false
   },
   "id": "e74864a6fa3b4de0"
  },
  {
   "cell_type": "code",
   "source": [
    "data_ki= pd.read_csv('../analysis/bindingdb_d_t_ki.csv')"
   ],
   "metadata": {
    "collapsed": false
   },
   "id": "becbe8426f2e1c66",
   "outputs": [],
   "execution_count": null
  },
  {
   "metadata": {},
   "cell_type": "code",
   "source": "data_ki.shape",
   "id": "a45ced7298404093",
   "outputs": [],
   "execution_count": null
  },
  {
   "cell_type": "code",
   "source": [
    "plt.hist(data_ki['affinity'])\n",
    "plt.show()"
   ],
   "metadata": {
    "collapsed": false
   },
   "id": "64352f49bd3cbb29",
   "outputs": [],
   "execution_count": null
  },
  {
   "cell_type": "code",
   "source": [
    "data_ki.head()"
   ],
   "metadata": {
    "collapsed": false
   },
   "id": "19b3de9d26297f5a",
   "outputs": [],
   "execution_count": null
  },
  {
   "cell_type": "code",
   "source": [
    "with open('../analysis/target_mapping_bdb.json', 'r') as f:\n",
    "    target_ids = load(f)\n",
    "\n",
    "# Get the highest current ID to ensure new IDs are unique\n",
    "current_max_id = max(target_ids.values())\n",
    "\n",
    "# Function to get or create target ID\n",
    "def get_or_create_target_id(target):\n",
    "    global current_max_id\n",
    "    if target in target_ids:\n",
    "        return target_ids[target]\n",
    "    else:\n",
    "        current_max_id += 1\n",
    "        target_ids[target] = current_max_id\n",
    "        return current_max_id"
   ],
   "metadata": {
    "collapsed": false
   },
   "id": "1473ae5369f35199",
   "outputs": [],
   "execution_count": null
  },
  {
   "cell_type": "code",
   "source": [
    "data_ki['target'] = data_ki['target'].apply(get_or_create_target_id)\n"
   ],
   "metadata": {
    "collapsed": false
   },
   "id": "3e12edf85297c731",
   "outputs": [],
   "execution_count": null
  },
  {
   "cell_type": "code",
   "source": [
    "data_ki = data_ki.rename(columns={'SMILES': 'smiles', 'Ki': 'affinity'})"
   ],
   "metadata": {
    "collapsed": false
   },
   "id": "2a3e333681f25f8b",
   "outputs": [],
   "execution_count": null
  },
  {
   "cell_type": "code",
   "source": [
    "data_ki.head()"
   ],
   "metadata": {
    "collapsed": false
   },
   "id": "5f732c9bb1270d92",
   "outputs": [],
   "execution_count": null
  },
  {
   "cell_type": "code",
   "source": [
    "data_ki['target'].nunique()"
   ],
   "metadata": {
    "collapsed": false
   },
   "id": "9ec4dc9f0fa0993a",
   "outputs": [],
   "execution_count": null
  },
  {
   "cell_type": "code",
   "source": [
    "data_ki_aff_split = split_data(data_ki, 'random')"
   ],
   "metadata": {
    "collapsed": false
   },
   "id": "4ab1f011b440f6b",
   "outputs": [],
   "execution_count": null
  },
  {
   "cell_type": "code",
   "source": [
    "data_ki_aff_split"
   ],
   "metadata": {
    "collapsed": false
   },
   "id": "ad6a5543b58710fb",
   "outputs": [],
   "execution_count": null
  },
  {
   "cell_type": "code",
   "source": [
    "data_ki_aff_split.to_csv('../analysis/bindingdb_ki_d_t_aff_smiles_split-2.csv', index=False)"
   ],
   "metadata": {
    "collapsed": false
   },
   "id": "8dfd24ce18bad83",
   "outputs": [],
   "execution_count": null
  },
  {
   "cell_type": "code",
   "source": [
    "data_ki_aff_split.split.value_counts()"
   ],
   "metadata": {
    "collapsed": false
   },
   "id": "cfde80a997265ba9",
   "outputs": [],
   "execution_count": null
  }
 ],
 "metadata": {
  "kernelspec": {
   "display_name": "Python 3 (ipykernel)",
   "language": "python",
   "name": "python3"
  },
  "language_info": {
   "codemirror_mode": {
    "name": "ipython",
    "version": 3
   },
   "file_extension": ".py",
   "mimetype": "text/x-python",
   "name": "python",
   "nbconvert_exporter": "python",
   "pygments_lexer": "ipython3",
   "version": "3.10.12"
  }
 },
 "nbformat": 4,
 "nbformat_minor": 5
}
