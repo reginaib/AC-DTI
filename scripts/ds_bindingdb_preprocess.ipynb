{
 "cells": [
  {
   "cell_type": "code",
   "id": "1d4865ff-c4e3-48f0-9309-21babe4576e3",
   "metadata": {
    "ExecuteTime": {
     "end_time": "2024-09-06T16:53:28.191279Z",
     "start_time": "2024-09-06T16:53:27.736196Z"
    }
   },
   "source": [
    "import pandas as pd\n",
    "from json import load, dump\n",
    "from dataset import process_BindingDB, get_cliffs, random_split_data, compound_based_split\n",
    "\n",
    "import matplotlib.pyplot as plt\n",
    "import seaborn as sns"
   ],
   "outputs": [],
   "execution_count": 1
  },
  {
   "cell_type": "markdown",
   "source": [
    "# Data preprocessing"
   ],
   "metadata": {
    "collapsed": false
   },
   "id": "657fca615e8235d4"
  },
  {
   "cell_type": "code",
   "id": "9f18d9d73f00f90c",
   "metadata": {
    "collapsed": false
   },
   "source": [
    "df = pd.read_csv('/mnt/data/BindingDB_All.tsv', sep = '\\t', on_bad_lines='skip')\n",
    "df.head()"
   ],
   "execution_count": null,
   "outputs": []
  },
  {
   "cell_type": "code",
   "id": "b70c5206ea55dcf2",
   "metadata": {
    "collapsed": false
   },
   "source": [
    "X_drug, X_SMILES, X_target, y = process_BindingDB('../data/BindingDB_All.tsv',\n",
    "                                         y = 'Ki',\n",
    "                                         binary = False,\n",
    "                                         convert_to_log = True)"
   ],
   "execution_count": null,
   "outputs": []
  },
  {
   "cell_type": "code",
   "id": "9ce8e806-abae-4413-ae23-d8de4cf85910",
   "metadata": {},
   "source": [
    "bindingdb_d_t_ki = pd.DataFrame({'drug': X_drug, 'SMILES': X_SMILES, 'target': X_target, 'Ki': y})"
   ],
   "execution_count": null,
   "outputs": []
  },
  {
   "cell_type": "code",
   "id": "3a5068d3-4ca3-4e41-89f3-9f2e77e39058",
   "metadata": {},
   "source": [
    "bindingdb_d_t_ki.to_csv('../analysis/bindingdb_d_t_ki.csv', index=False)"
   ],
   "execution_count": null,
   "outputs": []
  },
  {
   "cell_type": "code",
   "source": [
    "data_ki= pd.read_csv('../analysis/bindingdb_d_t_ki.csv')"
   ],
   "metadata": {
    "collapsed": false
   },
   "id": "e4f678ae7a3cf71e",
   "execution_count": null,
   "outputs": []
  },
  {
   "cell_type": "code",
   "source": [
    "data_ki.columns = 'drug', 'SMILES', 'target', 'affinity'"
   ],
   "metadata": {
    "collapsed": false
   },
   "id": "2130e0be866e1a67",
   "execution_count": null,
   "outputs": []
  },
  {
   "metadata": {},
   "cell_type": "code",
   "source": [
    "plt.figure(figsize=(10, 6))\n",
    "sns.histplot(data_ki['affinity'], bins=50, kde=True)\n",
    "plt.title('Distribution of affinity values')\n",
    "plt.xlabel('log(Ki)')\n",
    "plt.ylabel('Frequency')\n",
    "plt.show()"
   ],
   "id": "f5bd98256b2e53b9",
   "execution_count": null,
   "outputs": []
  },
  {
   "metadata": {},
   "cell_type": "markdown",
   "source": "# Random split",
   "id": "81dbbb0acbbdd7b5"
  },
  {
   "metadata": {},
   "cell_type": "markdown",
   "source": "## DDC",
   "id": "c44b1294f070308f"
  },
  {
   "cell_type": "code",
   "source": [
    "cliff_pairs = get_cliffs(data_ki, threshold_affinity=1, threshold_similarity=0.9)"
   ],
   "metadata": {
    "collapsed": false
   },
   "id": "acd7a227e310819",
   "execution_count": null,
   "outputs": []
  },
  {
   "cell_type": "code",
   "source": [
    "cliff_pairs"
   ],
   "metadata": {
    "collapsed": false
   },
   "id": "cd363b0c6a6b9e20",
   "execution_count": null,
   "outputs": []
  },
  {
   "cell_type": "code",
   "source": [
    "cliff_pairs_no_dup = cliff_pairs.drop_duplicates()"
   ],
   "metadata": {
    "collapsed": false
   },
   "id": "3f6793dd95cd9df8",
   "execution_count": null,
   "outputs": []
  },
  {
   "cell_type": "code",
   "source": [
    "cliff_pairs.shape"
   ],
   "metadata": {
    "collapsed": false
   },
   "id": "91997c5c5f2ef131",
   "execution_count": null,
   "outputs": []
  },
  {
   "cell_type": "code",
   "source": [
    "cliff_pairs_no_dup.shape"
   ],
   "metadata": {
    "collapsed": false
   },
   "id": "4088f1ca6e2b42ac",
   "execution_count": null,
   "outputs": []
  },
  {
   "cell_type": "code",
   "source": [
    "#cliff_pairs_no_dup.to_csv('../analysis/bindindb_ki_cliff_pairs_ta1_ts0.9.csv', index=False)"
   ],
   "metadata": {
    "collapsed": false
   },
   "id": "9c0186d3a83710c9",
   "execution_count": null,
   "outputs": []
  },
  {
   "cell_type": "code",
   "source": [
    "cliff_pairs_no_dup =  pd.read_csv('../analysis/bindindb_ki_cliff_pairs_ta1_ts0.9.csv')"
   ],
   "metadata": {
    "collapsed": false
   },
   "id": "3155c3b4eba23ffe",
   "execution_count": null,
   "outputs": []
  },
  {
   "cell_type": "code",
   "source": [
    "cliff_pairs_no_dup.shape"
   ],
   "metadata": {
    "collapsed": false
   },
   "id": "3a9bc0bb48e0638f",
   "execution_count": null,
   "outputs": []
  },
  {
   "cell_type": "code",
   "source": [
    "target_ids = {t:i for i, t in enumerate(set(cliff_pairs_no_dup.target))}\n",
    "dump(target_ids, open('../analysis/target_mapping_bdb.json', 'w'))"
   ],
   "metadata": {
    "collapsed": false
   },
   "id": "d1ed4be4a752354a",
   "execution_count": null,
   "outputs": []
  },
  {
   "cell_type": "code",
   "source": [
    "target_ids = load(open('../analysis/target_mapping_bdb.json'))\n",
    "cliff_pairs_no_dup.loc[:, 'target'] = cliff_pairs_no_dup['target'].apply(target_ids.__getitem__)"
   ],
   "metadata": {
    "collapsed": false
   },
   "id": "2666d8957971e3e4",
   "execution_count": null,
   "outputs": []
  },
  {
   "cell_type": "code",
   "source": [
    "cliff_pairs_split_random = random_split_data(cliff_pairs_no_dup)\n",
    "cliff_pairs_split_random.to_csv('../analysis/bindingdb_ki_cliff_pairs_ta1_ts0.9_r_wt.csv', index=False)"
   ],
   "metadata": {
    "collapsed": false
   },
   "id": "6f896bcf2e839553",
   "execution_count": null,
   "outputs": []
  },
  {
   "cell_type": "code",
   "source": [
    "cliff_pairs_split_random['cliff'].value_counts()"
   ],
   "metadata": {
    "collapsed": false
   },
   "id": "d816af0357d81d7d",
   "execution_count": null,
   "outputs": []
  },
  {
   "cell_type": "markdown",
   "source": "## DTI ",
   "metadata": {
    "collapsed": false
   },
   "id": "e74864a6fa3b4de0"
  },
  {
   "cell_type": "code",
   "source": [
    "data_ki= pd.read_csv('../analysis/bindingdb_d_t_ki.csv')"
   ],
   "metadata": {
    "collapsed": false,
    "ExecuteTime": {
     "end_time": "2024-09-06T16:53:30.675326Z",
     "start_time": "2024-09-06T16:53:30.493298Z"
    }
   },
   "id": "becbe8426f2e1c66",
   "outputs": [],
   "execution_count": 2
  },
  {
   "metadata": {
    "ExecuteTime": {
     "end_time": "2024-09-06T16:53:31.959269Z",
     "start_time": "2024-09-06T16:53:31.948589Z"
    }
   },
   "cell_type": "code",
   "source": "data_ki.head()",
   "id": "a45ced7298404093",
   "outputs": [
    {
     "data": {
      "text/plain": [
       "                                                drug  \\\n",
       "0  (4R,5S,6S,7R)-4,7-dibenzyl-5,6-dihydroxy-1,3-b...   \n",
       "1  (4R,5S,6S,7R)-4,7-dibenzyl-1-(cyclopropylmethy...   \n",
       "2  (4R,5S,6S,7R)-4,7-dibenzyl-1-(cyclopropylmethy...   \n",
       "3  (4R,5S,6S,7R)-4,7-dibenzyl-1-(cyclopropylmethy...   \n",
       "4  (4R,5S,6S,7R)-4,7-dibenzyl-1-butyl-3-(cyclopro...   \n",
       "\n",
       "                                              SMILES  \\\n",
       "0  O[C@@H]1[C@@H](O)[C@@H](Cc2ccccc2)N(C\\C=C\\c2cn...   \n",
       "1  O[C@@H]1[C@@H](O)[C@@H](Cc2ccccc2)N(CC2CC2)C(=...   \n",
       "2  OCCCCCCN1[C@H](Cc2ccccc2)[C@H](O)[C@@H](O)[C@@...   \n",
       "3  OCCCCCN1[C@H](Cc2ccccc2)[C@H](O)[C@@H](O)[C@@H...   \n",
       "4  CCCCN1[C@H](Cc2ccccc2)[C@H](O)[C@@H](O)[C@@H](...   \n",
       "\n",
       "                                   target        Ki  \n",
       "0  Dimer of Gag-Pol polyprotein [501-599]  9.602060  \n",
       "1  Dimer of Gag-Pol polyprotein [501-599]  9.387216  \n",
       "2  Dimer of Gag-Pol polyprotein [501-599]  9.096910  \n",
       "3  Dimer of Gag-Pol polyprotein [501-599]  9.004365  \n",
       "4  Dimer of Gag-Pol polyprotein [501-599]  8.958607  "
      ],
      "text/html": [
       "<div>\n",
       "<style scoped>\n",
       "    .dataframe tbody tr th:only-of-type {\n",
       "        vertical-align: middle;\n",
       "    }\n",
       "\n",
       "    .dataframe tbody tr th {\n",
       "        vertical-align: top;\n",
       "    }\n",
       "\n",
       "    .dataframe thead th {\n",
       "        text-align: right;\n",
       "    }\n",
       "</style>\n",
       "<table border=\"1\" class=\"dataframe\">\n",
       "  <thead>\n",
       "    <tr style=\"text-align: right;\">\n",
       "      <th></th>\n",
       "      <th>drug</th>\n",
       "      <th>SMILES</th>\n",
       "      <th>target</th>\n",
       "      <th>Ki</th>\n",
       "    </tr>\n",
       "  </thead>\n",
       "  <tbody>\n",
       "    <tr>\n",
       "      <th>0</th>\n",
       "      <td>(4R,5S,6S,7R)-4,7-dibenzyl-5,6-dihydroxy-1,3-b...</td>\n",
       "      <td>O[C@@H]1[C@@H](O)[C@@H](Cc2ccccc2)N(C\\C=C\\c2cn...</td>\n",
       "      <td>Dimer of Gag-Pol polyprotein [501-599]</td>\n",
       "      <td>9.602060</td>\n",
       "    </tr>\n",
       "    <tr>\n",
       "      <th>1</th>\n",
       "      <td>(4R,5S,6S,7R)-4,7-dibenzyl-1-(cyclopropylmethy...</td>\n",
       "      <td>O[C@@H]1[C@@H](O)[C@@H](Cc2ccccc2)N(CC2CC2)C(=...</td>\n",
       "      <td>Dimer of Gag-Pol polyprotein [501-599]</td>\n",
       "      <td>9.387216</td>\n",
       "    </tr>\n",
       "    <tr>\n",
       "      <th>2</th>\n",
       "      <td>(4R,5S,6S,7R)-4,7-dibenzyl-1-(cyclopropylmethy...</td>\n",
       "      <td>OCCCCCCN1[C@H](Cc2ccccc2)[C@H](O)[C@@H](O)[C@@...</td>\n",
       "      <td>Dimer of Gag-Pol polyprotein [501-599]</td>\n",
       "      <td>9.096910</td>\n",
       "    </tr>\n",
       "    <tr>\n",
       "      <th>3</th>\n",
       "      <td>(4R,5S,6S,7R)-4,7-dibenzyl-1-(cyclopropylmethy...</td>\n",
       "      <td>OCCCCCN1[C@H](Cc2ccccc2)[C@H](O)[C@@H](O)[C@@H...</td>\n",
       "      <td>Dimer of Gag-Pol polyprotein [501-599]</td>\n",
       "      <td>9.004365</td>\n",
       "    </tr>\n",
       "    <tr>\n",
       "      <th>4</th>\n",
       "      <td>(4R,5S,6S,7R)-4,7-dibenzyl-1-butyl-3-(cyclopro...</td>\n",
       "      <td>CCCCN1[C@H](Cc2ccccc2)[C@H](O)[C@@H](O)[C@@H](...</td>\n",
       "      <td>Dimer of Gag-Pol polyprotein [501-599]</td>\n",
       "      <td>8.958607</td>\n",
       "    </tr>\n",
       "  </tbody>\n",
       "</table>\n",
       "</div>"
      ]
     },
     "execution_count": 3,
     "metadata": {},
     "output_type": "execute_result"
    }
   ],
   "execution_count": 3
  },
  {
   "metadata": {},
   "cell_type": "code",
   "source": "data_ki = data_ki.rename(columns={'Ki': 'affinity'})",
   "id": "4e2ed123c583868",
   "execution_count": null,
   "outputs": []
  },
  {
   "cell_type": "code",
   "source": [
    "plt.hist(data_ki['affinity'])\n",
    "plt.show()"
   ],
   "metadata": {
    "collapsed": false
   },
   "id": "64352f49bd3cbb29",
   "execution_count": null,
   "outputs": []
  },
  {
   "cell_type": "code",
   "source": [
    "data_ki.head()"
   ],
   "metadata": {
    "collapsed": false
   },
   "id": "19b3de9d26297f5a",
   "execution_count": null,
   "outputs": []
  },
  {
   "cell_type": "code",
   "source": [
    "with open('../analysis/target_mapping_bdb.json', 'r') as f:\n",
    "    target_ids = load(f)\n",
    "\n",
    "# Get the highest current ID to ensure new IDs are unique\n",
    "current_max_id = max(target_ids.values())\n",
    "\n",
    "# Function to get or create target ID\n",
    "def get_or_create_target_id(target):\n",
    "    global current_max_id\n",
    "    if target in target_ids:\n",
    "        return target_ids[target]\n",
    "    else:\n",
    "        current_max_id += 1\n",
    "        target_ids[target] = current_max_id\n",
    "        return current_max_id"
   ],
   "metadata": {
    "collapsed": false
   },
   "id": "1473ae5369f35199",
   "execution_count": null,
   "outputs": []
  },
  {
   "cell_type": "code",
   "source": "data_ki['target'] = data_ki['target'].apply(get_or_create_target_id)",
   "metadata": {
    "collapsed": false
   },
   "id": "3e12edf85297c731",
   "execution_count": null,
   "outputs": []
  },
  {
   "cell_type": "code",
   "source": [
    "data_ki['target'].nunique()"
   ],
   "metadata": {
    "collapsed": false
   },
   "id": "9ec4dc9f0fa0993a",
   "execution_count": null,
   "outputs": []
  },
  {
   "cell_type": "code",
   "source": "data_ki_aff_split = random_split_data(data_ki)",
   "metadata": {
    "collapsed": false
   },
   "id": "4ab1f011b440f6b",
   "execution_count": null,
   "outputs": []
  },
  {
   "cell_type": "code",
   "source": [
    "data_ki_aff_split"
   ],
   "metadata": {
    "collapsed": false
   },
   "id": "ad6a5543b58710fb",
   "execution_count": null,
   "outputs": []
  },
  {
   "cell_type": "code",
   "source": "data_ki_aff_split.to_csv('../analysis/bdb_dti_r_split.csv', index=False)",
   "metadata": {
    "collapsed": false,
    "ExecuteTime": {
     "end_time": "2024-09-06T16:58:25.954231Z",
     "start_time": "2024-09-06T16:58:25.519292Z"
    }
   },
   "id": "8dfd24ce18bad83",
   "outputs": [],
   "execution_count": 18
  },
  {
   "metadata": {
    "ExecuteTime": {
     "end_time": "2024-09-06T16:56:27.100190Z",
     "start_time": "2024-09-06T16:56:26.934844Z"
    }
   },
   "cell_type": "code",
   "source": "data_ki_aff_split = pd.read_csv('../analysis/bdb_dti_r_split.csv.csv')",
   "id": "13108b095fc2e21b",
   "outputs": [],
   "execution_count": 15
  },
  {
   "metadata": {
    "ExecuteTime": {
     "end_time": "2024-09-06T16:56:20.152180Z",
     "start_time": "2024-09-06T16:56:20.144167Z"
    }
   },
   "cell_type": "code",
   "source": "data_ki_aff_split = data_ki_aff_split.rename(columns={'smiles': 'SMILES'})",
   "id": "5583d43726272e57",
   "outputs": [],
   "execution_count": 12
  },
  {
   "metadata": {
    "ExecuteTime": {
     "end_time": "2024-09-06T16:56:28.629125Z",
     "start_time": "2024-09-06T16:56:28.623681Z"
    }
   },
   "cell_type": "code",
   "source": "data_ki_aff_split.head()",
   "id": "b77255e21f1705cf",
   "outputs": [
    {
     "data": {
      "text/plain": [
       "                                                drug  \\\n",
       "0  (risperidone)3-{2-[4-(6-Fluoro-benzo[d]isoxazo...   \n",
       "1  4-Amino-3-fluorobenzenesulfonamide::4-amino-3-...   \n",
       "2  5-(4-chloro-3-methylphenyl)-1-[(4-methylphenyl...   \n",
       "3  2-{[(2-chlorophenyl)methyl](3,5-dichloro-2-hyd...   \n",
       "4  AcNH-4-NO2-Phe-c[D-Cys-Tyr-D-Trp-Lys-Thr-Cys]-...   \n",
       "\n",
       "                                              SMILES  target  affinity  split  \n",
       "0    Cc1nc2CCCCn2c(=O)c1CCN1CCC(CC1)c1noc2cc(F)ccc12     620  9.522879      0  \n",
       "1                             Nc1ccc(cc1F)S(N)(=O)=O     182  7.221849      0  \n",
       "2  Cc1ccc(Cn2nc(cc2-c2ccc(Cl)c(C)c2)C(=O)NC2[C@@]...     821  5.000000      0  \n",
       "3  CC(N(Cc1ccccc1Cl)S(=O)(=O)c1cc(Cl)cc(Cl)c1O)C(...      89  5.619789      0  \n",
       "4  CC(C)[C@H]1NC(=O)[C@H](CCCCN)NC(=O)[C@@H](Cc2c...     332  7.000000      0  "
      ],
      "text/html": [
       "<div>\n",
       "<style scoped>\n",
       "    .dataframe tbody tr th:only-of-type {\n",
       "        vertical-align: middle;\n",
       "    }\n",
       "\n",
       "    .dataframe tbody tr th {\n",
       "        vertical-align: top;\n",
       "    }\n",
       "\n",
       "    .dataframe thead th {\n",
       "        text-align: right;\n",
       "    }\n",
       "</style>\n",
       "<table border=\"1\" class=\"dataframe\">\n",
       "  <thead>\n",
       "    <tr style=\"text-align: right;\">\n",
       "      <th></th>\n",
       "      <th>drug</th>\n",
       "      <th>SMILES</th>\n",
       "      <th>target</th>\n",
       "      <th>affinity</th>\n",
       "      <th>split</th>\n",
       "    </tr>\n",
       "  </thead>\n",
       "  <tbody>\n",
       "    <tr>\n",
       "      <th>0</th>\n",
       "      <td>(risperidone)3-{2-[4-(6-Fluoro-benzo[d]isoxazo...</td>\n",
       "      <td>Cc1nc2CCCCn2c(=O)c1CCN1CCC(CC1)c1noc2cc(F)ccc12</td>\n",
       "      <td>620</td>\n",
       "      <td>9.522879</td>\n",
       "      <td>0</td>\n",
       "    </tr>\n",
       "    <tr>\n",
       "      <th>1</th>\n",
       "      <td>4-Amino-3-fluorobenzenesulfonamide::4-amino-3-...</td>\n",
       "      <td>Nc1ccc(cc1F)S(N)(=O)=O</td>\n",
       "      <td>182</td>\n",
       "      <td>7.221849</td>\n",
       "      <td>0</td>\n",
       "    </tr>\n",
       "    <tr>\n",
       "      <th>2</th>\n",
       "      <td>5-(4-chloro-3-methylphenyl)-1-[(4-methylphenyl...</td>\n",
       "      <td>Cc1ccc(Cn2nc(cc2-c2ccc(Cl)c(C)c2)C(=O)NC2[C@@]...</td>\n",
       "      <td>821</td>\n",
       "      <td>5.000000</td>\n",
       "      <td>0</td>\n",
       "    </tr>\n",
       "    <tr>\n",
       "      <th>3</th>\n",
       "      <td>2-{[(2-chlorophenyl)methyl](3,5-dichloro-2-hyd...</td>\n",
       "      <td>CC(N(Cc1ccccc1Cl)S(=O)(=O)c1cc(Cl)cc(Cl)c1O)C(...</td>\n",
       "      <td>89</td>\n",
       "      <td>5.619789</td>\n",
       "      <td>0</td>\n",
       "    </tr>\n",
       "    <tr>\n",
       "      <th>4</th>\n",
       "      <td>AcNH-4-NO2-Phe-c[D-Cys-Tyr-D-Trp-Lys-Thr-Cys]-...</td>\n",
       "      <td>CC(C)[C@H]1NC(=O)[C@H](CCCCN)NC(=O)[C@@H](Cc2c...</td>\n",
       "      <td>332</td>\n",
       "      <td>7.000000</td>\n",
       "      <td>0</td>\n",
       "    </tr>\n",
       "  </tbody>\n",
       "</table>\n",
       "</div>"
      ]
     },
     "execution_count": 16,
     "metadata": {},
     "output_type": "execute_result"
    }
   ],
   "execution_count": 16
  },
  {
   "metadata": {},
   "cell_type": "markdown",
   "source": "# Compound-based split",
   "id": "ffd85d6fea6673e4"
  },
  {
   "metadata": {},
   "cell_type": "code",
   "source": "data_ki = pd.read_csv('../analysis/bindingdb_d_t_ki.csv')",
   "id": "31844fd38a9558b",
   "execution_count": null,
   "outputs": []
  },
  {
   "metadata": {},
   "cell_type": "code",
   "source": "data_ki = data_ki.rename(columns={'Ki': 'affinity'})",
   "id": "419b137d7a7d9cc4",
   "execution_count": null,
   "outputs": []
  },
  {
   "metadata": {},
   "cell_type": "code",
   "source": "data_ki = data_ki.drop_duplicates()",
   "id": "8808089b3c182612",
   "execution_count": null,
   "outputs": []
  },
  {
   "metadata": {},
   "cell_type": "code",
   "source": [
    "target_ids = {t:i for i, t in enumerate(set(data_ki.target))}\n",
    "dump(target_ids, open('../analysis/target_mapping_bdb.json', 'w'))"
   ],
   "id": "ec90e8d655b863f6",
   "execution_count": null,
   "outputs": []
  },
  {
   "metadata": {},
   "cell_type": "code",
   "source": [
    "target_ids = load(open('../analysis/target_mapping_bdb.json'))\n",
    "data_ki.loc[:, 'target'] = data_ki['target'].apply(target_ids.__getitem__)"
   ],
   "id": "6539231f0d2e891",
   "execution_count": null,
   "outputs": []
  },
  {
   "metadata": {},
   "cell_type": "markdown",
   "source": "## DTI",
   "id": "4955f6f346257ab1"
  },
  {
   "metadata": {},
   "cell_type": "code",
   "source": "bdb_drug_split = compound_based_split(data_ki)",
   "id": "f16b0870f6b5ac7e",
   "execution_count": null,
   "outputs": []
  },
  {
   "metadata": {},
   "cell_type": "code",
   "source": "bdb_drug_split.to_csv('../analysis/bdb_dti_cb_split.csv', index=False)",
   "id": "3fcf6664a1ad24e1",
   "execution_count": null,
   "outputs": []
  },
  {
   "metadata": {},
   "cell_type": "code",
   "source": "bdb_drug_split.head()",
   "id": "30378c50766d3874",
   "execution_count": null,
   "outputs": []
  },
  {
   "metadata": {},
   "cell_type": "code",
   "source": [
    "train = bdb_drug_split[bdb_drug_split['split'] == 0]\n",
    "validation = bdb_drug_split[bdb_drug_split['split'] == 1]\n",
    "test = bdb_drug_split[bdb_drug_split['split'] == 2]"
   ],
   "id": "cf67e325d5473654",
   "execution_count": null,
   "outputs": []
  },
  {
   "metadata": {},
   "cell_type": "code",
   "source": [
    "# Check if there is an overlap\n",
    "# Extract unique values from the 'drug' column for each dataset\n",
    "train_drugs = set(train['drug'].unique())\n",
    "validation_drugs = set(validation['drug'].unique())\n",
    "test_drugs = set(test['drug'].unique())\n",
    "\n",
    "# Find intersections to check for overlaps\n",
    "train_validation_overlap = train_drugs.intersection(validation_drugs)\n",
    "train_test_overlap = train_drugs.intersection(test_drugs)\n",
    "validation_test_overlap = validation_drugs.intersection(test_drugs)\n",
    "\n",
    "# Check and print if there are overlaps\n",
    "if train_validation_overlap:\n",
    "    print(\"There are overlaps between train and validation datasets.\")\n",
    "    print(\"Overlapping drugs:\", train_validation_overlap)\n",
    "else:\n",
    "    print(\"No overlaps between train and validation datasets.\")\n",
    "\n",
    "if train_test_overlap:\n",
    "    print(\"There are overlaps between train and test datasets.\")\n",
    "    print(\"Overlapping drugs:\", train_test_overlap)\n",
    "else:\n",
    "    print(\"No overlaps between train and test datasets.\")\n",
    "\n",
    "if validation_test_overlap:\n",
    "    print(\"There are overlaps between validation and test datasets.\")\n",
    "    print(\"Overlapping drugs:\", validation_test_overlap)\n",
    "else:\n",
    "    print(\"No overlaps between validation and test datasets.\")"
   ],
   "id": "c746961fe82d9bbe",
   "execution_count": null,
   "outputs": []
  },
  {
   "metadata": {},
   "cell_type": "markdown",
   "source": [
    "\n",
    "## DDC"
   ],
   "id": "d5e63013507983e0"
  },
  {
   "metadata": {},
   "cell_type": "code",
   "source": [
    "cliff_pairs_tr = get_cliffs(train, threshold_affinity=1, threshold_similarity=0.9)\n",
    "cliff_pairs_val = get_cliffs(validation, threshold_affinity=1, threshold_similarity=0.9)\n",
    "cliff_pairs_test = get_cliffs(test, threshold_affinity=1, threshold_similarity=0.9)"
   ],
   "id": "82cfed6515b49318",
   "execution_count": null,
   "outputs": []
  },
  {
   "metadata": {},
   "cell_type": "code",
   "source": [
    "cliff_pairs_tr['split'] = 0\n",
    "cliff_pairs_val['split'] = 1\n",
    "cliff_pairs_test['split'] = 2\n",
    "\n",
    "cliff_pairs_all = pd.concat([cliff_pairs_tr, cliff_pairs_val,cliff_pairs_test], axis=0)"
   ],
   "id": "a063360b210b8e4b",
   "execution_count": null,
   "outputs": []
  },
  {
   "metadata": {},
   "cell_type": "code",
   "source": "cliff_pairs_all.to_csv('../analysis/bdb_ddc_cb_ta1_ts0.9.csv', index=False)",
   "id": "c474f4b4721b39fd",
   "execution_count": null,
   "outputs": []
  }
 ],
 "metadata": {
  "kernelspec": {
   "display_name": "Python 3 (ipykernel)",
   "language": "python",
   "name": "python3"
  },
  "language_info": {
   "codemirror_mode": {
    "name": "ipython",
    "version": 3
   },
   "file_extension": ".py",
   "mimetype": "text/x-python",
   "name": "python",
   "nbconvert_exporter": "python",
   "pygments_lexer": "ipython3",
   "version": "3.10.12"
  }
 },
 "nbformat": 4,
 "nbformat_minor": 5
}
