{
 "cells": [
  {
   "cell_type": "code",
   "execution_count": null,
   "id": "1d4865ff-c4e3-48f0-9309-21babe4576e3",
   "metadata": {},
   "outputs": [],
   "source": [
    "import pandas as pd\n",
    "from json import load, dump\n",
    "from dataset import process_BindingDB, get_cliffs, split_data\n",
    "\n",
    "import matplotlib.pyplot as plt\n",
    "import seaborn as sns"
   ]
  },
  {
   "cell_type": "markdown",
   "source": [
    "# Data preprocessing"
   ],
   "metadata": {
    "collapsed": false
   },
   "id": "657fca615e8235d4"
  },
  {
   "cell_type": "code",
   "execution_count": null,
   "id": "9f18d9d73f00f90c",
   "metadata": {
    "collapsed": false
   },
   "outputs": [],
   "source": [
    "df = pd.read_csv('/mnt/data/BindingDB_All.tsv', sep = '\\t', on_bad_lines='skip')\n",
    "df.head()"
   ]
  },
  {
   "cell_type": "code",
   "execution_count": null,
   "id": "b70c5206ea55dcf2",
   "metadata": {
    "collapsed": false
   },
   "outputs": [],
   "source": [
    "X_drug, X_SMILES, X_target, y = process_BindingDB('/mnt/data/BindingDB_All.tsv',\n",
    "                                         y = 'Ki', \n",
    "                                         binary = False, \n",
    "                                         convert_to_log = True)"
   ]
  },
  {
   "cell_type": "code",
   "execution_count": null,
   "id": "9ce8e806-abae-4413-ae23-d8de4cf85910",
   "metadata": {},
   "outputs": [],
   "source": [
    "bindingdb_d_t_ki = pd.DataFrame({'drug': X_drug, 'SMILES': X_SMILES, 'target': X_target, 'Ki': y})"
   ]
  },
  {
   "cell_type": "code",
   "execution_count": null,
   "id": "3a5068d3-4ca3-4e41-89f3-9f2e77e39058",
   "metadata": {},
   "outputs": [],
   "source": [
    "bindingdb_d_t_ki.to_csv('../analysis/bindingdb_d_t_ki.csv', index=False)"
   ]
  },
  {
   "cell_type": "code",
   "execution_count": null,
   "outputs": [],
   "source": [
    "data_ki= pd.read_csv('../analysis/bindingdb_d_t_ki.csv')"
   ],
   "metadata": {
    "collapsed": false
   },
   "id": "e4f678ae7a3cf71e"
  },
  {
   "cell_type": "code",
   "execution_count": null,
   "outputs": [],
   "source": [
    "data_ki.head()"
   ],
   "metadata": {
    "collapsed": false
   },
   "id": "1c7c83db45933305"
  },
  {
   "cell_type": "code",
   "execution_count": null,
   "outputs": [],
   "source": [
    "data_ki.columns = 'drug', 'SMILES', 'target', 'affinity'"
   ],
   "metadata": {
    "collapsed": false
   },
   "id": "2130e0be866e1a67"
  },
  {
   "cell_type": "code",
   "execution_count": null,
   "outputs": [],
   "source": [
    "data_ki.head()"
   ],
   "metadata": {
    "collapsed": false
   },
   "id": "216de65db679a737"
  },
  {
   "cell_type": "code",
   "execution_count": null,
   "outputs": [],
   "source": [
    "cliff_pairs = get_cliffs(data_ki, threshold_affinity=1, threshold_similarity=0.9)"
   ],
   "metadata": {
    "collapsed": false
   },
   "id": "acd7a227e310819"
  },
  {
   "cell_type": "code",
   "execution_count": null,
   "outputs": [],
   "source": [
    "cliff_pairs"
   ],
   "metadata": {
    "collapsed": false
   },
   "id": "cd363b0c6a6b9e20"
  },
  {
   "cell_type": "code",
   "execution_count": null,
   "outputs": [],
   "source": [
    "cliff_pairs_no_dup = cliff_pairs.drop_duplicates()"
   ],
   "metadata": {
    "collapsed": false
   },
   "id": "3f6793dd95cd9df8"
  },
  {
   "cell_type": "code",
   "execution_count": null,
   "outputs": [],
   "source": [
    "cliff_pairs.shape"
   ],
   "metadata": {
    "collapsed": false
   },
   "id": "91997c5c5f2ef131"
  },
  {
   "cell_type": "code",
   "execution_count": null,
   "outputs": [],
   "source": [
    "cliff_pairs_no_dup.shape"
   ],
   "metadata": {
    "collapsed": false
   },
   "id": "4088f1ca6e2b42ac"
  },
  {
   "cell_type": "code",
   "execution_count": null,
   "outputs": [],
   "source": [
    "#cliff_pairs_no_dup.to_csv('../analysis/bindindb_ki_cliff_pairs_ta1_ts0.9.csv', index=False)"
   ],
   "metadata": {
    "collapsed": false
   },
   "id": "9c0186d3a83710c9"
  },
  {
   "cell_type": "markdown",
   "source": [
    "# EDA"
   ],
   "metadata": {
    "collapsed": false
   },
   "id": "1f6a611fc3240404"
  },
  {
   "cell_type": "code",
   "execution_count": 96,
   "outputs": [],
   "source": [
    "target_counts = pd.DataFrame(cliff_pairs_no_dup['target'].value_counts())"
   ],
   "metadata": {
    "collapsed": false,
    "ExecuteTime": {
     "end_time": "2024-04-22T20:02:33.034140100Z",
     "start_time": "2024-04-22T20:02:32.923359200Z"
    }
   },
   "id": "9bcb5cbfab9e0609"
  },
  {
   "cell_type": "code",
   "execution_count": 97,
   "outputs": [
    {
     "data": {
      "text/plain": "                                                 count\ntarget                                                \nApoptosis regulator Bcl-2                        58274\nArachidonate 5-lipoxygenase-activating protein   10667\nBcl-2-like protein 1                              8769\nD(2) dopamine receptor                            8099\n5-hydroxytryptamine receptor 2A                   7887\n...                                                ...\n3-dehydroquinate synthase                            1\nGlycine amidinotransferase, mitochondrial            1\nNeuronal acetylcholine receptor subunit alpha-9      1\nUracil-DNA glycosylase                               1\nBeta-lactamase CTX-M-1                               1\n\n[676 rows x 1 columns]",
      "text/html": "<div>\n<style scoped>\n    .dataframe tbody tr th:only-of-type {\n        vertical-align: middle;\n    }\n\n    .dataframe tbody tr th {\n        vertical-align: top;\n    }\n\n    .dataframe thead th {\n        text-align: right;\n    }\n</style>\n<table border=\"1\" class=\"dataframe\">\n  <thead>\n    <tr style=\"text-align: right;\">\n      <th></th>\n      <th>count</th>\n    </tr>\n    <tr>\n      <th>target</th>\n      <th></th>\n    </tr>\n  </thead>\n  <tbody>\n    <tr>\n      <th>Apoptosis regulator Bcl-2</th>\n      <td>58274</td>\n    </tr>\n    <tr>\n      <th>Arachidonate 5-lipoxygenase-activating protein</th>\n      <td>10667</td>\n    </tr>\n    <tr>\n      <th>Bcl-2-like protein 1</th>\n      <td>8769</td>\n    </tr>\n    <tr>\n      <th>D(2) dopamine receptor</th>\n      <td>8099</td>\n    </tr>\n    <tr>\n      <th>5-hydroxytryptamine receptor 2A</th>\n      <td>7887</td>\n    </tr>\n    <tr>\n      <th>...</th>\n      <td>...</td>\n    </tr>\n    <tr>\n      <th>3-dehydroquinate synthase</th>\n      <td>1</td>\n    </tr>\n    <tr>\n      <th>Glycine amidinotransferase, mitochondrial</th>\n      <td>1</td>\n    </tr>\n    <tr>\n      <th>Neuronal acetylcholine receptor subunit alpha-9</th>\n      <td>1</td>\n    </tr>\n    <tr>\n      <th>Uracil-DNA glycosylase</th>\n      <td>1</td>\n    </tr>\n    <tr>\n      <th>Beta-lactamase CTX-M-1</th>\n      <td>1</td>\n    </tr>\n  </tbody>\n</table>\n<p>676 rows × 1 columns</p>\n</div>"
     },
     "execution_count": 97,
     "metadata": {},
     "output_type": "execute_result"
    }
   ],
   "source": [
    "target_counts"
   ],
   "metadata": {
    "collapsed": false,
    "ExecuteTime": {
     "end_time": "2024-04-22T20:02:34.753265700Z",
     "start_time": "2024-04-22T20:02:34.405530Z"
    }
   },
   "id": "4a68b02c0078ed3c"
  },
  {
   "cell_type": "code",
   "execution_count": 94,
   "outputs": [
    {
     "data": {
      "text/plain": "<Figure size 640x480 with 1 Axes>",
      "image/png": "[encoded data removed]"
     },
     "metadata": {},
     "output_type": "display_data"
    }
   ],
   "source": [
    "plt.hist(target_counts['counts'], bins=50, log=True)\n",
    "plt.xlabel('Value')  \n",
    "plt.ylabel('Frequency')\n",
    "plt.title('Histogram of Counts on Log Scale')\n",
    "plt.show()"
   ],
   "metadata": {
    "collapsed": false,
    "ExecuteTime": {
     "end_time": "2024-04-22T20:00:31.900210300Z",
     "start_time": "2024-04-22T20:00:29.207800100Z"
    }
   },
   "id": "48bbe0d4c4d3887f"
  },
  {
   "cell_type": "code",
   "execution_count": 91,
   "outputs": [
    {
     "data": {
      "text/plain": "<Axes: xlabel='counts', ylabel='Count'>"
     },
     "execution_count": 91,
     "metadata": {},
     "output_type": "execute_result"
    },
    {
     "data": {
      "text/plain": "<Figure size 640x480 with 1 Axes>",
      "image/png": "[encoded data removed]"
     },
     "metadata": {},
     "output_type": "display_data"
    }
   ],
   "source": [
    "sns.histplot(data = target_counts['counts'], log_scale=True)"
   ],
   "metadata": {
    "collapsed": false,
    "ExecuteTime": {
     "end_time": "2024-04-22T19:57:01.952335600Z",
     "start_time": "2024-04-22T19:56:59.146146500Z"
    }
   },
   "id": "23dbd275a0d353b9"
  },
  {
   "cell_type": "markdown",
   "source": [
    "# Split data for DDC task"
   ],
   "metadata": {
    "collapsed": false
   },
   "id": "1b9cae61e54ee22e"
  },
  {
   "cell_type": "code",
   "execution_count": 48,
   "outputs": [],
   "source": [
    "cliff_pairs_no_dup =  pd.read_csv('../analysis/bindindb_ki_cliff_pairs_ta1_ts0.9.csv')"
   ],
   "metadata": {
    "collapsed": false,
    "ExecuteTime": {
     "end_time": "2024-04-22T19:32:04.430621300Z",
     "start_time": "2024-04-22T19:32:01.372133700Z"
    }
   },
   "id": "3155c3b4eba23ffe"
  },
  {
   "cell_type": "code",
   "execution_count": 49,
   "outputs": [
    {
     "data": {
      "text/plain": "(252803, 6)"
     },
     "execution_count": 49,
     "metadata": {},
     "output_type": "execute_result"
    }
   ],
   "source": [
    "cliff_pairs_no_dup.shape"
   ],
   "metadata": {
    "collapsed": false,
    "ExecuteTime": {
     "end_time": "2024-04-22T19:32:11.757094400Z",
     "start_time": "2024-04-22T19:32:11.701160500Z"
    }
   },
   "id": "3a9bc0bb48e0638f"
  },
  {
   "cell_type": "code",
   "execution_count": null,
   "outputs": [],
   "source": [
    "target_ids = {t:i for i, t in enumerate(set(cliff_pairs_no_dup.target))}\n",
    "dump(target_ids, open('../analysis/target_mapping_bdb.json', 'w'))"
   ],
   "metadata": {
    "collapsed": false
   },
   "id": "d1ed4be4a752354a"
  },
  {
   "cell_type": "code",
   "execution_count": null,
   "outputs": [],
   "source": [
    "target_ids = load(open('../analysis/target_mapping_bdb.json'))\n",
    "cliff_pairs_no_dup.loc[:, 'target'] = cliff_pairs_no_dup['target'].apply(target_ids.__getitem__)"
   ],
   "metadata": {
    "collapsed": false
   },
   "id": "2666d8957971e3e4"
  },
  {
   "cell_type": "code",
   "execution_count": null,
   "outputs": [],
   "source": [
    "cliff_pairs_split_random = split_data(cliff_pairs_no_dup, split='random')\n",
    "cliff_pairs_split_random.to_csv('../analysis/bindingdb_ki_cliff_pairs_ta1_ts0.9_r_wt.csv', index=False)"
   ],
   "metadata": {
    "collapsed": false
   },
   "id": "6f896bcf2e839553"
  },
  {
   "cell_type": "code",
   "execution_count": null,
   "outputs": [],
   "source": [
    "cliff_pairs_split_random['cliff'].value_counts()"
   ],
   "metadata": {
    "collapsed": false
   },
   "id": "d816af0357d81d7d"
  },
  {
   "cell_type": "code",
   "execution_count": null,
   "outputs": [],
   "source": [
    "cliff_pairs_split_cb = split_data(cliff_pairs_no_dup, split='compound-based')\n",
    "cliff_pairs_split_cb.to_csv('../analysis/bindingdb_ki_cliff_pairs_ta1_ts0.9_cb_wt.csv', index=False)"
   ],
   "metadata": {
    "collapsed": false
   },
   "id": "79086637c35847ab"
  },
  {
   "cell_type": "code",
   "execution_count": null,
   "outputs": [],
   "source": [
    "cliff_pairs_split_cb['cliff'].value_counts()"
   ],
   "metadata": {
    "collapsed": false
   },
   "id": "5ac651e787c06e71"
  },
  {
   "cell_type": "code",
   "execution_count": null,
   "outputs": [],
   "source": [
    "cliff_pairs_split_random.head()"
   ],
   "metadata": {
    "collapsed": false
   },
   "id": "f9c0c6f6eeb01087"
  },
  {
   "cell_type": "code",
   "execution_count": null,
   "outputs": [],
   "source": [
    "cliff_pairs_split_cb.head()"
   ],
   "metadata": {
    "collapsed": false
   },
   "id": "21e12fe5a046fe5e"
  },
  {
   "cell_type": "code",
   "execution_count": null,
   "outputs": [],
   "source": [
    "cliff_pairs_split_random = pd.read_csv('../analysis/bindingdb_ki_cliff_pairs_ta1_ts0.9_r_wt.csv')"
   ],
   "metadata": {
    "collapsed": false
   },
   "id": "523372a1ba22903f"
  },
  {
   "cell_type": "code",
   "execution_count": null,
   "outputs": [],
   "source": [
    "cliff_pairs_split_random['target'].nunique()"
   ],
   "metadata": {
    "collapsed": false
   },
   "id": "64749905411c738c"
  },
  {
   "cell_type": "code",
   "execution_count": null,
   "outputs": [],
   "source": [
    "cliff_pairs_split_random"
   ],
   "metadata": {
    "collapsed": false
   },
   "id": "a8773ba5b63bf53c"
  },
  {
   "cell_type": "markdown",
   "source": [
    "# Split data for DTI task"
   ],
   "metadata": {
    "collapsed": false
   },
   "id": "e74864a6fa3b4de0"
  },
  {
   "cell_type": "code",
   "execution_count": null,
   "outputs": [],
   "source": [
    "data_ki= pd.read_csv('../analysis/bindingdb_d_t_ki.csv')"
   ],
   "metadata": {
    "collapsed": false
   },
   "id": "becbe8426f2e1c66"
  },
  {
   "cell_type": "code",
   "execution_count": 46,
   "outputs": [
    {
     "data": {
      "text/plain": "(78628, 6)"
     },
     "execution_count": 46,
     "metadata": {},
     "output_type": "execute_result"
    }
   ],
   "source": [
    "data_ki.shape"
   ],
   "metadata": {
    "collapsed": false,
    "ExecuteTime": {
     "end_time": "2024-04-22T19:31:27.827160300Z",
     "start_time": "2024-04-22T19:31:27.722915700Z"
    }
   },
   "id": "20ee21a3f0cdb8b8"
  },
  {
   "cell_type": "code",
   "execution_count": 45,
   "outputs": [
    {
     "data": {
      "text/plain": "<Figure size 640x480 with 1 Axes>",
      "image/png": "[encoded data removed]"
     },
     "metadata": {},
     "output_type": "display_data"
    }
   ],
   "source": [
    "plt.hist(data_ki['affinity'])\n",
    "plt.show() "
   ],
   "metadata": {
    "collapsed": false,
    "ExecuteTime": {
     "end_time": "2024-04-22T19:30:55.742059Z",
     "start_time": "2024-04-22T19:30:37.078155300Z"
    }
   },
   "id": "64352f49bd3cbb29"
  },
  {
   "cell_type": "code",
   "execution_count": 44,
   "outputs": [
    {
     "data": {
      "text/plain": "                                                drug  \\\n0  (4R,5S,6S,7R)-4,7-dibenzyl-5,6-dihydroxy-1,3-b...   \n1  (4R,5S,6S,7R)-4,7-dibenzyl-1-(cyclopropylmethy...   \n2  (4R,5S,6S,7R)-4,7-dibenzyl-1-(cyclopropylmethy...   \n3  (4R,5S,6S,7R)-4,7-dibenzyl-1-(cyclopropylmethy...   \n4  (4R,5S,6S,7R)-4,7-dibenzyl-1-butyl-3-(cyclopro...   \n\n                                              smiles  target  affinity  \\\n0  O[C@@H]1[C@@H](O)[C@@H](Cc2ccccc2)N(C\\C=C\\c2cn...     529  9.602060   \n1  O[C@@H]1[C@@H](O)[C@@H](Cc2ccccc2)N(CC2CC2)C(=...     529  9.387216   \n2  OCCCCCCN1[C@H](Cc2ccccc2)[C@H](O)[C@@H](O)[C@@...     529  9.096910   \n3  OCCCCCN1[C@H](Cc2ccccc2)[C@H](O)[C@@H](O)[C@@H...     529  9.004365   \n4  CCCCN1[C@H](Cc2ccccc2)[C@H](O)[C@@H](O)[C@@H](...     529  8.958607   \n\n                                               ROMol  valid_smiles  \n0  <rdkit.Chem.rdchem.Mol object at 0x00000209F3F...          True  \n1  <rdkit.Chem.rdchem.Mol object at 0x00000209F3F...          True  \n2  <rdkit.Chem.rdchem.Mol object at 0x00000209F3F...          True  \n3  <rdkit.Chem.rdchem.Mol object at 0x00000209F3F...          True  \n4  <rdkit.Chem.rdchem.Mol object at 0x00000209F3F...          True  ",
      "text/html": "<div>\n<style scoped>\n    .dataframe tbody tr th:only-of-type {\n        vertical-align: middle;\n    }\n\n    .dataframe tbody tr th {\n        vertical-align: top;\n    }\n\n    .dataframe thead th {\n        text-align: right;\n    }\n</style>\n<table border=\"1\" class=\"dataframe\">\n  <thead>\n    <tr style=\"text-align: right;\">\n      <th></th>\n      <th>drug</th>\n      <th>smiles</th>\n      <th>target</th>\n      <th>affinity</th>\n      <th>ROMol</th>\n      <th>valid_smiles</th>\n    </tr>\n  </thead>\n  <tbody>\n    <tr>\n      <th>0</th>\n      <td>(4R,5S,6S,7R)-4,7-dibenzyl-5,6-dihydroxy-1,3-b...</td>\n      <td>O[C@@H]1[C@@H](O)[C@@H](Cc2ccccc2)N(C\\C=C\\c2cn...</td>\n      <td>529</td>\n      <td>9.602060</td>\n      <td>&lt;rdkit.Chem.rdchem.Mol object at 0x00000209F3F...</td>\n      <td>True</td>\n    </tr>\n    <tr>\n      <th>1</th>\n      <td>(4R,5S,6S,7R)-4,7-dibenzyl-1-(cyclopropylmethy...</td>\n      <td>O[C@@H]1[C@@H](O)[C@@H](Cc2ccccc2)N(CC2CC2)C(=...</td>\n      <td>529</td>\n      <td>9.387216</td>\n      <td>&lt;rdkit.Chem.rdchem.Mol object at 0x00000209F3F...</td>\n      <td>True</td>\n    </tr>\n    <tr>\n      <th>2</th>\n      <td>(4R,5S,6S,7R)-4,7-dibenzyl-1-(cyclopropylmethy...</td>\n      <td>OCCCCCCN1[C@H](Cc2ccccc2)[C@H](O)[C@@H](O)[C@@...</td>\n      <td>529</td>\n      <td>9.096910</td>\n      <td>&lt;rdkit.Chem.rdchem.Mol object at 0x00000209F3F...</td>\n      <td>True</td>\n    </tr>\n    <tr>\n      <th>3</th>\n      <td>(4R,5S,6S,7R)-4,7-dibenzyl-1-(cyclopropylmethy...</td>\n      <td>OCCCCCN1[C@H](Cc2ccccc2)[C@H](O)[C@@H](O)[C@@H...</td>\n      <td>529</td>\n      <td>9.004365</td>\n      <td>&lt;rdkit.Chem.rdchem.Mol object at 0x00000209F3F...</td>\n      <td>True</td>\n    </tr>\n    <tr>\n      <th>4</th>\n      <td>(4R,5S,6S,7R)-4,7-dibenzyl-1-butyl-3-(cyclopro...</td>\n      <td>CCCCN1[C@H](Cc2ccccc2)[C@H](O)[C@@H](O)[C@@H](...</td>\n      <td>529</td>\n      <td>8.958607</td>\n      <td>&lt;rdkit.Chem.rdchem.Mol object at 0x00000209F3F...</td>\n      <td>True</td>\n    </tr>\n  </tbody>\n</table>\n</div>"
     },
     "execution_count": 44,
     "metadata": {},
     "output_type": "execute_result"
    }
   ],
   "source": [
    "data_ki.head()"
   ],
   "metadata": {
    "collapsed": false,
    "ExecuteTime": {
     "end_time": "2024-04-22T19:29:20.360481600Z",
     "start_time": "2024-04-22T19:29:20.025605800Z"
    }
   },
   "id": "19b3de9d26297f5a"
  },
  {
   "cell_type": "code",
   "execution_count": null,
   "outputs": [],
   "source": [
    "with open('../analysis/target_mapping_bdb.json', 'r') as f:\n",
    "    target_ids = load(f)\n",
    "\n",
    "# Get the highest current ID to ensure new IDs are unique\n",
    "current_max_id = max(target_ids.values())\n",
    "\n",
    "# Function to get or create target ID\n",
    "def get_or_create_target_id(target):\n",
    "    global current_max_id\n",
    "    if target in target_ids:\n",
    "        return target_ids[target]\n",
    "    else:\n",
    "        current_max_id += 1\n",
    "        target_ids[target] = current_max_id\n",
    "        return current_max_id"
   ],
   "metadata": {
    "collapsed": false
   },
   "id": "1473ae5369f35199"
  },
  {
   "cell_type": "code",
   "execution_count": null,
   "outputs": [],
   "source": [
    "data_ki['target'] = data_ki['target'].apply(get_or_create_target_id)\n"
   ],
   "metadata": {
    "collapsed": false
   },
   "id": "3e12edf85297c731"
  },
  {
   "cell_type": "code",
   "execution_count": null,
   "outputs": [],
   "source": [
    "data_ki = data_ki.rename(columns={'SMILES': 'smiles', 'Ki': 'affinity'})"
   ],
   "metadata": {
    "collapsed": false
   },
   "id": "2a3e333681f25f8b"
  },
  {
   "cell_type": "code",
   "execution_count": null,
   "outputs": [],
   "source": [
    "data_ki.head()"
   ],
   "metadata": {
    "collapsed": false
   },
   "id": "5f732c9bb1270d92"
  },
  {
   "cell_type": "code",
   "execution_count": null,
   "outputs": [],
   "source": [
    "data_ki['target'].nunique()"
   ],
   "metadata": {
    "collapsed": false
   },
   "id": "9ec4dc9f0fa0993a"
  },
  {
   "cell_type": "code",
   "execution_count": null,
   "outputs": [],
   "source": [
    "data_ki_aff_split = split_data(data_ki, 'random')"
   ],
   "metadata": {
    "collapsed": false
   },
   "id": "4ab1f011b440f6b"
  },
  {
   "cell_type": "code",
   "execution_count": null,
   "outputs": [],
   "source": [
    "data_ki_aff_split"
   ],
   "metadata": {
    "collapsed": false
   },
   "id": "ad6a5543b58710fb"
  },
  {
   "cell_type": "code",
   "execution_count": null,
   "outputs": [],
   "source": [
    "data_ki_aff_split.to_csv('../analysis/bindingdb_ki_d_t_aff_smiles_split-2.csv', index=False)"
   ],
   "metadata": {
    "collapsed": false
   },
   "id": "8dfd24ce18bad83"
  },
  {
   "cell_type": "code",
   "execution_count": null,
   "outputs": [],
   "source": [
    "data_ki_aff_split.split.value_counts()"
   ],
   "metadata": {
    "collapsed": false
   },
   "id": "cfde80a997265ba9"
  }
 ],
 "metadata": {
  "kernelspec": {
   "display_name": "Python 3 (ipykernel)",
   "language": "python",
   "name": "python3"
  },
  "language_info": {
   "codemirror_mode": {
    "name": "ipython",
    "version": 3
   },
   "file_extension": ".py",
   "mimetype": "text/x-python",
   "name": "python",
   "nbconvert_exporter": "python",
   "pygments_lexer": "ipython3",
   "version": "3.10.12"
  }
 },
 "nbformat": 4,
 "nbformat_minor": 5
}
