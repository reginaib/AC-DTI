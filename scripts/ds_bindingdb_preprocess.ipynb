{
 "cells": [
  {
   "cell_type": "code",
   "execution_count": null,
   "id": "1d4865ff-c4e3-48f0-9309-21babe4576e3",
   "metadata": {},
   "outputs": [],
   "source": [
    "import pandas as pd\n",
    "from json import load, dump\n",
    "from dataset import process_BindingDB, get_cliffs, split_data"
   ]
  },
  {
   "cell_type": "code",
   "execution_count": null,
   "id": "9f18d9d73f00f90c",
   "metadata": {
    "collapsed": false
   },
   "outputs": [],
   "source": [
    "df = pd.read_csv('/mnt/data/BindingDB_All.tsv', sep = '\\t', on_bad_lines='skip')\n",
    "df.head()"
   ]
  },
  {
   "cell_type": "code",
   "execution_count": null,
   "id": "b70c5206ea55dcf2",
   "metadata": {
    "collapsed": false
   },
   "outputs": [],
   "source": [
    "X_drug, X_SMILES, X_target, y = process_BindingDB('/mnt/data/BindingDB_All.tsv',\n",
    "                                         y = 'Ki', \n",
    "                                         binary = False, \n",
    "                                         convert_to_log = True)"
   ]
  },
  {
   "cell_type": "code",
   "execution_count": null,
   "id": "9ce8e806-abae-4413-ae23-d8de4cf85910",
   "metadata": {},
   "outputs": [],
   "source": [
    "bindingdb_d_t_ki = pd.DataFrame({'drug': X_drug, 'SMILES': X_SMILES, 'target': X_target, 'Ki': y})"
   ]
  },
  {
   "cell_type": "code",
   "execution_count": null,
   "id": "3a5068d3-4ca3-4e41-89f3-9f2e77e39058",
   "metadata": {},
   "outputs": [],
   "source": [
    "bindingdb_d_t_ki.to_csv('../analysis/bindingdb_d_t_ki.csv', index=False)"
   ]
  },
  {
   "cell_type": "code",
   "execution_count": null,
   "outputs": [],
   "source": [
    "data_ki= pd.read_csv('../analysis/bindingdb_d_t_ki.csv')"
   ],
   "metadata": {
    "collapsed": false
   },
   "id": "e4f678ae7a3cf71e"
  },
  {
   "cell_type": "code",
   "execution_count": null,
   "outputs": [],
   "source": [
    "data_ki.head()"
   ],
   "metadata": {
    "collapsed": false
   },
   "id": "1c7c83db45933305"
  },
  {
   "cell_type": "code",
   "execution_count": null,
   "outputs": [],
   "source": [
    "data_ki.columns = 'drug', 'SMILES', 'target', 'affinity'"
   ],
   "metadata": {
    "collapsed": false
   },
   "id": "2130e0be866e1a67"
  },
  {
   "cell_type": "code",
   "execution_count": null,
   "outputs": [],
   "source": [
    "data_ki.head()"
   ],
   "metadata": {
    "collapsed": false
   },
   "id": "216de65db679a737"
  },
  {
   "cell_type": "code",
   "execution_count": null,
   "outputs": [],
   "source": [
    "cliff_pairs = get_cliffs(data_ki, threshold_affinity=1, threshold_similarity=0.9)"
   ],
   "metadata": {
    "collapsed": false
   },
   "id": "acd7a227e310819"
  },
  {
   "cell_type": "code",
   "execution_count": null,
   "outputs": [],
   "source": [
    "cliff_pairs"
   ],
   "metadata": {
    "collapsed": false
   },
   "id": "cd363b0c6a6b9e20"
  },
  {
   "cell_type": "code",
   "execution_count": null,
   "outputs": [],
   "source": [
    "cliff_pairs_no_dup = cliff_pairs.drop_duplicates()"
   ],
   "metadata": {
    "collapsed": false
   },
   "id": "3f6793dd95cd9df8"
  },
  {
   "cell_type": "code",
   "execution_count": null,
   "outputs": [],
   "source": [
    "cliff_pairs.shape"
   ],
   "metadata": {
    "collapsed": false
   },
   "id": "91997c5c5f2ef131"
  },
  {
   "cell_type": "code",
   "execution_count": null,
   "outputs": [],
   "source": [
    "cliff_pairs_no_dup.shape"
   ],
   "metadata": {
    "collapsed": false
   },
   "id": "4088f1ca6e2b42ac"
  },
  {
   "cell_type": "code",
   "execution_count": null,
   "outputs": [],
   "source": [
    "#cliff_pairs_no_dup.to_csv('../analysis/bindindb_ki_cliff_pairs_ta1_ts0.9.csv', index=False)"
   ],
   "metadata": {
    "collapsed": false
   },
   "id": "9c0186d3a83710c9"
  },
  {
   "cell_type": "markdown",
   "source": [
    "# Split data for DDC task"
   ],
   "metadata": {
    "collapsed": false
   },
   "id": "1b9cae61e54ee22e"
  },
  {
   "cell_type": "code",
   "execution_count": null,
   "outputs": [],
   "source": [
    "cliff_pairs_no_dup =  pd.read_csv('../analysis/bindindb_ki_cliff_pairs_ta1_ts0.9.csv')"
   ],
   "metadata": {
    "collapsed": false
   },
   "id": "3155c3b4eba23ffe"
  },
  {
   "cell_type": "code",
   "execution_count": null,
   "outputs": [],
   "source": [
    "target_ids = {t:i for i, t in enumerate(set(cliff_pairs_no_dup.target))}\n",
    "dump(target_ids, open('../analysis/target_mapping_bdb.json', 'w'))"
   ],
   "metadata": {
    "collapsed": false
   },
   "id": "d1ed4be4a752354a"
  },
  {
   "cell_type": "code",
   "execution_count": null,
   "outputs": [],
   "source": [
    "target_ids = load(open('../analysis/target_mapping_bdb.json'))\n",
    "cliff_pairs_no_dup.loc[:, 'target'] = cliff_pairs_no_dup['target'].apply(target_ids.__getitem__)"
   ],
   "metadata": {
    "collapsed": false
   },
   "id": "2666d8957971e3e4"
  },
  {
   "cell_type": "code",
   "execution_count": null,
   "outputs": [],
   "source": [
    "cliff_pairs_split_random = split_data(cliff_pairs_no_dup, split='random')\n",
    "cliff_pairs_split_random.to_csv('../analysis/bindingdb_ki_cliff_pairs_ta1_ts0.9_r_wt.csv', index=False)"
   ],
   "metadata": {
    "collapsed": false
   },
   "id": "6f896bcf2e839553"
  },
  {
   "cell_type": "code",
   "execution_count": null,
   "outputs": [],
   "source": [
    "cliff_pairs_split_random['cliff'].value_counts()"
   ],
   "metadata": {
    "collapsed": false
   },
   "id": "d816af0357d81d7d"
  },
  {
   "cell_type": "code",
   "execution_count": null,
   "outputs": [],
   "source": [
    "cliff_pairs_split_cb = split_data(cliff_pairs_no_dup, split='compound-based')\n",
    "cliff_pairs_split_cb.to_csv('../analysis/bindingdb_ki_cliff_pairs_ta1_ts0.9_cb_wt.csv', index=False)"
   ],
   "metadata": {
    "collapsed": false
   },
   "id": "79086637c35847ab"
  },
  {
   "cell_type": "code",
   "execution_count": null,
   "outputs": [],
   "source": [
    "cliff_pairs_split_cb['cliff'].value_counts()"
   ],
   "metadata": {
    "collapsed": false
   },
   "id": "5ac651e787c06e71"
  },
  {
   "cell_type": "code",
   "execution_count": null,
   "outputs": [],
   "source": [
    "cliff_pairs_split_random.head()"
   ],
   "metadata": {
    "collapsed": false
   },
   "id": "f9c0c6f6eeb01087"
  },
  {
   "cell_type": "code",
   "execution_count": null,
   "outputs": [],
   "source": [
    "cliff_pairs_split_cb.head()"
   ],
   "metadata": {
    "collapsed": false
   },
   "id": "21e12fe5a046fe5e"
  },
  {
   "cell_type": "code",
   "execution_count": null,
   "outputs": [],
   "source": [
    "cliff_pairs_split_random = pd.read_csv('../analysis/bindingdb_ki_cliff_pairs_ta1_ts0.9_r_wt.csv')"
   ],
   "metadata": {
    "collapsed": false
   },
   "id": "523372a1ba22903f"
  },
  {
   "cell_type": "code",
   "execution_count": null,
   "outputs": [],
   "source": [
    "cliff_pairs_split_random['target'].nunique()"
   ],
   "metadata": {
    "collapsed": false
   },
   "id": "64749905411c738c"
  },
  {
   "cell_type": "code",
   "execution_count": null,
   "outputs": [],
   "source": [
    "cliff_pairs_split_random"
   ],
   "metadata": {
    "collapsed": false
   },
   "id": "a8773ba5b63bf53c"
  },
  {
   "cell_type": "markdown",
   "source": [
    "# Split data for DTI task"
   ],
   "metadata": {
    "collapsed": false
   },
   "id": "e74864a6fa3b4de0"
  },
  {
   "cell_type": "code",
   "execution_count": null,
   "outputs": [],
   "source": [
    "data_ki= pd.read_csv('../analysis/bindingdb_d_t_ki.csv')"
   ],
   "metadata": {
    "collapsed": false
   },
   "id": "becbe8426f2e1c66"
  },
  {
   "cell_type": "code",
   "execution_count": null,
   "outputs": [],
   "source": [
    "data_ki.head()"
   ],
   "metadata": {
    "collapsed": false
   },
   "id": "19b3de9d26297f5a"
  },
  {
   "cell_type": "code",
   "execution_count": null,
   "outputs": [],
   "source": [
    "with open('../analysis/target_mapping_bdb.json', 'r') as f:\n",
    "    target_ids = load(f)\n",
    "\n",
    "# Get the highest current ID to ensure new IDs are unique\n",
    "current_max_id = max(target_ids.values())\n",
    "\n",
    "# Function to get or create target ID\n",
    "def get_or_create_target_id(target):\n",
    "    global current_max_id\n",
    "    if target in target_ids:\n",
    "        return target_ids[target]\n",
    "    else:\n",
    "        current_max_id += 1\n",
    "        target_ids[target] = current_max_id\n",
    "        return current_max_id"
   ],
   "metadata": {
    "collapsed": false
   },
   "id": "1473ae5369f35199"
  },
  {
   "cell_type": "code",
   "execution_count": null,
   "outputs": [],
   "source": [
    "data_ki['target'] = data_ki['target'].apply(get_or_create_target_id)\n"
   ],
   "metadata": {
    "collapsed": false
   },
   "id": "3e12edf85297c731"
  },
  {
   "cell_type": "code",
   "execution_count": null,
   "outputs": [],
   "source": [
    "data_ki = data_ki.rename(columns={'SMILES': 'smiles', 'Ki': 'affinity'})"
   ],
   "metadata": {
    "collapsed": false
   },
   "id": "2a3e333681f25f8b"
  },
  {
   "cell_type": "code",
   "execution_count": null,
   "outputs": [],
   "source": [
    "data_ki.head()"
   ],
   "metadata": {
    "collapsed": false
   },
   "id": "5f732c9bb1270d92"
  },
  {
   "cell_type": "code",
   "execution_count": null,
   "outputs": [],
   "source": [
    "data_ki['target'].nunique()"
   ],
   "metadata": {
    "collapsed": false
   },
   "id": "9ec4dc9f0fa0993a"
  },
  {
   "cell_type": "code",
   "execution_count": null,
   "outputs": [],
   "source": [
    "data_ki_aff_split = split_data(data_ki, 'random')"
   ],
   "metadata": {
    "collapsed": false
   },
   "id": "4ab1f011b440f6b"
  },
  {
   "cell_type": "code",
   "execution_count": null,
   "outputs": [],
   "source": [
    "data_ki_aff_split"
   ],
   "metadata": {
    "collapsed": false
   },
   "id": "ad6a5543b58710fb"
  },
  {
   "cell_type": "code",
   "execution_count": null,
   "outputs": [],
   "source": [
    "data_ki_aff_split.to_csv('../analysis/bindingdb_ki_d_t_aff_smiles_split-2.csv', index=False)"
   ],
   "metadata": {
    "collapsed": false
   },
   "id": "8dfd24ce18bad83"
  },
  {
   "cell_type": "code",
   "execution_count": null,
   "outputs": [],
   "source": [
    "data_ki_aff_split.split.value_counts()"
   ],
   "metadata": {
    "collapsed": false
   },
   "id": "cfde80a997265ba9"
  }
 ],
 "metadata": {
  "kernelspec": {
   "display_name": "Python 3 (ipykernel)",
   "language": "python",
   "name": "python3"
  },
  "language_info": {
   "codemirror_mode": {
    "name": "ipython",
    "version": 3
   },
   "file_extension": ".py",
   "mimetype": "text/x-python",
   "name": "python",
   "nbconvert_exporter": "python",
   "pygments_lexer": "ipython3",
   "version": "3.10.12"
  }
 },
 "nbformat": 4,
 "nbformat_minor": 5
}
