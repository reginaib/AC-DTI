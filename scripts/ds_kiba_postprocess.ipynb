{
 "cells": [
  {
   "cell_type": "code",
   "id": "initial_id",
   "metadata": {
    "collapsed": true
   },
   "source": [
    "import torch\n",
    "import pandas as pd\n",
    "from metrics import get_total_metrics\n",
    "from graphics import get_heatmap, get_differential_heatmap, get_pairs_heatmap, get_combined_mean_variance_heatmap"
   ],
   "outputs": [],
   "execution_count": null
  },
  {
   "metadata": {},
   "cell_type": "markdown",
   "source": "# Metrics calculating",
   "id": "1b559bb5121a31dd"
  },
  {
   "cell_type": "code",
   "source": "drug_target_data = pd.read_csv('../analysis/kiba_d_t_aff_smiles_split.csv')",
   "metadata": {
    "collapsed": false
   },
   "id": "84ad8be304f45657",
   "outputs": [],
   "execution_count": null
  },
  {
   "cell_type": "code",
   "source": [
    "test_data = drug_target_data[drug_target_data['split'] == 2] \n",
    "del test_data['split']"
   ],
   "metadata": {
    "collapsed": false
   },
   "id": "4731e4c0d96dd7ad",
   "outputs": [],
   "execution_count": null
  },
  {
   "cell_type": "code",
   "source": [
    "test_data"
   ],
   "metadata": {
    "collapsed": false
   },
   "id": "23fcd05bebbbf687",
   "outputs": [],
   "execution_count": null
  },
  {
   "metadata": {},
   "cell_type": "code",
   "source": "DTI_KIBA_tl_nf_d_enc_BDB_best = torch.load('../analysis/DTI_KIBA_tl_nf_d_enc_BDB_best_2904')",
   "id": "4d2bfc4d2aa91123",
   "outputs": [],
   "execution_count": null
  },
  {
   "cell_type": "code",
   "source": [
    "test_data.insert(4, 'predicted', DTI_KIBA_tl_nf_d_enc_BDB_best)\n",
    "test_data"
   ],
   "metadata": {
    "collapsed": false
   },
   "id": "fbb804ff6a820feb",
   "outputs": [],
   "execution_count": null
  },
  {
   "cell_type": "code",
   "source": [
    "test_data.columns = ['drug', 'target', 'affinity', 'SMILES', 'predicted']\n",
    "test_data"
   ],
   "metadata": {
    "collapsed": false
   },
   "id": "4700ca0c1a765ede",
   "outputs": [],
   "execution_count": null
  },
  {
   "cell_type": "code",
   "source": "test_data.to_csv('../analysis/DTI_KIBA_tl_nf_d_enc_BDB_best_2904_preds.csv', index=False)",
   "metadata": {
    "collapsed": false
   },
   "id": "d20e830aa261231a",
   "outputs": [],
   "execution_count": null
  },
  {
   "cell_type": "code",
   "source": [
    "#preds = pd.read_csv('../analysis/DTI_tl_best1_nw_2404_preds.csv')\n",
    "preds = test_data"
   ],
   "metadata": {
    "collapsed": false
   },
   "id": "995fea6e0d25e6b6",
   "outputs": [],
   "execution_count": null
  },
  {
   "cell_type": "code",
   "source": [
    "preds"
   ],
   "metadata": {
    "collapsed": false
   },
   "id": "1d59cfd273a564c8",
   "outputs": [],
   "execution_count": null
  },
  {
   "cell_type": "code",
   "source": [
    "results = get_total_metrics(preds, threshold_affinity=[0, 1, 1.5, 2, 2.5, 3, 3.5, 4], threshold_similarity=[0, 0.1, 0.3, 0.5, 0.7, 0.9])"
   ],
   "metadata": {
    "collapsed": false
   },
   "id": "57fd2a630bcf1e41",
   "outputs": [],
   "execution_count": null
  },
  {
   "cell_type": "code",
   "source": [
    "results.to_csv('../analysis/DTI_KIBA_tl_nf_d_enc_BDB_best_2904_metrics.csv', index=False)\n",
    "results"
   ],
   "metadata": {
    "collapsed": false
   },
   "id": "f254aee503ce058a",
   "outputs": [],
   "execution_count": null
  },
  {
   "metadata": {},
   "cell_type": "markdown",
   "source": "# Heatmaps",
   "id": "833049c8c10e2a36"
  },
  {
   "cell_type": "code",
   "source": [
    "get_pairs_heatmap(results, 'DTI')"
   ],
   "metadata": {
    "collapsed": false
   },
   "id": "14725ac3f63d1e4b",
   "outputs": [],
   "execution_count": null
  },
  {
   "cell_type": "code",
   "source": [
    "results_best_overall = pd.read_csv('../analysis/DTI_vary_all_train_best_1404_metrics.csv')"
   ],
   "metadata": {
    "collapsed": false
   },
   "id": "96a2ffc4549b3812",
   "outputs": [],
   "execution_count": null
  },
  {
   "metadata": {},
   "cell_type": "code",
   "source": "results_best1_w = pd.read_csv('../analysis/DTI_tl_best1_w_2404_metrics-1.csv')",
   "id": "7264be058b68fc2c",
   "outputs": [],
   "execution_count": null
  },
  {
   "cell_type": "code",
   "source": "get_heatmap(results, 'rmse_micro', model_name='DTI_KIBA_tl_nf_d_enc_BDB_best')",
   "metadata": {
    "collapsed": false
   },
   "id": "aa75389f821c807c",
   "outputs": [],
   "execution_count": null
  },
  {
   "cell_type": "code",
   "source": "get_heatmap(results, 'rmse_macro', model_name='DTI_KIBA_tl_nf_d_enc_BDB_best')",
   "metadata": {
    "collapsed": false
   },
   "id": "9c7d9cd7d56c03a8",
   "outputs": [],
   "execution_count": null
  },
  {
   "metadata": {},
   "cell_type": "code",
   "source": "get_differential_heatmap(results_best_overall, results, 'rmse_micro', 'DTI best overall vs TL best (BDB d_encoder)')",
   "id": "e3ddaf524d9c7ca8",
   "outputs": [],
   "execution_count": null
  },
  {
   "cell_type": "code",
   "source": "get_differential_heatmap(results_best_overall, results, 'rmse_macro', 'DTI best overall vs TL best (BDB d_encoder)')",
   "metadata": {
    "collapsed": false
   },
   "id": "d041cfab78df94a5",
   "outputs": [],
   "execution_count": null
  },
  {
   "cell_type": "markdown",
   "source": [
    "# Flipped version"
   ],
   "metadata": {
    "collapsed": false
   },
   "id": "87c7423f70aa4b96"
  },
  {
   "cell_type": "code",
   "source": [
    "pred_DTI_best_vary_all = pd.read_csv('../analysis/DTI_vary_all_train_best_1404_metrics.csv')\n",
    "pred_DTI_best_vary_all_wTL = pd.read_csv('../analysis/DTI_best_vary_all_wTL_2404_metrics.csv')"
   ],
   "metadata": {
    "collapsed": false
   },
   "id": "9723e1f0dad48ea3",
   "outputs": [],
   "execution_count": null
  },
  {
   "cell_type": "code",
   "source": [
    "get_heatmap(pred_DTI_best_vary_all, 'rmse_micro', model_name='DTI_best_vary_all_train')"
   ],
   "metadata": {
    "collapsed": false
   },
   "id": "e4e80f28c1896271",
   "outputs": [],
   "execution_count": null
  },
  {
   "cell_type": "code",
   "source": [
    "get_heatmap(pred_DTI_best_vary_all, 'rmse_macro', model_name='DTI_best_vary_all_train')"
   ],
   "metadata": {
    "collapsed": false
   },
   "id": "32dc127334fe9684",
   "outputs": [],
   "execution_count": null
  },
  {
   "cell_type": "code",
   "source": [
    "get_heatmap(pred_DTI_best_vary_all_wTL, 'rmse_micro', model_name='DTI_best_vary_all_TL')"
   ],
   "metadata": {
    "collapsed": false
   },
   "id": "935e6f9c562c3578",
   "outputs": [],
   "execution_count": null
  },
  {
   "cell_type": "code",
   "source": [
    "get_heatmap(pred_DTI_best_vary_all_wTL, 'rmse_macro', model_name='DTI_best_vary_all_TL')"
   ],
   "metadata": {
    "collapsed": false
   },
   "id": "da2201d91f69f27a",
   "outputs": [],
   "execution_count": null
  },
  {
   "cell_type": "code",
   "source": [
    "get_differential_heatmap(pred_DTI_best_vary_all, pred_DTI_best_vary_all_wTL, 'rmse_micro', 'DTI best configuration train from scratch vs TL')"
   ],
   "metadata": {
    "collapsed": false
   },
   "id": "8434522d7f8b97f1",
   "outputs": [],
   "execution_count": null
  },
  {
   "cell_type": "code",
   "source": [
    "get_differential_heatmap(pred_DTI_best_vary_all, pred_DTI_best_vary_all_wTL, 'rmse_macro', 'DTI best configuration train from scratch vs TL')"
   ],
   "metadata": {
    "collapsed": false
   },
   "id": "e3a7647ea5d1738f",
   "outputs": [],
   "execution_count": null
  },
  {
   "cell_type": "code",
   "source": [
    "get_differential_heatmap(pred_DTI_best_vary_all, pred_DTI_best_vary_all_wTL, 'rmse_micro', 'DTI best configuration train from scratch vs TL')"
   ],
   "metadata": {
    "collapsed": false
   },
   "id": "2e908772b2430de2",
   "outputs": [],
   "execution_count": null
  },
  {
   "cell_type": "markdown",
   "source": [
    "# Transfer learning"
   ],
   "metadata": {
    "collapsed": false
   },
   "id": "5521548d6e00d03b"
  },
  {
   "cell_type": "code",
   "source": [
    "results_best_overall = pd.read_csv('../analysis/DTI_vary_all_train_best_1404_metrics.csv')"
   ],
   "metadata": {
    "collapsed": false
   },
   "id": "f1e3faec28ab075c",
   "outputs": [],
   "execution_count": null
  },
  {
   "cell_type": "code",
   "source": [
    "results_nf = pd.read_csv('../analysis/DTI_tl_nf_train_best_1504_metrics.csv')\n",
    "results_f = pd.read_csv('../analysis/DTI_tl_f_train_best_1504_metrics.csv')\n",
    "results_f_el = pd.read_csv('../analysis/DTI_tl_f_add_l_to_d_enc_train_best_1604_metrics.csv')"
   ],
   "metadata": {
    "collapsed": false
   },
   "id": "e2c77793aa46dda3",
   "outputs": [],
   "execution_count": null
  },
  {
   "cell_type": "code",
   "source": [
    "get_heatmap(results_best_overall, 'rmse_micro', model_name='DTI_best_vary_all_train')"
   ],
   "metadata": {
    "collapsed": false
   },
   "id": "b09aba3b229db1b9",
   "outputs": [],
   "execution_count": null
  },
  {
   "cell_type": "code",
   "source": [
    "get_heatmap(results_best_overall, 'rmse_macro', model_name='DTI_best_vary_all_train')"
   ],
   "metadata": {
    "collapsed": false
   },
   "id": "49dfc643a6a75052",
   "outputs": [],
   "execution_count": null
  },
  {
   "cell_type": "code",
   "source": [
    "get_heatmap(results_nf, 'rmse_macro', model_name='DTI_best_TL_ws')"
   ],
   "metadata": {
    "collapsed": false
   },
   "id": "fe127b2556264da6",
   "outputs": [],
   "execution_count": null
  },
  {
   "cell_type": "code",
   "source": [
    "get_heatmap(results_nf, 'rmse_micro', model_name='DTI_best_TL_ws')"
   ],
   "metadata": {
    "collapsed": false
   },
   "id": "721a2cc635353658",
   "outputs": [],
   "execution_count": null
  },
  {
   "metadata": {},
   "cell_type": "code",
   "source": "get_differential_heatmap(results_best_overall, results_nf, 'rmse_macro', 'DTI best configuration train from scratch vs TL')",
   "id": "ed6b6455b36645e2",
   "outputs": [],
   "execution_count": null
  },
  {
   "metadata": {},
   "cell_type": "markdown",
   "source": "# Top 10 transfer learning",
   "id": "399897730c62d242"
  },
  {
   "metadata": {},
   "cell_type": "code",
   "source": "results_best_overall = pd.read_csv('../analysis/DTI_vary_all_train_best_1404_metrics.csv')",
   "id": "54bd5cbb0c40b20",
   "outputs": [],
   "execution_count": null
  },
  {
   "metadata": {},
   "cell_type": "code",
   "source": [
    "results_best1_nw = pd.read_csv('../analysis/DTI_tl_best1_nw_2404_metrics-1.csv')\n",
    "results_best1_w = pd.read_csv('../analysis/DTI_tl_best1_w_2404_metrics-1.csv')\n",
    "results_best2_nw = pd.read_csv('../analysis/DTI_tl_best2_nw_2404_metrics.csv')\n",
    "results_best2_w = pd.read_csv('../analysis/DTI_tl_best2_w_2404_metrics.csv')\n",
    "results_best3_nw = pd.read_csv('../analysis/DTI_tl_best3_nw_2404_metrics.csv')\n",
    "results_best3_w = pd.read_csv('../analysis/DTI_tl_best3_w_2404_metrics.csv')\n",
    "results_best4_nw = pd.read_csv('../analysis/DTI_tl_best4_nw_2404_metrics.csv')\n",
    "results_best4_w = pd.read_csv('../analysis/DTI_tl_best4_w_2404_metrics.csv')\n",
    "results_best5_nw = pd.read_csv('../analysis/DTI_tl_best5_nw_2404_metrics.csv')\n",
    "results_best5_w = pd.read_csv('../analysis/DTI_tl_best5_w_2404_metrics.csv')\n",
    "results_best6_nw = pd.read_csv('../analysis/DTI_tl_best6_nw_2404_metrics.csv')\n",
    "results_best6_w = pd.read_csv('../analysis/DTI_tl_best6_w_2404_metrics.csv')\n",
    "results_best7_nw = pd.read_csv('../analysis/DTI_tl_best7_nw_2404_metrics.csv')\n",
    "results_best7_w = pd.read_csv('../analysis/DTI_tl_best7_w_2404_metrics.csv')\n",
    "results_best8_nw = pd.read_csv('../analysis/DTI_tl_best8_nw_2404_metrics.csv')\n",
    "results_best8_w = pd.read_csv('../analysis/DTI_tl_best8_w_2404_metrics.csv')\n",
    "results_best9_nw = pd.read_csv('../analysis/DTI_tl_best9_nw_2404_metrics.csv')\n",
    "results_best9_w = pd.read_csv('../analysis/DTI_tl_best9_w_2404_metrics.csv')\n",
    "results_best10_nw = pd.read_csv('../analysis/DTI_tl_best10_nw_2404_metrics.csv')\n",
    "results_best10_w = pd.read_csv('../analysis/DTI_tl_best10_w_2404_metrics.csv')"
   ],
   "id": "feef96edbd678aba",
   "outputs": [],
   "execution_count": null
  },
  {
   "cell_type": "code",
   "source": [
    "get_differential_heatmap(results_best_overall, results_nf, 'rmse_micro', 'DTI best configuration train from scratch vs TL (warm started)')"
   ],
   "metadata": {
    "collapsed": false
   },
   "id": "1f65b60d8b068eec",
   "outputs": [],
   "execution_count": null
  },
  {
   "metadata": {},
   "cell_type": "code",
   "source": [
    "get_combined_mean_variance_heatmap([results_best1_nw, results_best2_nw, results_best3_nw, results_best4_nw, results_best5_nw,  \n",
    "                                       results_best6_nw, results_best7_nw, results_best8_nw, results_best9_nw, results_best10_nw], \n",
    "                                      [results_best1_w, results_best2_w, results_best3_w, results_best4_w, results_best5_w, \n",
    "                                       results_best6_w, results_best7_w, results_best8_w, results_best9_w, results_best10_w], \n",
    "                                      'rmse_micro', 'top10 TL best models: with and without weights')"
   ],
   "id": "f7d37e2f50042f65",
   "outputs": [],
   "execution_count": null
  }
 ],
 "metadata": {
  "kernelspec": {
   "display_name": "Python 3",
   "language": "python",
   "name": "python3"
  },
  "language_info": {
   "codemirror_mode": {
    "name": "ipython",
    "version": 2
   },
   "file_extension": ".py",
   "mimetype": "text/x-python",
   "name": "python",
   "nbconvert_exporter": "python",
   "pygments_lexer": "ipython2",
   "version": "2.7.6"
  }
 },
 "nbformat": 4,
 "nbformat_minor": 5
}
