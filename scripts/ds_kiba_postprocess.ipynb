{
 "cells": [
  {
   "cell_type": "code",
   "execution_count": null,
   "id": "initial_id",
   "metadata": {
    "collapsed": true
   },
   "outputs": [],
   "source": [
    "import torch\n",
    "import pandas as pd\n",
    "from metrics import get_total_metrics\n",
    "from graphics import get_heatmap, get_differential_heatmap, get_pairs_heatmap"
   ]
  },
  {
   "cell_type": "code",
   "execution_count": null,
   "outputs": [],
   "source": [
    "drug_target_data = pd.read_csv('../analysis/kiba_d_t_aff_smiles_split.csv')"
   ],
   "metadata": {
    "collapsed": false
   },
   "id": "84ad8be304f45657"
  },
  {
   "cell_type": "code",
   "execution_count": null,
   "outputs": [],
   "source": [
    "test_data = drug_target_data[drug_target_data['split'] == 2] \n",
    "del test_data['split']"
   ],
   "metadata": {
    "collapsed": false
   },
   "id": "4731e4c0d96dd7ad"
  },
  {
   "cell_type": "code",
   "execution_count": null,
   "outputs": [],
   "source": [
    "test_data"
   ],
   "metadata": {
    "collapsed": false
   },
   "id": "23fcd05bebbbf687"
  },
  {
   "cell_type": "code",
   "execution_count": null,
   "outputs": [],
   "source": [
    "pred = torch.load('../analysis/DTI_tl_nf_train_best_1504')"
   ],
   "metadata": {
    "collapsed": false
   },
   "id": "4f545dcc18794873"
  },
  {
   "cell_type": "code",
   "execution_count": null,
   "outputs": [],
   "source": [
    "pred"
   ],
   "metadata": {
    "collapsed": false
   },
   "id": "9085e2d6fe192f06"
  },
  {
   "cell_type": "code",
   "execution_count": null,
   "outputs": [],
   "source": [
    "test_data.insert(4, 'predicted', pred)\n",
    "test_data"
   ],
   "metadata": {
    "collapsed": false
   },
   "id": "fbb804ff6a820feb"
  },
  {
   "cell_type": "code",
   "execution_count": null,
   "outputs": [],
   "source": [
    "test_data.columns = ['drug', 'target', 'affinity', 'SMILES', 'predicted']\n",
    "test_data"
   ],
   "metadata": {
    "collapsed": false
   },
   "id": "4700ca0c1a765ede"
  },
  {
   "cell_type": "code",
   "execution_count": null,
   "outputs": [],
   "source": [
    "test_data.to_csv('../analysis/DTI_tl_nf_train_best_1504_preds.csv', index=False)"
   ],
   "metadata": {
    "collapsed": false
   },
   "id": "d20e830aa261231a"
  },
  {
   "cell_type": "code",
   "execution_count": null,
   "outputs": [],
   "source": [
    "#preds = pd.read_csv('../analysis/DTI_vary_all_train_best_1404_preds.csv')\n",
    "preds = test_data"
   ],
   "metadata": {
    "collapsed": false
   },
   "id": "995fea6e0d25e6b6"
  },
  {
   "cell_type": "code",
   "execution_count": null,
   "outputs": [],
   "source": [
    "preds"
   ],
   "metadata": {
    "collapsed": false
   },
   "id": "1d59cfd273a564c8"
  },
  {
   "cell_type": "code",
   "execution_count": null,
   "outputs": [],
   "source": [
    "results = get_total_metrics(preds, threshold_affinity=[0, 1, 1.5, 2, 2.5, 3, 3.5, 4], threshold_similarity=[0, 0.1, 0.3, 0.5, 0.7, 0.9])"
   ],
   "metadata": {
    "collapsed": false
   },
   "id": "57fd2a630bcf1e41"
  },
  {
   "cell_type": "code",
   "execution_count": null,
   "outputs": [],
   "source": [
    "results.to_csv('../analysis/DTI_tl_nf_train_best_1504_metrics.csv', index=False)\n",
    "results"
   ],
   "metadata": {
    "collapsed": false
   },
   "id": "f254aee503ce058a"
  },
  {
   "cell_type": "code",
   "execution_count": null,
   "outputs": [],
   "source": [
    "#results = pd.read_csv('../analysis/DTI_1004_tl_add_l_to_d_enc_metrics.csv')"
   ],
   "metadata": {
    "collapsed": false
   },
   "id": "7f17fcd3de670b14"
  },
  {
   "cell_type": "code",
   "execution_count": null,
   "outputs": [],
   "source": [
    "get_pairs_heatmap(results, 'DTI')"
   ],
   "metadata": {
    "collapsed": false
   },
   "id": "14725ac3f63d1e4b"
  },
  {
   "cell_type": "code",
   "execution_count": null,
   "outputs": [],
   "source": [
    "get_heatmap(results, 'rmse_micro', model_name='DTI_tl_nf_train_best')"
   ],
   "metadata": {
    "collapsed": false
   },
   "id": "9cce4b237301a0bd"
  },
  {
   "cell_type": "code",
   "execution_count": null,
   "outputs": [],
   "source": [
    "get_heatmap(results, 'rmse_macro', model_name='DTI_tl_nf_train_best')"
   ],
   "metadata": {
    "collapsed": false
   },
   "id": "86aa8954d7b2eb26"
  },
  {
   "cell_type": "code",
   "execution_count": null,
   "outputs": [],
   "source": [
    "results_init = pd.read_csv('../analysis/DTI_vary_all_train_best_1404_metrics.csv')"
   ],
   "metadata": {
    "collapsed": false
   },
   "id": "96a2ffc4549b3812"
  },
  {
   "cell_type": "code",
   "execution_count": null,
   "outputs": [],
   "source": [
    "results_nf = pd.read_csv('../analysis/DTI_tl_nf_train_best_1504_metrics.csv')"
   ],
   "metadata": {
    "collapsed": false
   },
   "id": "768d6ae93355ddd"
  },
  {
   "cell_type": "code",
   "execution_count": null,
   "outputs": [],
   "source": [
    "results_f = pd.read_csv('../analysis/DTI_tl_f_train_best_1504_metrics.csv')"
   ],
   "metadata": {
    "collapsed": false
   },
   "id": "d283e5facb9a0db1"
  },
  {
   "cell_type": "code",
   "execution_count": null,
   "outputs": [],
   "source": [
    "get_differential_heatmap(results_init, results_f, 'rmse_micro', 'DTI train vs TL (frozen)')"
   ],
   "metadata": {
    "collapsed": false
   },
   "id": "d041cfab78df94a5"
  }
 ],
 "metadata": {
  "kernelspec": {
   "display_name": "Python 3",
   "language": "python",
   "name": "python3"
  },
  "language_info": {
   "codemirror_mode": {
    "name": "ipython",
    "version": 2
   },
   "file_extension": ".py",
   "mimetype": "text/x-python",
   "name": "python",
   "nbconvert_exporter": "python",
   "pygments_lexer": "ipython2",
   "version": "2.7.6"
  }
 },
 "nbformat": 4,
 "nbformat_minor": 5
}
