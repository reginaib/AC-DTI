{
 "cells": [
  {
   "cell_type": "code",
   "id": "initial_id",
   "metadata": {
    "collapsed": true
   },
   "source": [
    "import pandas as pd\n",
    "import matplotlib.pyplot as plt\n",
    "import seaborn as sns\n",
    "\n",
    "from json import load\n",
    "from dataset import get_cliffs, split_data\n",
    "from graphics import get_hist_prop"
   ],
   "outputs": [],
   "execution_count": null
  },
  {
   "cell_type": "code",
   "source": [
    "# Load target sequences and drugs from respective JSON files\n",
    "targets = load(open('../data/KIBA/target_seq.txt'))\n",
    "drugs = load(open('../data/KIBA/SMILES.txt'))\n",
    "\n",
    "# Load drug-target affinity data from a CSV file into a DataFrame\n",
    "affinity = pd.read_csv('../data/KIBA/affinity.txt', sep='\\\\t', header=None)"
   ],
   "metadata": {
    "collapsed": false
   },
   "id": "45f1d3d891a8da84",
   "outputs": [],
   "execution_count": null
  },
  {
   "cell_type": "code",
   "source": [
    "# Map drug ids to indices (rows) and target ids to columns\n",
    "affinity.index = drugs\n",
    "affinity.columns = targets"
   ],
   "metadata": {
    "collapsed": false
   },
   "id": "dd4897425e089ee4",
   "outputs": [],
   "execution_count": null
  },
  {
   "cell_type": "code",
   "source": [
    "unpivoted = affinity.stack().reset_index()\n",
    "unpivoted.columns = ['drug', 'target', 'affinity']\n",
    "unpivoted['SMILES'] = unpivoted.drug.apply(drugs.get)"
   ],
   "metadata": {
    "collapsed": false
   },
   "id": "c594583315fb6d17",
   "outputs": [],
   "execution_count": null
  },
  {
   "cell_type": "code",
   "source": [
    "unpivoted"
   ],
   "metadata": {
    "collapsed": false
   },
   "id": "9529cc8b3b5dbe9a",
   "outputs": [],
   "execution_count": null
  },
  {
   "metadata": {},
   "cell_type": "code",
   "source": [
    "#unpivoted.to_csv('../analysis/kiba_d_t_affinity.csv')\n",
    "unpivoted = pd.read_csv('../analysis/kiba_d_t_affinity.csv')"
   ],
   "id": "c78c7d2838635e8e",
   "outputs": [],
   "execution_count": null
  },
  {
   "metadata": {},
   "cell_type": "code",
   "source": "unpivoted.head()",
   "id": "4ea20e270c263dd6",
   "outputs": [],
   "execution_count": null
  },
  {
   "metadata": {},
   "cell_type": "code",
   "source": [
    "# Histogram of Ki values\n",
    "plt.figure(figsize=(10, 6))\n",
    "sns.histplot(unpivoted['affinity'], bins=50, kde=True)\n",
    "plt.title('Distribution of KIBA Values')\n",
    "plt.xlabel('KIBA Value')\n",
    "plt.ylabel('Frequency')\n",
    "plt.show()"
   ],
   "id": "da1ba6032a38b7d0",
   "outputs": [],
   "execution_count": null
  },
  {
   "cell_type": "code",
   "source": [
    "cliff_pairs = get_cliffs(unpivoted, threshold_affinity=1, threshold_similarity=0.9)"
   ],
   "metadata": {
    "collapsed": false
   },
   "id": "6f285b26724742f1",
   "outputs": [],
   "execution_count": null
  },
  {
   "cell_type": "code",
   "source": [
    "cliff_pairs"
   ],
   "metadata": {
    "collapsed": false
   },
   "id": "9aae0b67f7109a86",
   "outputs": [],
   "execution_count": null
  },
  {
   "cell_type": "code",
   "source": [
    "cliff_pairs.to_csv('../analysis/kiba_cliff_pairs_ta1_ts0.9.csv', index=False)"
   ],
   "metadata": {
    "collapsed": false
   },
   "id": "3cb996b5e695837",
   "outputs": [],
   "execution_count": null
  },
  {
   "cell_type": "markdown",
   "source": [
    "# Visualization"
   ],
   "metadata": {
    "collapsed": false
   },
   "id": "8be42e6b0ca13d63"
  },
  {
   "cell_type": "code",
   "source": [
    "cliff_pairs = pd.read_csv('../analysis/kiba_cliff_pairs_ta1_ts0.9.csv')"
   ],
   "metadata": {
    "collapsed": false
   },
   "id": "cf4c76d54388056a",
   "outputs": [],
   "execution_count": null
  },
  {
   "metadata": {},
   "cell_type": "code",
   "outputs": [],
   "execution_count": null,
   "source": "",
   "id": "af36e892cbbe49e"
  },
  {
   "cell_type": "code",
   "source": [
    "cliff_pivot = cliff_pairs.pivot_table(index=['drug1', 'drug2'], columns='cliff', aggfunc='size', fill_value=0)\n",
    "cliff_pivot"
   ],
   "metadata": {
    "collapsed": false
   },
   "id": "e3749ca857782f5b",
   "outputs": [],
   "execution_count": null
  },
  {
   "cell_type": "code",
   "source": [
    "cliff_pivot['total_count'] = cliff_pivot[0] + cliff_pivot[1]\n",
    "\n",
    "# Calculate the proportion of 1s in pairs\n",
    "cliff_pivot['proportion_of_1'] = cliff_pivot[1] / cliff_pivot['total_count']\n",
    "cliff_pivot"
   ],
   "metadata": {
    "collapsed": false
   },
   "id": "8b313f714baec9bb",
   "outputs": [],
   "execution_count": null
  },
  {
   "cell_type": "code",
   "source": [
    "cliff_pivot_reset = cliff_pivot.reset_index()\n",
    "\n",
    "plt.figure(figsize=(10, 6))\n",
    "plt.hist(cliff_pivot_reset['proportion_of_1'].to_numpy(), color='blue', alpha=0.5, bins=50)\n",
    "plt.xlabel('Proportion of 1s')\n",
    "plt.ylabel('Pairs');"
   ],
   "metadata": {
    "collapsed": false
   },
   "id": "86d7bbb7b05d285e",
   "outputs": [],
   "execution_count": null
  },
  {
   "cell_type": "code",
   "source": [
    "get_hist_prop(cliff_pivot, 'proportion_of_1')"
   ],
   "metadata": {
    "collapsed": false
   },
   "id": "25dce12c492becf7",
   "outputs": [],
   "execution_count": null
  },
  {
   "cell_type": "code",
   "source": [
    "len(cliff_pivot_reset), len(cliff_pivot_reset[cliff_pivot_reset['proportion_of_1'] == 0]), len(cliff_pivot_reset[cliff_pivot_reset['proportion_of_1'] == 1])"
   ],
   "metadata": {
    "collapsed": false
   },
   "id": "f8cbee46b7876e43",
   "outputs": [],
   "execution_count": null
  },
  {
   "cell_type": "code",
   "source": [
    "len(cliff_pivot_reset[(cliff_pivot_reset['proportion_of_1'] != 0) & (cliff_pivot_reset['proportion_of_1'] != 1)])"
   ],
   "metadata": {
    "collapsed": false
   },
   "id": "e920ea354545b7d9",
   "outputs": [],
   "execution_count": null
  },
  {
   "cell_type": "markdown",
   "source": [
    "Out of 2627 drug pairs, 795 do not exhibit ACs (as it was expected) and 72 pairs does show AC exclusively. Moreover, there exists 1760 of compounds that demonstrate both non-AC and AC.\n"
   ],
   "metadata": {
    "collapsed": false
   },
   "id": "56601bed803953d7"
  },
  {
   "cell_type": "markdown",
   "source": [
    "# Split data for DDC task"
   ],
   "metadata": {
    "collapsed": false
   },
   "id": "28bb6d4350ab9644"
  },
  {
   "cell_type": "code",
   "source": [
    "cliff_pairs"
   ],
   "metadata": {
    "collapsed": false
   },
   "id": "bf80605b3afadddc",
   "outputs": [],
   "execution_count": null
  },
  {
   "cell_type": "code",
   "source": [
    "cliff_pairs.drop_duplicates()"
   ],
   "metadata": {
    "collapsed": false
   },
   "id": "fb0aa8fe9275f786",
   "outputs": [],
   "execution_count": null
  },
  {
   "cell_type": "code",
   "source": [
    "#target_ids = {t:i for i, t in enumerate(set(cliff_pairs.target))}\n",
    "#json.dump(target_ids, open('../analysis/target_mapping.json', 'w'))"
   ],
   "metadata": {
    "collapsed": false
   },
   "id": "befe142ad8a4a376",
   "outputs": [],
   "execution_count": null
  },
  {
   "cell_type": "code",
   "source": [
    "target_ids = load(open('../analysis/target_mapping.json'))\n",
    "cliff_pairs['target'] = cliff_pairs['target'].apply(target_ids.__getitem__)"
   ],
   "metadata": {
    "collapsed": false
   },
   "id": "b0f479046c54bb3",
   "outputs": [],
   "execution_count": null
  },
  {
   "cell_type": "code",
   "source": [
    "cliff_pairs_split_random = split_data(cliff_pairs, split='random')\n",
    "# cliff_pairs_split_random.to_csv('../analysis/kiba_cliff_pairs_ta1_ts0.9_r_wt.csv', index=False)"
   ],
   "metadata": {
    "collapsed": false
   },
   "id": "3617f01c65291996",
   "outputs": [],
   "execution_count": null
  },
  {
   "cell_type": "code",
   "source": [
    "cliff_pairs_split_random = pd.read_csv('../analysis/kiba_cliff_pairs_ta1_ts0.9_r_wt.csv')"
   ],
   "metadata": {
    "collapsed": false
   },
   "id": "c7a10777e1975bb6",
   "outputs": [],
   "execution_count": null
  },
  {
   "metadata": {},
   "cell_type": "code",
   "outputs": [],
   "execution_count": null,
   "source": "",
   "id": "47202065e5464594"
  },
  {
   "cell_type": "code",
   "source": [
    "cliff_pairs_split_random"
   ],
   "metadata": {
    "collapsed": false
   },
   "id": "928d4ea5612c7a1e",
   "outputs": [],
   "execution_count": null
  },
  {
   "cell_type": "code",
   "source": [
    "cliff_pairs_split_random['cliff'].value_counts()"
   ],
   "metadata": {
    "collapsed": false
   },
   "id": "4c3cfde2909d3faf",
   "outputs": [],
   "execution_count": null
  },
  {
   "metadata": {},
   "cell_type": "code",
   "source": "",
   "id": "7d41cdc6ded80189",
   "outputs": [],
   "execution_count": null
  },
  {
   "cell_type": "code",
   "source": [
    "cliff_pairs_split_cb = split_data(cliff_pairs, split='compound-based')\n",
    "#cliff_pairs_split_cb.to_csv('../analysis/kiba_cliff_pairs_ta1_ts0.9_cb_wt.csv', index=False)"
   ],
   "metadata": {
    "collapsed": false
   },
   "id": "1f3a5e8d3ee72a2e",
   "outputs": [],
   "execution_count": null
  },
  {
   "metadata": {},
   "cell_type": "code",
   "source": "cliff_pairs_split_cb = pd.read_csv('../analysis/kiba_cliff_pairs_ta1_ts0.9_cb_wt.csv')",
   "id": "4f50af75f135b4c8",
   "outputs": [],
   "execution_count": null
  },
  {
   "metadata": {},
   "cell_type": "code",
   "source": "cliff_pairs_split_cb['cliff'].value_counts()/len(cliff_pairs_split_cb['cliff'])\n",
   "id": "e44497c73218f70b",
   "outputs": [],
   "execution_count": null
  },
  {
   "metadata": {},
   "cell_type": "code",
   "source": "cliff_pairs_split_cb.shape",
   "id": "c03d44d93e81bac5",
   "outputs": [],
   "execution_count": null
  },
  {
   "cell_type": "code",
   "source": [
    "cliff_pairs_split_cb['cliff'].value_counts()"
   ],
   "metadata": {
    "collapsed": false
   },
   "id": "63b87a2026845ac1",
   "outputs": [],
   "execution_count": null
  },
  {
   "cell_type": "markdown",
   "source": [
    "# Split data for DTI task"
   ],
   "metadata": {
    "collapsed": false
   },
   "id": "c179e96254ee3fd3"
  },
  {
   "cell_type": "code",
   "source": [
    "aff = pd.read_csv('../analysis/kiba_d_t_aff_smiles.csv')"
   ],
   "metadata": {
    "collapsed": false
   },
   "id": "6489b079a5fb086b",
   "outputs": [],
   "execution_count": null
  },
  {
   "metadata": {},
   "cell_type": "code",
   "source": "aff['target'].nunique()",
   "id": "6269330163471e5",
   "outputs": [],
   "execution_count": null
  },
  {
   "cell_type": "code",
   "source": "aff",
   "metadata": {
    "collapsed": false
   },
   "id": "90cf516a8083c8bd",
   "outputs": [],
   "execution_count": null
  },
  {
   "cell_type": "code",
   "source": [
    "aff.shape"
   ],
   "metadata": {
    "collapsed": false
   },
   "id": "d4fadef66b3d9eef",
   "outputs": [],
   "execution_count": null
  },
  {
   "cell_type": "code",
   "source": [
    "with open('../analysis/target_mapping.json', 'r') as f:\n",
    "    target_ids = load(f)\n",
    "\n",
    "# Get the highest current ID to ensure new IDs are unique\n",
    "current_max_id = max(target_ids.values())\n",
    "\n",
    "# Function to get or create target ID\n",
    "def get_or_create_target_id(target):\n",
    "    global current_max_id\n",
    "    if target in target_ids:\n",
    "        return target_ids[target]\n",
    "    else:\n",
    "        current_max_id += 1\n",
    "        target_ids[target] = current_max_id\n",
    "        return current_max_id"
   ],
   "metadata": {
    "collapsed": false
   },
   "id": "b8cec8fcf8cd5573",
   "outputs": [],
   "execution_count": null
  },
  {
   "cell_type": "code",
   "source": [
    "aff['target'] = aff['target'].apply(get_or_create_target_id)"
   ],
   "metadata": {
    "collapsed": false
   },
   "id": "dd75d24bb3fd12cc",
   "outputs": [],
   "execution_count": null
  },
  {
   "cell_type": "code",
   "source": [
    "aff_split = split_data(aff, 'random')"
   ],
   "metadata": {
    "collapsed": false
   },
   "id": "5520d513df629d34",
   "outputs": [],
   "execution_count": null
  },
  {
   "cell_type": "code",
   "source": [
    "aff_split.to_csv('../analysis/kiba_d_t_aff_smiles_split.csv', index=False)"
   ],
   "metadata": {
    "collapsed": false
   },
   "id": "b7afacc35cf0c2ea",
   "outputs": [],
   "execution_count": null
  },
  {
   "cell_type": "code",
   "source": [
    "aff_split.split.value_counts()"
   ],
   "metadata": {
    "collapsed": false
   },
   "id": "4693611cbf54ebe4",
   "outputs": [],
   "execution_count": null
  }
 ],
 "metadata": {
  "kernelspec": {
   "display_name": "Python 3",
   "language": "python",
   "name": "python3"
  },
  "language_info": {
   "codemirror_mode": {
    "name": "ipython",
    "version": 2
   },
   "file_extension": ".py",
   "mimetype": "text/x-python",
   "name": "python",
   "nbconvert_exporter": "python",
   "pygments_lexer": "ipython2",
   "version": "2.7.6"
  }
 },
 "nbformat": 4,
 "nbformat_minor": 5
}
