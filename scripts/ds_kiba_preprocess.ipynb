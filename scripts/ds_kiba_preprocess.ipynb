{
 "cells": [
  {
   "cell_type": "code",
   "id": "initial_id",
   "metadata": {
    "collapsed": true
   },
   "source": [
    "import pandas as pd\n",
    "import matplotlib.pyplot as plt\n",
    "import seaborn as sns\n",
    "\n",
    "from json import load\n",
    "from dataset import get_cliffs, random_split_data, compound_based_split"
   ],
   "outputs": [],
   "execution_count": null
  },
  {
   "cell_type": "code",
   "source": [
    "# Load target sequences and drugs from respective JSON files\n",
    "targets = load(open('../data/KIBA/target_seq.txt'))\n",
    "drugs = load(open('../data/KIBA/SMILES.txt'))\n",
    "\n",
    "# Load drug-target affinity data from a CSV file into a DataFrame\n",
    "affinity = pd.read_csv('../data/KIBA/affinity.txt', sep='\\\\t', header=None, engine='python')"
   ],
   "metadata": {
    "collapsed": false
   },
   "id": "45f1d3d891a8da84",
   "outputs": [],
   "execution_count": null
  },
  {
   "cell_type": "code",
   "source": [
    "# Map drug ids to indices (rows) and target ids to columns\n",
    "affinity.index = drugs\n",
    "affinity.columns = targets"
   ],
   "metadata": {
    "collapsed": false
   },
   "id": "dd4897425e089ee4",
   "outputs": [],
   "execution_count": null
  },
  {
   "cell_type": "code",
   "source": [
    "unpivoted = affinity.stack().reset_index()\n",
    "unpivoted.columns = ['drug', 'target', 'affinity']\n",
    "unpivoted['SMILES'] = unpivoted.drug.apply(drugs.get)"
   ],
   "metadata": {
    "collapsed": false
   },
   "id": "c594583315fb6d17",
   "outputs": [],
   "execution_count": null
  },
  {
   "metadata": {},
   "cell_type": "code",
   "source": [
    "#unpivoted.to_csv('../analysis/kiba_d_t_affinity.csv', index=False)\n",
    "#unpivoted = pd.read_csv('../analysis/kiba_d_t_affinity.csv')"
   ],
   "id": "c78c7d2838635e8e",
   "outputs": [],
   "execution_count": null
  },
  {
   "metadata": {},
   "cell_type": "code",
   "source": [
    "# Histogram of Ki values\n",
    "plt.figure(figsize=(10, 6))\n",
    "sns.histplot(unpivoted['affinity'], bins=50, kde=True)\n",
    "plt.title('Distribution of KIBA Values')\n",
    "plt.xlabel('KIBA Value')\n",
    "plt.ylabel('Frequency')\n",
    "plt.show()"
   ],
   "id": "da1ba6032a38b7d0",
   "outputs": [],
   "execution_count": null
  },
  {
   "metadata": {},
   "cell_type": "markdown",
   "source": "# Random split",
   "id": "cb967cc22243e081"
  },
  {
   "metadata": {},
   "cell_type": "markdown",
   "source": "## DDC",
   "id": "2de742b0c1b57d42"
  },
  {
   "metadata": {},
   "cell_type": "code",
   "source": "cliff_pairs = get_cliffs(unpivoted, threshold_affinity=1, threshold_similarity=0.9, task='classification')",
   "id": "6f285b26724742f1",
   "outputs": [],
   "execution_count": null
  },
  {
   "metadata": {},
   "cell_type": "code",
   "source": "cliff_pairs.to_csv('../analysis/kiba_cliff_pairs_ta1_ts0.9.csv', index=False)",
   "id": "3cb996b5e695837",
   "outputs": [],
   "execution_count": null
  },
  {
   "metadata": {},
   "cell_type": "code",
   "source": "cliff_pairs.drop_duplicates()",
   "id": "fb0aa8fe9275f786",
   "outputs": [],
   "execution_count": null
  },
  {
   "metadata": {},
   "cell_type": "code",
   "source": [
    "# Creating IDs for targets\n",
    "#target_ids = {t:i for i, t in enumerate(set(cliff_pairs.target))}\n",
    "\n",
    "# Save the target_ids dictionary to a JSON file for later use\n",
    "#json.dump(target_ids, open('../analysis/target_mapping.json', 'w'))\n",
    "\n",
    "# Load the target_ids dictionary from the JSON file\n",
    "target_ids = load(open('../analysis/target_mapping.json'))\n",
    "\n",
    "# Map each target to its corresponding ID using the target_ids dictionary\n",
    "cliff_pairs['target'] = cliff_pairs['target'].apply(target_ids.__getitem__)"
   ],
   "id": "befe142ad8a4a376",
   "outputs": [],
   "execution_count": null
  },
  {
   "metadata": {},
   "cell_type": "code",
   "source": [
    "# Split data randomly \n",
    "cliff_pairs_split_random = random_split_data(cliff_pairs)\n",
    "\n",
    "#cliff_pairs_split_random.to_csv('../analysis/kiba_cliff_pairs_ta1_ts0.9_r_wt.csv', index=False)"
   ],
   "id": "3617f01c65291996",
   "outputs": [],
   "execution_count": null
  },
  {
   "metadata": {},
   "cell_type": "code",
   "source": "cliff_pairs_split_random = pd.read_csv('../analysis/kiba_cliff_pairs_ta1_ts0.9_r_wt.csv')",
   "id": "c7a10777e1975bb6",
   "outputs": [],
   "execution_count": null
  },
  {
   "cell_type": "markdown",
   "source": "## DTI",
   "metadata": {
    "collapsed": false
   },
   "id": "c179e96254ee3fd3"
  },
  {
   "metadata": {},
   "cell_type": "code",
   "source": "aff = pd.read_csv('../analysis/kiba_d_t_affinity.csv')",
   "id": "1c703f142be57fee",
   "outputs": [],
   "execution_count": null
  },
  {
   "metadata": {},
   "cell_type": "code",
   "source": "aff.head()",
   "id": "4e15fd2ee47118fd",
   "outputs": [],
   "execution_count": null
  },
  {
   "metadata": {},
   "cell_type": "code",
   "source": "aff.columns",
   "id": "f7352275a27b7909",
   "outputs": [],
   "execution_count": null
  },
  {
   "cell_type": "code",
   "source": [
    "# Assign or create IDs for targets\n",
    "with open('../analysis/target_mapping.json', 'r') as f:\n",
    "    target_ids = load(f)\n",
    "\n",
    "# Get the highest current ID to ensure new IDs are unique\n",
    "current_max_id = max(target_ids.values())\n",
    "\n",
    "# Function to get or create target ID\n",
    "def get_or_create_target_id(target):\n",
    "    global current_max_id\n",
    "    if target in target_ids:\n",
    "        return target_ids[target]\n",
    "    else:\n",
    "        current_max_id += 1\n",
    "        target_ids[target] = current_max_id\n",
    "        return current_max_id"
   ],
   "metadata": {
    "collapsed": false
   },
   "id": "b8cec8fcf8cd5573",
   "outputs": [],
   "execution_count": null
  },
  {
   "cell_type": "code",
   "source": "aff['target'] = aff['target'].apply(get_or_create_target_id)",
   "metadata": {
    "collapsed": false
   },
   "id": "dd75d24bb3fd12cc",
   "outputs": [],
   "execution_count": null
  },
  {
   "cell_type": "code",
   "source": [
    "# random split\n",
    "aff_split = random_split_data(aff)"
   ],
   "metadata": {
    "collapsed": false
   },
   "id": "5520d513df629d34",
   "outputs": [],
   "execution_count": null
  },
  {
   "cell_type": "code",
   "source": [
    "aff_split.to_csv('../analysis/kiba_d_t_aff_smiles_split.csv', index=False)"
   ],
   "metadata": {
    "collapsed": false
   },
   "id": "b7afacc35cf0c2ea",
   "outputs": [],
   "execution_count": null
  },
  {
   "metadata": {},
   "cell_type": "code",
   "source": "aff_split = pd.read_csv('../analysis/kiba_d_t_aff_smiles_split.csv')",
   "id": "2a893aa539c0692a",
   "outputs": [],
   "execution_count": null
  },
  {
   "metadata": {},
   "cell_type": "markdown",
   "source": "# Compound-based split",
   "id": "c0a7e3ac0de29ddf"
  },
  {
   "metadata": {},
   "cell_type": "code",
   "source": "unpivoted = pd.read_csv('../analysis/kiba_d_t_affinity.csv')",
   "id": "aa7ba8dd145d15c",
   "outputs": [],
   "execution_count": null
  },
  {
   "metadata": {},
   "cell_type": "code",
   "source": "unpivoted.head()",
   "id": "39a104e29bc788d5",
   "outputs": [],
   "execution_count": null
  },
  {
   "metadata": {},
   "cell_type": "code",
   "source": [
    "target_ids = load(open('../analysis/target_mapping.json'))\n",
    "unpivoted['target'] = unpivoted['target'].apply(target_ids.__getitem__)"
   ],
   "id": "2c16f2703cb65cb4",
   "outputs": [],
   "execution_count": null
  },
  {
   "metadata": {},
   "cell_type": "markdown",
   "source": "## DTI",
   "id": "6f770ea718f84291"
  },
  {
   "metadata": {
    "ExecuteTime": {
     "end_time": "2024-08-05T20:16:02.480065Z",
     "start_time": "2024-08-05T20:16:02.464640Z"
    }
   },
   "cell_type": "code",
   "source": "unpivoted.head()",
   "id": "ae90f557c3556b03",
   "outputs": [
    {
     "data": {
      "text/plain": [
       "            drug  target  affinity  \\\n",
       "0  CHEMBL1087421      86      11.1   \n",
       "1  CHEMBL1087421     174      11.1   \n",
       "2  CHEMBL1087421      95      11.1   \n",
       "3  CHEMBL1087421     183      11.1   \n",
       "4  CHEMBL1087421     202      11.1   \n",
       "\n",
       "                                          SMILES  \n",
       "0  COC1=C(C=C2C(=C1)CCN=C2C3=CC(=C(C=C3)Cl)Cl)Cl  \n",
       "1  COC1=C(C=C2C(=C1)CCN=C2C3=CC(=C(C=C3)Cl)Cl)Cl  \n",
       "2  COC1=C(C=C2C(=C1)CCN=C2C3=CC(=C(C=C3)Cl)Cl)Cl  \n",
       "3  COC1=C(C=C2C(=C1)CCN=C2C3=CC(=C(C=C3)Cl)Cl)Cl  \n",
       "4  COC1=C(C=C2C(=C1)CCN=C2C3=CC(=C(C=C3)Cl)Cl)Cl  "
      ],
      "text/html": [
       "<div>\n",
       "<style scoped>\n",
       "    .dataframe tbody tr th:only-of-type {\n",
       "        vertical-align: middle;\n",
       "    }\n",
       "\n",
       "    .dataframe tbody tr th {\n",
       "        vertical-align: top;\n",
       "    }\n",
       "\n",
       "    .dataframe thead th {\n",
       "        text-align: right;\n",
       "    }\n",
       "</style>\n",
       "<table border=\"1\" class=\"dataframe\">\n",
       "  <thead>\n",
       "    <tr style=\"text-align: right;\">\n",
       "      <th></th>\n",
       "      <th>drug</th>\n",
       "      <th>target</th>\n",
       "      <th>affinity</th>\n",
       "      <th>SMILES</th>\n",
       "    </tr>\n",
       "  </thead>\n",
       "  <tbody>\n",
       "    <tr>\n",
       "      <th>0</th>\n",
       "      <td>CHEMBL1087421</td>\n",
       "      <td>86</td>\n",
       "      <td>11.1</td>\n",
       "      <td>COC1=C(C=C2C(=C1)CCN=C2C3=CC(=C(C=C3)Cl)Cl)Cl</td>\n",
       "    </tr>\n",
       "    <tr>\n",
       "      <th>1</th>\n",
       "      <td>CHEMBL1087421</td>\n",
       "      <td>174</td>\n",
       "      <td>11.1</td>\n",
       "      <td>COC1=C(C=C2C(=C1)CCN=C2C3=CC(=C(C=C3)Cl)Cl)Cl</td>\n",
       "    </tr>\n",
       "    <tr>\n",
       "      <th>2</th>\n",
       "      <td>CHEMBL1087421</td>\n",
       "      <td>95</td>\n",
       "      <td>11.1</td>\n",
       "      <td>COC1=C(C=C2C(=C1)CCN=C2C3=CC(=C(C=C3)Cl)Cl)Cl</td>\n",
       "    </tr>\n",
       "    <tr>\n",
       "      <th>3</th>\n",
       "      <td>CHEMBL1087421</td>\n",
       "      <td>183</td>\n",
       "      <td>11.1</td>\n",
       "      <td>COC1=C(C=C2C(=C1)CCN=C2C3=CC(=C(C=C3)Cl)Cl)Cl</td>\n",
       "    </tr>\n",
       "    <tr>\n",
       "      <th>4</th>\n",
       "      <td>CHEMBL1087421</td>\n",
       "      <td>202</td>\n",
       "      <td>11.1</td>\n",
       "      <td>COC1=C(C=C2C(=C1)CCN=C2C3=CC(=C(C=C3)Cl)Cl)Cl</td>\n",
       "    </tr>\n",
       "  </tbody>\n",
       "</table>\n",
       "</div>"
      ]
     },
     "execution_count": 27,
     "metadata": {},
     "output_type": "execute_result"
    }
   ],
   "execution_count": 27
  },
  {
   "metadata": {},
   "cell_type": "code",
   "source": "drugs_split = compound_based_split(unpivoted)",
   "id": "504487241ee4ee52",
   "outputs": [],
   "execution_count": null
  },
  {
   "metadata": {},
   "cell_type": "code",
   "source": "drugs_split_nd = drugs_split.drop_duplicates()",
   "id": "88b22a216a264677",
   "outputs": [],
   "execution_count": null
  },
  {
   "metadata": {},
   "cell_type": "code",
   "source": "drugs_split_nd.to_csv('../analysis/kiba_dti_cb_split.csv', index=False)",
   "id": "8beb8b7f1028aa41",
   "outputs": [],
   "execution_count": null
  },
  {
   "metadata": {},
   "cell_type": "markdown",
   "source": "## DDC",
   "id": "fdf1a910b3d61f15"
  },
  {
   "metadata": {},
   "cell_type": "code",
   "source": [
    "train = drugs_split_nd[drugs_split_nd['split'] == 0]\n",
    "validation = drugs_split_nd[drugs_split_nd['split'] == 1]\n",
    "test = drugs_split_nd[drugs_split_nd['split'] == 2]"
   ],
   "id": "7d9fac0580167eef",
   "outputs": [],
   "execution_count": null
  },
  {
   "metadata": {},
   "cell_type": "code",
   "source": [
    "cliff_pairs_tr = get_cliffs(train, threshold_affinity=1, threshold_similarity=0.9, task='classification')\n",
    "cliff_pairs_val = get_cliffs(validation, threshold_affinity=1, threshold_similarity=0.9, task='classification')\n",
    "cliff_pairs_test = get_cliffs(test, threshold_affinity=1, threshold_similarity=0.9, task='classification')"
   ],
   "id": "eb53e8d26d044f68",
   "outputs": [],
   "execution_count": null
  },
  {
   "metadata": {},
   "cell_type": "code",
   "source": [
    "cliff_pairs_tr['split'] = 0\n",
    "cliff_pairs_val['split'] = 1\n",
    "cliff_pairs_test['split'] = 2\n",
    "\n",
    "cliff_pairs_all = pd.concat([cliff_pairs_tr, cliff_pairs_val,cliff_pairs_test], axis=0)"
   ],
   "id": "96fe5c55bb14d28b",
   "outputs": [],
   "execution_count": null
  },
  {
   "metadata": {},
   "cell_type": "code",
   "outputs": [],
   "execution_count": null,
   "source": "",
   "id": "b0a82194596afc63"
  }
 ],
 "metadata": {
  "kernelspec": {
   "display_name": "Python 3",
   "language": "python",
   "name": "python3"
  },
  "language_info": {
   "codemirror_mode": {
    "name": "ipython",
    "version": 2
   },
   "file_extension": ".py",
   "mimetype": "text/x-python",
   "name": "python",
   "nbconvert_exporter": "python",
   "pygments_lexer": "ipython2",
   "version": "2.7.6"
  }
 },
 "nbformat": 4,
 "nbformat_minor": 5
}
