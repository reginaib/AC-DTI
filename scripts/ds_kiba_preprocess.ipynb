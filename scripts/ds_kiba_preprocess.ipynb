{
 "cells": [
  {
   "metadata": {
    "ExecuteTime": {
     "end_time": "2024-09-06T12:06:32.239628Z",
     "start_time": "2024-09-06T12:06:29.896095Z"
    }
   },
   "cell_type": "code",
   "source": [
    "import pandas as pd\n",
    "import matplotlib.pyplot as plt\n",
    "import seaborn as sns\n",
    "\n",
    "from json import load\n",
    "from dataset import get_cliffs, random_split_data, compound_based_split"
   ],
   "id": "initial_id",
   "outputs": [],
   "execution_count": 1
  },
  {
   "cell_type": "code",
   "source": [
    "# Load target sequences and drugs from respective JSON files\n",
    "targets = load(open('../data/KIBA/target_seq.txt'))\n",
    "drugs = load(open('../data/KIBA/SMILES.txt'))\n",
    "\n",
    "# Load drug-target affinity data from a CSV file into a DataFrame\n",
    "affinity = pd.read_csv('../data/KIBA/affinity.txt', sep='\\\\t', header=None, engine='python')"
   ],
   "metadata": {
    "collapsed": false
   },
   "id": "45f1d3d891a8da84",
   "outputs": [],
   "execution_count": null
  },
  {
   "cell_type": "code",
   "source": [
    "# Map drug ids to indices (rows) and target ids to columns\n",
    "affinity.index = drugs\n",
    "affinity.columns = targets"
   ],
   "metadata": {
    "collapsed": false
   },
   "id": "dd4897425e089ee4",
   "outputs": [],
   "execution_count": null
  },
  {
   "metadata": {},
   "cell_type": "code",
   "outputs": [],
   "execution_count": null,
   "source": [
    "unpivoted = affinity.stack().reset_index()\n",
    "unpivoted.columns = ['drug', 'target', 'affinity']\n",
    "unpivoted['SMILES'] = unpivoted.drug.apply(drugs.get)"
   ],
   "id": "c594583315fb6d17"
  },
  {
   "metadata": {},
   "cell_type": "code",
   "outputs": [],
   "execution_count": null,
   "source": [
    "#unpivoted.to_csv('../analysis/kiba_d_t_affinity.csv', index=False)\n",
    "#unpivoted = pd.read_csv('../analysis/kiba_d_t_affinity.csv')"
   ],
   "id": "c78c7d2838635e8e"
  },
  {
   "metadata": {
    "ExecuteTime": {
     "end_time": "2024-08-06T09:25:24.226647Z",
     "start_time": "2024-08-06T09:25:24.091056Z"
    }
   },
   "cell_type": "code",
   "source": [
    "unpivoted = pd.read_csv('../analysis/kiba_d_t_affinity.csv')\n",
    "unpivoted.head()"
   ],
   "id": "34065f75587a780c",
   "outputs": [
    {
     "data": {
      "text/plain": [
       "            drug  target  affinity  \\\n",
       "0  CHEMBL1087421  O00141      11.1   \n",
       "1  CHEMBL1087421  O14920      11.1   \n",
       "2  CHEMBL1087421  O15111      11.1   \n",
       "3  CHEMBL1087421  P00533      11.1   \n",
       "4  CHEMBL1087421  P04626      11.1   \n",
       "\n",
       "                                          SMILES  \n",
       "0  COC1=C(C=C2C(=C1)CCN=C2C3=CC(=C(C=C3)Cl)Cl)Cl  \n",
       "1  COC1=C(C=C2C(=C1)CCN=C2C3=CC(=C(C=C3)Cl)Cl)Cl  \n",
       "2  COC1=C(C=C2C(=C1)CCN=C2C3=CC(=C(C=C3)Cl)Cl)Cl  \n",
       "3  COC1=C(C=C2C(=C1)CCN=C2C3=CC(=C(C=C3)Cl)Cl)Cl  \n",
       "4  COC1=C(C=C2C(=C1)CCN=C2C3=CC(=C(C=C3)Cl)Cl)Cl  "
      ],
      "text/html": [
       "<div>\n",
       "<style scoped>\n",
       "    .dataframe tbody tr th:only-of-type {\n",
       "        vertical-align: middle;\n",
       "    }\n",
       "\n",
       "    .dataframe tbody tr th {\n",
       "        vertical-align: top;\n",
       "    }\n",
       "\n",
       "    .dataframe thead th {\n",
       "        text-align: right;\n",
       "    }\n",
       "</style>\n",
       "<table border=\"1\" class=\"dataframe\">\n",
       "  <thead>\n",
       "    <tr style=\"text-align: right;\">\n",
       "      <th></th>\n",
       "      <th>drug</th>\n",
       "      <th>target</th>\n",
       "      <th>affinity</th>\n",
       "      <th>SMILES</th>\n",
       "    </tr>\n",
       "  </thead>\n",
       "  <tbody>\n",
       "    <tr>\n",
       "      <th>0</th>\n",
       "      <td>CHEMBL1087421</td>\n",
       "      <td>O00141</td>\n",
       "      <td>11.1</td>\n",
       "      <td>COC1=C(C=C2C(=C1)CCN=C2C3=CC(=C(C=C3)Cl)Cl)Cl</td>\n",
       "    </tr>\n",
       "    <tr>\n",
       "      <th>1</th>\n",
       "      <td>CHEMBL1087421</td>\n",
       "      <td>O14920</td>\n",
       "      <td>11.1</td>\n",
       "      <td>COC1=C(C=C2C(=C1)CCN=C2C3=CC(=C(C=C3)Cl)Cl)Cl</td>\n",
       "    </tr>\n",
       "    <tr>\n",
       "      <th>2</th>\n",
       "      <td>CHEMBL1087421</td>\n",
       "      <td>O15111</td>\n",
       "      <td>11.1</td>\n",
       "      <td>COC1=C(C=C2C(=C1)CCN=C2C3=CC(=C(C=C3)Cl)Cl)Cl</td>\n",
       "    </tr>\n",
       "    <tr>\n",
       "      <th>3</th>\n",
       "      <td>CHEMBL1087421</td>\n",
       "      <td>P00533</td>\n",
       "      <td>11.1</td>\n",
       "      <td>COC1=C(C=C2C(=C1)CCN=C2C3=CC(=C(C=C3)Cl)Cl)Cl</td>\n",
       "    </tr>\n",
       "    <tr>\n",
       "      <th>4</th>\n",
       "      <td>CHEMBL1087421</td>\n",
       "      <td>P04626</td>\n",
       "      <td>11.1</td>\n",
       "      <td>COC1=C(C=C2C(=C1)CCN=C2C3=CC(=C(C=C3)Cl)Cl)Cl</td>\n",
       "    </tr>\n",
       "  </tbody>\n",
       "</table>\n",
       "</div>"
      ]
     },
     "execution_count": 2,
     "metadata": {},
     "output_type": "execute_result"
    }
   ],
   "execution_count": 2
  },
  {
   "metadata": {},
   "cell_type": "code",
   "outputs": [],
   "execution_count": null,
   "source": [
    "# Histogram of Ki values\n",
    "plt.figure(figsize=(10, 6))\n",
    "sns.histplot(unpivoted['affinity'], bins=50, kde=True)\n",
    "plt.title('Distribution of KIBA Values')\n",
    "plt.xlabel('KIBA Value')\n",
    "plt.ylabel('Frequency')\n",
    "plt.show()"
   ],
   "id": "da1ba6032a38b7d0"
  },
  {
   "metadata": {},
   "cell_type": "markdown",
   "source": "# Random split",
   "id": "cb967cc22243e081"
  },
  {
   "metadata": {},
   "cell_type": "markdown",
   "source": "## DDC",
   "id": "2de742b0c1b57d42"
  },
  {
   "metadata": {},
   "cell_type": "code",
   "source": "cliff_pairs = get_cliffs(unpivoted, threshold_affinity=1, threshold_similarity=0.9)",
   "id": "6f285b26724742f1",
   "outputs": [],
   "execution_count": null
  },
  {
   "metadata": {},
   "cell_type": "code",
   "source": "cliff_pairs.to_csv('../analysis/kiba_cliff_pairs_ta1_ts0.9.csv', index=False)",
   "id": "3cb996b5e695837",
   "outputs": [],
   "execution_count": null
  },
  {
   "metadata": {},
   "cell_type": "code",
   "source": "cliff_pairs.drop_duplicates()",
   "id": "fb0aa8fe9275f786",
   "outputs": [],
   "execution_count": null
  },
  {
   "metadata": {},
   "cell_type": "code",
   "source": [
    "# Creating IDs for targets\n",
    "#target_ids = {t:i for i, t in enumerate(set(cliff_pairs.target))}\n",
    "\n",
    "# Save the target_ids dictionary to a JSON file for later use\n",
    "#json.dump(target_ids, open('../analysis/target_mapping_kiba.json', 'w'))\n",
    "\n",
    "# Load the target_ids dictionary from the JSON file\n",
    "target_ids = load(open('../analysis/target_mapping_kiba.json'))\n",
    "\n",
    "# Map each target to its corresponding ID using the target_ids dictionary\n",
    "cliff_pairs['target'] = cliff_pairs['target'].apply(target_ids.__getitem__)"
   ],
   "id": "befe142ad8a4a376",
   "outputs": [],
   "execution_count": null
  },
  {
   "metadata": {},
   "cell_type": "code",
   "source": [
    "# Split data randomly \n",
    "cliff_pairs_split_random = random_split_data(cliff_pairs)\n",
    "\n",
    "#cliff_pairs_split_random.to_csv('../analysis/kiba_cliff_pairs_ta1_ts0.9_r_wt.csv', index=False)"
   ],
   "id": "3617f01c65291996",
   "outputs": [],
   "execution_count": null
  },
  {
   "metadata": {},
   "cell_type": "code",
   "source": "#cliff_pairs_split_random = pd.read_csv('../analysis/kiba_cliff_pairs_ta1_ts0.9_r_wt.csv')",
   "id": "c7a10777e1975bb6",
   "outputs": [],
   "execution_count": null
  },
  {
   "cell_type": "markdown",
   "source": "## DTI",
   "metadata": {
    "collapsed": false
   },
   "id": "c179e96254ee3fd3"
  },
  {
   "metadata": {
    "ExecuteTime": {
     "end_time": "2024-09-06T12:08:19.787638Z",
     "start_time": "2024-09-06T12:08:19.692846Z"
    }
   },
   "cell_type": "code",
   "source": "aff = pd.read_csv('../analysis/kiba_d_t_affinity.csv')",
   "id": "1c703f142be57fee",
   "outputs": [],
   "execution_count": 4
  },
  {
   "metadata": {},
   "cell_type": "code",
   "source": "aff.head()",
   "id": "4e15fd2ee47118fd",
   "outputs": [],
   "execution_count": null
  },
  {
   "metadata": {},
   "cell_type": "code",
   "source": "aff.columns",
   "id": "f7352275a27b7909",
   "outputs": [],
   "execution_count": null
  },
  {
   "cell_type": "code",
   "source": [
    "# Assign or create IDs for targets\n",
    "with open('../analysis/target_mapping_kiba.json', 'r') as f:\n",
    "    target_ids = load(f)\n",
    "\n",
    "# Get the highest current ID to ensure new IDs are unique\n",
    "current_max_id = max(target_ids.values())\n",
    "\n",
    "# Function to get or create target ID\n",
    "def get_or_create_target_id(target):\n",
    "    global current_max_id\n",
    "    if target in target_ids:\n",
    "        return target_ids[target]\n",
    "    else:\n",
    "        current_max_id += 1\n",
    "        target_ids[target] = current_max_id\n",
    "        return current_max_id"
   ],
   "metadata": {
    "collapsed": false,
    "ExecuteTime": {
     "end_time": "2024-09-06T12:08:25.005324Z",
     "start_time": "2024-09-06T12:08:24.991130Z"
    }
   },
   "id": "b8cec8fcf8cd5573",
   "outputs": [],
   "execution_count": 5
  },
  {
   "cell_type": "code",
   "source": "aff['target'] = aff['target'].apply(get_or_create_target_id)",
   "metadata": {
    "collapsed": false,
    "ExecuteTime": {
     "end_time": "2024-09-06T12:08:27.220851Z",
     "start_time": "2024-09-06T12:08:27.179242Z"
    }
   },
   "id": "dd75d24bb3fd12cc",
   "outputs": [],
   "execution_count": 6
  },
  {
   "cell_type": "code",
   "source": [
    "# random split\n",
    "aff_split = random_split_data(aff)"
   ],
   "metadata": {
    "collapsed": false,
    "ExecuteTime": {
     "end_time": "2024-09-06T12:08:29.485106Z",
     "start_time": "2024-09-06T12:08:29.450033Z"
    }
   },
   "id": "5520d513df629d34",
   "outputs": [],
   "execution_count": 7
  },
  {
   "cell_type": "code",
   "source": "aff_split.to_csv('../analysis/kiba_dti_r_split.csv', index=False)",
   "metadata": {
    "collapsed": false
   },
   "id": "b7afacc35cf0c2ea",
   "outputs": [],
   "execution_count": null
  },
  {
   "metadata": {
    "ExecuteTime": {
     "end_time": "2024-09-06T12:06:34.255054Z",
     "start_time": "2024-09-06T12:06:34.047538Z"
    }
   },
   "cell_type": "code",
   "source": "aff_split = pd.read_csv('../analysis/kiba_dti_r_split.csv')",
   "id": "2a893aa539c0692a",
   "outputs": [],
   "execution_count": 2
  },
  {
   "metadata": {
    "ExecuteTime": {
     "end_time": "2024-09-06T12:08:32.485125Z",
     "start_time": "2024-09-06T12:08:32.476224Z"
    }
   },
   "cell_type": "code",
   "source": "aff_split.head()",
   "id": "72ead7e92be9bd14",
   "outputs": [
    {
     "data": {
      "text/plain": [
       "                drug  target   affinity  \\\n",
       "69964   CHEMBL592030       5  11.500000   \n",
       "90427  CHEMBL1965033      61  11.699999   \n",
       "16899  CHEMBL1970314     114  12.399998   \n",
       "41492  CHEMBL1991188     199  12.499997   \n",
       "80248  CHEMBL1970083     111  14.700326   \n",
       "\n",
       "                                                  SMILES  split  \n",
       "69964  C1=CC=C2C(=C1)C=C(S2)C3=C4C(=CC(=C3)C5=CN(C6=C...      0  \n",
       "90427  CC1=CC(=O)NN=C1C2=CC=C(C=C2)NC(=O)NC3=C(C=CC(=...      0  \n",
       "16899      C1=CC(=CC(=C1)N)C2=CC(=C3C(=C2)C=CC=N3)C(=O)N      0  \n",
       "41492  CC(C1=CC(=CC=C1)OC)NC(=O)C2=C(C=C(C=C2)C3=C(C=...      0  \n",
       "80248  C1=CC(=CC=C1C2=CSC3=C2C(=NC=C3C4=CC=NC=C4)N)NC...      0  "
      ],
      "text/html": [
       "<div>\n",
       "<style scoped>\n",
       "    .dataframe tbody tr th:only-of-type {\n",
       "        vertical-align: middle;\n",
       "    }\n",
       "\n",
       "    .dataframe tbody tr th {\n",
       "        vertical-align: top;\n",
       "    }\n",
       "\n",
       "    .dataframe thead th {\n",
       "        text-align: right;\n",
       "    }\n",
       "</style>\n",
       "<table border=\"1\" class=\"dataframe\">\n",
       "  <thead>\n",
       "    <tr style=\"text-align: right;\">\n",
       "      <th></th>\n",
       "      <th>drug</th>\n",
       "      <th>target</th>\n",
       "      <th>affinity</th>\n",
       "      <th>SMILES</th>\n",
       "      <th>split</th>\n",
       "    </tr>\n",
       "  </thead>\n",
       "  <tbody>\n",
       "    <tr>\n",
       "      <th>69964</th>\n",
       "      <td>CHEMBL592030</td>\n",
       "      <td>5</td>\n",
       "      <td>11.500000</td>\n",
       "      <td>C1=CC=C2C(=C1)C=C(S2)C3=C4C(=CC(=C3)C5=CN(C6=C...</td>\n",
       "      <td>0</td>\n",
       "    </tr>\n",
       "    <tr>\n",
       "      <th>90427</th>\n",
       "      <td>CHEMBL1965033</td>\n",
       "      <td>61</td>\n",
       "      <td>11.699999</td>\n",
       "      <td>CC1=CC(=O)NN=C1C2=CC=C(C=C2)NC(=O)NC3=C(C=CC(=...</td>\n",
       "      <td>0</td>\n",
       "    </tr>\n",
       "    <tr>\n",
       "      <th>16899</th>\n",
       "      <td>CHEMBL1970314</td>\n",
       "      <td>114</td>\n",
       "      <td>12.399998</td>\n",
       "      <td>C1=CC(=CC(=C1)N)C2=CC(=C3C(=C2)C=CC=N3)C(=O)N</td>\n",
       "      <td>0</td>\n",
       "    </tr>\n",
       "    <tr>\n",
       "      <th>41492</th>\n",
       "      <td>CHEMBL1991188</td>\n",
       "      <td>199</td>\n",
       "      <td>12.499997</td>\n",
       "      <td>CC(C1=CC(=CC=C1)OC)NC(=O)C2=C(C=C(C=C2)C3=C(C=...</td>\n",
       "      <td>0</td>\n",
       "    </tr>\n",
       "    <tr>\n",
       "      <th>80248</th>\n",
       "      <td>CHEMBL1970083</td>\n",
       "      <td>111</td>\n",
       "      <td>14.700326</td>\n",
       "      <td>C1=CC(=CC=C1C2=CSC3=C2C(=NC=C3C4=CC=NC=C4)N)NC...</td>\n",
       "      <td>0</td>\n",
       "    </tr>\n",
       "  </tbody>\n",
       "</table>\n",
       "</div>"
      ]
     },
     "execution_count": 8,
     "metadata": {},
     "output_type": "execute_result"
    }
   ],
   "execution_count": 8
  },
  {
   "metadata": {},
   "cell_type": "markdown",
   "source": "# Compound-based split",
   "id": "c0a7e3ac0de29ddf"
  },
  {
   "metadata": {},
   "cell_type": "code",
   "source": "unpivoted = pd.read_csv('../analysis/kiba_d_t_affinity.csv')",
   "id": "aa7ba8dd145d15c",
   "outputs": [],
   "execution_count": null
  },
  {
   "metadata": {},
   "cell_type": "code",
   "source": "unpivoted.head()",
   "id": "39a104e29bc788d5",
   "outputs": [],
   "execution_count": null
  },
  {
   "metadata": {},
   "cell_type": "code",
   "outputs": [],
   "execution_count": null,
   "source": [
    "# Creating IDs for targets\n",
    "#target_ids = {t:i for i, t in enumerate(set(cliff_pairs.target))}\n",
    "\n",
    "# Save the target_ids dictionary to a JSON file for later use\n",
    "#json.dump(target_ids, open('../analysis/target_mapping.json', 'w'))"
   ],
   "id": "90e1dd4efd26ff74"
  },
  {
   "metadata": {},
   "cell_type": "code",
   "source": [
    "# Load the target_ids dictionary from the JSON file\n",
    "target_ids = load(open('../analysis/target_mapping_kiba.json'))\n",
    "\n",
    "# Map each target to its corresponding ID using the target_ids dictionary\n",
    "unpivoted['target'] = unpivoted['target'].apply(target_ids.__getitem__)"
   ],
   "id": "2c16f2703cb65cb4",
   "outputs": [],
   "execution_count": null
  },
  {
   "metadata": {},
   "cell_type": "markdown",
   "source": "## DTI",
   "id": "6f770ea718f84291"
  },
  {
   "metadata": {},
   "cell_type": "code",
   "source": "drugs_split = compound_based_split(unpivoted)",
   "id": "504487241ee4ee52",
   "outputs": [],
   "execution_count": null
  },
  {
   "metadata": {},
   "cell_type": "code",
   "source": "drugs_split_nd = drugs_split.drop_duplicates()",
   "id": "88b22a216a264677",
   "outputs": [],
   "execution_count": null
  },
  {
   "metadata": {},
   "cell_type": "code",
   "source": "drugs_split_nd.to_csv('../analysis/kiba_dti_cb_split.csv', index=False)",
   "id": "8beb8b7f1028aa41",
   "outputs": [],
   "execution_count": null
  },
  {
   "metadata": {
    "ExecuteTime": {
     "end_time": "2024-08-06T09:18:31.032721Z",
     "start_time": "2024-08-06T09:18:30.967710Z"
    }
   },
   "cell_type": "code",
   "source": "drugs_split_nd.head()",
   "id": "dd320aa7b6b27e76",
   "outputs": [
    {
     "data": {
      "text/plain": [
       "            drug  target  affinity  \\\n",
       "0  CHEMBL1087421      86      11.1   \n",
       "1  CHEMBL1087421     174      11.1   \n",
       "2  CHEMBL1087421      95      11.1   \n",
       "3  CHEMBL1087421     183      11.1   \n",
       "4  CHEMBL1087421     202      11.1   \n",
       "\n",
       "                                          SMILES  split  \n",
       "0  COC1=C(C=C2C(=C1)CCN=C2C3=CC(=C(C=C3)Cl)Cl)Cl      0  \n",
       "1  COC1=C(C=C2C(=C1)CCN=C2C3=CC(=C(C=C3)Cl)Cl)Cl      0  \n",
       "2  COC1=C(C=C2C(=C1)CCN=C2C3=CC(=C(C=C3)Cl)Cl)Cl      0  \n",
       "3  COC1=C(C=C2C(=C1)CCN=C2C3=CC(=C(C=C3)Cl)Cl)Cl      0  \n",
       "4  COC1=C(C=C2C(=C1)CCN=C2C3=CC(=C(C=C3)Cl)Cl)Cl      0  "
      ],
      "text/html": [
       "<div>\n",
       "<style scoped>\n",
       "    .dataframe tbody tr th:only-of-type {\n",
       "        vertical-align: middle;\n",
       "    }\n",
       "\n",
       "    .dataframe tbody tr th {\n",
       "        vertical-align: top;\n",
       "    }\n",
       "\n",
       "    .dataframe thead th {\n",
       "        text-align: right;\n",
       "    }\n",
       "</style>\n",
       "<table border=\"1\" class=\"dataframe\">\n",
       "  <thead>\n",
       "    <tr style=\"text-align: right;\">\n",
       "      <th></th>\n",
       "      <th>drug</th>\n",
       "      <th>target</th>\n",
       "      <th>affinity</th>\n",
       "      <th>SMILES</th>\n",
       "      <th>split</th>\n",
       "    </tr>\n",
       "  </thead>\n",
       "  <tbody>\n",
       "    <tr>\n",
       "      <th>0</th>\n",
       "      <td>CHEMBL1087421</td>\n",
       "      <td>86</td>\n",
       "      <td>11.1</td>\n",
       "      <td>COC1=C(C=C2C(=C1)CCN=C2C3=CC(=C(C=C3)Cl)Cl)Cl</td>\n",
       "      <td>0</td>\n",
       "    </tr>\n",
       "    <tr>\n",
       "      <th>1</th>\n",
       "      <td>CHEMBL1087421</td>\n",
       "      <td>174</td>\n",
       "      <td>11.1</td>\n",
       "      <td>COC1=C(C=C2C(=C1)CCN=C2C3=CC(=C(C=C3)Cl)Cl)Cl</td>\n",
       "      <td>0</td>\n",
       "    </tr>\n",
       "    <tr>\n",
       "      <th>2</th>\n",
       "      <td>CHEMBL1087421</td>\n",
       "      <td>95</td>\n",
       "      <td>11.1</td>\n",
       "      <td>COC1=C(C=C2C(=C1)CCN=C2C3=CC(=C(C=C3)Cl)Cl)Cl</td>\n",
       "      <td>0</td>\n",
       "    </tr>\n",
       "    <tr>\n",
       "      <th>3</th>\n",
       "      <td>CHEMBL1087421</td>\n",
       "      <td>183</td>\n",
       "      <td>11.1</td>\n",
       "      <td>COC1=C(C=C2C(=C1)CCN=C2C3=CC(=C(C=C3)Cl)Cl)Cl</td>\n",
       "      <td>0</td>\n",
       "    </tr>\n",
       "    <tr>\n",
       "      <th>4</th>\n",
       "      <td>CHEMBL1087421</td>\n",
       "      <td>202</td>\n",
       "      <td>11.1</td>\n",
       "      <td>COC1=C(C=C2C(=C1)CCN=C2C3=CC(=C(C=C3)Cl)Cl)Cl</td>\n",
       "      <td>0</td>\n",
       "    </tr>\n",
       "  </tbody>\n",
       "</table>\n",
       "</div>"
      ]
     },
     "execution_count": 36,
     "metadata": {},
     "output_type": "execute_result"
    }
   ],
   "execution_count": 36
  },
  {
   "metadata": {},
   "cell_type": "code",
   "source": [
    "train = drugs_split_nd[drugs_split_nd['split'] == 0]\n",
    "validation = drugs_split_nd[drugs_split_nd['split'] == 1]\n",
    "test = drugs_split_nd[drugs_split_nd['split'] == 2]"
   ],
   "id": "7d9fac0580167eef",
   "outputs": [],
   "execution_count": null
  },
  {
   "metadata": {},
   "cell_type": "markdown",
   "source": "## DDC",
   "id": "fdf1a910b3d61f15"
  },
  {
   "metadata": {},
   "cell_type": "code",
   "source": [
    "cliff_pairs_tr = get_cliffs(train, threshold_affinity=1, threshold_similarity=0.9)\n",
    "cliff_pairs_val = get_cliffs(validation, threshold_affinity=1, threshold_similarity=0.9)\n",
    "cliff_pairs_test = get_cliffs(test, threshold_affinity=1, threshold_similarity=0.9)"
   ],
   "id": "eb53e8d26d044f68",
   "outputs": [],
   "execution_count": null
  },
  {
   "metadata": {},
   "cell_type": "code",
   "source": [
    "cliff_pairs_tr['split'] = 0\n",
    "cliff_pairs_val['split'] = 1\n",
    "cliff_pairs_test['split'] = 2\n",
    "\n",
    "cliff_pairs_all = pd.concat([cliff_pairs_tr, cliff_pairs_val,cliff_pairs_test], axis=0)"
   ],
   "id": "96fe5c55bb14d28b",
   "outputs": [],
   "execution_count": null
  },
  {
   "metadata": {},
   "cell_type": "code",
   "execution_count": 26,
   "source": "cliff_pairs_all.to_csv('../analysis/kiba_ddc_cb_ta1_ts0.9.csv', index=False)",
   "id": "b83f5e9990a6f961",
   "outputs": []
  },
  {
   "metadata": {
    "ExecuteTime": {
     "end_time": "2024-08-05T21:52:32.182593Z",
     "start_time": "2024-08-05T21:52:32.157516Z"
    }
   },
   "cell_type": "code",
   "source": "cliff_pairs_all['target'].nunique()",
   "id": "b0a82194596afc63",
   "outputs": [
    {
     "data": {
      "text/plain": [
       "219"
      ]
     },
     "execution_count": 34,
     "metadata": {},
     "output_type": "execute_result"
    }
   ],
   "execution_count": 34
  },
  {
   "metadata": {
    "ExecuteTime": {
     "end_time": "2024-08-05T21:52:47.800261Z",
     "start_time": "2024-08-05T21:52:47.776131Z"
    }
   },
   "cell_type": "code",
   "source": "cliff_pairs_all",
   "id": "8a3906e5e19b69c9",
   "outputs": [
    {
     "data": {
      "text/plain": [
       "              drug1          drug2  \\\n",
       "0     CHEMBL1087421  CHEMBL1088633   \n",
       "1      CHEMBL206783   CHEMBL207037   \n",
       "2      CHEMBL206783   CHEMBL207246   \n",
       "3      CHEMBL206783   CHEMBL207584   \n",
       "4      CHEMBL206783   CHEMBL207674   \n",
       "...             ...            ...   \n",
       "4352   CHEMBL338449   CHEMBL444337   \n",
       "4353   CHEMBL338967   CHEMBL405405   \n",
       "4354   CHEMBL347195   CHEMBL347684   \n",
       "4355    CHEMBL53606    CHEMBL53826   \n",
       "4356    CHEMBL97448    CHEMBL97796   \n",
       "\n",
       "                                                smiles1  \\\n",
       "0         COC1=C(C=C2C(=C1)CCN=C2C3=CC(=C(C=C3)Cl)Cl)Cl   \n",
       "1     COC1=C(C=C2C(=C1)N=CN=C2NC3=C(C(=CC=C3)Cl)F)CN...   \n",
       "2     COC1=C(C=C2C(=C1)N=CN=C2NC3=C(C(=CC=C3)Cl)F)CN...   \n",
       "3     COC1=C(C=C2C(=C1)N=CN=C2NC3=C(C(=CC=C3)Cl)F)CN...   \n",
       "4     COC1=C(C=C2C(=C1)N=CN=C2NC3=C(C(=CC=C3)Cl)F)CN...   \n",
       "...                                                 ...   \n",
       "4352  CC12C(C(CC(O1)N3C4=CC=CC=C4C5=C6C(=C7C8=CC=CC=...   \n",
       "4353  C1C(C(C(C(O1)N2C3=C(C=CC(=C3)O)C4=C5C(=C6C7=C(...   \n",
       "4354  COC1C(OC(C(C1OC(=O)CBr)O)N2C3=CC=CC=C3C4=C5C(=...   \n",
       "4355   CCCCCCCCCCCCCCCCOCC(COCCCCCC[N+](C)(C)C)OC.[Br-]   \n",
       "4356    C1=CC=C2C(=C1)C=C(N2)C3=C(C(=O)NC3=O)NCCCCCNCCN   \n",
       "\n",
       "                                                smiles2  cliff  target  split  \n",
       "0             COC1=C(C=C2C(=C1)CCN=C2C3=CC(=CC=C3)Cl)Cl      0      86      0  \n",
       "1     COC1=C(C=C2C(=C1)N=CN=C2NC3=C(C(=CC=C3)Cl)F)CN...      0      86      0  \n",
       "2     COC1=C(C=C2C(=C1)N=CN=C2NC3=C(C(=CC=C3)Cl)F)CN...      0      86      0  \n",
       "3     COC1=C(C=C2C(=C1)N=CN=C2NC3=C(C(=CC=C3)Cl)F)CN...      0      86      0  \n",
       "4     COC1=C(C=C2C(=C1)N=CN=C2NC3=C(C(=CC=C3)Cl)F)CN...      0      86      0  \n",
       "...                                                 ...    ...     ...    ...  \n",
       "4352  CC12C(C(CC(O1)N3C4=CC=CC=C4C5=C6C(=C7C8=CC=CC=...      0      27      2  \n",
       "4353  C1C(C(C(OC1N2C3=C(C=CC(=C3)O)C4=C5C(=C6C7=C(C=...      0      27      2  \n",
       "4354  COC1C(OC(C(C1O)OC(=O)CBr)N2C3=CC=CC=C3C4=C5C(=...      0      27      2  \n",
       "4355     CCCCCCCCCCCCCCCCOCC(COCCCC[N+](C)(C)C)OC.[Br-]      0      27      2  \n",
       "4356       C1=CC=C2C(=C1)C=C(N2)C3=C(C(=O)NC3=O)NCCNCCN      0      27      2  \n",
       "\n",
       "[41683 rows x 7 columns]"
      ],
      "text/html": [
       "<div>\n",
       "<style scoped>\n",
       "    .dataframe tbody tr th:only-of-type {\n",
       "        vertical-align: middle;\n",
       "    }\n",
       "\n",
       "    .dataframe tbody tr th {\n",
       "        vertical-align: top;\n",
       "    }\n",
       "\n",
       "    .dataframe thead th {\n",
       "        text-align: right;\n",
       "    }\n",
       "</style>\n",
       "<table border=\"1\" class=\"dataframe\">\n",
       "  <thead>\n",
       "    <tr style=\"text-align: right;\">\n",
       "      <th></th>\n",
       "      <th>drug1</th>\n",
       "      <th>drug2</th>\n",
       "      <th>smiles1</th>\n",
       "      <th>smiles2</th>\n",
       "      <th>cliff</th>\n",
       "      <th>target</th>\n",
       "      <th>split</th>\n",
       "    </tr>\n",
       "  </thead>\n",
       "  <tbody>\n",
       "    <tr>\n",
       "      <th>0</th>\n",
       "      <td>CHEMBL1087421</td>\n",
       "      <td>CHEMBL1088633</td>\n",
       "      <td>COC1=C(C=C2C(=C1)CCN=C2C3=CC(=C(C=C3)Cl)Cl)Cl</td>\n",
       "      <td>COC1=C(C=C2C(=C1)CCN=C2C3=CC(=CC=C3)Cl)Cl</td>\n",
       "      <td>0</td>\n",
       "      <td>86</td>\n",
       "      <td>0</td>\n",
       "    </tr>\n",
       "    <tr>\n",
       "      <th>1</th>\n",
       "      <td>CHEMBL206783</td>\n",
       "      <td>CHEMBL207037</td>\n",
       "      <td>COC1=C(C=C2C(=C1)N=CN=C2NC3=C(C(=CC=C3)Cl)F)CN...</td>\n",
       "      <td>COC1=C(C=C2C(=C1)N=CN=C2NC3=C(C(=CC=C3)Cl)F)CN...</td>\n",
       "      <td>0</td>\n",
       "      <td>86</td>\n",
       "      <td>0</td>\n",
       "    </tr>\n",
       "    <tr>\n",
       "      <th>2</th>\n",
       "      <td>CHEMBL206783</td>\n",
       "      <td>CHEMBL207246</td>\n",
       "      <td>COC1=C(C=C2C(=C1)N=CN=C2NC3=C(C(=CC=C3)Cl)F)CN...</td>\n",
       "      <td>COC1=C(C=C2C(=C1)N=CN=C2NC3=C(C(=CC=C3)Cl)F)CN...</td>\n",
       "      <td>0</td>\n",
       "      <td>86</td>\n",
       "      <td>0</td>\n",
       "    </tr>\n",
       "    <tr>\n",
       "      <th>3</th>\n",
       "      <td>CHEMBL206783</td>\n",
       "      <td>CHEMBL207584</td>\n",
       "      <td>COC1=C(C=C2C(=C1)N=CN=C2NC3=C(C(=CC=C3)Cl)F)CN...</td>\n",
       "      <td>COC1=C(C=C2C(=C1)N=CN=C2NC3=C(C(=CC=C3)Cl)F)CN...</td>\n",
       "      <td>0</td>\n",
       "      <td>86</td>\n",
       "      <td>0</td>\n",
       "    </tr>\n",
       "    <tr>\n",
       "      <th>4</th>\n",
       "      <td>CHEMBL206783</td>\n",
       "      <td>CHEMBL207674</td>\n",
       "      <td>COC1=C(C=C2C(=C1)N=CN=C2NC3=C(C(=CC=C3)Cl)F)CN...</td>\n",
       "      <td>COC1=C(C=C2C(=C1)N=CN=C2NC3=C(C(=CC=C3)Cl)F)CN...</td>\n",
       "      <td>0</td>\n",
       "      <td>86</td>\n",
       "      <td>0</td>\n",
       "    </tr>\n",
       "    <tr>\n",
       "      <th>...</th>\n",
       "      <td>...</td>\n",
       "      <td>...</td>\n",
       "      <td>...</td>\n",
       "      <td>...</td>\n",
       "      <td>...</td>\n",
       "      <td>...</td>\n",
       "      <td>...</td>\n",
       "    </tr>\n",
       "    <tr>\n",
       "      <th>4352</th>\n",
       "      <td>CHEMBL338449</td>\n",
       "      <td>CHEMBL444337</td>\n",
       "      <td>CC12C(C(CC(O1)N3C4=CC=CC=C4C5=C6C(=C7C8=CC=CC=...</td>\n",
       "      <td>CC12C(C(CC(O1)N3C4=CC=CC=C4C5=C6C(=C7C8=CC=CC=...</td>\n",
       "      <td>0</td>\n",
       "      <td>27</td>\n",
       "      <td>2</td>\n",
       "    </tr>\n",
       "    <tr>\n",
       "      <th>4353</th>\n",
       "      <td>CHEMBL338967</td>\n",
       "      <td>CHEMBL405405</td>\n",
       "      <td>C1C(C(C(C(O1)N2C3=C(C=CC(=C3)O)C4=C5C(=C6C7=C(...</td>\n",
       "      <td>C1C(C(C(OC1N2C3=C(C=CC(=C3)O)C4=C5C(=C6C7=C(C=...</td>\n",
       "      <td>0</td>\n",
       "      <td>27</td>\n",
       "      <td>2</td>\n",
       "    </tr>\n",
       "    <tr>\n",
       "      <th>4354</th>\n",
       "      <td>CHEMBL347195</td>\n",
       "      <td>CHEMBL347684</td>\n",
       "      <td>COC1C(OC(C(C1OC(=O)CBr)O)N2C3=CC=CC=C3C4=C5C(=...</td>\n",
       "      <td>COC1C(OC(C(C1O)OC(=O)CBr)N2C3=CC=CC=C3C4=C5C(=...</td>\n",
       "      <td>0</td>\n",
       "      <td>27</td>\n",
       "      <td>2</td>\n",
       "    </tr>\n",
       "    <tr>\n",
       "      <th>4355</th>\n",
       "      <td>CHEMBL53606</td>\n",
       "      <td>CHEMBL53826</td>\n",
       "      <td>CCCCCCCCCCCCCCCCOCC(COCCCCCC[N+](C)(C)C)OC.[Br-]</td>\n",
       "      <td>CCCCCCCCCCCCCCCCOCC(COCCCC[N+](C)(C)C)OC.[Br-]</td>\n",
       "      <td>0</td>\n",
       "      <td>27</td>\n",
       "      <td>2</td>\n",
       "    </tr>\n",
       "    <tr>\n",
       "      <th>4356</th>\n",
       "      <td>CHEMBL97448</td>\n",
       "      <td>CHEMBL97796</td>\n",
       "      <td>C1=CC=C2C(=C1)C=C(N2)C3=C(C(=O)NC3=O)NCCCCCNCCN</td>\n",
       "      <td>C1=CC=C2C(=C1)C=C(N2)C3=C(C(=O)NC3=O)NCCNCCN</td>\n",
       "      <td>0</td>\n",
       "      <td>27</td>\n",
       "      <td>2</td>\n",
       "    </tr>\n",
       "  </tbody>\n",
       "</table>\n",
       "<p>41683 rows × 7 columns</p>\n",
       "</div>"
      ]
     },
     "execution_count": 35,
     "metadata": {},
     "output_type": "execute_result"
    }
   ],
   "execution_count": 35
  },
  {
   "metadata": {
    "ExecuteTime": {
     "end_time": "2024-08-05T21:47:15.902446Z",
     "start_time": "2024-08-05T21:47:15.891224Z"
    }
   },
   "cell_type": "code",
   "source": "cliff_pairs_all.isnull().values.any()",
   "id": "c6897faff3305169",
   "outputs": [
    {
     "data": {
      "text/plain": [
       "False"
      ]
     },
     "execution_count": 33,
     "metadata": {},
     "output_type": "execute_result"
    }
   ],
   "execution_count": 33
  }
 ],
 "metadata": {
  "kernelspec": {
   "display_name": "Python 3",
   "language": "python",
   "name": "python3"
  },
  "language_info": {
   "codemirror_mode": {
    "name": "ipython",
    "version": 2
   },
   "file_extension": ".py",
   "mimetype": "text/x-python",
   "name": "python",
   "nbconvert_exporter": "python",
   "pygments_lexer": "ipython2",
   "version": "2.7.6"
  }
 },
 "nbformat": 4,
 "nbformat_minor": 5
}
