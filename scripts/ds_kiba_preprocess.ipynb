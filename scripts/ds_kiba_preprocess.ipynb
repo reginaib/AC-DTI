{
 "cells": [
  {
   "cell_type": "code",
   "execution_count": 89,
   "id": "initial_id",
   "metadata": {
    "collapsed": true,
    "ExecuteTime": {
     "end_time": "2024-04-16T20:08:02.558915800Z",
     "start_time": "2024-04-16T20:08:02.456705300Z"
    }
   },
   "outputs": [],
   "source": [
    "import pandas as pd\n",
    "import matplotlib.pyplot as plt\n",
    "import json \n",
    "\n",
    "from json import load\n",
    "from dataset import get_cliffs, split_data\n",
    "from graphics import get_hist_prop"
   ]
  },
  {
   "cell_type": "code",
   "execution_count": 49,
   "outputs": [
    {
     "name": "stderr",
     "output_type": "stream",
     "text": [
      "C:\\Users\\rena_\\AppData\\Local\\Temp\\ipykernel_7996\\1071944785.py:6: ParserWarning: Falling back to the 'python' engine because the 'c' engine does not support regex separators (separators > 1 char and different from '\\s+' are interpreted as regex); you can avoid this warning by specifying engine='python'.\n",
      "  affinity = pd.read_csv('../data/KIBA/affinity.txt', sep='\\\\t', header=None)\n"
     ]
    }
   ],
   "source": [
    "# Load target sequences and drugs from respective JSON files\n",
    "targets = load(open('../data/KIBA/target_seq.txt'))\n",
    "drugs = load(open('../data/KIBA/SMILES.txt'))\n",
    "\n",
    "# Load drug-target affinity data from a CSV file into a DataFrame\n",
    "affinity = pd.read_csv('../data/KIBA/affinity.txt', sep='\\\\t', header=None)"
   ],
   "metadata": {
    "collapsed": false,
    "ExecuteTime": {
     "end_time": "2024-04-16T19:36:41.579286700Z",
     "start_time": "2024-04-16T19:36:41.325339200Z"
    }
   },
   "id": "45f1d3d891a8da84"
  },
  {
   "cell_type": "code",
   "execution_count": 52,
   "outputs": [],
   "source": [
    "# Map drug ids to indices (rows) and target ids to columns\n",
    "affinity.index = drugs\n",
    "affinity.columns = targets"
   ],
   "metadata": {
    "collapsed": false,
    "ExecuteTime": {
     "end_time": "2024-04-16T19:37:17.445449300Z",
     "start_time": "2024-04-16T19:37:17.389703600Z"
    }
   },
   "id": "dd4897425e089ee4"
  },
  {
   "cell_type": "code",
   "execution_count": 53,
   "outputs": [],
   "source": [
    "unpivoted = affinity.stack().reset_index()\n",
    "unpivoted.columns = ['drug', 'target', 'affinity']\n",
    "unpivoted['SMILES'] = unpivoted.drug.apply(drugs.get)"
   ],
   "metadata": {
    "collapsed": false,
    "ExecuteTime": {
     "end_time": "2024-04-16T19:37:25.841121500Z",
     "start_time": "2024-04-16T19:37:25.793499200Z"
    }
   },
   "id": "c594583315fb6d17"
  },
  {
   "cell_type": "code",
   "execution_count": 54,
   "outputs": [
    {
     "data": {
      "text/plain": "                 drug  target  affinity  \\\n0       CHEMBL1087421  O00141  11.10000   \n1       CHEMBL1087421  O14920  11.10000   \n2       CHEMBL1087421  O15111  11.10000   \n3       CHEMBL1087421  P00533  11.10000   \n4       CHEMBL1087421  P04626  11.10000   \n...               ...     ...       ...   \n118249   CHEMBL230654  Q13554  10.49794   \n118250   CHEMBL230654  Q13555  10.49794   \n118251   CHEMBL230654  Q13557  10.49794   \n118252   CHEMBL230654  Q16539  10.49794   \n118253   CHEMBL230654  Q9UQM7  10.49794   \n\n                                                   SMILES  \n0           COC1=C(C=C2C(=C1)CCN=C2C3=CC(=C(C=C3)Cl)Cl)Cl  \n1           COC1=C(C=C2C(=C1)CCN=C2C3=CC(=C(C=C3)Cl)Cl)Cl  \n2           COC1=C(C=C2C(=C1)CCN=C2C3=CC(=C(C=C3)Cl)Cl)Cl  \n3           COC1=C(C=C2C(=C1)CCN=C2C3=CC(=C(C=C3)Cl)Cl)Cl  \n4           COC1=C(C=C2C(=C1)CCN=C2C3=CC(=C(C=C3)Cl)Cl)Cl  \n...                                                   ...  \n118249  CCCC1=C(NC=N1)CNC2=CC(=C3C(=C2)C(=C(C=N3)C#N)N...  \n118250  CCCC1=C(NC=N1)CNC2=CC(=C3C(=C2)C(=C(C=N3)C#N)N...  \n118251  CCCC1=C(NC=N1)CNC2=CC(=C3C(=C2)C(=C(C=N3)C#N)N...  \n118252  CCCC1=C(NC=N1)CNC2=CC(=C3C(=C2)C(=C(C=N3)C#N)N...  \n118253  CCCC1=C(NC=N1)CNC2=CC(=C3C(=C2)C(=C(C=N3)C#N)N...  \n\n[118254 rows x 4 columns]",
      "text/html": "<div>\n<style scoped>\n    .dataframe tbody tr th:only-of-type {\n        vertical-align: middle;\n    }\n\n    .dataframe tbody tr th {\n        vertical-align: top;\n    }\n\n    .dataframe thead th {\n        text-align: right;\n    }\n</style>\n<table border=\"1\" class=\"dataframe\">\n  <thead>\n    <tr style=\"text-align: right;\">\n      <th></th>\n      <th>drug</th>\n      <th>target</th>\n      <th>affinity</th>\n      <th>SMILES</th>\n    </tr>\n  </thead>\n  <tbody>\n    <tr>\n      <th>0</th>\n      <td>CHEMBL1087421</td>\n      <td>O00141</td>\n      <td>11.10000</td>\n      <td>COC1=C(C=C2C(=C1)CCN=C2C3=CC(=C(C=C3)Cl)Cl)Cl</td>\n    </tr>\n    <tr>\n      <th>1</th>\n      <td>CHEMBL1087421</td>\n      <td>O14920</td>\n      <td>11.10000</td>\n      <td>COC1=C(C=C2C(=C1)CCN=C2C3=CC(=C(C=C3)Cl)Cl)Cl</td>\n    </tr>\n    <tr>\n      <th>2</th>\n      <td>CHEMBL1087421</td>\n      <td>O15111</td>\n      <td>11.10000</td>\n      <td>COC1=C(C=C2C(=C1)CCN=C2C3=CC(=C(C=C3)Cl)Cl)Cl</td>\n    </tr>\n    <tr>\n      <th>3</th>\n      <td>CHEMBL1087421</td>\n      <td>P00533</td>\n      <td>11.10000</td>\n      <td>COC1=C(C=C2C(=C1)CCN=C2C3=CC(=C(C=C3)Cl)Cl)Cl</td>\n    </tr>\n    <tr>\n      <th>4</th>\n      <td>CHEMBL1087421</td>\n      <td>P04626</td>\n      <td>11.10000</td>\n      <td>COC1=C(C=C2C(=C1)CCN=C2C3=CC(=C(C=C3)Cl)Cl)Cl</td>\n    </tr>\n    <tr>\n      <th>...</th>\n      <td>...</td>\n      <td>...</td>\n      <td>...</td>\n      <td>...</td>\n    </tr>\n    <tr>\n      <th>118249</th>\n      <td>CHEMBL230654</td>\n      <td>Q13554</td>\n      <td>10.49794</td>\n      <td>CCCC1=C(NC=N1)CNC2=CC(=C3C(=C2)C(=C(C=N3)C#N)N...</td>\n    </tr>\n    <tr>\n      <th>118250</th>\n      <td>CHEMBL230654</td>\n      <td>Q13555</td>\n      <td>10.49794</td>\n      <td>CCCC1=C(NC=N1)CNC2=CC(=C3C(=C2)C(=C(C=N3)C#N)N...</td>\n    </tr>\n    <tr>\n      <th>118251</th>\n      <td>CHEMBL230654</td>\n      <td>Q13557</td>\n      <td>10.49794</td>\n      <td>CCCC1=C(NC=N1)CNC2=CC(=C3C(=C2)C(=C(C=N3)C#N)N...</td>\n    </tr>\n    <tr>\n      <th>118252</th>\n      <td>CHEMBL230654</td>\n      <td>Q16539</td>\n      <td>10.49794</td>\n      <td>CCCC1=C(NC=N1)CNC2=CC(=C3C(=C2)C(=C(C=N3)C#N)N...</td>\n    </tr>\n    <tr>\n      <th>118253</th>\n      <td>CHEMBL230654</td>\n      <td>Q9UQM7</td>\n      <td>10.49794</td>\n      <td>CCCC1=C(NC=N1)CNC2=CC(=C3C(=C2)C(=C(C=N3)C#N)N...</td>\n    </tr>\n  </tbody>\n</table>\n<p>118254 rows × 4 columns</p>\n</div>"
     },
     "execution_count": 54,
     "metadata": {},
     "output_type": "execute_result"
    }
   ],
   "source": [
    "unpivoted"
   ],
   "metadata": {
    "collapsed": false,
    "ExecuteTime": {
     "end_time": "2024-04-16T19:37:41.204037Z",
     "start_time": "2024-04-16T19:37:41.167363Z"
    }
   },
   "id": "9529cc8b3b5dbe9a"
  },
  {
   "cell_type": "code",
   "execution_count": 55,
   "outputs": [],
   "source": [
    "unpivoted.to_csv('../analysis/kiba_d_t_affinity.csv')\n",
    "# unpivoted = pd.read_csv('../analysis/kiba_d_t_affinity.csv')"
   ],
   "metadata": {
    "collapsed": false,
    "ExecuteTime": {
     "end_time": "2024-04-16T19:37:55.738255600Z",
     "start_time": "2024-04-16T19:37:54.958071800Z"
    }
   },
   "id": "c78c7d2838635e8e"
  },
  {
   "cell_type": "code",
   "execution_count": 81,
   "outputs": [
    {
     "name": "stderr",
     "output_type": "stream",
     "text": [
      "100%|██████████| 84/84 [00:00<00:00, 4792.38it/s]\n",
      "100%|██████████| 354/354 [00:00<00:00, 4272.40it/s]\n",
      "100%|██████████| 344/344 [00:00<00:00, 6632.77it/s]\n",
      "100%|██████████| 1094/1094 [00:00<00:00, 1579.70it/s]\n",
      "100%|██████████| 659/659 [00:00<00:00, 2455.64it/s]\n",
      "100%|██████████| 1141/1141 [00:00<00:00, 1342.27it/s]\n",
      "100%|██████████| 974/974 [00:00<00:00, 1531.68it/s]\n",
      "100%|██████████| 35/35 [00:00<00:00, 17614.67it/s]\n",
      "100%|██████████| 1005/1005 [00:00<00:00, 1427.99it/s]\n",
      "100%|██████████| 884/884 [00:00<00:00, 1769.05it/s]\n",
      "100%|██████████| 979/979 [00:00<00:00, 1469.25it/s]\n",
      "100%|██████████| 966/966 [00:00<00:00, 1535.37it/s]\n",
      "100%|██████████| 1175/1175 [00:01<00:00, 964.11it/s]\n",
      "100%|██████████| 825/825 [00:00<00:00, 1925.18it/s]\n",
      "100%|██████████| 131/131 [00:00<00:00, 13135.40it/s]\n",
      "100%|██████████| 1003/1003 [00:00<00:00, 1402.41it/s]\n",
      "100%|██████████| 500/500 [00:00<00:00, 2783.03it/s]\n",
      "100%|██████████| 16/16 [00:00<00:00, 16054.75it/s]\n",
      "100%|██████████| 578/578 [00:00<00:00, 2751.94it/s]\n",
      "100%|██████████| 1036/1036 [00:00<00:00, 1365.06it/s]\n",
      "100%|██████████| 966/966 [00:00<00:00, 1640.43it/s]\n",
      "100%|██████████| 588/588 [00:00<00:00, 2807.48it/s]\n",
      "100%|██████████| 783/783 [00:00<00:00, 2184.37it/s]\n",
      "100%|██████████| 701/701 [00:00<00:00, 2557.41it/s]\n",
      "100%|██████████| 907/907 [00:00<00:00, 1832.32it/s]\n",
      "100%|██████████| 873/873 [00:00<00:00, 1830.68it/s]\n",
      "100%|██████████| 837/837 [00:00<00:00, 1799.24it/s]\n",
      "100%|██████████| 467/467 [00:00<00:00, 3286.67it/s]\n",
      "100%|██████████| 1222/1222 [00:01<00:00, 1030.97it/s]\n",
      "100%|██████████| 914/914 [00:00<00:00, 1468.53it/s]\n",
      "100%|██████████| 1012/1012 [00:00<00:00, 1470.74it/s]\n",
      "100%|██████████| 683/683 [00:00<00:00, 2519.05it/s]\n",
      "100%|██████████| 900/900 [00:00<00:00, 1737.24it/s]\n",
      "100%|██████████| 1133/1133 [00:00<00:00, 1269.18it/s]\n",
      "100%|██████████| 839/839 [00:00<00:00, 1839.26it/s]\n",
      "100%|██████████| 861/861 [00:00<00:00, 1788.50it/s]\n",
      "100%|██████████| 834/834 [00:00<00:00, 1972.33it/s]\n",
      "100%|██████████| 390/390 [00:00<00:00, 3968.85it/s]\n",
      "100%|██████████| 671/671 [00:00<00:00, 2501.85it/s]\n",
      "100%|██████████| 746/746 [00:00<00:00, 2118.87it/s]\n",
      "100%|██████████| 907/907 [00:00<00:00, 1702.40it/s]\n",
      "100%|██████████| 472/472 [00:00<00:00, 3319.86it/s]\n",
      "100%|██████████| 743/743 [00:00<00:00, 2119.68it/s]\n",
      "100%|██████████| 1090/1090 [00:00<00:00, 1351.28it/s]\n",
      "100%|██████████| 1086/1086 [00:00<00:00, 1426.94it/s]\n",
      "100%|██████████| 1118/1118 [00:00<00:00, 1389.98it/s]\n",
      "100%|██████████| 567/567 [00:00<00:00, 2974.21it/s]\n",
      "100%|██████████| 454/454 [00:00<00:00, 3334.47it/s]\n",
      "100%|██████████| 1247/1247 [00:01<00:00, 1033.79it/s]\n",
      "100%|██████████| 722/722 [00:00<00:00, 2005.03it/s]\n",
      "100%|██████████| 410/410 [00:00<00:00, 3169.81it/s]\n",
      "100%|██████████| 733/733 [00:00<00:00, 2136.32it/s]\n",
      "100%|██████████| 711/711 [00:00<00:00, 2305.51it/s]\n",
      "100%|██████████| 631/631 [00:00<00:00, 1685.03it/s]\n",
      "100%|██████████| 773/773 [00:00<00:00, 1592.31it/s]\n",
      "100%|██████████| 761/761 [00:00<00:00, 1765.92it/s]\n",
      "100%|██████████| 1451/1451 [00:01<00:00, 1016.28it/s]\n",
      "100%|██████████| 843/843 [00:00<00:00, 1810.01it/s]\n",
      "100%|██████████| 443/443 [00:00<00:00, 3924.80it/s]\n",
      "100%|██████████| 476/476 [00:00<00:00, 3403.55it/s]\n",
      "100%|██████████| 565/565 [00:00<00:00, 2674.85it/s]\n",
      "100%|██████████| 912/912 [00:00<00:00, 1632.59it/s]\n",
      "100%|██████████| 758/758 [00:00<00:00, 2007.42it/s]\n",
      "100%|██████████| 832/832 [00:00<00:00, 1606.56it/s]\n",
      "100%|██████████| 863/863 [00:00<00:00, 1253.92it/s]\n",
      "100%|██████████| 956/956 [00:00<00:00, 1266.59it/s]\n",
      "100%|██████████| 630/630 [00:00<00:00, 2538.89it/s]\n",
      "100%|██████████| 573/573 [00:00<00:00, 2796.45it/s]\n",
      "100%|██████████| 987/987 [00:00<00:00, 1466.89it/s]\n",
      "100%|██████████| 735/735 [00:00<00:00, 2032.26it/s]\n",
      "100%|██████████| 894/894 [00:00<00:00, 1725.73it/s]\n",
      "100%|██████████| 578/578 [00:00<00:00, 2658.34it/s]\n",
      "100%|██████████| 918/918 [00:00<00:00, 1657.68it/s]\n",
      "100%|██████████| 780/780 [00:00<00:00, 2026.42it/s]\n",
      "100%|██████████| 801/801 [00:00<00:00, 1917.26it/s]\n",
      "100%|██████████| 598/598 [00:00<00:00, 2569.31it/s]\n",
      "100%|██████████| 1032/1032 [00:00<00:00, 1423.78it/s]\n",
      "100%|██████████| 756/756 [00:00<00:00, 1957.72it/s]\n",
      "100%|██████████| 1108/1108 [00:00<00:00, 1359.33it/s]\n",
      "100%|██████████| 1140/1140 [00:00<00:00, 1327.64it/s]\n",
      "100%|██████████| 737/737 [00:00<00:00, 2112.31it/s]\n",
      "100%|██████████| 617/617 [00:00<00:00, 2935.44it/s]\n",
      "100%|██████████| 863/863 [00:00<00:00, 1801.85it/s]\n",
      "100%|██████████| 945/945 [00:00<00:00, 1568.21it/s]\n",
      "100%|██████████| 721/721 [00:00<00:00, 2213.17it/s]\n",
      "100%|██████████| 802/802 [00:00<00:00, 1958.71it/s]\n",
      "100%|██████████| 498/498 [00:00<00:00, 3227.52it/s]\n",
      "100%|██████████| 617/617 [00:00<00:00, 2534.62it/s]\n",
      "100%|██████████| 605/605 [00:00<00:00, 2364.41it/s]\n",
      "100%|██████████| 655/655 [00:00<00:00, 2324.17it/s]\n",
      "100%|██████████| 1010/1010 [00:00<00:00, 1098.83it/s]\n",
      "100%|██████████| 506/506 [00:00<00:00, 3390.58it/s]\n",
      "100%|██████████| 681/681 [00:00<00:00, 2420.00it/s]\n",
      "100%|██████████| 545/545 [00:00<00:00, 2746.84it/s]\n",
      "100%|██████████| 672/672 [00:00<00:00, 2408.75it/s]\n",
      "100%|██████████| 656/656 [00:00<00:00, 2404.47it/s]\n",
      "100%|██████████| 681/681 [00:00<00:00, 2188.89it/s]\n",
      "100%|██████████| 899/899 [00:00<00:00, 1798.47it/s]\n",
      "100%|██████████| 719/719 [00:00<00:00, 2328.54it/s]\n",
      "100%|██████████| 722/722 [00:00<00:00, 2346.65it/s]\n",
      "100%|██████████| 630/630 [00:00<00:00, 2566.94it/s]\n",
      "100%|██████████| 841/841 [00:00<00:00, 1777.94it/s]\n",
      "100%|██████████| 566/566 [00:00<00:00, 2767.16it/s]\n",
      "100%|██████████| 521/521 [00:00<00:00, 3185.16it/s]\n",
      "100%|██████████| 627/627 [00:00<00:00, 2434.04it/s]\n",
      "100%|██████████| 588/588 [00:00<00:00, 2797.32it/s]\n",
      "100%|██████████| 591/591 [00:00<00:00, 2671.03it/s]\n",
      "100%|██████████| 1008/1008 [00:00<00:00, 1462.50it/s]\n",
      "100%|██████████| 563/563 [00:00<00:00, 3159.85it/s]\n",
      "100%|██████████| 500/500 [00:00<00:00, 3202.46it/s]\n",
      "100%|██████████| 590/590 [00:00<00:00, 2814.09it/s]\n",
      "100%|██████████| 495/495 [00:00<00:00, 3409.02it/s]\n",
      "100%|██████████| 719/719 [00:00<00:00, 1879.52it/s]\n",
      "100%|██████████| 594/594 [00:00<00:00, 2587.62it/s]\n",
      "100%|██████████| 627/627 [00:00<00:00, 2477.73it/s]\n",
      "100%|██████████| 452/452 [00:00<00:00, 3853.14it/s]\n",
      "100%|██████████| 713/713 [00:00<00:00, 2085.73it/s]\n",
      "100%|██████████| 892/892 [00:00<00:00, 1597.22it/s]\n",
      "100%|██████████| 707/707 [00:00<00:00, 2233.55it/s]\n",
      "100%|██████████| 572/572 [00:00<00:00, 2605.73it/s]\n",
      "100%|██████████| 529/529 [00:00<00:00, 3098.76it/s]\n",
      "100%|██████████| 714/714 [00:00<00:00, 2130.90it/s]\n",
      "100%|██████████| 593/593 [00:00<00:00, 2570.64it/s]\n",
      "100%|██████████| 633/633 [00:00<00:00, 2711.16it/s]\n",
      "100%|██████████| 571/571 [00:00<00:00, 2641.86it/s]\n",
      "100%|██████████| 728/728 [00:00<00:00, 2123.31it/s]\n",
      "100%|██████████| 774/774 [00:00<00:00, 1982.43it/s]\n",
      "100%|██████████| 648/648 [00:00<00:00, 2308.86it/s]\n",
      "100%|██████████| 513/513 [00:00<00:00, 3035.63it/s]\n",
      "100%|██████████| 903/903 [00:00<00:00, 1670.78it/s]\n",
      "100%|██████████| 189/189 [00:00<00:00, 9974.38it/s]\n",
      "100%|██████████| 12/12 [00:00<00:00, 12038.18it/s]\n",
      "100%|██████████| 1039/1039 [00:00<00:00, 1112.07it/s]\n",
      "100%|██████████| 48/48 [00:00<00:00, 9605.73it/s]\n",
      "100%|██████████| 449/449 [00:00<00:00, 1235.11it/s]\n",
      "100%|██████████| 20/20 [00:00<00:00, 13254.24it/s]\n",
      "100%|██████████| 215/215 [00:00<00:00, 4437.67it/s]\n",
      "100%|██████████| 388/388 [00:00<00:00, 2349.48it/s]\n",
      "100%|██████████| 53/53 [00:00<00:00, 15058.81it/s]\n",
      "100%|██████████| 70/70 [00:00<00:00, 6381.39it/s]\n",
      "100%|██████████| 12/12 [00:00<00:00, 12023.81it/s]\n",
      "100%|██████████| 1026/1026 [00:00<00:00, 1267.28it/s]\n",
      "100%|██████████| 38/38 [00:00<00:00, 19060.46it/s]\n",
      "100%|██████████| 54/54 [00:00<00:00, 27063.26it/s]\n",
      "100%|██████████| 55/55 [00:00<00:00, 13790.45it/s]\n",
      "100%|██████████| 12/12 [00:00<00:00, 12035.31it/s]\n",
      "100%|██████████| 12/12 [00:00<?, ?it/s]\n",
      "100%|██████████| 388/388 [00:00<00:00, 3545.20it/s]\n",
      "100%|██████████| 99/99 [00:00<00:00, 14174.30it/s]\n",
      "100%|██████████| 717/717 [00:00<00:00, 1341.38it/s]\n",
      "100%|██████████| 315/315 [00:00<00:00, 4127.49it/s]\n",
      "100%|██████████| 729/729 [00:00<00:00, 2062.28it/s]\n",
      "100%|██████████| 39/39 [00:00<00:00, 18673.27it/s]\n",
      "100%|██████████| 87/87 [00:00<00:00, 12457.05it/s]\n",
      "100%|██████████| 25/25 [00:00<?, ?it/s]\n",
      "100%|██████████| 316/316 [00:00<00:00, 4087.41it/s]\n",
      "100%|██████████| 295/295 [00:00<00:00, 4929.86it/s]\n",
      "100%|██████████| 497/497 [00:00<00:00, 1438.85it/s]\n",
      "100%|██████████| 17/17 [00:00<00:00, 17066.34it/s]\n",
      "100%|██████████| 31/31 [00:00<?, ?it/s]\n",
      "100%|██████████| 36/36 [00:00<00:00, 18037.86it/s]\n",
      "100%|██████████| 1035/1035 [00:00<00:00, 1461.73it/s]\n",
      "100%|██████████| 403/403 [00:00<00:00, 3393.01it/s]\n",
      "100%|██████████| 11/11 [00:00<?, ?it/s]\n",
      "100%|██████████| 847/847 [00:00<00:00, 1767.22it/s]\n",
      "100%|██████████| 76/76 [00:00<00:00, 19057.04it/s]\n",
      "100%|██████████| 700/700 [00:00<00:00, 2111.06it/s]\n",
      "100%|██████████| 451/451 [00:00<00:00, 3116.03it/s]\n",
      "100%|██████████| 314/314 [00:00<00:00, 4113.62it/s]\n",
      "100%|██████████| 23/23 [00:00<00:00, 23084.23it/s]\n",
      "100%|██████████| 367/367 [00:00<00:00, 3993.73it/s]\n",
      "100%|██████████| 215/215 [00:00<00:00, 7432.30it/s]\n",
      "100%|██████████| 25/25 [00:00<00:00, 12551.78it/s]\n",
      "100%|██████████| 10/10 [00:00<?, ?it/s]\n",
      "100%|██████████| 406/406 [00:00<00:00, 3936.34it/s]\n",
      "100%|██████████| 412/412 [00:00<00:00, 3965.98it/s]\n",
      "100%|██████████| 42/42 [00:00<00:00, 21089.52it/s]\n",
      "100%|██████████| 57/57 [00:00<00:00, 14286.80it/s]\n",
      "100%|██████████| 383/383 [00:00<00:00, 3619.56it/s]\n",
      "100%|██████████| 74/74 [00:00<00:00, 14873.42it/s]\n",
      "100%|██████████| 28/28 [00:00<00:00, 28062.25it/s]\n",
      "100%|██████████| 14/14 [00:00<?, ?it/s]\n",
      "100%|██████████| 308/308 [00:00<00:00, 5095.62it/s]\n",
      "100%|██████████| 82/82 [00:00<00:00, 16440.39it/s]\n",
      "100%|██████████| 80/80 [00:00<00:00, 13295.73it/s]\n",
      "100%|██████████| 56/56 [00:00<00:00, 18705.19it/s]\n",
      "100%|██████████| 228/228 [00:00<00:00, 5773.79it/s]\n",
      "100%|██████████| 237/237 [00:00<00:00, 4567.99it/s]\n",
      "100%|██████████| 64/64 [00:00<00:00, 12833.36it/s]\n",
      "100%|██████████| 58/58 [00:00<00:00, 19310.18it/s]\n",
      "100%|██████████| 56/56 [00:00<00:00, 28095.82it/s]\n",
      "100%|██████████| 56/56 [00:00<00:00, 22312.25it/s]\n",
      "100%|██████████| 68/68 [00:00<00:00, 17057.15it/s]\n",
      "100%|██████████| 389/389 [00:00<00:00, 4125.79it/s]\n",
      "100%|██████████| 700/700 [00:00<00:00, 2277.12it/s]\n",
      "100%|██████████| 511/511 [00:00<00:00, 3282.50it/s]\n",
      "100%|██████████| 730/730 [00:00<00:00, 1991.16it/s]\n",
      "100%|██████████| 303/303 [00:00<00:00, 4931.83it/s]\n",
      "100%|██████████| 604/604 [00:00<00:00, 2498.85it/s]\n",
      "100%|██████████| 158/158 [00:00<00:00, 8333.02it/s]\n",
      "100%|██████████| 111/111 [00:00<00:00, 8876.07it/s]\n",
      "100%|██████████| 15/15 [00:00<00:00, 15036.94it/s]\n",
      "100%|██████████| 412/412 [00:00<00:00, 3370.90it/s]\n",
      "100%|██████████| 175/175 [00:00<00:00, 10321.79it/s]\n",
      "100%|██████████| 172/172 [00:00<00:00, 10142.99it/s]\n",
      "100%|██████████| 182/182 [00:00<00:00, 9513.26it/s]\n",
      "100%|██████████| 170/170 [00:00<00:00, 8972.56it/s]\n",
      "100%|██████████| 313/313 [00:00<00:00, 4018.84it/s]\n",
      "100%|██████████| 295/295 [00:00<00:00, 5099.62it/s]\n",
      "100%|██████████| 375/375 [00:00<00:00, 3834.24it/s]\n",
      "100%|██████████| 317/317 [00:00<00:00, 4811.08it/s]\n",
      "100%|██████████| 305/305 [00:00<00:00, 4727.85it/s]\n",
      "100%|██████████| 351/351 [00:00<00:00, 2984.21it/s]\n",
      "100%|██████████| 322/322 [00:00<00:00, 4449.02it/s]\n",
      "100%|██████████| 386/386 [00:00<00:00, 3626.99it/s]\n",
      "100%|██████████| 16/16 [00:00<00:00, 16047.07it/s]\n",
      "100%|██████████| 28/28 [00:00<00:00, 14041.19it/s]\n",
      "100%|██████████| 19/19 [00:00<?, ?it/s]\n",
      "100%|██████████| 23/23 [00:00<00:00, 23111.88it/s]\n",
      "100%|██████████| 19/19 [00:00<00:00, 19065.02it/s]\n",
      "100%|██████████| 23/23 [00:00<00:00, 23051.13it/s]\n",
      "100%|██████████| 26/26 [00:00<00:00, 25989.49it/s]\n",
      "100%|██████████| 23/23 [00:00<?, ?it/s]\n",
      "100%|██████████| 21/21 [00:00<00:00, 21066.82it/s]\n",
      "100%|██████████| 186/186 [00:00<00:00, 8617.00it/s]\n",
      "100%|██████████| 14/14 [00:00<?, ?it/s]\n",
      "100%|██████████| 18/18 [00:00<00:00, 17997.01it/s]\n",
      "100%|██████████| 112/112 [00:00<00:00, 13187.41it/s]\n",
      "100%|██████████| 15/15 [00:00<00:00, 15033.35it/s]\n"
     ]
    }
   ],
   "source": [
    "cliff_pairs = get_cliffs(unpivoted, threshold_affinity=1, threshold_similarity=0.9)"
   ],
   "metadata": {
    "collapsed": false,
    "ExecuteTime": {
     "end_time": "2024-04-16T20:04:10.231535500Z",
     "start_time": "2024-04-16T20:03:06.051174400Z"
    }
   },
   "id": "6f285b26724742f1"
  },
  {
   "cell_type": "code",
   "execution_count": 84,
   "outputs": [
    {
     "data": {
      "text/plain": "               drug1          drug2  cliff  target  \\\n0      CHEMBL1087421  CHEMBL1088633      0  O00141   \n1       CHEMBL206783   CHEMBL207037      0  O00141   \n2       CHEMBL206783   CHEMBL207246      0  O00141   \n3       CHEMBL206783   CHEMBL207584      0  O00141   \n4       CHEMBL206783   CHEMBL207674      0  O00141   \n...              ...            ...    ...     ...   \n80512   CHEMBL456936   CHEMBL517956      0  Q16512   \n80513   CHEMBL456936   CHEMBL518060      0  Q16512   \n80514   CHEMBL515982   CHEMBL517956      0  Q16512   \n80515   CHEMBL515982   CHEMBL518060      0  Q16512   \n80516   CHEMBL517956   CHEMBL518060      0  Q16512   \n\n                                                 smiles1  \\\n0          COC1=C(C=C2C(=C1)CCN=C2C3=CC(=C(C=C3)Cl)Cl)Cl   \n1      COC1=C(C=C2C(=C1)N=CN=C2NC3=C(C(=CC=C3)Cl)F)CN...   \n2      COC1=C(C=C2C(=C1)N=CN=C2NC3=C(C(=CC=C3)Cl)F)CN...   \n3      COC1=C(C=C2C(=C1)N=CN=C2NC3=C(C(=CC=C3)Cl)F)CN...   \n4      COC1=C(C=C2C(=C1)N=CN=C2NC3=C(C(=CC=C3)Cl)F)CN...   \n...                                                  ...   \n80512  CC1=C(C=C(C=C1)O)CCC2C3CCC(C3(CCC2=O)C)C(C)CCC...   \n80513  CC1=C(C=C(C=C1)O)CCC2C3CCC(C3(CCC2=O)C)C(C)CCC...   \n80514  CC1=C(C=C(C=C1)O)CCC2C3CCC(C3(CCC2O)C)C(C)CCC(...   \n80515  CC1=C(C=C(C=C1)O)CCC2C3CCC(C3(CCC2O)C)C(C)CCC(...   \n80516  CC1=C(C=C(C=C1)O)CCC2C3CCC(C3(CCC2O)C)C(C)CCCC...   \n\n                                                 smiles2  \n0              COC1=C(C=C2C(=C1)CCN=C2C3=CC(=CC=C3)Cl)Cl  \n1      COC1=C(C=C2C(=C1)N=CN=C2NC3=C(C(=CC=C3)Cl)F)CN...  \n2      COC1=C(C=C2C(=C1)N=CN=C2NC3=C(C(=CC=C3)Cl)F)CN...  \n3      COC1=C(C=C2C(=C1)N=CN=C2NC3=C(C(=CC=C3)Cl)F)CN...  \n4      COC1=C(C=C2C(=C1)N=CN=C2NC3=C(C(=CC=C3)Cl)F)CN...  \n...                                                  ...  \n80512  CC1=C(C=C(C=C1)O)CCC2C3CCC(C3(CCC2O)C)C(C)CCCC...  \n80513  CC1=C(C=C(C=C1)O)CCC2C3CCC(C3(CCC2=O)C)C(C)C=C...  \n80514  CC1=C(C=C(C=C1)O)CCC2C3CCC(C3(CCC2O)C)C(C)CCCC...  \n80515  CC1=C(C=C(C=C1)O)CCC2C3CCC(C3(CCC2=O)C)C(C)C=C...  \n80516  CC1=C(C=C(C=C1)O)CCC2C3CCC(C3(CCC2=O)C)C(C)C=C...  \n\n[80517 rows x 6 columns]",
      "text/html": "<div>\n<style scoped>\n    .dataframe tbody tr th:only-of-type {\n        vertical-align: middle;\n    }\n\n    .dataframe tbody tr th {\n        vertical-align: top;\n    }\n\n    .dataframe thead th {\n        text-align: right;\n    }\n</style>\n<table border=\"1\" class=\"dataframe\">\n  <thead>\n    <tr style=\"text-align: right;\">\n      <th></th>\n      <th>drug1</th>\n      <th>drug2</th>\n      <th>cliff</th>\n      <th>target</th>\n      <th>smiles1</th>\n      <th>smiles2</th>\n    </tr>\n  </thead>\n  <tbody>\n    <tr>\n      <th>0</th>\n      <td>CHEMBL1087421</td>\n      <td>CHEMBL1088633</td>\n      <td>0</td>\n      <td>O00141</td>\n      <td>COC1=C(C=C2C(=C1)CCN=C2C3=CC(=C(C=C3)Cl)Cl)Cl</td>\n      <td>COC1=C(C=C2C(=C1)CCN=C2C3=CC(=CC=C3)Cl)Cl</td>\n    </tr>\n    <tr>\n      <th>1</th>\n      <td>CHEMBL206783</td>\n      <td>CHEMBL207037</td>\n      <td>0</td>\n      <td>O00141</td>\n      <td>COC1=C(C=C2C(=C1)N=CN=C2NC3=C(C(=CC=C3)Cl)F)CN...</td>\n      <td>COC1=C(C=C2C(=C1)N=CN=C2NC3=C(C(=CC=C3)Cl)F)CN...</td>\n    </tr>\n    <tr>\n      <th>2</th>\n      <td>CHEMBL206783</td>\n      <td>CHEMBL207246</td>\n      <td>0</td>\n      <td>O00141</td>\n      <td>COC1=C(C=C2C(=C1)N=CN=C2NC3=C(C(=CC=C3)Cl)F)CN...</td>\n      <td>COC1=C(C=C2C(=C1)N=CN=C2NC3=C(C(=CC=C3)Cl)F)CN...</td>\n    </tr>\n    <tr>\n      <th>3</th>\n      <td>CHEMBL206783</td>\n      <td>CHEMBL207584</td>\n      <td>0</td>\n      <td>O00141</td>\n      <td>COC1=C(C=C2C(=C1)N=CN=C2NC3=C(C(=CC=C3)Cl)F)CN...</td>\n      <td>COC1=C(C=C2C(=C1)N=CN=C2NC3=C(C(=CC=C3)Cl)F)CN...</td>\n    </tr>\n    <tr>\n      <th>4</th>\n      <td>CHEMBL206783</td>\n      <td>CHEMBL207674</td>\n      <td>0</td>\n      <td>O00141</td>\n      <td>COC1=C(C=C2C(=C1)N=CN=C2NC3=C(C(=CC=C3)Cl)F)CN...</td>\n      <td>COC1=C(C=C2C(=C1)N=CN=C2NC3=C(C(=CC=C3)Cl)F)CN...</td>\n    </tr>\n    <tr>\n      <th>...</th>\n      <td>...</td>\n      <td>...</td>\n      <td>...</td>\n      <td>...</td>\n      <td>...</td>\n      <td>...</td>\n    </tr>\n    <tr>\n      <th>80512</th>\n      <td>CHEMBL456936</td>\n      <td>CHEMBL517956</td>\n      <td>0</td>\n      <td>Q16512</td>\n      <td>CC1=C(C=C(C=C1)O)CCC2C3CCC(C3(CCC2=O)C)C(C)CCC...</td>\n      <td>CC1=C(C=C(C=C1)O)CCC2C3CCC(C3(CCC2O)C)C(C)CCCC...</td>\n    </tr>\n    <tr>\n      <th>80513</th>\n      <td>CHEMBL456936</td>\n      <td>CHEMBL518060</td>\n      <td>0</td>\n      <td>Q16512</td>\n      <td>CC1=C(C=C(C=C1)O)CCC2C3CCC(C3(CCC2=O)C)C(C)CCC...</td>\n      <td>CC1=C(C=C(C=C1)O)CCC2C3CCC(C3(CCC2=O)C)C(C)C=C...</td>\n    </tr>\n    <tr>\n      <th>80514</th>\n      <td>CHEMBL515982</td>\n      <td>CHEMBL517956</td>\n      <td>0</td>\n      <td>Q16512</td>\n      <td>CC1=C(C=C(C=C1)O)CCC2C3CCC(C3(CCC2O)C)C(C)CCC(...</td>\n      <td>CC1=C(C=C(C=C1)O)CCC2C3CCC(C3(CCC2O)C)C(C)CCCC...</td>\n    </tr>\n    <tr>\n      <th>80515</th>\n      <td>CHEMBL515982</td>\n      <td>CHEMBL518060</td>\n      <td>0</td>\n      <td>Q16512</td>\n      <td>CC1=C(C=C(C=C1)O)CCC2C3CCC(C3(CCC2O)C)C(C)CCC(...</td>\n      <td>CC1=C(C=C(C=C1)O)CCC2C3CCC(C3(CCC2=O)C)C(C)C=C...</td>\n    </tr>\n    <tr>\n      <th>80516</th>\n      <td>CHEMBL517956</td>\n      <td>CHEMBL518060</td>\n      <td>0</td>\n      <td>Q16512</td>\n      <td>CC1=C(C=C(C=C1)O)CCC2C3CCC(C3(CCC2O)C)C(C)CCCC...</td>\n      <td>CC1=C(C=C(C=C1)O)CCC2C3CCC(C3(CCC2=O)C)C(C)C=C...</td>\n    </tr>\n  </tbody>\n</table>\n<p>80517 rows × 6 columns</p>\n</div>"
     },
     "execution_count": 84,
     "metadata": {},
     "output_type": "execute_result"
    }
   ],
   "source": [
    "cliff_pairs"
   ],
   "metadata": {
    "collapsed": false,
    "ExecuteTime": {
     "end_time": "2024-04-16T20:04:57.160219400Z",
     "start_time": "2024-04-16T20:04:57.034254300Z"
    }
   },
   "id": "9aae0b67f7109a86"
  },
  {
   "cell_type": "code",
   "execution_count": null,
   "outputs": [],
   "source": [
    "cliff_pairs.to_csv('../analysis/kiba_cliff_pairs_ta1_ts0.9.csv', index=False)"
   ],
   "metadata": {
    "collapsed": false
   },
   "id": "3cb996b5e695837"
  },
  {
   "cell_type": "markdown",
   "source": [
    "# Visualization"
   ],
   "metadata": {
    "collapsed": false
   },
   "id": "8be42e6b0ca13d63"
  },
  {
   "cell_type": "code",
   "execution_count": 57,
   "outputs": [],
   "source": [
    "cliff_pairs = pd.read_csv('../analysis/kiba_cliff_pairs_ta1_ts0.9.csv')"
   ],
   "metadata": {
    "collapsed": false,
    "ExecuteTime": {
     "end_time": "2024-04-16T19:41:10.221534200Z",
     "start_time": "2024-04-16T19:41:10.114052Z"
    }
   },
   "id": "cf4c76d54388056a"
  },
  {
   "cell_type": "code",
   "execution_count": 86,
   "outputs": [
    {
     "data": {
      "text/plain": "cliff                       0   1\ndrug1        drug2               \nCHEMBL100102 CHEMBL327291  14   0\n             CHEMBL95737   14   0\n             CHEMBL97026   14   0\n             CHEMBL97448   14   0\n             CHEMBL97768   14   0\n...                        ..  ..\nCHEMBL97448  CHEMBL97768    3  11\n             CHEMBL97796   14   0\nCHEMBL97768  CHEMBL97796    3  11\nCHEMBL98721  CHEMBL99572   11   3\nCHEMBL99743  CHEMBL104067  23   1\n\n[2627 rows x 2 columns]",
      "text/html": "<div>\n<style scoped>\n    .dataframe tbody tr th:only-of-type {\n        vertical-align: middle;\n    }\n\n    .dataframe tbody tr th {\n        vertical-align: top;\n    }\n\n    .dataframe thead th {\n        text-align: right;\n    }\n</style>\n<table border=\"1\" class=\"dataframe\">\n  <thead>\n    <tr style=\"text-align: right;\">\n      <th></th>\n      <th>cliff</th>\n      <th>0</th>\n      <th>1</th>\n    </tr>\n    <tr>\n      <th>drug1</th>\n      <th>drug2</th>\n      <th></th>\n      <th></th>\n    </tr>\n  </thead>\n  <tbody>\n    <tr>\n      <th rowspan=\"5\" valign=\"top\">CHEMBL100102</th>\n      <th>CHEMBL327291</th>\n      <td>14</td>\n      <td>0</td>\n    </tr>\n    <tr>\n      <th>CHEMBL95737</th>\n      <td>14</td>\n      <td>0</td>\n    </tr>\n    <tr>\n      <th>CHEMBL97026</th>\n      <td>14</td>\n      <td>0</td>\n    </tr>\n    <tr>\n      <th>CHEMBL97448</th>\n      <td>14</td>\n      <td>0</td>\n    </tr>\n    <tr>\n      <th>CHEMBL97768</th>\n      <td>14</td>\n      <td>0</td>\n    </tr>\n    <tr>\n      <th>...</th>\n      <th>...</th>\n      <td>...</td>\n      <td>...</td>\n    </tr>\n    <tr>\n      <th rowspan=\"2\" valign=\"top\">CHEMBL97448</th>\n      <th>CHEMBL97768</th>\n      <td>3</td>\n      <td>11</td>\n    </tr>\n    <tr>\n      <th>CHEMBL97796</th>\n      <td>14</td>\n      <td>0</td>\n    </tr>\n    <tr>\n      <th>CHEMBL97768</th>\n      <th>CHEMBL97796</th>\n      <td>3</td>\n      <td>11</td>\n    </tr>\n    <tr>\n      <th>CHEMBL98721</th>\n      <th>CHEMBL99572</th>\n      <td>11</td>\n      <td>3</td>\n    </tr>\n    <tr>\n      <th>CHEMBL99743</th>\n      <th>CHEMBL104067</th>\n      <td>23</td>\n      <td>1</td>\n    </tr>\n  </tbody>\n</table>\n<p>2627 rows × 2 columns</p>\n</div>"
     },
     "execution_count": 86,
     "metadata": {},
     "output_type": "execute_result"
    }
   ],
   "source": [
    "cliff_pivot = cliff_pairs.pivot_table(index=['drug1', 'drug2'], columns='cliff', aggfunc='size', fill_value=0)\n",
    "cliff_pivot"
   ],
   "metadata": {
    "collapsed": false,
    "ExecuteTime": {
     "end_time": "2024-04-16T20:05:57.523088100Z",
     "start_time": "2024-04-16T20:05:57.378546Z"
    }
   },
   "id": "e3749ca857782f5b"
  },
  {
   "cell_type": "code",
   "execution_count": 60,
   "outputs": [
    {
     "data": {
      "text/plain": "cliff                       0   1  total_count  proportion_of_1\ndrug1        drug2                                             \nCHEMBL100102 CHEMBL327291  14   0           14         0.000000\n             CHEMBL95737   14   0           14         0.000000\n             CHEMBL97026   14   0           14         0.000000\n             CHEMBL97448   14   0           14         0.000000\n             CHEMBL97768   14   0           14         0.000000\n...                        ..  ..          ...              ...\nCHEMBL97448  CHEMBL97768    3  11           14         0.785714\n             CHEMBL97796   14   0           14         0.000000\nCHEMBL97768  CHEMBL97796    3  11           14         0.785714\nCHEMBL98721  CHEMBL99572   11   3           14         0.214286\nCHEMBL99743  CHEMBL104067  23   1           24         0.041667\n\n[2627 rows x 4 columns]",
      "text/html": "<div>\n<style scoped>\n    .dataframe tbody tr th:only-of-type {\n        vertical-align: middle;\n    }\n\n    .dataframe tbody tr th {\n        vertical-align: top;\n    }\n\n    .dataframe thead th {\n        text-align: right;\n    }\n</style>\n<table border=\"1\" class=\"dataframe\">\n  <thead>\n    <tr style=\"text-align: right;\">\n      <th></th>\n      <th>cliff</th>\n      <th>0</th>\n      <th>1</th>\n      <th>total_count</th>\n      <th>proportion_of_1</th>\n    </tr>\n    <tr>\n      <th>drug1</th>\n      <th>drug2</th>\n      <th></th>\n      <th></th>\n      <th></th>\n      <th></th>\n    </tr>\n  </thead>\n  <tbody>\n    <tr>\n      <th rowspan=\"5\" valign=\"top\">CHEMBL100102</th>\n      <th>CHEMBL327291</th>\n      <td>14</td>\n      <td>0</td>\n      <td>14</td>\n      <td>0.000000</td>\n    </tr>\n    <tr>\n      <th>CHEMBL95737</th>\n      <td>14</td>\n      <td>0</td>\n      <td>14</td>\n      <td>0.000000</td>\n    </tr>\n    <tr>\n      <th>CHEMBL97026</th>\n      <td>14</td>\n      <td>0</td>\n      <td>14</td>\n      <td>0.000000</td>\n    </tr>\n    <tr>\n      <th>CHEMBL97448</th>\n      <td>14</td>\n      <td>0</td>\n      <td>14</td>\n      <td>0.000000</td>\n    </tr>\n    <tr>\n      <th>CHEMBL97768</th>\n      <td>14</td>\n      <td>0</td>\n      <td>14</td>\n      <td>0.000000</td>\n    </tr>\n    <tr>\n      <th>...</th>\n      <th>...</th>\n      <td>...</td>\n      <td>...</td>\n      <td>...</td>\n      <td>...</td>\n    </tr>\n    <tr>\n      <th rowspan=\"2\" valign=\"top\">CHEMBL97448</th>\n      <th>CHEMBL97768</th>\n      <td>3</td>\n      <td>11</td>\n      <td>14</td>\n      <td>0.785714</td>\n    </tr>\n    <tr>\n      <th>CHEMBL97796</th>\n      <td>14</td>\n      <td>0</td>\n      <td>14</td>\n      <td>0.000000</td>\n    </tr>\n    <tr>\n      <th>CHEMBL97768</th>\n      <th>CHEMBL97796</th>\n      <td>3</td>\n      <td>11</td>\n      <td>14</td>\n      <td>0.785714</td>\n    </tr>\n    <tr>\n      <th>CHEMBL98721</th>\n      <th>CHEMBL99572</th>\n      <td>11</td>\n      <td>3</td>\n      <td>14</td>\n      <td>0.214286</td>\n    </tr>\n    <tr>\n      <th>CHEMBL99743</th>\n      <th>CHEMBL104067</th>\n      <td>23</td>\n      <td>1</td>\n      <td>24</td>\n      <td>0.041667</td>\n    </tr>\n  </tbody>\n</table>\n<p>2627 rows × 4 columns</p>\n</div>"
     },
     "execution_count": 60,
     "metadata": {},
     "output_type": "execute_result"
    }
   ],
   "source": [
    "cliff_pivot['total_count'] = cliff_pivot[0] + cliff_pivot[1]\n",
    "\n",
    "# Calculate the proportion of 1s in pairs\n",
    "cliff_pivot['proportion_of_1'] = cliff_pivot[1] / cliff_pivot['total_count']\n",
    "cliff_pivot"
   ],
   "metadata": {
    "collapsed": false,
    "ExecuteTime": {
     "end_time": "2024-04-16T19:41:52.659245100Z",
     "start_time": "2024-04-16T19:41:52.492383200Z"
    }
   },
   "id": "8b313f714baec9bb"
  },
  {
   "cell_type": "code",
   "execution_count": 63,
   "outputs": [
    {
     "data": {
      "text/plain": "<Figure size 1000x600 with 1 Axes>",
      "image/png": "[encoded data removed]"
     },
     "metadata": {},
     "output_type": "display_data"
    }
   ],
   "source": [
    "cliff_pivot_reset = cliff_pivot.reset_index()\n",
    "\n",
    "plt.figure(figsize=(10, 6))\n",
    "plt.hist(cliff_pivot_reset['proportion_of_1'].to_numpy(), color='blue', alpha=0.5, bins=50)\n",
    "plt.xlabel('Proportion of 1s')\n",
    "plt.ylabel('Pairs');"
   ],
   "metadata": {
    "collapsed": false,
    "ExecuteTime": {
     "end_time": "2024-04-16T19:42:22.205920500Z",
     "start_time": "2024-04-16T19:42:21.928362500Z"
    }
   },
   "id": "86d7bbb7b05d285e"
  },
  {
   "cell_type": "code",
   "execution_count": 66,
   "outputs": [
    {
     "data": {
      "text/plain": "<Figure size 1000x600 with 1 Axes>",
      "image/png": "[encoded data removed]"
     },
     "metadata": {},
     "output_type": "display_data"
    }
   ],
   "source": [
    "get_hist_prop(cliff_pivot, 'proportion_of_1')"
   ],
   "metadata": {
    "collapsed": false,
    "ExecuteTime": {
     "end_time": "2024-04-16T19:43:03.404959600Z",
     "start_time": "2024-04-16T19:43:02.040370300Z"
    }
   },
   "id": "25dce12c492becf7"
  },
  {
   "cell_type": "code",
   "execution_count": 67,
   "outputs": [
    {
     "data": {
      "text/plain": "(2627, 795, 72)"
     },
     "execution_count": 67,
     "metadata": {},
     "output_type": "execute_result"
    }
   ],
   "source": [
    "len(cliff_pivot_reset), len(cliff_pivot_reset[cliff_pivot_reset['proportion_of_1'] == 0]), len(cliff_pivot_reset[cliff_pivot_reset['proportion_of_1'] == 1])"
   ],
   "metadata": {
    "collapsed": false,
    "ExecuteTime": {
     "end_time": "2024-04-16T19:43:39.116680500Z",
     "start_time": "2024-04-16T19:43:38.951197900Z"
    }
   },
   "id": "f8cbee46b7876e43"
  },
  {
   "cell_type": "code",
   "execution_count": 68,
   "outputs": [
    {
     "data": {
      "text/plain": "1760"
     },
     "execution_count": 68,
     "metadata": {},
     "output_type": "execute_result"
    }
   ],
   "source": [
    "len(cliff_pivot_reset[(cliff_pivot_reset['proportion_of_1'] != 0) & (cliff_pivot_reset['proportion_of_1'] != 1)])"
   ],
   "metadata": {
    "collapsed": false,
    "ExecuteTime": {
     "end_time": "2024-04-16T19:43:46.253395200Z",
     "start_time": "2024-04-16T19:43:46.148532600Z"
    }
   },
   "id": "e920ea354545b7d9"
  },
  {
   "cell_type": "markdown",
   "source": [
    "# Split data"
   ],
   "metadata": {
    "collapsed": false
   },
   "id": "28bb6d4350ab9644"
  },
  {
   "cell_type": "markdown",
   "source": [
    "Out of 2627 drug pairs, 795 do not exhibit ACs (as it was expected) and 72 pairs does show AC exclusively. Moreover, there exists 1760 of compounds that demonstrate both non-AC and AC.\n"
   ],
   "metadata": {
    "collapsed": false
   },
   "id": "56601bed803953d7"
  },
  {
   "cell_type": "code",
   "execution_count": 87,
   "outputs": [
    {
     "data": {
      "text/plain": "               drug1          drug2  cliff  target  \\\n0      CHEMBL1087421  CHEMBL1088633      0  O00141   \n1       CHEMBL206783   CHEMBL207037      0  O00141   \n2       CHEMBL206783   CHEMBL207246      0  O00141   \n3       CHEMBL206783   CHEMBL207584      0  O00141   \n4       CHEMBL206783   CHEMBL207674      0  O00141   \n...              ...            ...    ...     ...   \n80512   CHEMBL456936   CHEMBL517956      0  Q16512   \n80513   CHEMBL456936   CHEMBL518060      0  Q16512   \n80514   CHEMBL515982   CHEMBL517956      0  Q16512   \n80515   CHEMBL515982   CHEMBL518060      0  Q16512   \n80516   CHEMBL517956   CHEMBL518060      0  Q16512   \n\n                                                 smiles1  \\\n0          COC1=C(C=C2C(=C1)CCN=C2C3=CC(=C(C=C3)Cl)Cl)Cl   \n1      COC1=C(C=C2C(=C1)N=CN=C2NC3=C(C(=CC=C3)Cl)F)CN...   \n2      COC1=C(C=C2C(=C1)N=CN=C2NC3=C(C(=CC=C3)Cl)F)CN...   \n3      COC1=C(C=C2C(=C1)N=CN=C2NC3=C(C(=CC=C3)Cl)F)CN...   \n4      COC1=C(C=C2C(=C1)N=CN=C2NC3=C(C(=CC=C3)Cl)F)CN...   \n...                                                  ...   \n80512  CC1=C(C=C(C=C1)O)CCC2C3CCC(C3(CCC2=O)C)C(C)CCC...   \n80513  CC1=C(C=C(C=C1)O)CCC2C3CCC(C3(CCC2=O)C)C(C)CCC...   \n80514  CC1=C(C=C(C=C1)O)CCC2C3CCC(C3(CCC2O)C)C(C)CCC(...   \n80515  CC1=C(C=C(C=C1)O)CCC2C3CCC(C3(CCC2O)C)C(C)CCC(...   \n80516  CC1=C(C=C(C=C1)O)CCC2C3CCC(C3(CCC2O)C)C(C)CCCC...   \n\n                                                 smiles2  \n0              COC1=C(C=C2C(=C1)CCN=C2C3=CC(=CC=C3)Cl)Cl  \n1      COC1=C(C=C2C(=C1)N=CN=C2NC3=C(C(=CC=C3)Cl)F)CN...  \n2      COC1=C(C=C2C(=C1)N=CN=C2NC3=C(C(=CC=C3)Cl)F)CN...  \n3      COC1=C(C=C2C(=C1)N=CN=C2NC3=C(C(=CC=C3)Cl)F)CN...  \n4      COC1=C(C=C2C(=C1)N=CN=C2NC3=C(C(=CC=C3)Cl)F)CN...  \n...                                                  ...  \n80512  CC1=C(C=C(C=C1)O)CCC2C3CCC(C3(CCC2O)C)C(C)CCCC...  \n80513  CC1=C(C=C(C=C1)O)CCC2C3CCC(C3(CCC2=O)C)C(C)C=C...  \n80514  CC1=C(C=C(C=C1)O)CCC2C3CCC(C3(CCC2O)C)C(C)CCCC...  \n80515  CC1=C(C=C(C=C1)O)CCC2C3CCC(C3(CCC2=O)C)C(C)C=C...  \n80516  CC1=C(C=C(C=C1)O)CCC2C3CCC(C3(CCC2=O)C)C(C)C=C...  \n\n[80517 rows x 6 columns]",
      "text/html": "<div>\n<style scoped>\n    .dataframe tbody tr th:only-of-type {\n        vertical-align: middle;\n    }\n\n    .dataframe tbody tr th {\n        vertical-align: top;\n    }\n\n    .dataframe thead th {\n        text-align: right;\n    }\n</style>\n<table border=\"1\" class=\"dataframe\">\n  <thead>\n    <tr style=\"text-align: right;\">\n      <th></th>\n      <th>drug1</th>\n      <th>drug2</th>\n      <th>cliff</th>\n      <th>target</th>\n      <th>smiles1</th>\n      <th>smiles2</th>\n    </tr>\n  </thead>\n  <tbody>\n    <tr>\n      <th>0</th>\n      <td>CHEMBL1087421</td>\n      <td>CHEMBL1088633</td>\n      <td>0</td>\n      <td>O00141</td>\n      <td>COC1=C(C=C2C(=C1)CCN=C2C3=CC(=C(C=C3)Cl)Cl)Cl</td>\n      <td>COC1=C(C=C2C(=C1)CCN=C2C3=CC(=CC=C3)Cl)Cl</td>\n    </tr>\n    <tr>\n      <th>1</th>\n      <td>CHEMBL206783</td>\n      <td>CHEMBL207037</td>\n      <td>0</td>\n      <td>O00141</td>\n      <td>COC1=C(C=C2C(=C1)N=CN=C2NC3=C(C(=CC=C3)Cl)F)CN...</td>\n      <td>COC1=C(C=C2C(=C1)N=CN=C2NC3=C(C(=CC=C3)Cl)F)CN...</td>\n    </tr>\n    <tr>\n      <th>2</th>\n      <td>CHEMBL206783</td>\n      <td>CHEMBL207246</td>\n      <td>0</td>\n      <td>O00141</td>\n      <td>COC1=C(C=C2C(=C1)N=CN=C2NC3=C(C(=CC=C3)Cl)F)CN...</td>\n      <td>COC1=C(C=C2C(=C1)N=CN=C2NC3=C(C(=CC=C3)Cl)F)CN...</td>\n    </tr>\n    <tr>\n      <th>3</th>\n      <td>CHEMBL206783</td>\n      <td>CHEMBL207584</td>\n      <td>0</td>\n      <td>O00141</td>\n      <td>COC1=C(C=C2C(=C1)N=CN=C2NC3=C(C(=CC=C3)Cl)F)CN...</td>\n      <td>COC1=C(C=C2C(=C1)N=CN=C2NC3=C(C(=CC=C3)Cl)F)CN...</td>\n    </tr>\n    <tr>\n      <th>4</th>\n      <td>CHEMBL206783</td>\n      <td>CHEMBL207674</td>\n      <td>0</td>\n      <td>O00141</td>\n      <td>COC1=C(C=C2C(=C1)N=CN=C2NC3=C(C(=CC=C3)Cl)F)CN...</td>\n      <td>COC1=C(C=C2C(=C1)N=CN=C2NC3=C(C(=CC=C3)Cl)F)CN...</td>\n    </tr>\n    <tr>\n      <th>...</th>\n      <td>...</td>\n      <td>...</td>\n      <td>...</td>\n      <td>...</td>\n      <td>...</td>\n      <td>...</td>\n    </tr>\n    <tr>\n      <th>80512</th>\n      <td>CHEMBL456936</td>\n      <td>CHEMBL517956</td>\n      <td>0</td>\n      <td>Q16512</td>\n      <td>CC1=C(C=C(C=C1)O)CCC2C3CCC(C3(CCC2=O)C)C(C)CCC...</td>\n      <td>CC1=C(C=C(C=C1)O)CCC2C3CCC(C3(CCC2O)C)C(C)CCCC...</td>\n    </tr>\n    <tr>\n      <th>80513</th>\n      <td>CHEMBL456936</td>\n      <td>CHEMBL518060</td>\n      <td>0</td>\n      <td>Q16512</td>\n      <td>CC1=C(C=C(C=C1)O)CCC2C3CCC(C3(CCC2=O)C)C(C)CCC...</td>\n      <td>CC1=C(C=C(C=C1)O)CCC2C3CCC(C3(CCC2=O)C)C(C)C=C...</td>\n    </tr>\n    <tr>\n      <th>80514</th>\n      <td>CHEMBL515982</td>\n      <td>CHEMBL517956</td>\n      <td>0</td>\n      <td>Q16512</td>\n      <td>CC1=C(C=C(C=C1)O)CCC2C3CCC(C3(CCC2O)C)C(C)CCC(...</td>\n      <td>CC1=C(C=C(C=C1)O)CCC2C3CCC(C3(CCC2O)C)C(C)CCCC...</td>\n    </tr>\n    <tr>\n      <th>80515</th>\n      <td>CHEMBL515982</td>\n      <td>CHEMBL518060</td>\n      <td>0</td>\n      <td>Q16512</td>\n      <td>CC1=C(C=C(C=C1)O)CCC2C3CCC(C3(CCC2O)C)C(C)CCC(...</td>\n      <td>CC1=C(C=C(C=C1)O)CCC2C3CCC(C3(CCC2=O)C)C(C)C=C...</td>\n    </tr>\n    <tr>\n      <th>80516</th>\n      <td>CHEMBL517956</td>\n      <td>CHEMBL518060</td>\n      <td>0</td>\n      <td>Q16512</td>\n      <td>CC1=C(C=C(C=C1)O)CCC2C3CCC(C3(CCC2O)C)C(C)CCCC...</td>\n      <td>CC1=C(C=C(C=C1)O)CCC2C3CCC(C3(CCC2=O)C)C(C)C=C...</td>\n    </tr>\n  </tbody>\n</table>\n<p>80517 rows × 6 columns</p>\n</div>"
     },
     "execution_count": 87,
     "metadata": {},
     "output_type": "execute_result"
    }
   ],
   "source": [
    "cliff_pairs"
   ],
   "metadata": {
    "collapsed": false,
    "ExecuteTime": {
     "end_time": "2024-04-16T20:06:13.281851700Z",
     "start_time": "2024-04-16T20:06:13.227263600Z"
    }
   },
   "id": "bf80605b3afadddc"
  },
  {
   "cell_type": "code",
   "execution_count": 88,
   "outputs": [
    {
     "data": {
      "text/plain": "               drug1          drug2  cliff  target  \\\n0      CHEMBL1087421  CHEMBL1088633      0  O00141   \n1       CHEMBL206783   CHEMBL207037      0  O00141   \n2       CHEMBL206783   CHEMBL207246      0  O00141   \n3       CHEMBL206783   CHEMBL207584      0  O00141   \n4       CHEMBL206783   CHEMBL207674      0  O00141   \n...              ...            ...    ...     ...   \n80512   CHEMBL456936   CHEMBL517956      0  Q16512   \n80513   CHEMBL456936   CHEMBL518060      0  Q16512   \n80514   CHEMBL515982   CHEMBL517956      0  Q16512   \n80515   CHEMBL515982   CHEMBL518060      0  Q16512   \n80516   CHEMBL517956   CHEMBL518060      0  Q16512   \n\n                                                 smiles1  \\\n0          COC1=C(C=C2C(=C1)CCN=C2C3=CC(=C(C=C3)Cl)Cl)Cl   \n1      COC1=C(C=C2C(=C1)N=CN=C2NC3=C(C(=CC=C3)Cl)F)CN...   \n2      COC1=C(C=C2C(=C1)N=CN=C2NC3=C(C(=CC=C3)Cl)F)CN...   \n3      COC1=C(C=C2C(=C1)N=CN=C2NC3=C(C(=CC=C3)Cl)F)CN...   \n4      COC1=C(C=C2C(=C1)N=CN=C2NC3=C(C(=CC=C3)Cl)F)CN...   \n...                                                  ...   \n80512  CC1=C(C=C(C=C1)O)CCC2C3CCC(C3(CCC2=O)C)C(C)CCC...   \n80513  CC1=C(C=C(C=C1)O)CCC2C3CCC(C3(CCC2=O)C)C(C)CCC...   \n80514  CC1=C(C=C(C=C1)O)CCC2C3CCC(C3(CCC2O)C)C(C)CCC(...   \n80515  CC1=C(C=C(C=C1)O)CCC2C3CCC(C3(CCC2O)C)C(C)CCC(...   \n80516  CC1=C(C=C(C=C1)O)CCC2C3CCC(C3(CCC2O)C)C(C)CCCC...   \n\n                                                 smiles2  \n0              COC1=C(C=C2C(=C1)CCN=C2C3=CC(=CC=C3)Cl)Cl  \n1      COC1=C(C=C2C(=C1)N=CN=C2NC3=C(C(=CC=C3)Cl)F)CN...  \n2      COC1=C(C=C2C(=C1)N=CN=C2NC3=C(C(=CC=C3)Cl)F)CN...  \n3      COC1=C(C=C2C(=C1)N=CN=C2NC3=C(C(=CC=C3)Cl)F)CN...  \n4      COC1=C(C=C2C(=C1)N=CN=C2NC3=C(C(=CC=C3)Cl)F)CN...  \n...                                                  ...  \n80512  CC1=C(C=C(C=C1)O)CCC2C3CCC(C3(CCC2O)C)C(C)CCCC...  \n80513  CC1=C(C=C(C=C1)O)CCC2C3CCC(C3(CCC2=O)C)C(C)C=C...  \n80514  CC1=C(C=C(C=C1)O)CCC2C3CCC(C3(CCC2O)C)C(C)CCCC...  \n80515  CC1=C(C=C(C=C1)O)CCC2C3CCC(C3(CCC2=O)C)C(C)C=C...  \n80516  CC1=C(C=C(C=C1)O)CCC2C3CCC(C3(CCC2=O)C)C(C)C=C...  \n\n[80517 rows x 6 columns]",
      "text/html": "<div>\n<style scoped>\n    .dataframe tbody tr th:only-of-type {\n        vertical-align: middle;\n    }\n\n    .dataframe tbody tr th {\n        vertical-align: top;\n    }\n\n    .dataframe thead th {\n        text-align: right;\n    }\n</style>\n<table border=\"1\" class=\"dataframe\">\n  <thead>\n    <tr style=\"text-align: right;\">\n      <th></th>\n      <th>drug1</th>\n      <th>drug2</th>\n      <th>cliff</th>\n      <th>target</th>\n      <th>smiles1</th>\n      <th>smiles2</th>\n    </tr>\n  </thead>\n  <tbody>\n    <tr>\n      <th>0</th>\n      <td>CHEMBL1087421</td>\n      <td>CHEMBL1088633</td>\n      <td>0</td>\n      <td>O00141</td>\n      <td>COC1=C(C=C2C(=C1)CCN=C2C3=CC(=C(C=C3)Cl)Cl)Cl</td>\n      <td>COC1=C(C=C2C(=C1)CCN=C2C3=CC(=CC=C3)Cl)Cl</td>\n    </tr>\n    <tr>\n      <th>1</th>\n      <td>CHEMBL206783</td>\n      <td>CHEMBL207037</td>\n      <td>0</td>\n      <td>O00141</td>\n      <td>COC1=C(C=C2C(=C1)N=CN=C2NC3=C(C(=CC=C3)Cl)F)CN...</td>\n      <td>COC1=C(C=C2C(=C1)N=CN=C2NC3=C(C(=CC=C3)Cl)F)CN...</td>\n    </tr>\n    <tr>\n      <th>2</th>\n      <td>CHEMBL206783</td>\n      <td>CHEMBL207246</td>\n      <td>0</td>\n      <td>O00141</td>\n      <td>COC1=C(C=C2C(=C1)N=CN=C2NC3=C(C(=CC=C3)Cl)F)CN...</td>\n      <td>COC1=C(C=C2C(=C1)N=CN=C2NC3=C(C(=CC=C3)Cl)F)CN...</td>\n    </tr>\n    <tr>\n      <th>3</th>\n      <td>CHEMBL206783</td>\n      <td>CHEMBL207584</td>\n      <td>0</td>\n      <td>O00141</td>\n      <td>COC1=C(C=C2C(=C1)N=CN=C2NC3=C(C(=CC=C3)Cl)F)CN...</td>\n      <td>COC1=C(C=C2C(=C1)N=CN=C2NC3=C(C(=CC=C3)Cl)F)CN...</td>\n    </tr>\n    <tr>\n      <th>4</th>\n      <td>CHEMBL206783</td>\n      <td>CHEMBL207674</td>\n      <td>0</td>\n      <td>O00141</td>\n      <td>COC1=C(C=C2C(=C1)N=CN=C2NC3=C(C(=CC=C3)Cl)F)CN...</td>\n      <td>COC1=C(C=C2C(=C1)N=CN=C2NC3=C(C(=CC=C3)Cl)F)CN...</td>\n    </tr>\n    <tr>\n      <th>...</th>\n      <td>...</td>\n      <td>...</td>\n      <td>...</td>\n      <td>...</td>\n      <td>...</td>\n      <td>...</td>\n    </tr>\n    <tr>\n      <th>80512</th>\n      <td>CHEMBL456936</td>\n      <td>CHEMBL517956</td>\n      <td>0</td>\n      <td>Q16512</td>\n      <td>CC1=C(C=C(C=C1)O)CCC2C3CCC(C3(CCC2=O)C)C(C)CCC...</td>\n      <td>CC1=C(C=C(C=C1)O)CCC2C3CCC(C3(CCC2O)C)C(C)CCCC...</td>\n    </tr>\n    <tr>\n      <th>80513</th>\n      <td>CHEMBL456936</td>\n      <td>CHEMBL518060</td>\n      <td>0</td>\n      <td>Q16512</td>\n      <td>CC1=C(C=C(C=C1)O)CCC2C3CCC(C3(CCC2=O)C)C(C)CCC...</td>\n      <td>CC1=C(C=C(C=C1)O)CCC2C3CCC(C3(CCC2=O)C)C(C)C=C...</td>\n    </tr>\n    <tr>\n      <th>80514</th>\n      <td>CHEMBL515982</td>\n      <td>CHEMBL517956</td>\n      <td>0</td>\n      <td>Q16512</td>\n      <td>CC1=C(C=C(C=C1)O)CCC2C3CCC(C3(CCC2O)C)C(C)CCC(...</td>\n      <td>CC1=C(C=C(C=C1)O)CCC2C3CCC(C3(CCC2O)C)C(C)CCCC...</td>\n    </tr>\n    <tr>\n      <th>80515</th>\n      <td>CHEMBL515982</td>\n      <td>CHEMBL518060</td>\n      <td>0</td>\n      <td>Q16512</td>\n      <td>CC1=C(C=C(C=C1)O)CCC2C3CCC(C3(CCC2O)C)C(C)CCC(...</td>\n      <td>CC1=C(C=C(C=C1)O)CCC2C3CCC(C3(CCC2=O)C)C(C)C=C...</td>\n    </tr>\n    <tr>\n      <th>80516</th>\n      <td>CHEMBL517956</td>\n      <td>CHEMBL518060</td>\n      <td>0</td>\n      <td>Q16512</td>\n      <td>CC1=C(C=C(C=C1)O)CCC2C3CCC(C3(CCC2O)C)C(C)CCCC...</td>\n      <td>CC1=C(C=C(C=C1)O)CCC2C3CCC(C3(CCC2=O)C)C(C)C=C...</td>\n    </tr>\n  </tbody>\n</table>\n<p>80517 rows × 6 columns</p>\n</div>"
     },
     "execution_count": 88,
     "metadata": {},
     "output_type": "execute_result"
    }
   ],
   "source": [
    "cliff_pairs.drop_duplicates()"
   ],
   "metadata": {
    "collapsed": false,
    "ExecuteTime": {
     "end_time": "2024-04-16T20:06:16.015928300Z",
     "start_time": "2024-04-16T20:06:15.849805800Z"
    }
   },
   "id": "fb0aa8fe9275f786"
  },
  {
   "cell_type": "code",
   "execution_count": 91,
   "outputs": [],
   "source": [
    "target_ids = {t:i for i, t in enumerate(set(cliff_pairs.target))}\n",
    "json.dump(target_ids, open('../analysis/target_mapping.json', 'w'))"
   ],
   "metadata": {
    "collapsed": false,
    "ExecuteTime": {
     "end_time": "2024-04-16T20:08:52.616648100Z",
     "start_time": "2024-04-16T20:08:52.493965800Z"
    }
   },
   "id": "befe142ad8a4a376"
  },
  {
   "cell_type": "code",
   "execution_count": null,
   "outputs": [],
   "source": [
    "target_ids = load(open('../analysis/target_mapping.json'))\n",
    "cliff_pairs['target'] = cliff_pairs['target'].apply(target_ids.__getitem__)"
   ],
   "metadata": {
    "collapsed": false
   },
   "id": "b0f479046c54bb3"
  },
  {
   "cell_type": "code",
   "execution_count": 99,
   "outputs": [],
   "source": [
    "cliff_pairs_split_random = split_data(cliff_pairs, split='random')\n",
    "# cliff_pairs_split_random.to_csv('../analysis/kiba_cliff_pairs_ta1_ts0.9_r_wt.csv', index=False)"
   ],
   "metadata": {
    "collapsed": false,
    "ExecuteTime": {
     "end_time": "2024-04-16T20:12:45.728938Z",
     "start_time": "2024-04-16T20:12:45.604680500Z"
    }
   },
   "id": "3617f01c65291996"
  },
  {
   "cell_type": "code",
   "execution_count": 107,
   "outputs": [],
   "source": [
    "cliff_pairs_split_random = pd.read_csv('../analysis/kiba_cliff_pairs_ta1_ts0.9_r_wt.csv')"
   ],
   "metadata": {
    "collapsed": false,
    "ExecuteTime": {
     "end_time": "2024-04-16T20:40:39.573519200Z",
     "start_time": "2024-04-16T20:40:39.214826500Z"
    }
   },
   "id": "c7a10777e1975bb6"
  },
  {
   "cell_type": "code",
   "execution_count": 108,
   "outputs": [
    {
     "data": {
      "text/plain": "       Unnamed: 0          drug1          drug2  cliff  target  \\\n0           35134  CHEMBL1980178  CHEMBL1995712      0     177   \n1           14569  CHEMBL1983963   CHEMBL394619      0       2   \n2           15884  CHEMBL1968406  CHEMBL1982135      0     168   \n3            7058  CHEMBL1242373  CHEMBL1968406      0      12   \n4           46382  CHEMBL1970142  CHEMBL2001485      0     154   \n...           ...            ...            ...    ...     ...   \n80512       63795  CHEMBL1990254  CHEMBL1986143      0      56   \n80513       35876   CHEMBL377383   CHEMBL424872      0     118   \n80514       23515  CHEMBL1971149  CHEMBL1991678      0     188   \n80515       18871  CHEMBL1964444  CHEMBL1980540      0     182   \n80516       15672  CHEMBL1966035  CHEMBL1994864      0     220   \n\n                                                 smiles1  \\\n0      CC(=O)NC1CCCC(C1)NC2=NC(=CC(=N2)Cl)C3=CNC4=C3C...   \n1      CC1=CC(=CC=C1)NC(=O)NC2=CC=C(C=C2)C3=COC4=NC=N...   \n2      CCC1=CC(=CC=C1)NC(=O)NC2=CC3=C(C=C2)C4=C(CC3)S...   \n3      CC1=CC(=CC=C1)NC(=O)NC2=CC3=C(C=C2)C4=C(CC3)SC...   \n4      CC1=CC=C(C=C1)NC(=O)NC2=CC=C(C=C2)C3=CSC4=C3C(...   \n...                                                  ...   \n80512   C1=CC=C(C=C1)C(CN)NC(=O)C2=CC=C(C=C2)C3=CC=NC=C3   \n80513  CCOC1=C(C(=CC(=N1)C(=O)NCC2=CC=C(C=C2)S(=O)(=O...   \n80514  CC1=NC=CN2C1=NC(=C2C3=NC(=NC=C3)NCC(C)(C)C(=O)...   \n80515  CC1=CC2=C(C=CN=C2C=C1)NC(=O)NC3=CC=CC(=N3)C(F)...   \n80516        CC(C1=CC=CC=C1)NC2=C(C(=O)C2=O)NC3=CC=NC=C3   \n\n                                                 smiles2  split  \n0      CN(C)CC(=O)NC1CCCC(C1)NC2=NC(=CC(=N2)Cl)C3=CNC...      0  \n1      CC1=CC(=CC=C1)NC(=O)NC2=CC=C(C=C2)C3=CSC4=C3C(...      0  \n2      CC1=CC=CC=C1NC(=O)NC2=CC3=C(C=C2)C4=C(CC3)SC5=...      0  \n3      CCC1=CC(=CC=C1)NC(=O)NC2=CC3=C(C=C2)C4=C(CC3)S...      0  \n4      CC1=CC=C(C=C1)NC(=O)NC2=CC=C(C=C2)C3=CSC4=C3C(...      0  \n...                                                  ...    ...  \n80512  C1=CC=C(C=C1)C(CCO)NC(=O)C2=CC=C(C=C2)C3=CC=NC=C3      2  \n80513  CCOC1=C(C(=CC(=N1)C(=O)NCC2=CC=C(C=C2)S(=O)(=O...      2  \n80514  CC1=NC=CN2C1=NC(=C2C3=NC(=NC=C3)NCC(C)(C)CO)C4...      2  \n80515  C1=CC2=C(C=CN=C2C(=C1)Cl)NC(=O)NC3=CC=CC(=N3)C...      2  \n80516        CC1=CC=C(C=C1)CNC2=C(C(=O)C2=O)NC3=CC=NC=C3      2  \n\n[80517 rows x 8 columns]",
      "text/html": "<div>\n<style scoped>\n    .dataframe tbody tr th:only-of-type {\n        vertical-align: middle;\n    }\n\n    .dataframe tbody tr th {\n        vertical-align: top;\n    }\n\n    .dataframe thead th {\n        text-align: right;\n    }\n</style>\n<table border=\"1\" class=\"dataframe\">\n  <thead>\n    <tr style=\"text-align: right;\">\n      <th></th>\n      <th>Unnamed: 0</th>\n      <th>drug1</th>\n      <th>drug2</th>\n      <th>cliff</th>\n      <th>target</th>\n      <th>smiles1</th>\n      <th>smiles2</th>\n      <th>split</th>\n    </tr>\n  </thead>\n  <tbody>\n    <tr>\n      <th>0</th>\n      <td>35134</td>\n      <td>CHEMBL1980178</td>\n      <td>CHEMBL1995712</td>\n      <td>0</td>\n      <td>177</td>\n      <td>CC(=O)NC1CCCC(C1)NC2=NC(=CC(=N2)Cl)C3=CNC4=C3C...</td>\n      <td>CN(C)CC(=O)NC1CCCC(C1)NC2=NC(=CC(=N2)Cl)C3=CNC...</td>\n      <td>0</td>\n    </tr>\n    <tr>\n      <th>1</th>\n      <td>14569</td>\n      <td>CHEMBL1983963</td>\n      <td>CHEMBL394619</td>\n      <td>0</td>\n      <td>2</td>\n      <td>CC1=CC(=CC=C1)NC(=O)NC2=CC=C(C=C2)C3=COC4=NC=N...</td>\n      <td>CC1=CC(=CC=C1)NC(=O)NC2=CC=C(C=C2)C3=CSC4=C3C(...</td>\n      <td>0</td>\n    </tr>\n    <tr>\n      <th>2</th>\n      <td>15884</td>\n      <td>CHEMBL1968406</td>\n      <td>CHEMBL1982135</td>\n      <td>0</td>\n      <td>168</td>\n      <td>CCC1=CC(=CC=C1)NC(=O)NC2=CC3=C(C=C2)C4=C(CC3)S...</td>\n      <td>CC1=CC=CC=C1NC(=O)NC2=CC3=C(C=C2)C4=C(CC3)SC5=...</td>\n      <td>0</td>\n    </tr>\n    <tr>\n      <th>3</th>\n      <td>7058</td>\n      <td>CHEMBL1242373</td>\n      <td>CHEMBL1968406</td>\n      <td>0</td>\n      <td>12</td>\n      <td>CC1=CC(=CC=C1)NC(=O)NC2=CC3=C(C=C2)C4=C(CC3)SC...</td>\n      <td>CCC1=CC(=CC=C1)NC(=O)NC2=CC3=C(C=C2)C4=C(CC3)S...</td>\n      <td>0</td>\n    </tr>\n    <tr>\n      <th>4</th>\n      <td>46382</td>\n      <td>CHEMBL1970142</td>\n      <td>CHEMBL2001485</td>\n      <td>0</td>\n      <td>154</td>\n      <td>CC1=CC=C(C=C1)NC(=O)NC2=CC=C(C=C2)C3=CSC4=C3C(...</td>\n      <td>CC1=CC=C(C=C1)NC(=O)NC2=CC=C(C=C2)C3=CSC4=C3C(...</td>\n      <td>0</td>\n    </tr>\n    <tr>\n      <th>...</th>\n      <td>...</td>\n      <td>...</td>\n      <td>...</td>\n      <td>...</td>\n      <td>...</td>\n      <td>...</td>\n      <td>...</td>\n      <td>...</td>\n    </tr>\n    <tr>\n      <th>80512</th>\n      <td>63795</td>\n      <td>CHEMBL1990254</td>\n      <td>CHEMBL1986143</td>\n      <td>0</td>\n      <td>56</td>\n      <td>C1=CC=C(C=C1)C(CN)NC(=O)C2=CC=C(C=C2)C3=CC=NC=C3</td>\n      <td>C1=CC=C(C=C1)C(CCO)NC(=O)C2=CC=C(C=C2)C3=CC=NC=C3</td>\n      <td>2</td>\n    </tr>\n    <tr>\n      <th>80513</th>\n      <td>35876</td>\n      <td>CHEMBL377383</td>\n      <td>CHEMBL424872</td>\n      <td>0</td>\n      <td>118</td>\n      <td>CCOC1=C(C(=CC(=N1)C(=O)NCC2=CC=C(C=C2)S(=O)(=O...</td>\n      <td>CCOC1=C(C(=CC(=N1)C(=O)NCC2=CC=C(C=C2)S(=O)(=O...</td>\n      <td>2</td>\n    </tr>\n    <tr>\n      <th>80514</th>\n      <td>23515</td>\n      <td>CHEMBL1971149</td>\n      <td>CHEMBL1991678</td>\n      <td>0</td>\n      <td>188</td>\n      <td>CC1=NC=CN2C1=NC(=C2C3=NC(=NC=C3)NCC(C)(C)C(=O)...</td>\n      <td>CC1=NC=CN2C1=NC(=C2C3=NC(=NC=C3)NCC(C)(C)CO)C4...</td>\n      <td>2</td>\n    </tr>\n    <tr>\n      <th>80515</th>\n      <td>18871</td>\n      <td>CHEMBL1964444</td>\n      <td>CHEMBL1980540</td>\n      <td>0</td>\n      <td>182</td>\n      <td>CC1=CC2=C(C=CN=C2C=C1)NC(=O)NC3=CC=CC(=N3)C(F)...</td>\n      <td>C1=CC2=C(C=CN=C2C(=C1)Cl)NC(=O)NC3=CC=CC(=N3)C...</td>\n      <td>2</td>\n    </tr>\n    <tr>\n      <th>80516</th>\n      <td>15672</td>\n      <td>CHEMBL1966035</td>\n      <td>CHEMBL1994864</td>\n      <td>0</td>\n      <td>220</td>\n      <td>CC(C1=CC=CC=C1)NC2=C(C(=O)C2=O)NC3=CC=NC=C3</td>\n      <td>CC1=CC=C(C=C1)CNC2=C(C(=O)C2=O)NC3=CC=NC=C3</td>\n      <td>2</td>\n    </tr>\n  </tbody>\n</table>\n<p>80517 rows × 8 columns</p>\n</div>"
     },
     "execution_count": 108,
     "metadata": {},
     "output_type": "execute_result"
    }
   ],
   "source": [
    "cliff_pairs_split_random"
   ],
   "metadata": {
    "collapsed": false,
    "ExecuteTime": {
     "end_time": "2024-04-16T20:40:43.158121200Z",
     "start_time": "2024-04-16T20:40:43.124065200Z"
    }
   },
   "id": "928d4ea5612c7a1e"
  },
  {
   "cell_type": "code",
   "execution_count": 104,
   "outputs": [
    {
     "data": {
      "text/plain": "cliff\n0    70601\n1     9916\nName: count, dtype: int64"
     },
     "execution_count": 104,
     "metadata": {},
     "output_type": "execute_result"
    }
   ],
   "source": [
    "cliff_pairs_split_random['cliff'].value_counts()"
   ],
   "metadata": {
    "collapsed": false,
    "ExecuteTime": {
     "end_time": "2024-04-16T20:16:52.499112600Z",
     "start_time": "2024-04-16T20:16:52.429533400Z"
    }
   },
   "id": "4c3cfde2909d3faf"
  },
  {
   "cell_type": "code",
   "execution_count": 95,
   "outputs": [],
   "source": [
    "cliff_pairs_split_cb = split_data(cliff_pairs, split='compound-based')\n",
    "#cliff_pairs_split_cb.to_csv('../analysis/kiba_cliff_pairs_ta1_ts0.9_cb_wt.csv', index=False)"
   ],
   "metadata": {
    "collapsed": false,
    "ExecuteTime": {
     "start_time": "2024-04-16T20:11:08.709900700Z"
    }
   },
   "id": "1f3a5e8d3ee72a2e"
  },
  {
   "cell_type": "code",
   "execution_count": 96,
   "outputs": [
    {
     "data": {
      "text/plain": "cliff\n0    70601\n1     9916\nName: count, dtype: int64"
     },
     "execution_count": 96,
     "metadata": {},
     "output_type": "execute_result"
    }
   ],
   "source": [
    "cliff_pairs_split_cb['cliff'].value_counts()"
   ],
   "metadata": {
    "collapsed": false,
    "ExecuteTime": {
     "start_time": "2024-04-16T20:11:10.875088300Z"
    }
   },
   "id": "63b87a2026845ac1"
  }
 ],
 "metadata": {
  "kernelspec": {
   "display_name": "Python 3",
   "language": "python",
   "name": "python3"
  },
  "language_info": {
   "codemirror_mode": {
    "name": "ipython",
    "version": 2
   },
   "file_extension": ".py",
   "mimetype": "text/x-python",
   "name": "python",
   "nbconvert_exporter": "python",
   "pygments_lexer": "ipython2",
   "version": "2.7.6"
  }
 },
 "nbformat": 4,
 "nbformat_minor": 5
}
