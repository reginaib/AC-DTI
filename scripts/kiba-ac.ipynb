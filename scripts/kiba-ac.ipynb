{
 "cells": [
  {
   "cell_type": "code",
   "execution_count": 1,
   "outputs": [],
   "source": [
    "import pandas as pd\n",
    "\n",
    "from json import load\n",
    "from dataset import get_cliffs, split_data"
   ],
   "metadata": {
    "collapsed": false,
    "ExecuteTime": {
     "end_time": "2024-02-27T10:53:50.721440Z",
     "start_time": "2024-02-27T10:53:47.459551300Z"
    }
   },
   "id": "initial_id"
  },
  {
   "cell_type": "code",
   "outputs": [],
   "source": [
    "df = pd.read_csv('../analysis/morgan_cnn_kiba_predictions.csv')\n",
    "del df['predicted'] \n",
    "df.columns = ['drug', 'target', 'affinity']\n",
    "df['SMILES'] = df.drug.apply(drugs.get)\n",
    "df.to_csv('../analysis/morgan_cnn_kiba_affinity.csv')"
   ],
   "metadata": {
    "collapsed": false
   },
   "id": "2c6fd6f6474e495e",
   "execution_count": null
  },
  {
   "cell_type": "code",
   "execution_count": 20,
   "outputs": [],
   "source": [
    "df = pd.read_csv('../analysis/morgan_cnn_kiba_affinity.csv')"
   ],
   "metadata": {
    "collapsed": false,
    "ExecuteTime": {
     "end_time": "2024-02-22T15:19:21.767198300Z",
     "start_time": "2024-02-22T15:19:21.078204400Z"
    }
   },
   "id": "330df1c9f9da0c33"
  },
  {
   "cell_type": "code",
   "execution_count": 21,
   "outputs": [
    {
     "data": {
      "text/plain": "        Unnamed: 0           drug  target  affinity\n0                0  CHEMBL1087421  O00141  11.10000\n1                1  CHEMBL1087421  O14920  11.10000\n2                2  CHEMBL1087421  O15111  11.10000\n3                3  CHEMBL1087421  P00533  11.10000\n4                4  CHEMBL1087421  P04626  11.10000\n...            ...            ...     ...       ...\n118249      118249   CHEMBL230654  Q13554  10.49794\n118250      118250   CHEMBL230654  Q13555  10.49794\n118251      118251   CHEMBL230654  Q13557  10.49794\n118252      118252   CHEMBL230654  Q16539  10.49794\n118253      118253   CHEMBL230654  Q9UQM7  10.49794\n\n[118254 rows x 4 columns]",
      "text/html": "<div>\n<style scoped>\n    .dataframe tbody tr th:only-of-type {\n        vertical-align: middle;\n    }\n\n    .dataframe tbody tr th {\n        vertical-align: top;\n    }\n\n    .dataframe thead th {\n        text-align: right;\n    }\n</style>\n<table border=\"1\" class=\"dataframe\">\n  <thead>\n    <tr style=\"text-align: right;\">\n      <th></th>\n      <th>Unnamed: 0</th>\n      <th>drug</th>\n      <th>target</th>\n      <th>affinity</th>\n    </tr>\n  </thead>\n  <tbody>\n    <tr>\n      <th>0</th>\n      <td>0</td>\n      <td>CHEMBL1087421</td>\n      <td>O00141</td>\n      <td>11.10000</td>\n    </tr>\n    <tr>\n      <th>1</th>\n      <td>1</td>\n      <td>CHEMBL1087421</td>\n      <td>O14920</td>\n      <td>11.10000</td>\n    </tr>\n    <tr>\n      <th>2</th>\n      <td>2</td>\n      <td>CHEMBL1087421</td>\n      <td>O15111</td>\n      <td>11.10000</td>\n    </tr>\n    <tr>\n      <th>3</th>\n      <td>3</td>\n      <td>CHEMBL1087421</td>\n      <td>P00533</td>\n      <td>11.10000</td>\n    </tr>\n    <tr>\n      <th>4</th>\n      <td>4</td>\n      <td>CHEMBL1087421</td>\n      <td>P04626</td>\n      <td>11.10000</td>\n    </tr>\n    <tr>\n      <th>...</th>\n      <td>...</td>\n      <td>...</td>\n      <td>...</td>\n      <td>...</td>\n    </tr>\n    <tr>\n      <th>118249</th>\n      <td>118249</td>\n      <td>CHEMBL230654</td>\n      <td>Q13554</td>\n      <td>10.49794</td>\n    </tr>\n    <tr>\n      <th>118250</th>\n      <td>118250</td>\n      <td>CHEMBL230654</td>\n      <td>Q13555</td>\n      <td>10.49794</td>\n    </tr>\n    <tr>\n      <th>118251</th>\n      <td>118251</td>\n      <td>CHEMBL230654</td>\n      <td>Q13557</td>\n      <td>10.49794</td>\n    </tr>\n    <tr>\n      <th>118252</th>\n      <td>118252</td>\n      <td>CHEMBL230654</td>\n      <td>Q16539</td>\n      <td>10.49794</td>\n    </tr>\n    <tr>\n      <th>118253</th>\n      <td>118253</td>\n      <td>CHEMBL230654</td>\n      <td>Q9UQM7</td>\n      <td>10.49794</td>\n    </tr>\n  </tbody>\n</table>\n<p>118254 rows × 4 columns</p>\n</div>"
     },
     "execution_count": 21,
     "metadata": {},
     "output_type": "execute_result"
    }
   ],
   "source": [
    "df"
   ],
   "metadata": {
    "collapsed": false,
    "ExecuteTime": {
     "end_time": "2024-02-22T15:19:27.414505200Z",
     "start_time": "2024-02-22T15:19:27.341733700Z"
    }
   },
   "id": "891722cec33a885e"
  },
  {
   "cell_type": "code",
   "execution_count": null,
   "outputs": [],
   "source": [
    "cliff_pairs = get_cliffs(df)"
   ],
   "metadata": {
    "collapsed": false
   },
   "id": "c5c2cdfd8dace996"
  },
  {
   "cell_type": "code",
   "execution_count": null,
   "outputs": [],
   "source": [
    "cliff_pairs"
   ],
   "metadata": {
    "collapsed": false
   },
   "id": "ffb152012d109337"
  },
  {
   "cell_type": "code",
   "execution_count": null,
   "outputs": [],
   "source": [
    "cliff_pairs['cliff'].value_counts()"
   ],
   "metadata": {
    "collapsed": false
   },
   "id": "9998810d003c3615"
  },
  {
   "cell_type": "code",
   "execution_count": 6,
   "outputs": [],
   "source": [
    "cliff_pairs.to_csv('../analysis/morgan_cnn_kiba_cliff_pairs.csv', index=False)"
   ],
   "metadata": {
    "collapsed": false,
    "ExecuteTime": {
     "end_time": "2024-02-27T10:42:36.016006900Z",
     "start_time": "2024-02-27T10:42:35.885272600Z"
    }
   },
   "id": "fa9be0cf7ae02b0b"
  },
  {
   "cell_type": "code",
   "execution_count": 4,
   "outputs": [],
   "source": [
    "cliff_pairs = pd.read_csv('../analysis/morgan_cnn_kiba_cliff_pairs.csv')"
   ],
   "metadata": {
    "collapsed": false,
    "ExecuteTime": {
     "end_time": "2024-02-27T10:54:22.791795200Z",
     "start_time": "2024-02-27T10:54:22.717868200Z"
    }
   },
   "id": "deb2b9d546bb07b9"
  },
  {
   "cell_type": "code",
   "execution_count": 5,
   "outputs": [
    {
     "data": {
      "text/plain": "               drug1          drug2  cliff\n0      CHEMBL1087421  CHEMBL1088633      0\n1       CHEMBL206783   CHEMBL207037      0\n2       CHEMBL206783   CHEMBL207246      0\n3       CHEMBL206783   CHEMBL207584      0\n4       CHEMBL206783   CHEMBL207674      0\n...              ...            ...    ...\n80512   CHEMBL456936   CHEMBL517956      0\n80513   CHEMBL456936   CHEMBL518060      0\n80514   CHEMBL515982   CHEMBL517956      0\n80515   CHEMBL515982   CHEMBL518060      0\n80516   CHEMBL517956   CHEMBL518060      0\n\n[80517 rows x 3 columns]",
      "text/html": "<div>\n<style scoped>\n    .dataframe tbody tr th:only-of-type {\n        vertical-align: middle;\n    }\n\n    .dataframe tbody tr th {\n        vertical-align: top;\n    }\n\n    .dataframe thead th {\n        text-align: right;\n    }\n</style>\n<table border=\"1\" class=\"dataframe\">\n  <thead>\n    <tr style=\"text-align: right;\">\n      <th></th>\n      <th>drug1</th>\n      <th>drug2</th>\n      <th>cliff</th>\n    </tr>\n  </thead>\n  <tbody>\n    <tr>\n      <th>0</th>\n      <td>CHEMBL1087421</td>\n      <td>CHEMBL1088633</td>\n      <td>0</td>\n    </tr>\n    <tr>\n      <th>1</th>\n      <td>CHEMBL206783</td>\n      <td>CHEMBL207037</td>\n      <td>0</td>\n    </tr>\n    <tr>\n      <th>2</th>\n      <td>CHEMBL206783</td>\n      <td>CHEMBL207246</td>\n      <td>0</td>\n    </tr>\n    <tr>\n      <th>3</th>\n      <td>CHEMBL206783</td>\n      <td>CHEMBL207584</td>\n      <td>0</td>\n    </tr>\n    <tr>\n      <th>4</th>\n      <td>CHEMBL206783</td>\n      <td>CHEMBL207674</td>\n      <td>0</td>\n    </tr>\n    <tr>\n      <th>...</th>\n      <td>...</td>\n      <td>...</td>\n      <td>...</td>\n    </tr>\n    <tr>\n      <th>80512</th>\n      <td>CHEMBL456936</td>\n      <td>CHEMBL517956</td>\n      <td>0</td>\n    </tr>\n    <tr>\n      <th>80513</th>\n      <td>CHEMBL456936</td>\n      <td>CHEMBL518060</td>\n      <td>0</td>\n    </tr>\n    <tr>\n      <th>80514</th>\n      <td>CHEMBL515982</td>\n      <td>CHEMBL517956</td>\n      <td>0</td>\n    </tr>\n    <tr>\n      <th>80515</th>\n      <td>CHEMBL515982</td>\n      <td>CHEMBL518060</td>\n      <td>0</td>\n    </tr>\n    <tr>\n      <th>80516</th>\n      <td>CHEMBL517956</td>\n      <td>CHEMBL518060</td>\n      <td>0</td>\n    </tr>\n  </tbody>\n</table>\n<p>80517 rows × 3 columns</p>\n</div>"
     },
     "execution_count": 5,
     "metadata": {},
     "output_type": "execute_result"
    }
   ],
   "source": [
    "cliff_pairs"
   ],
   "metadata": {
    "collapsed": false,
    "ExecuteTime": {
     "end_time": "2024-02-27T10:54:23.484419700Z",
     "start_time": "2024-02-27T10:54:23.449699400Z"
    }
   },
   "id": "f4d4ad7f5098c5ca"
  },
  {
   "cell_type": "code",
   "execution_count": 6,
   "outputs": [],
   "source": [
    "cliff_pairs_nodup = cliff_pairs.drop_duplicates()"
   ],
   "metadata": {
    "collapsed": false,
    "ExecuteTime": {
     "end_time": "2024-02-27T10:54:49.054747900Z",
     "start_time": "2024-02-27T10:54:48.972985300Z"
    }
   },
   "id": "df17aefddba11869"
  },
  {
   "cell_type": "code",
   "execution_count": 7,
   "outputs": [
    {
     "data": {
      "text/plain": "               drug1          drug2  cliff\n146    CHEMBL1997129   CHEMBL226471      1\n194    CHEMBL2036343   CHEMBL574646      1\n199     CHEMBL379849   CHEMBL574646      1\n206     CHEMBL576989   CHEMBL578601      1\n320    CHEMBL1991577   CHEMBL466496      1\n...              ...            ...    ...\n80328  CHEMBL1241768  CHEMBL1242749      1\n80341  CHEMBL1241770  CHEMBL1242749      1\n80386  CHEMBL1242109  CHEMBL1242114      1\n80404  CHEMBL1242113  CHEMBL1242114      1\n80484  CHEMBL1242657  CHEMBL1242749      1\n\n[1832 rows x 3 columns]",
      "text/html": "<div>\n<style scoped>\n    .dataframe tbody tr th:only-of-type {\n        vertical-align: middle;\n    }\n\n    .dataframe tbody tr th {\n        vertical-align: top;\n    }\n\n    .dataframe thead th {\n        text-align: right;\n    }\n</style>\n<table border=\"1\" class=\"dataframe\">\n  <thead>\n    <tr style=\"text-align: right;\">\n      <th></th>\n      <th>drug1</th>\n      <th>drug2</th>\n      <th>cliff</th>\n    </tr>\n  </thead>\n  <tbody>\n    <tr>\n      <th>146</th>\n      <td>CHEMBL1997129</td>\n      <td>CHEMBL226471</td>\n      <td>1</td>\n    </tr>\n    <tr>\n      <th>194</th>\n      <td>CHEMBL2036343</td>\n      <td>CHEMBL574646</td>\n      <td>1</td>\n    </tr>\n    <tr>\n      <th>199</th>\n      <td>CHEMBL379849</td>\n      <td>CHEMBL574646</td>\n      <td>1</td>\n    </tr>\n    <tr>\n      <th>206</th>\n      <td>CHEMBL576989</td>\n      <td>CHEMBL578601</td>\n      <td>1</td>\n    </tr>\n    <tr>\n      <th>320</th>\n      <td>CHEMBL1991577</td>\n      <td>CHEMBL466496</td>\n      <td>1</td>\n    </tr>\n    <tr>\n      <th>...</th>\n      <td>...</td>\n      <td>...</td>\n      <td>...</td>\n    </tr>\n    <tr>\n      <th>80328</th>\n      <td>CHEMBL1241768</td>\n      <td>CHEMBL1242749</td>\n      <td>1</td>\n    </tr>\n    <tr>\n      <th>80341</th>\n      <td>CHEMBL1241770</td>\n      <td>CHEMBL1242749</td>\n      <td>1</td>\n    </tr>\n    <tr>\n      <th>80386</th>\n      <td>CHEMBL1242109</td>\n      <td>CHEMBL1242114</td>\n      <td>1</td>\n    </tr>\n    <tr>\n      <th>80404</th>\n      <td>CHEMBL1242113</td>\n      <td>CHEMBL1242114</td>\n      <td>1</td>\n    </tr>\n    <tr>\n      <th>80484</th>\n      <td>CHEMBL1242657</td>\n      <td>CHEMBL1242749</td>\n      <td>1</td>\n    </tr>\n  </tbody>\n</table>\n<p>1832 rows × 3 columns</p>\n</div>"
     },
     "execution_count": 7,
     "metadata": {},
     "output_type": "execute_result"
    }
   ],
   "source": [
    "cliff_pairs_nodup[cliff_pairs_nodup.cliff == 1]"
   ],
   "metadata": {
    "collapsed": false,
    "ExecuteTime": {
     "end_time": "2024-02-27T10:54:49.893277700Z",
     "start_time": "2024-02-27T10:54:49.834048600Z"
    }
   },
   "id": "f45982c53664f04a"
  },
  {
   "cell_type": "code",
   "execution_count": 8,
   "outputs": [],
   "source": [
    "drugs = load(open('../data/KIBA/SMILES.txt'))"
   ],
   "metadata": {
    "collapsed": false,
    "ExecuteTime": {
     "end_time": "2024-02-27T10:55:07.222655200Z",
     "start_time": "2024-02-27T10:55:07.189882600Z"
    }
   },
   "id": "afd1f4a27ea47f8a"
  },
  {
   "cell_type": "code",
   "execution_count": 9,
   "outputs": [
    {
     "name": "stderr",
     "output_type": "stream",
     "text": [
      "C:\\Users\\rena_\\AppData\\Local\\Temp\\ipykernel_46808\\1996943936.py:1: SettingWithCopyWarning: \n",
      "A value is trying to be set on a copy of a slice from a DataFrame.\n",
      "Try using .loc[row_indexer,col_indexer] = value instead\n",
      "\n",
      "See the caveats in the documentation: https://pandas.pydata.org/pandas-docs/stable/user_guide/indexing.html#returning-a-view-versus-a-copy\n",
      "  cliff_pairs_nodup['smiles1'] = cliff_pairs_nodup.drug1.apply(drugs.__getitem__)\n",
      "C:\\Users\\rena_\\AppData\\Local\\Temp\\ipykernel_46808\\1996943936.py:2: SettingWithCopyWarning: \n",
      "A value is trying to be set on a copy of a slice from a DataFrame.\n",
      "Try using .loc[row_indexer,col_indexer] = value instead\n",
      "\n",
      "See the caveats in the documentation: https://pandas.pydata.org/pandas-docs/stable/user_guide/indexing.html#returning-a-view-versus-a-copy\n",
      "  cliff_pairs_nodup['smiles2'] = cliff_pairs_nodup.drug2.apply(drugs.__getitem__)\n"
     ]
    }
   ],
   "source": [
    "cliff_pairs_nodup['smiles1'] = cliff_pairs_nodup.drug1.apply(drugs.__getitem__)\n",
    "cliff_pairs_nodup['smiles2'] = cliff_pairs_nodup.drug2.apply(drugs.__getitem__)"
   ],
   "metadata": {
    "collapsed": false,
    "ExecuteTime": {
     "end_time": "2024-02-27T10:55:08.080557400Z",
     "start_time": "2024-02-27T10:55:08.051196800Z"
    }
   },
   "id": "2d9d78dea08d7710"
  },
  {
   "cell_type": "code",
   "execution_count": 10,
   "outputs": [
    {
     "data": {
      "text/plain": "               drug1          drug2  cliff  \\\n0      CHEMBL1087421  CHEMBL1088633      0   \n1       CHEMBL206783   CHEMBL207037      0   \n2       CHEMBL206783   CHEMBL207246      0   \n3       CHEMBL206783   CHEMBL207584      0   \n4       CHEMBL206783   CHEMBL207674      0   \n...              ...            ...    ...   \n80328  CHEMBL1241768  CHEMBL1242749      1   \n80341  CHEMBL1241770  CHEMBL1242749      1   \n80386  CHEMBL1242109  CHEMBL1242114      1   \n80404  CHEMBL1242113  CHEMBL1242114      1   \n80484  CHEMBL1242657  CHEMBL1242749      1   \n\n                                                 smiles1  \\\n0          COC1=C(C=C2C(=C1)CCN=C2C3=CC(=C(C=C3)Cl)Cl)Cl   \n1      COC1=C(C=C2C(=C1)N=CN=C2NC3=C(C(=CC=C3)Cl)F)CN...   \n2      COC1=C(C=C2C(=C1)N=CN=C2NC3=C(C(=CC=C3)Cl)F)CN...   \n3      COC1=C(C=C2C(=C1)N=CN=C2NC3=C(C(=CC=C3)Cl)F)CN...   \n4      COC1=C(C=C2C(=C1)N=CN=C2NC3=C(C(=CC=C3)Cl)F)CN...   \n...                                                  ...   \n80328  C1COCC1N2C3=C(C(=N2)C4=CC(=C(C=C4)Cl)O)C(=NC=N3)N   \n80341  C1CNCC1CN2C3=C(C(=N2)C4=CC(=C(C=C4)Cl)O)C(=NC=...   \n80386    CCC(C)N1C2=C(C(=N1)C3=CC(=C(C=C3)C)O)C(=NC=N2)N   \n80404       CCN1C2=C(C(=N1)C3=CC(=C(C=C3)OC)O)C(=NC=N2)N   \n80484   C1CNCC1N2C3=C(C(=N2)C4=CC(=C(C=C4)F)O)C(=NC=N3)N   \n\n                                                 smiles2  \n0              COC1=C(C=C2C(=C1)CCN=C2C3=CC(=CC=C3)Cl)Cl  \n1      COC1=C(C=C2C(=C1)N=CN=C2NC3=C(C(=CC=C3)Cl)F)CN...  \n2      COC1=C(C=C2C(=C1)N=CN=C2NC3=C(C(=CC=C3)Cl)F)CN...  \n3      COC1=C(C=C2C(=C1)N=CN=C2NC3=C(C(=CC=C3)Cl)F)CN...  \n4      COC1=C(C=C2C(=C1)N=CN=C2NC3=C(C(=CC=C3)Cl)F)CN...  \n...                                                  ...  \n80328   C1COCC1N2C3=C(C(=N2)C4=CC(=C(C=C4)F)O)C(=NC=N3)N  \n80341   C1COCC1N2C3=C(C(=N2)C4=CC(=C(C=C4)F)O)C(=NC=N3)N  \n80386    CC(C)N1C2=C(C(=N1)C3=CC(=C(C=C3)OC)O)C(=NC=N2)N  \n80404    CC(C)N1C2=C(C(=N1)C3=CC(=C(C=C3)OC)O)C(=NC=N2)N  \n80484   C1COCC1N2C3=C(C(=N2)C4=CC(=C(C=C4)F)O)C(=NC=N3)N  \n\n[4387 rows x 5 columns]",
      "text/html": "<div>\n<style scoped>\n    .dataframe tbody tr th:only-of-type {\n        vertical-align: middle;\n    }\n\n    .dataframe tbody tr th {\n        vertical-align: top;\n    }\n\n    .dataframe thead th {\n        text-align: right;\n    }\n</style>\n<table border=\"1\" class=\"dataframe\">\n  <thead>\n    <tr style=\"text-align: right;\">\n      <th></th>\n      <th>drug1</th>\n      <th>drug2</th>\n      <th>cliff</th>\n      <th>smiles1</th>\n      <th>smiles2</th>\n    </tr>\n  </thead>\n  <tbody>\n    <tr>\n      <th>0</th>\n      <td>CHEMBL1087421</td>\n      <td>CHEMBL1088633</td>\n      <td>0</td>\n      <td>COC1=C(C=C2C(=C1)CCN=C2C3=CC(=C(C=C3)Cl)Cl)Cl</td>\n      <td>COC1=C(C=C2C(=C1)CCN=C2C3=CC(=CC=C3)Cl)Cl</td>\n    </tr>\n    <tr>\n      <th>1</th>\n      <td>CHEMBL206783</td>\n      <td>CHEMBL207037</td>\n      <td>0</td>\n      <td>COC1=C(C=C2C(=C1)N=CN=C2NC3=C(C(=CC=C3)Cl)F)CN...</td>\n      <td>COC1=C(C=C2C(=C1)N=CN=C2NC3=C(C(=CC=C3)Cl)F)CN...</td>\n    </tr>\n    <tr>\n      <th>2</th>\n      <td>CHEMBL206783</td>\n      <td>CHEMBL207246</td>\n      <td>0</td>\n      <td>COC1=C(C=C2C(=C1)N=CN=C2NC3=C(C(=CC=C3)Cl)F)CN...</td>\n      <td>COC1=C(C=C2C(=C1)N=CN=C2NC3=C(C(=CC=C3)Cl)F)CN...</td>\n    </tr>\n    <tr>\n      <th>3</th>\n      <td>CHEMBL206783</td>\n      <td>CHEMBL207584</td>\n      <td>0</td>\n      <td>COC1=C(C=C2C(=C1)N=CN=C2NC3=C(C(=CC=C3)Cl)F)CN...</td>\n      <td>COC1=C(C=C2C(=C1)N=CN=C2NC3=C(C(=CC=C3)Cl)F)CN...</td>\n    </tr>\n    <tr>\n      <th>4</th>\n      <td>CHEMBL206783</td>\n      <td>CHEMBL207674</td>\n      <td>0</td>\n      <td>COC1=C(C=C2C(=C1)N=CN=C2NC3=C(C(=CC=C3)Cl)F)CN...</td>\n      <td>COC1=C(C=C2C(=C1)N=CN=C2NC3=C(C(=CC=C3)Cl)F)CN...</td>\n    </tr>\n    <tr>\n      <th>...</th>\n      <td>...</td>\n      <td>...</td>\n      <td>...</td>\n      <td>...</td>\n      <td>...</td>\n    </tr>\n    <tr>\n      <th>80328</th>\n      <td>CHEMBL1241768</td>\n      <td>CHEMBL1242749</td>\n      <td>1</td>\n      <td>C1COCC1N2C3=C(C(=N2)C4=CC(=C(C=C4)Cl)O)C(=NC=N3)N</td>\n      <td>C1COCC1N2C3=C(C(=N2)C4=CC(=C(C=C4)F)O)C(=NC=N3)N</td>\n    </tr>\n    <tr>\n      <th>80341</th>\n      <td>CHEMBL1241770</td>\n      <td>CHEMBL1242749</td>\n      <td>1</td>\n      <td>C1CNCC1CN2C3=C(C(=N2)C4=CC(=C(C=C4)Cl)O)C(=NC=...</td>\n      <td>C1COCC1N2C3=C(C(=N2)C4=CC(=C(C=C4)F)O)C(=NC=N3)N</td>\n    </tr>\n    <tr>\n      <th>80386</th>\n      <td>CHEMBL1242109</td>\n      <td>CHEMBL1242114</td>\n      <td>1</td>\n      <td>CCC(C)N1C2=C(C(=N1)C3=CC(=C(C=C3)C)O)C(=NC=N2)N</td>\n      <td>CC(C)N1C2=C(C(=N1)C3=CC(=C(C=C3)OC)O)C(=NC=N2)N</td>\n    </tr>\n    <tr>\n      <th>80404</th>\n      <td>CHEMBL1242113</td>\n      <td>CHEMBL1242114</td>\n      <td>1</td>\n      <td>CCN1C2=C(C(=N1)C3=CC(=C(C=C3)OC)O)C(=NC=N2)N</td>\n      <td>CC(C)N1C2=C(C(=N1)C3=CC(=C(C=C3)OC)O)C(=NC=N2)N</td>\n    </tr>\n    <tr>\n      <th>80484</th>\n      <td>CHEMBL1242657</td>\n      <td>CHEMBL1242749</td>\n      <td>1</td>\n      <td>C1CNCC1N2C3=C(C(=N2)C4=CC(=C(C=C4)F)O)C(=NC=N3)N</td>\n      <td>C1COCC1N2C3=C(C(=N2)C4=CC(=C(C=C4)F)O)C(=NC=N3)N</td>\n    </tr>\n  </tbody>\n</table>\n<p>4387 rows × 5 columns</p>\n</div>"
     },
     "execution_count": 10,
     "metadata": {},
     "output_type": "execute_result"
    }
   ],
   "source": [
    "cliff_pairs_nodup"
   ],
   "metadata": {
    "collapsed": false,
    "ExecuteTime": {
     "end_time": "2024-02-27T10:55:08.933936800Z",
     "start_time": "2024-02-27T10:55:08.854128Z"
    }
   },
   "id": "85162c47952222d3"
  },
  {
   "cell_type": "code",
   "execution_count": 12,
   "outputs": [],
   "source": [
    "cliff_pairs_nodup_split_random = split_data(cliff_pairs_nodup, split='random')"
   ],
   "metadata": {
    "collapsed": false,
    "ExecuteTime": {
     "end_time": "2024-02-27T10:55:40.759157500Z",
     "start_time": "2024-02-27T10:55:40.723559300Z"
    }
   },
   "id": "640f9239050000b4"
  },
  {
   "cell_type": "code",
   "execution_count": 27,
   "outputs": [
    {
     "data": {
      "text/plain": "               drug1          drug2  cliff  \\\n808    CHEMBL1240544  CHEMBL1241771      0   \n28773  CHEMBL1241679  CHEMBL1242029      0   \n10202  CHEMBL1965836  CHEMBL1998159      1   \n12080  CHEMBL1994438  CHEMBL2006439      1   \n20970  CHEMBL1986265  CHEMBL1966501      1   \n...              ...            ...    ...   \n22662  CHEMBL1241774  CHEMBL1242665      1   \n742    CHEMBL1081312  CHEMBL1241681      0   \n13550   CHEMBL411351    CHEMBL81478      0   \n28886  CHEMBL1241776  CHEMBL1242477      1   \n1136   CHEMBL1241588  CHEMBL1242847      0   \n\n                                                 smiles1  \\\n808     CC(CN)N1C2=C(C(=N1)C3=CC(=C(C=C3)Cl)O)C(=NC=N2)N   \n28773      CC(C)N1C2=C(C(=N1)C3=CC=CC(=C3)C#N)C(=NC=N2)N   \n10202  CC1=C2C=C(C=CC2=NN1)C3=CC(=CN=C3)OCC(CC4=CC(=C...   \n12080   C1CCC(C(C1)N)NC2=NC(=CC(=N2)Cl)C3=CNC4=C3C=CC=N4   \n20970  C1C(CN1CC2=C(C=C(C=C2)OCC3=CC(=CC=C3)C(F)(F)F)...   \n...                                                  ...   \n22662   CC(C)N1C2=C(C(=N1)C3=CC4=NC=CN=C4C=C3)C(=NC=N2)N   \n742    C1CCC(C1)N2C3=C(C(=N2)C4=CN=C5C(=C4)C=CN5)C(=N...   \n13550  C1C(C(OC2=C1C(=CC(=C2C3C(C(OC4=C5C6C(C(OC5=CC(...   \n28886  CC(C)N1C2=C(C(=N1)C3=CC4=C(C=C3)NC=NC4=O)C(=NC...   \n1136    CC(C)N1C2=C(C(=N1)C3=CC4=C(C=C3)OCCO4)C(=NC=N2)N   \n\n                                                 smiles2  split  \n808     CC(C)N1C2=C(C(=N1)C3=CC(=C(C=C3)C#N)F)C(=NC=N2)N      0  \n28773       CC(C)N1C2=C(C(=N1)C3=CC(=CC=C3)OC)C(=NC=N2)N      0  \n10202  CC1=C2C=C(N=CC2=NN1)C3=CC(=CN=C3)OCC(CC4=CC(=C...      0  \n12080      C1CCC(CC1)NC2=NC(=CC(=N2)Cl)C3=CNC4=C3C=CC=N4      0  \n20970  CC1=C(C=CC(=C1)OCC2=CC(=CC=C2)C(F)(F)F)CN3CC(C...      0  \n...                                                  ...    ...  \n22662     CC(C)N1C2=C(C(=N1)C3=CC4=NC=CN4C=C3)C(=NC=N2)N      0  \n742    C1CCC(C1)N2C3=C(C(=N2)C4=CC5=C(C=C4)N=CC=C5)C(...      0  \n13550  C1C(C(OC2=C1C(=CC(=C2C3C(C(OC4=C5C6C(C(OC7=CC(...      0  \n28886   CC(C)N1C2=C(C(=N1)C3=CC4=C(C=C3)C=NN4)C(=NC=N2)N      0  \n1136        CC(C)N1C2=C(C(=N1)C3=CC=C(C=C3)OC)C(=NC=N2)N      0  \n\n[3070 rows x 6 columns]",
      "text/html": "<div>\n<style scoped>\n    .dataframe tbody tr th:only-of-type {\n        vertical-align: middle;\n    }\n\n    .dataframe tbody tr th {\n        vertical-align: top;\n    }\n\n    .dataframe thead th {\n        text-align: right;\n    }\n</style>\n<table border=\"1\" class=\"dataframe\">\n  <thead>\n    <tr style=\"text-align: right;\">\n      <th></th>\n      <th>drug1</th>\n      <th>drug2</th>\n      <th>cliff</th>\n      <th>smiles1</th>\n      <th>smiles2</th>\n      <th>split</th>\n    </tr>\n  </thead>\n  <tbody>\n    <tr>\n      <th>808</th>\n      <td>CHEMBL1240544</td>\n      <td>CHEMBL1241771</td>\n      <td>0</td>\n      <td>CC(CN)N1C2=C(C(=N1)C3=CC(=C(C=C3)Cl)O)C(=NC=N2)N</td>\n      <td>CC(C)N1C2=C(C(=N1)C3=CC(=C(C=C3)C#N)F)C(=NC=N2)N</td>\n      <td>0</td>\n    </tr>\n    <tr>\n      <th>28773</th>\n      <td>CHEMBL1241679</td>\n      <td>CHEMBL1242029</td>\n      <td>0</td>\n      <td>CC(C)N1C2=C(C(=N1)C3=CC=CC(=C3)C#N)C(=NC=N2)N</td>\n      <td>CC(C)N1C2=C(C(=N1)C3=CC(=CC=C3)OC)C(=NC=N2)N</td>\n      <td>0</td>\n    </tr>\n    <tr>\n      <th>10202</th>\n      <td>CHEMBL1965836</td>\n      <td>CHEMBL1998159</td>\n      <td>1</td>\n      <td>CC1=C2C=C(C=CC2=NN1)C3=CC(=CN=C3)OCC(CC4=CC(=C...</td>\n      <td>CC1=C2C=C(N=CC2=NN1)C3=CC(=CN=C3)OCC(CC4=CC(=C...</td>\n      <td>0</td>\n    </tr>\n    <tr>\n      <th>12080</th>\n      <td>CHEMBL1994438</td>\n      <td>CHEMBL2006439</td>\n      <td>1</td>\n      <td>C1CCC(C(C1)N)NC2=NC(=CC(=N2)Cl)C3=CNC4=C3C=CC=N4</td>\n      <td>C1CCC(CC1)NC2=NC(=CC(=N2)Cl)C3=CNC4=C3C=CC=N4</td>\n      <td>0</td>\n    </tr>\n    <tr>\n      <th>20970</th>\n      <td>CHEMBL1986265</td>\n      <td>CHEMBL1966501</td>\n      <td>1</td>\n      <td>C1C(CN1CC2=C(C=C(C=C2)OCC3=CC(=CC=C3)C(F)(F)F)...</td>\n      <td>CC1=C(C=CC(=C1)OCC2=CC(=CC=C2)C(F)(F)F)CN3CC(C...</td>\n      <td>0</td>\n    </tr>\n    <tr>\n      <th>...</th>\n      <td>...</td>\n      <td>...</td>\n      <td>...</td>\n      <td>...</td>\n      <td>...</td>\n      <td>...</td>\n    </tr>\n    <tr>\n      <th>22662</th>\n      <td>CHEMBL1241774</td>\n      <td>CHEMBL1242665</td>\n      <td>1</td>\n      <td>CC(C)N1C2=C(C(=N1)C3=CC4=NC=CN=C4C=C3)C(=NC=N2)N</td>\n      <td>CC(C)N1C2=C(C(=N1)C3=CC4=NC=CN4C=C3)C(=NC=N2)N</td>\n      <td>0</td>\n    </tr>\n    <tr>\n      <th>742</th>\n      <td>CHEMBL1081312</td>\n      <td>CHEMBL1241681</td>\n      <td>0</td>\n      <td>C1CCC(C1)N2C3=C(C(=N2)C4=CN=C5C(=C4)C=CN5)C(=N...</td>\n      <td>C1CCC(C1)N2C3=C(C(=N2)C4=CC5=C(C=C4)N=CC=C5)C(...</td>\n      <td>0</td>\n    </tr>\n    <tr>\n      <th>13550</th>\n      <td>CHEMBL411351</td>\n      <td>CHEMBL81478</td>\n      <td>0</td>\n      <td>C1C(C(OC2=C1C(=CC(=C2C3C(C(OC4=C5C6C(C(OC5=CC(...</td>\n      <td>C1C(C(OC2=C1C(=CC(=C2C3C(C(OC4=C5C6C(C(OC7=CC(...</td>\n      <td>0</td>\n    </tr>\n    <tr>\n      <th>28886</th>\n      <td>CHEMBL1241776</td>\n      <td>CHEMBL1242477</td>\n      <td>1</td>\n      <td>CC(C)N1C2=C(C(=N1)C3=CC4=C(C=C3)NC=NC4=O)C(=NC...</td>\n      <td>CC(C)N1C2=C(C(=N1)C3=CC4=C(C=C3)C=NN4)C(=NC=N2)N</td>\n      <td>0</td>\n    </tr>\n    <tr>\n      <th>1136</th>\n      <td>CHEMBL1241588</td>\n      <td>CHEMBL1242847</td>\n      <td>0</td>\n      <td>CC(C)N1C2=C(C(=N1)C3=CC4=C(C=C3)OCCO4)C(=NC=N2)N</td>\n      <td>CC(C)N1C2=C(C(=N1)C3=CC=C(C=C3)OC)C(=NC=N2)N</td>\n      <td>0</td>\n    </tr>\n  </tbody>\n</table>\n<p>3070 rows × 6 columns</p>\n</div>"
     },
     "execution_count": 27,
     "metadata": {},
     "output_type": "execute_result"
    }
   ],
   "source": [
    "cliff_pairs_nodup_split_random[cliff_pairs_nodup_split_random.split == 0]"
   ],
   "metadata": {
    "collapsed": false,
    "ExecuteTime": {
     "end_time": "2024-02-27T10:59:41.673606300Z",
     "start_time": "2024-02-27T10:59:41.637266800Z"
    }
   },
   "id": "e305bce13d8e35f5"
  },
  {
   "cell_type": "code",
   "execution_count": 25,
   "outputs": [],
   "source": [
    "cliff_pairs_nodup_split_random.to_csv('../analysis/kiba_cliff_pairs_ta_1_ts_0.9_random.csv', index=False)"
   ],
   "metadata": {
    "collapsed": false,
    "ExecuteTime": {
     "end_time": "2024-02-27T10:58:44.075137700Z",
     "start_time": "2024-02-27T10:58:44.039805600Z"
    }
   },
   "id": "ed3c9a93b623337"
  },
  {
   "cell_type": "code",
   "execution_count": 18,
   "outputs": [],
   "source": [
    "cliff_pairs_nodup_split_cb = split_data(cliff_pairs_nodup, split='compound-based')"
   ],
   "metadata": {
    "collapsed": false,
    "ExecuteTime": {
     "end_time": "2024-02-27T10:57:04.413251400Z",
     "start_time": "2024-02-27T10:57:04.382116300Z"
    }
   },
   "id": "cd7489b829ad4874"
  },
  {
   "cell_type": "code",
   "execution_count": 22,
   "outputs": [
    {
     "data": {
      "text/plain": "               drug1          drug2  cliff  \\\n1       CHEMBL206783   CHEMBL207037      0   \n2       CHEMBL206783   CHEMBL207246      0   \n8       CHEMBL206955   CHEMBL382638      0   \n9       CHEMBL207037   CHEMBL207246      0   \n10      CHEMBL207037   CHEMBL207584      0   \n...              ...            ...    ...   \n80149  CHEMBL1241484  CHEMBL1241578      1   \n80225  CHEMBL1241578  CHEMBL1242377      1   \n80305  CHEMBL1241678  CHEMBL1241768      1   \n80328  CHEMBL1241768  CHEMBL1242749      1   \n80341  CHEMBL1241770  CHEMBL1242749      1   \n\n                                                 smiles1  \\\n1      COC1=C(C=C2C(=C1)N=CN=C2NC3=C(C(=CC=C3)Cl)F)CN...   \n2      COC1=C(C=C2C(=C1)N=CN=C2NC3=C(C(=CC=C3)Cl)F)CN...   \n8      COC1=C(C=C2C(=C1)N=CN=C2NC3=CC(=C(C=C3)F)Cl)CN...   \n9      COC1=C(C=C2C(=C1)N=CN=C2NC3=C(C(=CC=C3)Cl)F)CN...   \n10     COC1=C(C=C2C(=C1)N=CN=C2NC3=C(C(=CC=C3)Cl)F)CN...   \n...                                                  ...   \n80149    CC(C)N1C2=C(C(=N1)C3=CC(=C(C=C3)Cl)O)C(=NC=N2)N   \n80225    CC(C)N1C2=C(C(=N1)C3=CC(=C(C=C3)Br)O)C(=NC=N2)N   \n80305  C1COCC1N2C3=C(C(=N2)C4=CC(=C(C=C4)Cl)O)C(=NC=N3)N   \n80328  C1COCC1N2C3=C(C(=N2)C4=CC(=C(C=C4)Cl)O)C(=NC=N3)N   \n80341  C1CNCC1CN2C3=C(C(=N2)C4=CC(=C(C=C4)Cl)O)C(=NC=...   \n\n                                                 smiles2  split  \n1      COC1=C(C=C2C(=C1)N=CN=C2NC3=C(C(=CC=C3)Cl)F)CN...      2  \n2      COC1=C(C=C2C(=C1)N=CN=C2NC3=C(C(=CC=C3)Cl)F)CN...      2  \n8      COC1=C(C=C2C(=C1)N=CN=C2NC3=CC(=C(C=C3)F)Cl)CN...      2  \n9      COC1=C(C=C2C(=C1)N=CN=C2NC3=C(C(=CC=C3)Cl)F)CN...      2  \n10     COC1=C(C=C2C(=C1)N=CN=C2NC3=C(C(=CC=C3)Cl)F)CN...      2  \n...                                                  ...    ...  \n80149    CC(C)N1C2=C(C(=N1)C3=CC(=C(C=C3)Br)O)C(=NC=N2)N      2  \n80225     CC(C)N1C2=C(C(=N1)C3=CC(=C(C=C3)F)O)C(=NC=N2)N      2  \n80305  C1COCC1N2C3=C(C(=N2)C4=CC(=C(C=C4)Cl)O)C(=NC=N3)N      2  \n80328   C1COCC1N2C3=C(C(=N2)C4=CC(=C(C=C4)F)O)C(=NC=N3)N      2  \n80341   C1COCC1N2C3=C(C(=N2)C4=CC(=C(C=C4)F)O)C(=NC=N3)N      2  \n\n[1735 rows x 6 columns]",
      "text/html": "<div>\n<style scoped>\n    .dataframe tbody tr th:only-of-type {\n        vertical-align: middle;\n    }\n\n    .dataframe tbody tr th {\n        vertical-align: top;\n    }\n\n    .dataframe thead th {\n        text-align: right;\n    }\n</style>\n<table border=\"1\" class=\"dataframe\">\n  <thead>\n    <tr style=\"text-align: right;\">\n      <th></th>\n      <th>drug1</th>\n      <th>drug2</th>\n      <th>cliff</th>\n      <th>smiles1</th>\n      <th>smiles2</th>\n      <th>split</th>\n    </tr>\n  </thead>\n  <tbody>\n    <tr>\n      <th>1</th>\n      <td>CHEMBL206783</td>\n      <td>CHEMBL207037</td>\n      <td>0</td>\n      <td>COC1=C(C=C2C(=C1)N=CN=C2NC3=C(C(=CC=C3)Cl)F)CN...</td>\n      <td>COC1=C(C=C2C(=C1)N=CN=C2NC3=C(C(=CC=C3)Cl)F)CN...</td>\n      <td>2</td>\n    </tr>\n    <tr>\n      <th>2</th>\n      <td>CHEMBL206783</td>\n      <td>CHEMBL207246</td>\n      <td>0</td>\n      <td>COC1=C(C=C2C(=C1)N=CN=C2NC3=C(C(=CC=C3)Cl)F)CN...</td>\n      <td>COC1=C(C=C2C(=C1)N=CN=C2NC3=C(C(=CC=C3)Cl)F)CN...</td>\n      <td>2</td>\n    </tr>\n    <tr>\n      <th>8</th>\n      <td>CHEMBL206955</td>\n      <td>CHEMBL382638</td>\n      <td>0</td>\n      <td>COC1=C(C=C2C(=C1)N=CN=C2NC3=CC(=C(C=C3)F)Cl)CN...</td>\n      <td>COC1=C(C=C2C(=C1)N=CN=C2NC3=CC(=C(C=C3)F)Cl)CN...</td>\n      <td>2</td>\n    </tr>\n    <tr>\n      <th>9</th>\n      <td>CHEMBL207037</td>\n      <td>CHEMBL207246</td>\n      <td>0</td>\n      <td>COC1=C(C=C2C(=C1)N=CN=C2NC3=C(C(=CC=C3)Cl)F)CN...</td>\n      <td>COC1=C(C=C2C(=C1)N=CN=C2NC3=C(C(=CC=C3)Cl)F)CN...</td>\n      <td>2</td>\n    </tr>\n    <tr>\n      <th>10</th>\n      <td>CHEMBL207037</td>\n      <td>CHEMBL207584</td>\n      <td>0</td>\n      <td>COC1=C(C=C2C(=C1)N=CN=C2NC3=C(C(=CC=C3)Cl)F)CN...</td>\n      <td>COC1=C(C=C2C(=C1)N=CN=C2NC3=C(C(=CC=C3)Cl)F)CN...</td>\n      <td>2</td>\n    </tr>\n    <tr>\n      <th>...</th>\n      <td>...</td>\n      <td>...</td>\n      <td>...</td>\n      <td>...</td>\n      <td>...</td>\n      <td>...</td>\n    </tr>\n    <tr>\n      <th>80149</th>\n      <td>CHEMBL1241484</td>\n      <td>CHEMBL1241578</td>\n      <td>1</td>\n      <td>CC(C)N1C2=C(C(=N1)C3=CC(=C(C=C3)Cl)O)C(=NC=N2)N</td>\n      <td>CC(C)N1C2=C(C(=N1)C3=CC(=C(C=C3)Br)O)C(=NC=N2)N</td>\n      <td>2</td>\n    </tr>\n    <tr>\n      <th>80225</th>\n      <td>CHEMBL1241578</td>\n      <td>CHEMBL1242377</td>\n      <td>1</td>\n      <td>CC(C)N1C2=C(C(=N1)C3=CC(=C(C=C3)Br)O)C(=NC=N2)N</td>\n      <td>CC(C)N1C2=C(C(=N1)C3=CC(=C(C=C3)F)O)C(=NC=N2)N</td>\n      <td>2</td>\n    </tr>\n    <tr>\n      <th>80305</th>\n      <td>CHEMBL1241678</td>\n      <td>CHEMBL1241768</td>\n      <td>1</td>\n      <td>C1COCC1N2C3=C(C(=N2)C4=CC(=C(C=C4)Cl)O)C(=NC=N3)N</td>\n      <td>C1COCC1N2C3=C(C(=N2)C4=CC(=C(C=C4)Cl)O)C(=NC=N3)N</td>\n      <td>2</td>\n    </tr>\n    <tr>\n      <th>80328</th>\n      <td>CHEMBL1241768</td>\n      <td>CHEMBL1242749</td>\n      <td>1</td>\n      <td>C1COCC1N2C3=C(C(=N2)C4=CC(=C(C=C4)Cl)O)C(=NC=N3)N</td>\n      <td>C1COCC1N2C3=C(C(=N2)C4=CC(=C(C=C4)F)O)C(=NC=N3)N</td>\n      <td>2</td>\n    </tr>\n    <tr>\n      <th>80341</th>\n      <td>CHEMBL1241770</td>\n      <td>CHEMBL1242749</td>\n      <td>1</td>\n      <td>C1CNCC1CN2C3=C(C(=N2)C4=CC(=C(C=C4)Cl)O)C(=NC=...</td>\n      <td>C1COCC1N2C3=C(C(=N2)C4=CC(=C(C=C4)F)O)C(=NC=N3)N</td>\n      <td>2</td>\n    </tr>\n  </tbody>\n</table>\n<p>1735 rows × 6 columns</p>\n</div>"
     },
     "execution_count": 22,
     "metadata": {},
     "output_type": "execute_result"
    }
   ],
   "source": [
    "cliff_pairs_nodup_split_cb[cliff_pairs_nodup_split_cb.split == 2]"
   ],
   "metadata": {
    "collapsed": false,
    "ExecuteTime": {
     "end_time": "2024-02-27T10:57:32.872170200Z",
     "start_time": "2024-02-27T10:57:32.762137300Z"
    }
   },
   "id": "cd7a927059e9985d"
  },
  {
   "cell_type": "code",
   "execution_count": 24,
   "outputs": [],
   "source": [
    "cliff_pairs_nodup_split_cb.to_csv('../analysis/kiba_cliff_pairs_ta_1_ts_0.9_cb.csv', index=False)"
   ],
   "metadata": {
    "collapsed": false,
    "ExecuteTime": {
     "end_time": "2024-02-27T10:58:40.967476400Z",
     "start_time": "2024-02-27T10:58:40.878061400Z"
    }
   },
   "id": "38d3a8b3d628f92f"
  }
 ],
 "metadata": {
  "kernelspec": {
   "display_name": "Python 3",
   "language": "python",
   "name": "python3"
  },
  "language_info": {
   "codemirror_mode": {
    "name": "ipython",
    "version": 2
   },
   "file_extension": ".py",
   "mimetype": "text/x-python",
   "name": "python",
   "nbconvert_exporter": "python",
   "pygments_lexer": "ipython2",
   "version": "2.7.6"
  }
 },
 "nbformat": 4,
 "nbformat_minor": 5
}
