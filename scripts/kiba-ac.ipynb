{
 "cells": [
  {
   "cell_type": "code",
   "execution_count": 1,
   "outputs": [],
   "source": [
    "import pandas as pd\n",
    "import matplotlib.pyplot as plt\n",
    "\n",
    "from json import load\n",
    "from dataset import get_cliffs, split_data\n",
    "from cliffs import get_similarity_matrix\n"
   ],
   "metadata": {
    "collapsed": false,
    "ExecuteTime": {
     "end_time": "2024-03-03T09:55:20.873002300Z",
     "start_time": "2024-03-03T09:55:17.102649800Z"
    }
   },
   "id": "initial_id"
  },
  {
   "cell_type": "code",
   "outputs": [],
   "source": [
    "df = pd.read_csv('../analysis/morgan_cnn_kiba_predictions.csv')\n",
    "del df['predicted'] \n",
    "df.columns = ['drug', 'target', 'affinity']\n",
    "drugs = load(open('../data/KIBA/SMILES.txt'))\n",
    "df['SMILES'] = df.drug.apply(drugs.get)\n",
    "df.to_csv('../analysis/morgan_cnn_kiba_affinity.csv')"
   ],
   "metadata": {
    "collapsed": false
   },
   "id": "2c6fd6f6474e495e",
   "execution_count": null
  },
  {
   "cell_type": "code",
   "execution_count": 81,
   "outputs": [],
   "source": [
    "df = pd.read_csv('../analysis/morgan_cnn_kiba_affinity.csv')"
   ],
   "metadata": {
    "collapsed": false,
    "ExecuteTime": {
     "end_time": "2024-03-01T10:18:07.384727300Z",
     "start_time": "2024-03-01T10:18:06.750692200Z"
    }
   },
   "id": "330df1c9f9da0c33"
  },
  {
   "cell_type": "code",
   "execution_count": 82,
   "outputs": [
    {
     "data": {
      "text/plain": "        Unnamed: 0           drug  target  affinity  \\\n0                0  CHEMBL1087421  O00141  11.10000   \n1                1  CHEMBL1087421  O14920  11.10000   \n2                2  CHEMBL1087421  O15111  11.10000   \n3                3  CHEMBL1087421  P00533  11.10000   \n4                4  CHEMBL1087421  P04626  11.10000   \n...            ...            ...     ...       ...   \n118249      118249   CHEMBL230654  Q13554  10.49794   \n118250      118250   CHEMBL230654  Q13555  10.49794   \n118251      118251   CHEMBL230654  Q13557  10.49794   \n118252      118252   CHEMBL230654  Q16539  10.49794   \n118253      118253   CHEMBL230654  Q9UQM7  10.49794   \n\n                                                   SMILES  \n0           COC1=C(C=C2C(=C1)CCN=C2C3=CC(=C(C=C3)Cl)Cl)Cl  \n1           COC1=C(C=C2C(=C1)CCN=C2C3=CC(=C(C=C3)Cl)Cl)Cl  \n2           COC1=C(C=C2C(=C1)CCN=C2C3=CC(=C(C=C3)Cl)Cl)Cl  \n3           COC1=C(C=C2C(=C1)CCN=C2C3=CC(=C(C=C3)Cl)Cl)Cl  \n4           COC1=C(C=C2C(=C1)CCN=C2C3=CC(=C(C=C3)Cl)Cl)Cl  \n...                                                   ...  \n118249  CCCC1=C(NC=N1)CNC2=CC(=C3C(=C2)C(=C(C=N3)C#N)N...  \n118250  CCCC1=C(NC=N1)CNC2=CC(=C3C(=C2)C(=C(C=N3)C#N)N...  \n118251  CCCC1=C(NC=N1)CNC2=CC(=C3C(=C2)C(=C(C=N3)C#N)N...  \n118252  CCCC1=C(NC=N1)CNC2=CC(=C3C(=C2)C(=C(C=N3)C#N)N...  \n118253  CCCC1=C(NC=N1)CNC2=CC(=C3C(=C2)C(=C(C=N3)C#N)N...  \n\n[118254 rows x 5 columns]",
      "text/html": "<div>\n<style scoped>\n    .dataframe tbody tr th:only-of-type {\n        vertical-align: middle;\n    }\n\n    .dataframe tbody tr th {\n        vertical-align: top;\n    }\n\n    .dataframe thead th {\n        text-align: right;\n    }\n</style>\n<table border=\"1\" class=\"dataframe\">\n  <thead>\n    <tr style=\"text-align: right;\">\n      <th></th>\n      <th>Unnamed: 0</th>\n      <th>drug</th>\n      <th>target</th>\n      <th>affinity</th>\n      <th>SMILES</th>\n    </tr>\n  </thead>\n  <tbody>\n    <tr>\n      <th>0</th>\n      <td>0</td>\n      <td>CHEMBL1087421</td>\n      <td>O00141</td>\n      <td>11.10000</td>\n      <td>COC1=C(C=C2C(=C1)CCN=C2C3=CC(=C(C=C3)Cl)Cl)Cl</td>\n    </tr>\n    <tr>\n      <th>1</th>\n      <td>1</td>\n      <td>CHEMBL1087421</td>\n      <td>O14920</td>\n      <td>11.10000</td>\n      <td>COC1=C(C=C2C(=C1)CCN=C2C3=CC(=C(C=C3)Cl)Cl)Cl</td>\n    </tr>\n    <tr>\n      <th>2</th>\n      <td>2</td>\n      <td>CHEMBL1087421</td>\n      <td>O15111</td>\n      <td>11.10000</td>\n      <td>COC1=C(C=C2C(=C1)CCN=C2C3=CC(=C(C=C3)Cl)Cl)Cl</td>\n    </tr>\n    <tr>\n      <th>3</th>\n      <td>3</td>\n      <td>CHEMBL1087421</td>\n      <td>P00533</td>\n      <td>11.10000</td>\n      <td>COC1=C(C=C2C(=C1)CCN=C2C3=CC(=C(C=C3)Cl)Cl)Cl</td>\n    </tr>\n    <tr>\n      <th>4</th>\n      <td>4</td>\n      <td>CHEMBL1087421</td>\n      <td>P04626</td>\n      <td>11.10000</td>\n      <td>COC1=C(C=C2C(=C1)CCN=C2C3=CC(=C(C=C3)Cl)Cl)Cl</td>\n    </tr>\n    <tr>\n      <th>...</th>\n      <td>...</td>\n      <td>...</td>\n      <td>...</td>\n      <td>...</td>\n      <td>...</td>\n    </tr>\n    <tr>\n      <th>118249</th>\n      <td>118249</td>\n      <td>CHEMBL230654</td>\n      <td>Q13554</td>\n      <td>10.49794</td>\n      <td>CCCC1=C(NC=N1)CNC2=CC(=C3C(=C2)C(=C(C=N3)C#N)N...</td>\n    </tr>\n    <tr>\n      <th>118250</th>\n      <td>118250</td>\n      <td>CHEMBL230654</td>\n      <td>Q13555</td>\n      <td>10.49794</td>\n      <td>CCCC1=C(NC=N1)CNC2=CC(=C3C(=C2)C(=C(C=N3)C#N)N...</td>\n    </tr>\n    <tr>\n      <th>118251</th>\n      <td>118251</td>\n      <td>CHEMBL230654</td>\n      <td>Q13557</td>\n      <td>10.49794</td>\n      <td>CCCC1=C(NC=N1)CNC2=CC(=C3C(=C2)C(=C(C=N3)C#N)N...</td>\n    </tr>\n    <tr>\n      <th>118252</th>\n      <td>118252</td>\n      <td>CHEMBL230654</td>\n      <td>Q16539</td>\n      <td>10.49794</td>\n      <td>CCCC1=C(NC=N1)CNC2=CC(=C3C(=C2)C(=C(C=N3)C#N)N...</td>\n    </tr>\n    <tr>\n      <th>118253</th>\n      <td>118253</td>\n      <td>CHEMBL230654</td>\n      <td>Q9UQM7</td>\n      <td>10.49794</td>\n      <td>CCCC1=C(NC=N1)CNC2=CC(=C3C(=C2)C(=C(C=N3)C#N)N...</td>\n    </tr>\n  </tbody>\n</table>\n<p>118254 rows × 5 columns</p>\n</div>"
     },
     "execution_count": 82,
     "metadata": {},
     "output_type": "execute_result"
    }
   ],
   "source": [
    "df"
   ],
   "metadata": {
    "collapsed": false,
    "ExecuteTime": {
     "end_time": "2024-03-01T10:18:10.963880400Z",
     "start_time": "2024-03-01T10:18:10.934735700Z"
    }
   },
   "id": "f92fb5e21ed888dd"
  },
  {
   "cell_type": "code",
   "execution_count": 14,
   "outputs": [
    {
     "name": "stderr",
     "output_type": "stream",
     "text": [
      "100%|██████████| 84/84 [00:01<00:00, 65.75it/s]\n",
      "100%|██████████| 354/354 [00:04<00:00, 73.26it/s] \n",
      "100%|██████████| 344/344 [00:01<00:00, 297.75it/s]\n",
      "100%|██████████| 1094/1094 [00:15<00:00, 69.55it/s] \n",
      "100%|██████████| 659/659 [00:01<00:00, 436.24it/s]\n",
      "100%|██████████| 1141/1141 [00:18<00:00, 63.12it/s] \n",
      "100%|██████████| 974/974 [00:04<00:00, 203.63it/s]\n",
      "100%|██████████| 35/35 [00:00<00:00, 894.54it/s]\n",
      "100%|██████████| 1005/1005 [00:09<00:00, 109.66it/s]\n",
      "100%|██████████| 884/884 [00:02<00:00, 349.49it/s]\n",
      "100%|██████████| 979/979 [00:03<00:00, 295.77it/s]\n",
      "100%|██████████| 966/966 [00:02<00:00, 374.60it/s]\n",
      "100%|██████████| 1175/1175 [00:05<00:00, 230.16it/s]\n",
      "100%|██████████| 825/825 [00:02<00:00, 334.64it/s]\n",
      "100%|██████████| 131/131 [00:00<00:00, 1862.78it/s]\n",
      "100%|██████████| 1003/1003 [00:02<00:00, 343.24it/s]\n",
      "100%|██████████| 500/500 [00:01<00:00, 458.24it/s]\n",
      "100%|██████████| 16/16 [00:00<00:00, 536.97it/s]\n",
      "100%|██████████| 578/578 [00:00<00:00, 838.72it/s]\n",
      "100%|██████████| 1036/1036 [00:02<00:00, 349.54it/s]\n",
      "100%|██████████| 966/966 [00:02<00:00, 336.29it/s]\n",
      "100%|██████████| 588/588 [00:00<00:00, 680.70it/s]\n",
      "100%|██████████| 783/783 [00:01<00:00, 690.63it/s] \n",
      "100%|██████████| 701/701 [00:01<00:00, 632.91it/s]\n",
      "100%|██████████| 907/907 [00:04<00:00, 216.87it/s]\n",
      "100%|██████████| 873/873 [00:01<00:00, 772.26it/s] \n",
      "100%|██████████| 837/837 [00:01<00:00, 557.50it/s]\n",
      "100%|██████████| 467/467 [00:00<00:00, 951.56it/s]\n",
      "100%|██████████| 1222/1222 [00:19<00:00, 61.11it/s] \n",
      "100%|██████████| 914/914 [00:02<00:00, 390.08it/s]\n",
      "100%|██████████| 1012/1012 [00:02<00:00, 435.82it/s]\n",
      "100%|██████████| 683/683 [00:00<00:00, 784.64it/s] \n",
      "100%|██████████| 900/900 [00:01<00:00, 513.73it/s]\n",
      "100%|██████████| 1133/1133 [00:04<00:00, 230.93it/s]\n",
      "100%|██████████| 839/839 [00:02<00:00, 382.26it/s]\n",
      "100%|██████████| 861/861 [00:03<00:00, 274.22it/s]\n",
      "100%|██████████| 834/834 [00:01<00:00, 476.32it/s]\n",
      "100%|██████████| 390/390 [00:00<00:00, 788.58it/s]\n",
      "100%|██████████| 671/671 [00:01<00:00, 415.26it/s]\n",
      "100%|██████████| 746/746 [00:01<00:00, 393.12it/s]\n",
      "100%|██████████| 907/907 [00:04<00:00, 195.64it/s]\n",
      "100%|██████████| 472/472 [00:01<00:00, 404.10it/s]\n",
      "100%|██████████| 743/743 [00:01<00:00, 378.41it/s]\n",
      "100%|██████████| 1090/1090 [00:03<00:00, 323.33it/s]\n",
      "100%|██████████| 1086/1086 [00:02<00:00, 408.93it/s]\n",
      "100%|██████████| 1118/1118 [00:04<00:00, 226.02it/s]\n",
      "100%|██████████| 567/567 [00:00<00:00, 859.00it/s]\n",
      "100%|██████████| 454/454 [00:00<00:00, 1096.95it/s]\n",
      "100%|██████████| 1247/1247 [00:03<00:00, 324.91it/s]\n",
      "100%|██████████| 722/722 [00:01<00:00, 632.74it/s]\n",
      "100%|██████████| 410/410 [00:00<00:00, 891.17it/s]\n",
      "100%|██████████| 733/733 [00:01<00:00, 618.00it/s]\n",
      "100%|██████████| 711/711 [00:01<00:00, 683.43it/s]\n",
      "100%|██████████| 631/631 [00:00<00:00, 856.59it/s]\n",
      "100%|██████████| 773/773 [00:01<00:00, 637.45it/s]\n",
      "100%|██████████| 761/761 [00:01<00:00, 507.55it/s]\n",
      "100%|██████████| 1451/1451 [00:05<00:00, 246.41it/s]\n",
      "100%|██████████| 843/843 [00:01<00:00, 546.51it/s]\n",
      "100%|██████████| 443/443 [00:00<00:00, 1076.14it/s]\n",
      "100%|██████████| 476/476 [00:00<00:00, 1068.46it/s]\n",
      "100%|██████████| 565/565 [00:00<00:00, 773.10it/s]\n",
      "100%|██████████| 912/912 [00:02<00:00, 440.48it/s]\n",
      "100%|██████████| 758/758 [00:01<00:00, 691.84it/s]\n",
      "100%|██████████| 832/832 [00:01<00:00, 635.75it/s] \n",
      "100%|██████████| 863/863 [00:01<00:00, 575.34it/s]\n",
      "100%|██████████| 956/956 [00:01<00:00, 517.21it/s]\n",
      "100%|██████████| 630/630 [00:00<00:00, 817.10it/s]\n",
      "100%|██████████| 573/573 [00:00<00:00, 780.52it/s]\n",
      "100%|██████████| 987/987 [00:02<00:00, 468.58it/s]\n",
      "100%|██████████| 735/735 [00:01<00:00, 598.69it/s]\n",
      "100%|██████████| 894/894 [00:01<00:00, 651.58it/s]\n",
      "100%|██████████| 578/578 [00:00<00:00, 784.99it/s]\n",
      "100%|██████████| 918/918 [00:01<00:00, 519.18it/s]\n",
      "100%|██████████| 780/780 [00:01<00:00, 640.78it/s]\n",
      "100%|██████████| 801/801 [00:01<00:00, 576.43it/s]\n",
      "100%|██████████| 598/598 [00:00<00:00, 882.25it/s]\n",
      "100%|██████████| 1032/1032 [00:02<00:00, 445.43it/s]\n",
      "100%|██████████| 756/756 [00:01<00:00, 585.48it/s]\n",
      "100%|██████████| 1108/1108 [00:03<00:00, 361.78it/s]\n",
      "100%|██████████| 1140/1140 [00:03<00:00, 349.17it/s]\n",
      "100%|██████████| 737/737 [00:00<00:00, 772.00it/s]\n",
      "100%|██████████| 617/617 [00:00<00:00, 775.41it/s]\n",
      "100%|██████████| 863/863 [00:01<00:00, 559.47it/s]\n",
      "100%|██████████| 945/945 [00:01<00:00, 548.88it/s]\n",
      "100%|██████████| 721/721 [00:01<00:00, 681.00it/s]\n",
      "100%|██████████| 802/802 [00:01<00:00, 619.21it/s]\n",
      "100%|██████████| 498/498 [00:00<00:00, 1046.66it/s]\n",
      "100%|██████████| 617/617 [00:00<00:00, 812.28it/s]\n",
      "100%|██████████| 605/605 [00:00<00:00, 783.32it/s]\n",
      "100%|██████████| 655/655 [00:00<00:00, 706.17it/s]\n",
      "100%|██████████| 1010/1010 [00:02<00:00, 431.40it/s]\n",
      "100%|██████████| 506/506 [00:00<00:00, 866.80it/s]\n",
      "100%|██████████| 681/681 [00:00<00:00, 694.97it/s]\n",
      "100%|██████████| 545/545 [00:00<00:00, 869.81it/s]\n",
      "100%|██████████| 672/672 [00:00<00:00, 759.81it/s]\n",
      "100%|██████████| 656/656 [00:00<00:00, 742.00it/s]\n",
      "100%|██████████| 681/681 [00:00<00:00, 725.23it/s]\n",
      "100%|██████████| 899/899 [00:01<00:00, 541.39it/s]\n",
      "100%|██████████| 719/719 [00:01<00:00, 605.75it/s]\n",
      "100%|██████████| 722/722 [00:01<00:00, 695.83it/s]\n",
      "100%|██████████| 630/630 [00:00<00:00, 870.21it/s] \n",
      "100%|██████████| 841/841 [00:01<00:00, 571.80it/s]\n",
      "100%|██████████| 566/566 [00:00<00:00, 880.23it/s]\n",
      "100%|██████████| 521/521 [00:00<00:00, 873.04it/s]\n",
      "100%|██████████| 627/627 [00:00<00:00, 998.38it/s] \n",
      "100%|██████████| 588/588 [00:00<00:00, 768.29it/s]\n",
      "100%|██████████| 591/591 [00:00<00:00, 877.34it/s]\n",
      "100%|██████████| 1008/1008 [00:02<00:00, 489.31it/s]\n",
      "100%|██████████| 563/563 [00:00<00:00, 1935.30it/s]\n",
      "100%|██████████| 500/500 [00:00<00:00, 2123.96it/s]\n",
      "100%|██████████| 590/590 [00:00<00:00, 2131.38it/s]\n",
      "100%|██████████| 495/495 [00:00<00:00, 1941.92it/s]\n",
      "100%|██████████| 719/719 [00:00<00:00, 1901.56it/s]\n",
      "100%|██████████| 594/594 [00:00<00:00, 2289.94it/s]\n",
      "100%|██████████| 627/627 [00:00<00:00, 2736.05it/s]\n",
      "100%|██████████| 452/452 [00:00<00:00, 3428.92it/s]\n",
      "100%|██████████| 713/713 [00:00<00:00, 2089.63it/s]\n",
      "100%|██████████| 892/892 [00:00<00:00, 1737.29it/s]\n",
      "100%|██████████| 707/707 [00:00<00:00, 2717.90it/s]\n",
      "100%|██████████| 572/572 [00:00<00:00, 3065.85it/s]\n",
      "100%|██████████| 529/529 [00:00<00:00, 3081.39it/s]\n",
      "100%|██████████| 714/714 [00:00<00:00, 2086.02it/s]\n",
      "100%|██████████| 593/593 [00:00<00:00, 2899.27it/s]\n",
      "100%|██████████| 633/633 [00:00<00:00, 2558.86it/s]\n",
      "100%|██████████| 571/571 [00:00<00:00, 2737.28it/s]\n",
      "100%|██████████| 728/728 [00:00<00:00, 1764.66it/s]\n",
      "100%|██████████| 774/774 [00:00<00:00, 2259.37it/s]\n",
      "100%|██████████| 648/648 [00:00<00:00, 2463.88it/s]\n",
      "100%|██████████| 513/513 [00:00<00:00, 3244.18it/s]\n",
      "100%|██████████| 903/903 [00:00<00:00, 1919.73it/s]\n",
      "100%|██████████| 189/189 [00:00<00:00, 7280.17it/s]\n",
      "100%|██████████| 12/12 [00:00<?, ?it/s]\n",
      "100%|██████████| 1039/1039 [00:00<00:00, 1563.57it/s]\n",
      "100%|██████████| 48/48 [00:00<00:00, 16034.29it/s]\n",
      "100%|██████████| 449/449 [00:00<00:00, 1615.71it/s]\n",
      "100%|██████████| 20/20 [00:00<00:00, 20030.11it/s]\n",
      "100%|██████████| 215/215 [00:00<00:00, 7821.39it/s]\n",
      "100%|██████████| 388/388 [00:00<00:00, 3794.83it/s]\n",
      "100%|██████████| 53/53 [00:00<00:00, 17710.17it/s]\n",
      "100%|██████████| 70/70 [00:00<00:00, 17550.44it/s]\n",
      "100%|██████████| 12/12 [00:00<00:00, 11998.01it/s]\n",
      "100%|██████████| 1026/1026 [00:00<00:00, 1540.55it/s]\n",
      "100%|██████████| 38/38 [00:00<00:00, 19005.91it/s]\n",
      "100%|██████████| 54/54 [00:00<00:00, 18047.20it/s]\n",
      "100%|██████████| 55/55 [00:00<00:00, 18217.38it/s]\n",
      "100%|██████████| 12/12 [00:00<?, ?it/s]\n",
      "100%|██████████| 12/12 [00:00<?, ?it/s]\n",
      "100%|██████████| 388/388 [00:00<00:00, 3617.73it/s]\n",
      "100%|██████████| 99/99 [00:00<00:00, 9928.65it/s]\n",
      "100%|██████████| 717/717 [00:00<00:00, 1530.37it/s]\n",
      "100%|██████████| 315/315 [00:00<00:00, 3969.58it/s]\n",
      "100%|██████████| 729/729 [00:00<00:00, 2391.12it/s]\n",
      "100%|██████████| 39/39 [00:00<00:00, 39096.05it/s]\n",
      "100%|██████████| 87/87 [00:00<00:00, 10916.13it/s]\n",
      "100%|██████████| 25/25 [00:00<00:00, 25067.56it/s]\n",
      "100%|██████████| 316/316 [00:00<00:00, 4832.15it/s]\n",
      "100%|██████████| 295/295 [00:00<00:00, 5327.28it/s]\n",
      "100%|██████████| 497/497 [00:00<00:00, 1462.90it/s]\n",
      "100%|██████████| 17/17 [00:00<00:00, 17050.02it/s]\n",
      "100%|██████████| 31/31 [00:00<00:00, 31083.77it/s]\n",
      "100%|██████████| 36/36 [00:00<00:00, 35780.79it/s]\n",
      "100%|██████████| 1035/1035 [00:00<00:00, 1725.18it/s]\n",
      "100%|██████████| 403/403 [00:00<00:00, 3337.35it/s]\n",
      "100%|██████████| 11/11 [00:00<00:00, 11037.64it/s]\n",
      "100%|██████████| 847/847 [00:00<00:00, 1882.24it/s]\n",
      "100%|██████████| 76/76 [00:00<00:00, 15177.94it/s]\n",
      "100%|██████████| 700/700 [00:00<00:00, 2423.88it/s]\n",
      "100%|██████████| 451/451 [00:00<00:00, 4204.61it/s]\n",
      "100%|██████████| 314/314 [00:00<00:00, 5671.37it/s]\n",
      "100%|██████████| 23/23 [00:00<00:00, 23078.71it/s]\n",
      "100%|██████████| 367/367 [00:00<00:00, 3810.98it/s]\n",
      "100%|██████████| 215/215 [00:00<00:00, 7434.32it/s]\n",
      "100%|██████████| 25/25 [00:00<00:00, 25001.81it/s]\n",
      "100%|██████████| 10/10 [00:00<?, ?it/s]\n",
      "100%|██████████| 406/406 [00:00<00:00, 4010.14it/s]\n",
      "100%|██████████| 412/412 [00:00<00:00, 3070.72it/s]\n",
      "100%|██████████| 42/42 [00:00<00:00, 21061.78it/s]\n",
      "100%|██████████| 57/57 [00:00<00:00, 28587.27it/s]\n",
      "100%|██████████| 383/383 [00:00<00:00, 4061.51it/s]\n",
      "100%|██████████| 74/74 [00:00<00:00, 24753.05it/s]\n",
      "100%|██████████| 28/28 [00:00<00:00, 28595.21it/s]\n",
      "100%|██████████| 14/14 [00:00<?, ?it/s]\n",
      "100%|██████████| 308/308 [00:00<00:00, 3568.93it/s]\n",
      "100%|██████████| 82/82 [00:00<00:00, 10270.03it/s]\n",
      "100%|██████████| 80/80 [00:00<00:00, 19874.69it/s]\n",
      "100%|██████████| 56/56 [00:00<00:00, 18708.17it/s]\n",
      "100%|██████████| 228/228 [00:00<00:00, 6081.72it/s]\n",
      "100%|██████████| 237/237 [00:00<00:00, 5404.80it/s]\n",
      "100%|██████████| 64/64 [00:00<00:00, 21139.98it/s]\n",
      "100%|██████████| 58/58 [00:00<00:00, 29081.84it/s]\n",
      "100%|██████████| 56/56 [00:00<00:00, 56124.50it/s]\n",
      "100%|██████████| 56/56 [00:00<00:00, 27503.63it/s]\n",
      "100%|██████████| 68/68 [00:00<00:00, 22746.05it/s]\n",
      "100%|██████████| 389/389 [00:00<00:00, 4810.18it/s]\n",
      "100%|██████████| 700/700 [00:00<00:00, 2939.56it/s]\n",
      "100%|██████████| 511/511 [00:00<00:00, 3379.49it/s]\n",
      "100%|██████████| 730/730 [00:00<00:00, 2374.04it/s]\n",
      "100%|██████████| 303/303 [00:00<00:00, 5149.28it/s]\n",
      "100%|██████████| 604/604 [00:00<00:00, 2665.89it/s]\n",
      "100%|██████████| 158/158 [00:00<00:00, 7199.82it/s]\n",
      "100%|██████████| 111/111 [00:00<00:00, 7947.69it/s]\n",
      "100%|██████████| 15/15 [00:00<00:00, 14838.34it/s]\n",
      "100%|██████████| 412/412 [00:00<00:00, 3572.82it/s]\n",
      "100%|██████████| 175/175 [00:00<00:00, 10927.71it/s]\n",
      "100%|██████████| 172/172 [00:00<00:00, 11091.78it/s]\n",
      "100%|██████████| 182/182 [00:00<00:00, 8689.89it/s]\n",
      "100%|██████████| 170/170 [00:00<00:00, 10027.31it/s]\n",
      "100%|██████████| 313/313 [00:00<00:00, 4264.55it/s]\n",
      "100%|██████████| 295/295 [00:00<00:00, 4731.48it/s]\n",
      "100%|██████████| 375/375 [00:00<00:00, 4108.72it/s]\n",
      "100%|██████████| 317/317 [00:00<00:00, 5297.42it/s]\n",
      "100%|██████████| 305/305 [00:00<00:00, 5138.51it/s]\n",
      "100%|██████████| 351/351 [00:00<00:00, 3681.37it/s]\n",
      "100%|██████████| 322/322 [00:00<00:00, 4325.12it/s]\n",
      "100%|██████████| 386/386 [00:00<00:00, 3633.54it/s]\n",
      "100%|██████████| 16/16 [00:00<?, ?it/s]\n",
      "100%|██████████| 28/28 [00:00<00:00, 14093.43it/s]\n",
      "100%|██████████| 19/19 [00:00<?, ?it/s]\n",
      "100%|██████████| 23/23 [00:00<?, ?it/s]\n",
      "100%|██████████| 19/19 [00:00<00:00, 18839.66it/s]\n",
      "100%|██████████| 23/23 [00:00<00:00, 22919.69it/s]\n",
      "100%|██████████| 26/26 [00:00<00:00, 26064.03it/s]\n",
      "100%|██████████| 23/23 [00:00<?, ?it/s]\n",
      "100%|██████████| 21/21 [00:00<00:00, 20778.58it/s]\n",
      "100%|██████████| 186/186 [00:00<00:00, 9811.98it/s]\n",
      "100%|██████████| 14/14 [00:00<?, ?it/s]\n",
      "100%|██████████| 18/18 [00:00<00:00, 17524.95it/s]\n",
      "100%|██████████| 112/112 [00:00<00:00, 10209.33it/s]\n",
      "100%|██████████| 15/15 [00:00<00:00, 15094.66it/s]\n"
     ]
    }
   ],
   "source": [
    "cliff_pairs = get_cliffs(df)"
   ],
   "metadata": {
    "collapsed": false,
    "ExecuteTime": {
     "end_time": "2024-02-28T22:45:24.468503Z",
     "start_time": "2024-02-28T22:41:11.095400300Z"
    }
   },
   "id": "c5c2cdfd8dace996"
  },
  {
   "cell_type": "code",
   "execution_count": 83,
   "outputs": [
    {
     "data": {
      "text/plain": "               drug1          drug2  cliff  target\n0      CHEMBL1087421  CHEMBL1088633      0  O00141\n1       CHEMBL206783   CHEMBL207037      0  O00141\n2       CHEMBL206783   CHEMBL207246      0  O00141\n3       CHEMBL206783   CHEMBL207584      0  O00141\n4       CHEMBL206783   CHEMBL207674      0  O00141\n...              ...            ...    ...     ...\n80512   CHEMBL456936   CHEMBL517956      0  Q16512\n80513   CHEMBL456936   CHEMBL518060      0  Q16512\n80514   CHEMBL515982   CHEMBL517956      0  Q16512\n80515   CHEMBL515982   CHEMBL518060      0  Q16512\n80516   CHEMBL517956   CHEMBL518060      0  Q16512\n\n[80517 rows x 4 columns]",
      "text/html": "<div>\n<style scoped>\n    .dataframe tbody tr th:only-of-type {\n        vertical-align: middle;\n    }\n\n    .dataframe tbody tr th {\n        vertical-align: top;\n    }\n\n    .dataframe thead th {\n        text-align: right;\n    }\n</style>\n<table border=\"1\" class=\"dataframe\">\n  <thead>\n    <tr style=\"text-align: right;\">\n      <th></th>\n      <th>drug1</th>\n      <th>drug2</th>\n      <th>cliff</th>\n      <th>target</th>\n    </tr>\n  </thead>\n  <tbody>\n    <tr>\n      <th>0</th>\n      <td>CHEMBL1087421</td>\n      <td>CHEMBL1088633</td>\n      <td>0</td>\n      <td>O00141</td>\n    </tr>\n    <tr>\n      <th>1</th>\n      <td>CHEMBL206783</td>\n      <td>CHEMBL207037</td>\n      <td>0</td>\n      <td>O00141</td>\n    </tr>\n    <tr>\n      <th>2</th>\n      <td>CHEMBL206783</td>\n      <td>CHEMBL207246</td>\n      <td>0</td>\n      <td>O00141</td>\n    </tr>\n    <tr>\n      <th>3</th>\n      <td>CHEMBL206783</td>\n      <td>CHEMBL207584</td>\n      <td>0</td>\n      <td>O00141</td>\n    </tr>\n    <tr>\n      <th>4</th>\n      <td>CHEMBL206783</td>\n      <td>CHEMBL207674</td>\n      <td>0</td>\n      <td>O00141</td>\n    </tr>\n    <tr>\n      <th>...</th>\n      <td>...</td>\n      <td>...</td>\n      <td>...</td>\n      <td>...</td>\n    </tr>\n    <tr>\n      <th>80512</th>\n      <td>CHEMBL456936</td>\n      <td>CHEMBL517956</td>\n      <td>0</td>\n      <td>Q16512</td>\n    </tr>\n    <tr>\n      <th>80513</th>\n      <td>CHEMBL456936</td>\n      <td>CHEMBL518060</td>\n      <td>0</td>\n      <td>Q16512</td>\n    </tr>\n    <tr>\n      <th>80514</th>\n      <td>CHEMBL515982</td>\n      <td>CHEMBL517956</td>\n      <td>0</td>\n      <td>Q16512</td>\n    </tr>\n    <tr>\n      <th>80515</th>\n      <td>CHEMBL515982</td>\n      <td>CHEMBL518060</td>\n      <td>0</td>\n      <td>Q16512</td>\n    </tr>\n    <tr>\n      <th>80516</th>\n      <td>CHEMBL517956</td>\n      <td>CHEMBL518060</td>\n      <td>0</td>\n      <td>Q16512</td>\n    </tr>\n  </tbody>\n</table>\n<p>80517 rows × 4 columns</p>\n</div>"
     },
     "execution_count": 83,
     "metadata": {},
     "output_type": "execute_result"
    }
   ],
   "source": [
    "cliff_pairs"
   ],
   "metadata": {
    "collapsed": false,
    "ExecuteTime": {
     "end_time": "2024-03-01T10:18:32.945007900Z",
     "start_time": "2024-03-01T10:18:32.880210Z"
    }
   },
   "id": "ffb152012d109337"
  },
  {
   "cell_type": "code",
   "execution_count": 6,
   "outputs": [],
   "source": [
    "cliff_pairs.to_csv('../analysis/kiba_cliff_pairs_ta1_ts0.9.csv', index=False)"
   ],
   "metadata": {
    "collapsed": false,
    "ExecuteTime": {
     "end_time": "2024-03-03T09:57:11.275337700Z",
     "start_time": "2024-03-03T09:57:11.135303500Z"
    }
   },
   "id": "b6712812d36d77ad"
  },
  {
   "cell_type": "code",
   "execution_count": 7,
   "outputs": [],
   "source": [
    "cliff_pairs = pd.read_csv('../analysis/kiba_cliff_pairs_ta1_ts0.9.csv')"
   ],
   "metadata": {
    "collapsed": false,
    "ExecuteTime": {
     "end_time": "2024-03-03T09:57:12.249881Z",
     "start_time": "2024-03-03T09:57:12.138100800Z"
    }
   },
   "id": "a37323d79122c1e"
  },
  {
   "cell_type": "code",
   "execution_count": 33,
   "outputs": [
    {
     "data": {
      "text/plain": "             drug1         drug2  cliff  count\n0     CHEMBL100102  CHEMBL327291      0     14\n1     CHEMBL100102   CHEMBL95737      0     14\n2     CHEMBL100102   CHEMBL97026      0     14\n3     CHEMBL100102   CHEMBL97448      0     14\n4     CHEMBL100102   CHEMBL97768      0     14\n...            ...           ...    ...    ...\n4382   CHEMBL97768   CHEMBL97796      1     11\n4383   CHEMBL98721   CHEMBL99572      0     11\n4384   CHEMBL98721   CHEMBL99572      1      3\n4385   CHEMBL99743  CHEMBL104067      0     23\n4386   CHEMBL99743  CHEMBL104067      1      1\n\n[4387 rows x 4 columns]",
      "text/html": "<div>\n<style scoped>\n    .dataframe tbody tr th:only-of-type {\n        vertical-align: middle;\n    }\n\n    .dataframe tbody tr th {\n        vertical-align: top;\n    }\n\n    .dataframe thead th {\n        text-align: right;\n    }\n</style>\n<table border=\"1\" class=\"dataframe\">\n  <thead>\n    <tr style=\"text-align: right;\">\n      <th></th>\n      <th>drug1</th>\n      <th>drug2</th>\n      <th>cliff</th>\n      <th>count</th>\n    </tr>\n  </thead>\n  <tbody>\n    <tr>\n      <th>0</th>\n      <td>CHEMBL100102</td>\n      <td>CHEMBL327291</td>\n      <td>0</td>\n      <td>14</td>\n    </tr>\n    <tr>\n      <th>1</th>\n      <td>CHEMBL100102</td>\n      <td>CHEMBL95737</td>\n      <td>0</td>\n      <td>14</td>\n    </tr>\n    <tr>\n      <th>2</th>\n      <td>CHEMBL100102</td>\n      <td>CHEMBL97026</td>\n      <td>0</td>\n      <td>14</td>\n    </tr>\n    <tr>\n      <th>3</th>\n      <td>CHEMBL100102</td>\n      <td>CHEMBL97448</td>\n      <td>0</td>\n      <td>14</td>\n    </tr>\n    <tr>\n      <th>4</th>\n      <td>CHEMBL100102</td>\n      <td>CHEMBL97768</td>\n      <td>0</td>\n      <td>14</td>\n    </tr>\n    <tr>\n      <th>...</th>\n      <td>...</td>\n      <td>...</td>\n      <td>...</td>\n      <td>...</td>\n    </tr>\n    <tr>\n      <th>4382</th>\n      <td>CHEMBL97768</td>\n      <td>CHEMBL97796</td>\n      <td>1</td>\n      <td>11</td>\n    </tr>\n    <tr>\n      <th>4383</th>\n      <td>CHEMBL98721</td>\n      <td>CHEMBL99572</td>\n      <td>0</td>\n      <td>11</td>\n    </tr>\n    <tr>\n      <th>4384</th>\n      <td>CHEMBL98721</td>\n      <td>CHEMBL99572</td>\n      <td>1</td>\n      <td>3</td>\n    </tr>\n    <tr>\n      <th>4385</th>\n      <td>CHEMBL99743</td>\n      <td>CHEMBL104067</td>\n      <td>0</td>\n      <td>23</td>\n    </tr>\n    <tr>\n      <th>4386</th>\n      <td>CHEMBL99743</td>\n      <td>CHEMBL104067</td>\n      <td>1</td>\n      <td>1</td>\n    </tr>\n  </tbody>\n</table>\n<p>4387 rows × 4 columns</p>\n</div>"
     },
     "execution_count": 33,
     "metadata": {},
     "output_type": "execute_result"
    }
   ],
   "source": [
    "cliff_pairs.groupby(['drug1', 'drug2', 'cliff']).size().reset_index(name='count')"
   ],
   "metadata": {
    "collapsed": false,
    "ExecuteTime": {
     "end_time": "2024-03-03T10:12:10.310171300Z",
     "start_time": "2024-03-03T10:12:10.263783700Z"
    }
   },
   "id": "7587f7cf437f8451"
  },
  {
   "cell_type": "code",
   "execution_count": 62,
   "outputs": [
    {
     "data": {
      "text/plain": "cliff                       0   1\ndrug1        drug2               \nCHEMBL100102 CHEMBL327291  14   0\n             CHEMBL95737   14   0\n             CHEMBL97026   14   0\n             CHEMBL97448   14   0\n             CHEMBL97768   14   0\n...                        ..  ..\nCHEMBL97448  CHEMBL97768    3  11\n             CHEMBL97796   14   0\nCHEMBL97768  CHEMBL97796    3  11\nCHEMBL98721  CHEMBL99572   11   3\nCHEMBL99743  CHEMBL104067  23   1\n\n[2627 rows x 2 columns]",
      "text/html": "<div>\n<style scoped>\n    .dataframe tbody tr th:only-of-type {\n        vertical-align: middle;\n    }\n\n    .dataframe tbody tr th {\n        vertical-align: top;\n    }\n\n    .dataframe thead th {\n        text-align: right;\n    }\n</style>\n<table border=\"1\" class=\"dataframe\">\n  <thead>\n    <tr style=\"text-align: right;\">\n      <th></th>\n      <th>cliff</th>\n      <th>0</th>\n      <th>1</th>\n    </tr>\n    <tr>\n      <th>drug1</th>\n      <th>drug2</th>\n      <th></th>\n      <th></th>\n    </tr>\n  </thead>\n  <tbody>\n    <tr>\n      <th rowspan=\"5\" valign=\"top\">CHEMBL100102</th>\n      <th>CHEMBL327291</th>\n      <td>14</td>\n      <td>0</td>\n    </tr>\n    <tr>\n      <th>CHEMBL95737</th>\n      <td>14</td>\n      <td>0</td>\n    </tr>\n    <tr>\n      <th>CHEMBL97026</th>\n      <td>14</td>\n      <td>0</td>\n    </tr>\n    <tr>\n      <th>CHEMBL97448</th>\n      <td>14</td>\n      <td>0</td>\n    </tr>\n    <tr>\n      <th>CHEMBL97768</th>\n      <td>14</td>\n      <td>0</td>\n    </tr>\n    <tr>\n      <th>...</th>\n      <th>...</th>\n      <td>...</td>\n      <td>...</td>\n    </tr>\n    <tr>\n      <th rowspan=\"2\" valign=\"top\">CHEMBL97448</th>\n      <th>CHEMBL97768</th>\n      <td>3</td>\n      <td>11</td>\n    </tr>\n    <tr>\n      <th>CHEMBL97796</th>\n      <td>14</td>\n      <td>0</td>\n    </tr>\n    <tr>\n      <th>CHEMBL97768</th>\n      <th>CHEMBL97796</th>\n      <td>3</td>\n      <td>11</td>\n    </tr>\n    <tr>\n      <th>CHEMBL98721</th>\n      <th>CHEMBL99572</th>\n      <td>11</td>\n      <td>3</td>\n    </tr>\n    <tr>\n      <th>CHEMBL99743</th>\n      <th>CHEMBL104067</th>\n      <td>23</td>\n      <td>1</td>\n    </tr>\n  </tbody>\n</table>\n<p>2627 rows × 2 columns</p>\n</div>"
     },
     "execution_count": 62,
     "metadata": {},
     "output_type": "execute_result"
    }
   ],
   "source": [
    "cliff_pivot = cliff_pairs.pivot_table(index=['drug1', 'drug2'], columns='cliff', aggfunc='size', fill_value=0)\n",
    "cliff_pivot"
   ],
   "metadata": {
    "collapsed": false,
    "ExecuteTime": {
     "end_time": "2024-03-03T10:29:21.620818200Z",
     "start_time": "2024-03-03T10:29:21.537941200Z"
    }
   },
   "id": "4b48a3562b0b7c9f"
  },
  {
   "cell_type": "code",
   "execution_count": 65,
   "outputs": [
    {
     "data": {
      "text/plain": "cliff                       0   1  total_count  proportion_of_1\ndrug1        drug2                                             \nCHEMBL100102 CHEMBL327291  14   0           14         0.000000\n             CHEMBL95737   14   0           14         0.000000\n             CHEMBL97026   14   0           14         0.000000\n             CHEMBL97448   14   0           14         0.000000\n             CHEMBL97768   14   0           14         0.000000\n...                        ..  ..          ...              ...\nCHEMBL97448  CHEMBL97768    3  11           14         0.785714\n             CHEMBL97796   14   0           14         0.000000\nCHEMBL97768  CHEMBL97796    3  11           14         0.785714\nCHEMBL98721  CHEMBL99572   11   3           14         0.214286\nCHEMBL99743  CHEMBL104067  23   1           24         0.041667\n\n[2627 rows x 4 columns]",
      "text/html": "<div>\n<style scoped>\n    .dataframe tbody tr th:only-of-type {\n        vertical-align: middle;\n    }\n\n    .dataframe tbody tr th {\n        vertical-align: top;\n    }\n\n    .dataframe thead th {\n        text-align: right;\n    }\n</style>\n<table border=\"1\" class=\"dataframe\">\n  <thead>\n    <tr style=\"text-align: right;\">\n      <th></th>\n      <th>cliff</th>\n      <th>0</th>\n      <th>1</th>\n      <th>total_count</th>\n      <th>proportion_of_1</th>\n    </tr>\n    <tr>\n      <th>drug1</th>\n      <th>drug2</th>\n      <th></th>\n      <th></th>\n      <th></th>\n      <th></th>\n    </tr>\n  </thead>\n  <tbody>\n    <tr>\n      <th rowspan=\"5\" valign=\"top\">CHEMBL100102</th>\n      <th>CHEMBL327291</th>\n      <td>14</td>\n      <td>0</td>\n      <td>14</td>\n      <td>0.000000</td>\n    </tr>\n    <tr>\n      <th>CHEMBL95737</th>\n      <td>14</td>\n      <td>0</td>\n      <td>14</td>\n      <td>0.000000</td>\n    </tr>\n    <tr>\n      <th>CHEMBL97026</th>\n      <td>14</td>\n      <td>0</td>\n      <td>14</td>\n      <td>0.000000</td>\n    </tr>\n    <tr>\n      <th>CHEMBL97448</th>\n      <td>14</td>\n      <td>0</td>\n      <td>14</td>\n      <td>0.000000</td>\n    </tr>\n    <tr>\n      <th>CHEMBL97768</th>\n      <td>14</td>\n      <td>0</td>\n      <td>14</td>\n      <td>0.000000</td>\n    </tr>\n    <tr>\n      <th>...</th>\n      <th>...</th>\n      <td>...</td>\n      <td>...</td>\n      <td>...</td>\n      <td>...</td>\n    </tr>\n    <tr>\n      <th rowspan=\"2\" valign=\"top\">CHEMBL97448</th>\n      <th>CHEMBL97768</th>\n      <td>3</td>\n      <td>11</td>\n      <td>14</td>\n      <td>0.785714</td>\n    </tr>\n    <tr>\n      <th>CHEMBL97796</th>\n      <td>14</td>\n      <td>0</td>\n      <td>14</td>\n      <td>0.000000</td>\n    </tr>\n    <tr>\n      <th>CHEMBL97768</th>\n      <th>CHEMBL97796</th>\n      <td>3</td>\n      <td>11</td>\n      <td>14</td>\n      <td>0.785714</td>\n    </tr>\n    <tr>\n      <th>CHEMBL98721</th>\n      <th>CHEMBL99572</th>\n      <td>11</td>\n      <td>3</td>\n      <td>14</td>\n      <td>0.214286</td>\n    </tr>\n    <tr>\n      <th>CHEMBL99743</th>\n      <th>CHEMBL104067</th>\n      <td>23</td>\n      <td>1</td>\n      <td>24</td>\n      <td>0.041667</td>\n    </tr>\n  </tbody>\n</table>\n<p>2627 rows × 4 columns</p>\n</div>"
     },
     "execution_count": 65,
     "metadata": {},
     "output_type": "execute_result"
    }
   ],
   "source": [
    "cliff_pivot['total_count'] = cliff_pivot[0] + cliff_pivot[1]\n",
    "\n",
    "# Calculate the proportion of 1s in pairs\n",
    "cliff_pivot['proportion_of_1'] = cliff_pivot[1] / cliff_pivot['total_count']\n",
    "cliff_pivot\n"
   ],
   "metadata": {
    "collapsed": false,
    "ExecuteTime": {
     "end_time": "2024-03-03T10:30:49.696497700Z",
     "start_time": "2024-03-03T10:30:49.659465400Z"
    }
   },
   "id": "3be011adee3f938a"
  },
  {
   "cell_type": "code",
   "execution_count": 80,
   "outputs": [
    {
     "data": {
      "text/plain": "<Figure size 1000x600 with 1 Axes>",
      "image/png": "[encoded data removed]"
     },
     "metadata": {},
     "output_type": "display_data"
    }
   ],
   "source": [
    "cliff_pivot_reset = cliff_pivot.reset_index()\n",
    "\n",
    "plt.figure(figsize=(10, 6))\n",
    "plt.hist(cliff_pivot_reset['proportion_of_1'].to_numpy(), color='blue', alpha=0.5, bins=50)\n",
    "plt.xlabel('Proportion of 1s')\n",
    "plt.ylabel('Pairs');"
   ],
   "metadata": {
    "collapsed": false,
    "ExecuteTime": {
     "end_time": "2024-03-03T10:41:31.226956400Z",
     "start_time": "2024-03-03T10:41:30.958261300Z"
    }
   },
   "id": "95e97d1b8ed673f8"
  },
  {
   "cell_type": "code",
   "execution_count": 134,
   "outputs": [
    {
     "data": {
      "text/plain": "(2627, 795, 72)"
     },
     "execution_count": 134,
     "metadata": {},
     "output_type": "execute_result"
    }
   ],
   "source": [
    "len(cliff_pivot_reset), len(cliff_pivot_reset[cliff_pivot_reset['proportion_of_1'] == 0]), len(cliff_pivot_reset[cliff_pivot_reset['proportion_of_1'] == 1])"
   ],
   "metadata": {
    "collapsed": false,
    "ExecuteTime": {
     "end_time": "2024-03-03T11:30:13.843789900Z",
     "start_time": "2024-03-03T11:30:13.770438700Z"
    }
   },
   "id": "112b29c38f9e4baa"
  },
  {
   "cell_type": "code",
   "execution_count": 135,
   "outputs": [
    {
     "data": {
      "text/plain": "1760"
     },
     "execution_count": 135,
     "metadata": {},
     "output_type": "execute_result"
    }
   ],
   "source": [
    "len(cliff_pivot_reset[(cliff_pivot_reset['proportion_of_1'] != 0) & (cliff_pivot_reset['proportion_of_1'] != 1)])"
   ],
   "metadata": {
    "collapsed": false,
    "ExecuteTime": {
     "end_time": "2024-03-03T11:30:58.541208200Z",
     "start_time": "2024-03-03T11:30:58.451638900Z"
    }
   },
   "id": "a462b8e5fbfa9927"
  },
  {
   "cell_type": "markdown",
   "source": [
    "Out of 2627 drug pairs, 795 do not exhibit ACs (as it was expected) and 72 pairs does show AC exclusively. Moreover, there exists 1760 of compounds that demonstrate both non-AC and AC."
   ],
   "metadata": {
    "collapsed": false
   },
   "id": "594c8c9a7fb4842b"
  },
  {
   "cell_type": "code",
   "execution_count": 51,
   "outputs": [
    {
     "data": {
      "text/plain": "               drug1          drug2\n0      CHEMBL1087421  CHEMBL1088633\n1       CHEMBL206783   CHEMBL207037\n2       CHEMBL206783   CHEMBL207246\n3       CHEMBL206783   CHEMBL207584\n4       CHEMBL206783   CHEMBL207674\n...              ...            ...\n19116  CHEMBL1996176    CHEMBL86755\n20272   CHEMBL383264  CHEMBL1981133\n24434  CHEMBL1981133   CHEMBL378963\n55605  CHEMBL1991008  CHEMBL2002182\n78751   CHEMBL360847   CHEMBL432130\n\n[2627 rows x 2 columns]",
      "text/html": "<div>\n<style scoped>\n    .dataframe tbody tr th:only-of-type {\n        vertical-align: middle;\n    }\n\n    .dataframe tbody tr th {\n        vertical-align: top;\n    }\n\n    .dataframe thead th {\n        text-align: right;\n    }\n</style>\n<table border=\"1\" class=\"dataframe\">\n  <thead>\n    <tr style=\"text-align: right;\">\n      <th></th>\n      <th>drug1</th>\n      <th>drug2</th>\n    </tr>\n  </thead>\n  <tbody>\n    <tr>\n      <th>0</th>\n      <td>CHEMBL1087421</td>\n      <td>CHEMBL1088633</td>\n    </tr>\n    <tr>\n      <th>1</th>\n      <td>CHEMBL206783</td>\n      <td>CHEMBL207037</td>\n    </tr>\n    <tr>\n      <th>2</th>\n      <td>CHEMBL206783</td>\n      <td>CHEMBL207246</td>\n    </tr>\n    <tr>\n      <th>3</th>\n      <td>CHEMBL206783</td>\n      <td>CHEMBL207584</td>\n    </tr>\n    <tr>\n      <th>4</th>\n      <td>CHEMBL206783</td>\n      <td>CHEMBL207674</td>\n    </tr>\n    <tr>\n      <th>...</th>\n      <td>...</td>\n      <td>...</td>\n    </tr>\n    <tr>\n      <th>19116</th>\n      <td>CHEMBL1996176</td>\n      <td>CHEMBL86755</td>\n    </tr>\n    <tr>\n      <th>20272</th>\n      <td>CHEMBL383264</td>\n      <td>CHEMBL1981133</td>\n    </tr>\n    <tr>\n      <th>24434</th>\n      <td>CHEMBL1981133</td>\n      <td>CHEMBL378963</td>\n    </tr>\n    <tr>\n      <th>55605</th>\n      <td>CHEMBL1991008</td>\n      <td>CHEMBL2002182</td>\n    </tr>\n    <tr>\n      <th>78751</th>\n      <td>CHEMBL360847</td>\n      <td>CHEMBL432130</td>\n    </tr>\n  </tbody>\n</table>\n<p>2627 rows × 2 columns</p>\n</div>"
     },
     "execution_count": 51,
     "metadata": {},
     "output_type": "execute_result"
    }
   ],
   "source": [
    "un1 = cliff_pairs[['drug1', 'drug2']].drop_duplicates()\n",
    "un1"
   ],
   "metadata": {
    "collapsed": false,
    "ExecuteTime": {
     "end_time": "2024-03-03T10:23:56.708984600Z",
     "start_time": "2024-03-03T10:23:56.659427300Z"
    }
   },
   "id": "9fba3c33cb7a6f0e"
  },
  {
   "cell_type": "code",
   "execution_count": 105,
   "outputs": [
    {
     "data": {
      "text/plain": "drug1          drug2        \nCHEMBL210928   CHEMBL210963     158\nCHEMBL210963   CHEMBL378627     157\nCHEMBL210928   CHEMBL378627     157\nCHEMBL1991678  CHEMBL1996500    152\nCHEMBL1980297  CHEMBL1989708    145\n                               ... \nCHEMBL1987143  CHEMBL1973795      2\nCHEMBL1979933  CHEMBL242237       2\nCHEMBL360847   CHEMBL432130       1\nCHEMBL1981133  CHEMBL378963       1\nCHEMBL1970950  CHEMBL242237       1\nName: count, Length: 2627, dtype: int64"
     },
     "execution_count": 105,
     "metadata": {},
     "output_type": "execute_result"
    }
   ],
   "source": [
    "un2 = cliff_pairs[['drug1', 'drug2']].value_counts()\n",
    "un2"
   ],
   "metadata": {
    "collapsed": false,
    "ExecuteTime": {
     "end_time": "2024-03-03T11:08:04.689403600Z",
     "start_time": "2024-03-03T11:08:04.586663900Z"
    }
   },
   "id": "eeeb42fdf83cdcfe"
  },
  {
   "cell_type": "code",
   "execution_count": 107,
   "outputs": [
    {
     "data": {
      "text/plain": "<Figure size 640x480 with 1 Axes>",
      "image/png": "[encoded data removed]"
     },
     "metadata": {},
     "output_type": "display_data"
    }
   ],
   "source": [
    "plt.hist(un2)\n",
    "plt.xlabel('The number of targets')\n",
    "plt.ylabel('The number of pairs');"
   ],
   "metadata": {
    "collapsed": false,
    "ExecuteTime": {
     "end_time": "2024-03-03T11:08:17.400424700Z",
     "start_time": "2024-03-03T11:08:17.087845400Z"
    }
   },
   "id": "731c9c2099480523"
  },
  {
   "cell_type": "code",
   "execution_count": 53,
   "outputs": [
    {
     "data": {
      "text/plain": "drug1          drug2          target\nCHEMBL100102   CHEMBL327291   O94806    1\nCHEMBL1984206  CHEMBL209534   P22607    1\n                              P31749    1\n                              P29597    1\n                              P29317    1\n                                       ..\nCHEMBL1967116  CHEMBL1974254  P06493    1\n                              P06241    1\n                              P06239    1\n                              P06213    1\nCHEMBL99743    CHEMBL104067   Q15139    1\nName: count, Length: 80517, dtype: int64"
     },
     "execution_count": 53,
     "metadata": {},
     "output_type": "execute_result"
    }
   ],
   "source": [
    "un3 = cliff_pairs[['drug1', 'drug2', 'target']].value_counts()\n",
    "un3"
   ],
   "metadata": {
    "collapsed": false,
    "ExecuteTime": {
     "end_time": "2024-03-03T10:24:18.240473600Z",
     "start_time": "2024-03-03T10:24:18.151009100Z"
    }
   },
   "id": "592ec30d38969ae2"
  },
  {
   "cell_type": "code",
   "execution_count": 87,
   "outputs": [
    {
     "data": {
      "text/plain": "drug1          drug2          cliff\nCHEMBL210928   CHEMBL210963   0        158\nCHEMBL210963   CHEMBL378627   0        157\nCHEMBL210928   CHEMBL378627   0        157\nCHEMBL1991678  CHEMBL1996500  0        151\nCHEMBL377408   CHEMBL424872   0        140\n                                      ... \nCHEMBL1242114  CHEMBL1242198  1          1\nCHEMBL1242113  CHEMBL1242114  1          1\nCHEMBL210032   CHEMBL2006567  1          1\nCHEMBL1242109  CHEMBL1242114  1          1\nCHEMBL99743    CHEMBL104067   1          1\nName: count, Length: 4387, dtype: int64"
     },
     "execution_count": 87,
     "metadata": {},
     "output_type": "execute_result"
    }
   ],
   "source": [
    "un4 = cliff_pairs[['drug1', 'drug2', 'cliff']].value_counts()\n",
    "un4"
   ],
   "metadata": {
    "collapsed": false,
    "ExecuteTime": {
     "end_time": "2024-03-03T10:50:30.502213900Z",
     "start_time": "2024-03-03T10:50:30.387157800Z"
    }
   },
   "id": "b68627104a93ed5f"
  },
  {
   "cell_type": "code",
   "execution_count": 114,
   "outputs": [
    {
     "data": {
      "text/plain": "target\nO00141     81\nO00311    371\nO00329    894\nO00418    175\nO00444    373\n         ... \nQ9Y243    443\nQ9Y463     87\nQ9Y478     91\nQ9Y4K4    407\nQ9Y6M4    248\nLength: 222, dtype: int64"
     },
     "execution_count": 114,
     "metadata": {},
     "output_type": "execute_result"
    }
   ],
   "source": [
    "size_per_target = cliff_pairs.groupby('target').size()\n",
    "size_per_target"
   ],
   "metadata": {
    "collapsed": false,
    "ExecuteTime": {
     "end_time": "2024-03-03T11:11:21.010796100Z",
     "start_time": "2024-03-03T11:11:20.953242500Z"
    }
   },
   "id": "ff6204f4d47c4f82"
  },
  {
   "cell_type": "code",
   "execution_count": 115,
   "outputs": [
    {
     "data": {
      "text/plain": "(1, 1699)"
     },
     "execution_count": 115,
     "metadata": {},
     "output_type": "execute_result"
    }
   ],
   "source": [
    "min(size_per_target), max(size_per_target)"
   ],
   "metadata": {
    "collapsed": false,
    "ExecuteTime": {
     "end_time": "2024-03-03T11:11:38.574902700Z",
     "start_time": "2024-03-03T11:11:38.550906900Z"
    }
   },
   "id": "23a844cd8733e788"
  },
  {
   "cell_type": "code",
   "execution_count": 116,
   "outputs": [
    {
     "data": {
      "text/plain": "<Figure size 640x480 with 1 Axes>",
      "image/png": "[encoded data removed]"
     },
     "metadata": {},
     "output_type": "display_data"
    }
   ],
   "source": [
    "plt.hist(size_per_target)\n",
    "plt.xlabel('The number of pairs')\n",
    "plt.ylabel('The number of targets');"
   ],
   "metadata": {
    "collapsed": false,
    "ExecuteTime": {
     "end_time": "2024-03-03T11:11:39.533680100Z",
     "start_time": "2024-03-03T11:11:39.261308Z"
    }
   },
   "id": "86803e374d49a5e1"
  },
  {
   "cell_type": "code",
   "execution_count": 99,
   "outputs": [
    {
     "data": {
      "text/plain": "cliff\n0    70601\n1     9916\nName: count, dtype: int64"
     },
     "execution_count": 99,
     "metadata": {},
     "output_type": "execute_result"
    }
   ],
   "source": [
    "cliff_pairs['cliff'].value_counts()"
   ],
   "metadata": {
    "collapsed": false,
    "ExecuteTime": {
     "end_time": "2024-03-03T10:53:34.827137900Z",
     "start_time": "2024-03-03T10:53:34.767221700Z"
    }
   },
   "id": "9998810d003c3615"
  },
  {
   "cell_type": "code",
   "execution_count": 6,
   "outputs": [],
   "source": [
    "cliff_pairs.to_csv('../analysis/morgan_cnn_kiba_cliff_pairs.csv', index=False)"
   ],
   "metadata": {
    "collapsed": false,
    "ExecuteTime": {
     "end_time": "2024-02-27T10:42:36.016006900Z",
     "start_time": "2024-02-27T10:42:35.885272600Z"
    }
   },
   "id": "fa9be0cf7ae02b0b"
  },
  {
   "cell_type": "code",
   "execution_count": 4,
   "outputs": [],
   "source": [
    "cliff_pairs = pd.read_csv('../analysis/morgan_cnn_kiba_cliff_pairs.csv')"
   ],
   "metadata": {
    "collapsed": false,
    "ExecuteTime": {
     "end_time": "2024-02-27T10:54:22.791795200Z",
     "start_time": "2024-02-27T10:54:22.717868200Z"
    }
   },
   "id": "deb2b9d546bb07b9"
  },
  {
   "cell_type": "code",
   "execution_count": null,
   "outputs": [],
   "source": [
    "cliff_pairs"
   ],
   "metadata": {
    "collapsed": false
   },
   "id": "f4d4ad7f5098c5ca"
  },
  {
   "cell_type": "code",
   "execution_count": 6,
   "outputs": [],
   "source": [
    "cliff_pairs_nodup = cliff_pairs.drop_duplicates()"
   ],
   "metadata": {
    "collapsed": false,
    "ExecuteTime": {
     "end_time": "2024-02-27T10:54:49.054747900Z",
     "start_time": "2024-02-27T10:54:48.972985300Z"
    }
   },
   "id": "df17aefddba11869"
  },
  {
   "cell_type": "code",
   "execution_count": null,
   "outputs": [],
   "source": [
    "cliff_pairs_nodup[cliff_pairs_nodup.cliff == 1]"
   ],
   "metadata": {
    "collapsed": false
   },
   "id": "f45982c53664f04a"
  },
  {
   "cell_type": "code",
   "execution_count": 8,
   "outputs": [],
   "source": [
    "drugs = load(open('../data/KIBA/SMILES.txt'))"
   ],
   "metadata": {
    "collapsed": false,
    "ExecuteTime": {
     "end_time": "2024-02-27T10:55:07.222655200Z",
     "start_time": "2024-02-27T10:55:07.189882600Z"
    }
   },
   "id": "afd1f4a27ea47f8a"
  },
  {
   "cell_type": "code",
   "execution_count": null,
   "outputs": [],
   "source": [
    "cliff_pairs_nodup['smiles1'] = cliff_pairs_nodup.drug1.apply(drugs.__getitem__)\n",
    "cliff_pairs_nodup['smiles2'] = cliff_pairs_nodup.drug2.apply(drugs.__getitem__)"
   ],
   "metadata": {
    "collapsed": false
   },
   "id": "2d9d78dea08d7710"
  },
  {
   "cell_type": "code",
   "execution_count": null,
   "outputs": [],
   "source": [
    "cliff_pairs_nodup"
   ],
   "metadata": {
    "collapsed": false
   },
   "id": "85162c47952222d3"
  },
  {
   "cell_type": "code",
   "execution_count": 12,
   "outputs": [],
   "source": [
    "cliff_pairs_nodup_split_random = split_data(cliff_pairs_nodup, split='random')"
   ],
   "metadata": {
    "collapsed": false,
    "ExecuteTime": {
     "end_time": "2024-02-27T10:55:40.759157500Z",
     "start_time": "2024-02-27T10:55:40.723559300Z"
    }
   },
   "id": "640f9239050000b4"
  },
  {
   "cell_type": "code",
   "execution_count": null,
   "outputs": [],
   "source": [
    "cliff_pairs_nodup_split_random[cliff_pairs_nodup_split_random.split == 0]"
   ],
   "metadata": {
    "collapsed": false
   },
   "id": "e305bce13d8e35f5"
  },
  {
   "cell_type": "code",
   "execution_count": 25,
   "outputs": [],
   "source": [
    "cliff_pairs_nodup_split_random.to_csv('../analysis/kiba_cliff_pairs_ta_1_ts_0.9_random.csv', index=False)"
   ],
   "metadata": {
    "collapsed": false,
    "ExecuteTime": {
     "end_time": "2024-02-27T10:58:44.075137700Z",
     "start_time": "2024-02-27T10:58:44.039805600Z"
    }
   },
   "id": "ed3c9a93b623337"
  },
  {
   "cell_type": "code",
   "execution_count": 18,
   "outputs": [],
   "source": [
    "cliff_pairs_nodup_split_cb = split_data(cliff_pairs_nodup, split='compound-based')"
   ],
   "metadata": {
    "collapsed": false,
    "ExecuteTime": {
     "end_time": "2024-02-27T10:57:04.413251400Z",
     "start_time": "2024-02-27T10:57:04.382116300Z"
    }
   },
   "id": "cd7489b829ad4874"
  },
  {
   "cell_type": "code",
   "execution_count": null,
   "outputs": [],
   "source": [
    "cliff_pairs_nodup_split_cb[cliff_pairs_nodup_split_cb.split == 2]"
   ],
   "metadata": {
    "collapsed": false
   },
   "id": "cd7a927059e9985d"
  },
  {
   "cell_type": "code",
   "execution_count": 24,
   "outputs": [],
   "source": [
    "cliff_pairs_nodup_split_cb.to_csv('../analysis/kiba_cliff_pairs_ta_1_ts_0.9_cb.csv', index=False)"
   ],
   "metadata": {
    "collapsed": false,
    "ExecuteTime": {
     "end_time": "2024-02-27T10:58:40.967476400Z",
     "start_time": "2024-02-27T10:58:40.878061400Z"
    }
   },
   "id": "38d3a8b3d628f92f"
  }
 ],
 "metadata": {
  "kernelspec": {
   "display_name": "Python 3",
   "language": "python",
   "name": "python3"
  },
  "language_info": {
   "codemirror_mode": {
    "name": "ipython",
    "version": 2
   },
   "file_extension": ".py",
   "mimetype": "text/x-python",
   "name": "python",
   "nbconvert_exporter": "python",
   "pygments_lexer": "ipython2",
   "version": "2.7.6"
  }
 },
 "nbformat": 4,
 "nbformat_minor": 5
}
