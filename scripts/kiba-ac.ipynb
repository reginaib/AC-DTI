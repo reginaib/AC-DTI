{
 "cells": [
  {
   "cell_type": "code",
   "execution_count": 1,
   "outputs": [],
   "source": [
    "import pandas as pd\n",
    "import matplotlib.pyplot as plt\n",
    "\n",
    "from json import load\n",
    "from dataset import get_cliffs, split_data, majority_vote, at_least_once_AC\n",
    "from cliffs import get_similarity_matrix\n",
    "from graphics import get_hist_prop\n"
   ],
   "metadata": {
    "collapsed": false,
    "ExecuteTime": {
     "end_time": "2024-03-03T12:33:54.322293500Z",
     "start_time": "2024-03-03T12:33:53.851161Z"
    }
   },
   "id": "initial_id"
  },
  {
   "cell_type": "code",
   "outputs": [],
   "source": [
    "df = pd.read_csv('../analysis/morgan_cnn_kiba_predictions.csv')\n",
    "del df['predicted'] \n",
    "df.columns = ['drug', 'target', 'affinity']\n",
    "drugs = load(open('../data/KIBA/SMILES.txt'))\n",
    "df['SMILES'] = df.drug.apply(drugs.get)\n",
    "df.to_csv('../analysis/morgan_cnn_kiba_affinity.csv')"
   ],
   "metadata": {
    "collapsed": false
   },
   "id": "2c6fd6f6474e495e",
   "execution_count": null
  },
  {
   "cell_type": "code",
   "execution_count": 81,
   "outputs": [],
   "source": [
    "df = pd.read_csv('../analysis/morgan_cnn_kiba_affinity.csv')"
   ],
   "metadata": {
    "collapsed": false,
    "ExecuteTime": {
     "end_time": "2024-03-01T10:18:07.384727300Z",
     "start_time": "2024-03-01T10:18:06.750692200Z"
    }
   },
   "id": "330df1c9f9da0c33"
  },
  {
   "cell_type": "code",
   "execution_count": null,
   "outputs": [],
   "source": [
    "df"
   ],
   "metadata": {
    "collapsed": false
   },
   "id": "f92fb5e21ed888dd"
  },
  {
   "cell_type": "code",
   "execution_count": null,
   "outputs": [],
   "source": [
    "cliff_pairs = get_cliffs(df)"
   ],
   "metadata": {
    "collapsed": false
   },
   "id": "c5c2cdfd8dace996"
  },
  {
   "cell_type": "code",
   "execution_count": null,
   "outputs": [],
   "source": [
    "cliff_pairs"
   ],
   "metadata": {
    "collapsed": false
   },
   "id": "ffb152012d109337"
  },
  {
   "cell_type": "code",
   "execution_count": 6,
   "outputs": [],
   "source": [
    "cliff_pairs.to_csv('../analysis/kiba_cliff_pairs_ta1_ts0.9.csv', index=False)"
   ],
   "metadata": {
    "collapsed": false,
    "ExecuteTime": {
     "end_time": "2024-03-03T09:57:11.275337700Z",
     "start_time": "2024-03-03T09:57:11.135303500Z"
    }
   },
   "id": "b6712812d36d77ad"
  },
  {
   "cell_type": "code",
   "execution_count": 2,
   "outputs": [],
   "source": [
    "cliff_pairs = pd.read_csv('../analysis/kiba_cliff_pairs_ta1_ts0.9.csv')"
   ],
   "metadata": {
    "collapsed": false,
    "ExecuteTime": {
     "end_time": "2024-03-03T12:33:57.714003100Z",
     "start_time": "2024-03-03T12:33:57.613714200Z"
    }
   },
   "id": "a37323d79122c1e"
  },
  {
   "cell_type": "code",
   "execution_count": 3,
   "outputs": [
    {
     "data": {
      "text/plain": "               drug1          drug2  cliff  target\n0      CHEMBL1087421  CHEMBL1088633      0  O00141\n1       CHEMBL206783   CHEMBL207037      0  O00141\n2       CHEMBL206783   CHEMBL207246      0  O00141\n3       CHEMBL206783   CHEMBL207584      0  O00141\n4       CHEMBL206783   CHEMBL207674      0  O00141\n...              ...            ...    ...     ...\n80512   CHEMBL456936   CHEMBL517956      0  Q16512\n80513   CHEMBL456936   CHEMBL518060      0  Q16512\n80514   CHEMBL515982   CHEMBL517956      0  Q16512\n80515   CHEMBL515982   CHEMBL518060      0  Q16512\n80516   CHEMBL517956   CHEMBL518060      0  Q16512\n\n[80517 rows x 4 columns]",
      "text/html": "<div>\n<style scoped>\n    .dataframe tbody tr th:only-of-type {\n        vertical-align: middle;\n    }\n\n    .dataframe tbody tr th {\n        vertical-align: top;\n    }\n\n    .dataframe thead th {\n        text-align: right;\n    }\n</style>\n<table border=\"1\" class=\"dataframe\">\n  <thead>\n    <tr style=\"text-align: right;\">\n      <th></th>\n      <th>drug1</th>\n      <th>drug2</th>\n      <th>cliff</th>\n      <th>target</th>\n    </tr>\n  </thead>\n  <tbody>\n    <tr>\n      <th>0</th>\n      <td>CHEMBL1087421</td>\n      <td>CHEMBL1088633</td>\n      <td>0</td>\n      <td>O00141</td>\n    </tr>\n    <tr>\n      <th>1</th>\n      <td>CHEMBL206783</td>\n      <td>CHEMBL207037</td>\n      <td>0</td>\n      <td>O00141</td>\n    </tr>\n    <tr>\n      <th>2</th>\n      <td>CHEMBL206783</td>\n      <td>CHEMBL207246</td>\n      <td>0</td>\n      <td>O00141</td>\n    </tr>\n    <tr>\n      <th>3</th>\n      <td>CHEMBL206783</td>\n      <td>CHEMBL207584</td>\n      <td>0</td>\n      <td>O00141</td>\n    </tr>\n    <tr>\n      <th>4</th>\n      <td>CHEMBL206783</td>\n      <td>CHEMBL207674</td>\n      <td>0</td>\n      <td>O00141</td>\n    </tr>\n    <tr>\n      <th>...</th>\n      <td>...</td>\n      <td>...</td>\n      <td>...</td>\n      <td>...</td>\n    </tr>\n    <tr>\n      <th>80512</th>\n      <td>CHEMBL456936</td>\n      <td>CHEMBL517956</td>\n      <td>0</td>\n      <td>Q16512</td>\n    </tr>\n    <tr>\n      <th>80513</th>\n      <td>CHEMBL456936</td>\n      <td>CHEMBL518060</td>\n      <td>0</td>\n      <td>Q16512</td>\n    </tr>\n    <tr>\n      <th>80514</th>\n      <td>CHEMBL515982</td>\n      <td>CHEMBL517956</td>\n      <td>0</td>\n      <td>Q16512</td>\n    </tr>\n    <tr>\n      <th>80515</th>\n      <td>CHEMBL515982</td>\n      <td>CHEMBL518060</td>\n      <td>0</td>\n      <td>Q16512</td>\n    </tr>\n    <tr>\n      <th>80516</th>\n      <td>CHEMBL517956</td>\n      <td>CHEMBL518060</td>\n      <td>0</td>\n      <td>Q16512</td>\n    </tr>\n  </tbody>\n</table>\n<p>80517 rows × 4 columns</p>\n</div>"
     },
     "execution_count": 3,
     "metadata": {},
     "output_type": "execute_result"
    }
   ],
   "source": [
    "cliff_pairs"
   ],
   "metadata": {
    "collapsed": false,
    "ExecuteTime": {
     "end_time": "2024-03-03T12:33:58.542697600Z",
     "start_time": "2024-03-03T12:33:58.507205600Z"
    }
   },
   "id": "b7de96b4567ea8f7"
  },
  {
   "cell_type": "code",
   "execution_count": 4,
   "outputs": [
    {
     "data": {
      "text/plain": "             drug1         drug2  cliff  count\n0     CHEMBL100102  CHEMBL327291      0     14\n1     CHEMBL100102   CHEMBL95737      0     14\n2     CHEMBL100102   CHEMBL97026      0     14\n3     CHEMBL100102   CHEMBL97448      0     14\n4     CHEMBL100102   CHEMBL97768      0     14\n...            ...           ...    ...    ...\n4382   CHEMBL97768   CHEMBL97796      1     11\n4383   CHEMBL98721   CHEMBL99572      0     11\n4384   CHEMBL98721   CHEMBL99572      1      3\n4385   CHEMBL99743  CHEMBL104067      0     23\n4386   CHEMBL99743  CHEMBL104067      1      1\n\n[4387 rows x 4 columns]",
      "text/html": "<div>\n<style scoped>\n    .dataframe tbody tr th:only-of-type {\n        vertical-align: middle;\n    }\n\n    .dataframe tbody tr th {\n        vertical-align: top;\n    }\n\n    .dataframe thead th {\n        text-align: right;\n    }\n</style>\n<table border=\"1\" class=\"dataframe\">\n  <thead>\n    <tr style=\"text-align: right;\">\n      <th></th>\n      <th>drug1</th>\n      <th>drug2</th>\n      <th>cliff</th>\n      <th>count</th>\n    </tr>\n  </thead>\n  <tbody>\n    <tr>\n      <th>0</th>\n      <td>CHEMBL100102</td>\n      <td>CHEMBL327291</td>\n      <td>0</td>\n      <td>14</td>\n    </tr>\n    <tr>\n      <th>1</th>\n      <td>CHEMBL100102</td>\n      <td>CHEMBL95737</td>\n      <td>0</td>\n      <td>14</td>\n    </tr>\n    <tr>\n      <th>2</th>\n      <td>CHEMBL100102</td>\n      <td>CHEMBL97026</td>\n      <td>0</td>\n      <td>14</td>\n    </tr>\n    <tr>\n      <th>3</th>\n      <td>CHEMBL100102</td>\n      <td>CHEMBL97448</td>\n      <td>0</td>\n      <td>14</td>\n    </tr>\n    <tr>\n      <th>4</th>\n      <td>CHEMBL100102</td>\n      <td>CHEMBL97768</td>\n      <td>0</td>\n      <td>14</td>\n    </tr>\n    <tr>\n      <th>...</th>\n      <td>...</td>\n      <td>...</td>\n      <td>...</td>\n      <td>...</td>\n    </tr>\n    <tr>\n      <th>4382</th>\n      <td>CHEMBL97768</td>\n      <td>CHEMBL97796</td>\n      <td>1</td>\n      <td>11</td>\n    </tr>\n    <tr>\n      <th>4383</th>\n      <td>CHEMBL98721</td>\n      <td>CHEMBL99572</td>\n      <td>0</td>\n      <td>11</td>\n    </tr>\n    <tr>\n      <th>4384</th>\n      <td>CHEMBL98721</td>\n      <td>CHEMBL99572</td>\n      <td>1</td>\n      <td>3</td>\n    </tr>\n    <tr>\n      <th>4385</th>\n      <td>CHEMBL99743</td>\n      <td>CHEMBL104067</td>\n      <td>0</td>\n      <td>23</td>\n    </tr>\n    <tr>\n      <th>4386</th>\n      <td>CHEMBL99743</td>\n      <td>CHEMBL104067</td>\n      <td>1</td>\n      <td>1</td>\n    </tr>\n  </tbody>\n</table>\n<p>4387 rows × 4 columns</p>\n</div>"
     },
     "execution_count": 4,
     "metadata": {},
     "output_type": "execute_result"
    }
   ],
   "source": [
    "cliff_pairs.groupby(['drug1', 'drug2', 'cliff']).size().reset_index(name='count')"
   ],
   "metadata": {
    "collapsed": false,
    "ExecuteTime": {
     "end_time": "2024-03-03T12:34:00.447449200Z",
     "start_time": "2024-03-03T12:34:00.342221100Z"
    }
   },
   "id": "7587f7cf437f8451"
  },
  {
   "cell_type": "code",
   "execution_count": 5,
   "outputs": [
    {
     "data": {
      "text/plain": "cliff                       0   1\ndrug1        drug2               \nCHEMBL100102 CHEMBL327291  14   0\n             CHEMBL95737   14   0\n             CHEMBL97026   14   0\n             CHEMBL97448   14   0\n             CHEMBL97768   14   0\n...                        ..  ..\nCHEMBL97448  CHEMBL97768    3  11\n             CHEMBL97796   14   0\nCHEMBL97768  CHEMBL97796    3  11\nCHEMBL98721  CHEMBL99572   11   3\nCHEMBL99743  CHEMBL104067  23   1\n\n[2627 rows x 2 columns]",
      "text/html": "<div>\n<style scoped>\n    .dataframe tbody tr th:only-of-type {\n        vertical-align: middle;\n    }\n\n    .dataframe tbody tr th {\n        vertical-align: top;\n    }\n\n    .dataframe thead th {\n        text-align: right;\n    }\n</style>\n<table border=\"1\" class=\"dataframe\">\n  <thead>\n    <tr style=\"text-align: right;\">\n      <th></th>\n      <th>cliff</th>\n      <th>0</th>\n      <th>1</th>\n    </tr>\n    <tr>\n      <th>drug1</th>\n      <th>drug2</th>\n      <th></th>\n      <th></th>\n    </tr>\n  </thead>\n  <tbody>\n    <tr>\n      <th rowspan=\"5\" valign=\"top\">CHEMBL100102</th>\n      <th>CHEMBL327291</th>\n      <td>14</td>\n      <td>0</td>\n    </tr>\n    <tr>\n      <th>CHEMBL95737</th>\n      <td>14</td>\n      <td>0</td>\n    </tr>\n    <tr>\n      <th>CHEMBL97026</th>\n      <td>14</td>\n      <td>0</td>\n    </tr>\n    <tr>\n      <th>CHEMBL97448</th>\n      <td>14</td>\n      <td>0</td>\n    </tr>\n    <tr>\n      <th>CHEMBL97768</th>\n      <td>14</td>\n      <td>0</td>\n    </tr>\n    <tr>\n      <th>...</th>\n      <th>...</th>\n      <td>...</td>\n      <td>...</td>\n    </tr>\n    <tr>\n      <th rowspan=\"2\" valign=\"top\">CHEMBL97448</th>\n      <th>CHEMBL97768</th>\n      <td>3</td>\n      <td>11</td>\n    </tr>\n    <tr>\n      <th>CHEMBL97796</th>\n      <td>14</td>\n      <td>0</td>\n    </tr>\n    <tr>\n      <th>CHEMBL97768</th>\n      <th>CHEMBL97796</th>\n      <td>3</td>\n      <td>11</td>\n    </tr>\n    <tr>\n      <th>CHEMBL98721</th>\n      <th>CHEMBL99572</th>\n      <td>11</td>\n      <td>3</td>\n    </tr>\n    <tr>\n      <th>CHEMBL99743</th>\n      <th>CHEMBL104067</th>\n      <td>23</td>\n      <td>1</td>\n    </tr>\n  </tbody>\n</table>\n<p>2627 rows × 2 columns</p>\n</div>"
     },
     "execution_count": 5,
     "metadata": {},
     "output_type": "execute_result"
    }
   ],
   "source": [
    "cliff_pivot = cliff_pairs.pivot_table(index=['drug1', 'drug2'], columns='cliff', aggfunc='size', fill_value=0)\n",
    "cliff_pivot"
   ],
   "metadata": {
    "collapsed": false,
    "ExecuteTime": {
     "end_time": "2024-03-03T12:34:01.390621800Z",
     "start_time": "2024-03-03T12:34:01.291245700Z"
    }
   },
   "id": "4b48a3562b0b7c9f"
  },
  {
   "cell_type": "code",
   "execution_count": 6,
   "outputs": [
    {
     "data": {
      "text/plain": "cliff                       0   1  total_count  proportion_of_1\ndrug1        drug2                                             \nCHEMBL100102 CHEMBL327291  14   0           14         0.000000\n             CHEMBL95737   14   0           14         0.000000\n             CHEMBL97026   14   0           14         0.000000\n             CHEMBL97448   14   0           14         0.000000\n             CHEMBL97768   14   0           14         0.000000\n...                        ..  ..          ...              ...\nCHEMBL97448  CHEMBL97768    3  11           14         0.785714\n             CHEMBL97796   14   0           14         0.000000\nCHEMBL97768  CHEMBL97796    3  11           14         0.785714\nCHEMBL98721  CHEMBL99572   11   3           14         0.214286\nCHEMBL99743  CHEMBL104067  23   1           24         0.041667\n\n[2627 rows x 4 columns]",
      "text/html": "<div>\n<style scoped>\n    .dataframe tbody tr th:only-of-type {\n        vertical-align: middle;\n    }\n\n    .dataframe tbody tr th {\n        vertical-align: top;\n    }\n\n    .dataframe thead th {\n        text-align: right;\n    }\n</style>\n<table border=\"1\" class=\"dataframe\">\n  <thead>\n    <tr style=\"text-align: right;\">\n      <th></th>\n      <th>cliff</th>\n      <th>0</th>\n      <th>1</th>\n      <th>total_count</th>\n      <th>proportion_of_1</th>\n    </tr>\n    <tr>\n      <th>drug1</th>\n      <th>drug2</th>\n      <th></th>\n      <th></th>\n      <th></th>\n      <th></th>\n    </tr>\n  </thead>\n  <tbody>\n    <tr>\n      <th rowspan=\"5\" valign=\"top\">CHEMBL100102</th>\n      <th>CHEMBL327291</th>\n      <td>14</td>\n      <td>0</td>\n      <td>14</td>\n      <td>0.000000</td>\n    </tr>\n    <tr>\n      <th>CHEMBL95737</th>\n      <td>14</td>\n      <td>0</td>\n      <td>14</td>\n      <td>0.000000</td>\n    </tr>\n    <tr>\n      <th>CHEMBL97026</th>\n      <td>14</td>\n      <td>0</td>\n      <td>14</td>\n      <td>0.000000</td>\n    </tr>\n    <tr>\n      <th>CHEMBL97448</th>\n      <td>14</td>\n      <td>0</td>\n      <td>14</td>\n      <td>0.000000</td>\n    </tr>\n    <tr>\n      <th>CHEMBL97768</th>\n      <td>14</td>\n      <td>0</td>\n      <td>14</td>\n      <td>0.000000</td>\n    </tr>\n    <tr>\n      <th>...</th>\n      <th>...</th>\n      <td>...</td>\n      <td>...</td>\n      <td>...</td>\n      <td>...</td>\n    </tr>\n    <tr>\n      <th rowspan=\"2\" valign=\"top\">CHEMBL97448</th>\n      <th>CHEMBL97768</th>\n      <td>3</td>\n      <td>11</td>\n      <td>14</td>\n      <td>0.785714</td>\n    </tr>\n    <tr>\n      <th>CHEMBL97796</th>\n      <td>14</td>\n      <td>0</td>\n      <td>14</td>\n      <td>0.000000</td>\n    </tr>\n    <tr>\n      <th>CHEMBL97768</th>\n      <th>CHEMBL97796</th>\n      <td>3</td>\n      <td>11</td>\n      <td>14</td>\n      <td>0.785714</td>\n    </tr>\n    <tr>\n      <th>CHEMBL98721</th>\n      <th>CHEMBL99572</th>\n      <td>11</td>\n      <td>3</td>\n      <td>14</td>\n      <td>0.214286</td>\n    </tr>\n    <tr>\n      <th>CHEMBL99743</th>\n      <th>CHEMBL104067</th>\n      <td>23</td>\n      <td>1</td>\n      <td>24</td>\n      <td>0.041667</td>\n    </tr>\n  </tbody>\n</table>\n<p>2627 rows × 4 columns</p>\n</div>"
     },
     "execution_count": 6,
     "metadata": {},
     "output_type": "execute_result"
    }
   ],
   "source": [
    "cliff_pivot['total_count'] = cliff_pivot[0] + cliff_pivot[1]\n",
    "\n",
    "# Calculate the proportion of 1s in pairs\n",
    "cliff_pivot['proportion_of_1'] = cliff_pivot[1] / cliff_pivot['total_count']\n",
    "cliff_pivot\n"
   ],
   "metadata": {
    "collapsed": false,
    "ExecuteTime": {
     "end_time": "2024-03-03T12:34:03.278424200Z",
     "start_time": "2024-03-03T12:34:03.242674800Z"
    }
   },
   "id": "3be011adee3f938a"
  },
  {
   "cell_type": "code",
   "execution_count": 7,
   "outputs": [
    {
     "data": {
      "text/plain": "<Figure size 1000x600 with 1 Axes>",
      "image/png": "[encoded data removed]"
     },
     "metadata": {},
     "output_type": "display_data"
    }
   ],
   "source": [
    "cliff_pivot_reset = cliff_pivot.reset_index()\n",
    "\n",
    "plt.figure(figsize=(10, 6))\n",
    "plt.hist(cliff_pivot_reset['proportion_of_1'].to_numpy(), color='blue', alpha=0.5, bins=50)\n",
    "plt.xlabel('Proportion of 1s')\n",
    "plt.ylabel('Pairs');"
   ],
   "metadata": {
    "collapsed": false,
    "ExecuteTime": {
     "end_time": "2024-03-03T12:34:05.190735200Z",
     "start_time": "2024-03-03T12:34:04.727792200Z"
    }
   },
   "id": "95e97d1b8ed673f8"
  },
  {
   "cell_type": "code",
   "execution_count": 8,
   "outputs": [
    {
     "data": {
      "text/plain": "<Figure size 1000x600 with 1 Axes>",
      "image/png": "[encoded data removed]"
     },
     "metadata": {},
     "output_type": "display_data"
    }
   ],
   "source": [
    "get_hist_prop(cliff_pivot, 'proportion_of_1')"
   ],
   "metadata": {
    "collapsed": false,
    "ExecuteTime": {
     "end_time": "2024-03-03T12:34:39.862762300Z",
     "start_time": "2024-03-03T12:34:39.625895100Z"
    }
   },
   "id": "22bec94eaa5ffd18"
  },
  {
   "cell_type": "code",
   "execution_count": 6,
   "outputs": [
    {
     "data": {
      "text/plain": "(2627, 795, 72)"
     },
     "execution_count": 6,
     "metadata": {},
     "output_type": "execute_result"
    }
   ],
   "source": [
    "len(cliff_pivot_reset), len(cliff_pivot_reset[cliff_pivot_reset['proportion_of_1'] == 0]), len(cliff_pivot_reset[cliff_pivot_reset['proportion_of_1'] == 1])"
   ],
   "metadata": {
    "collapsed": false,
    "ExecuteTime": {
     "end_time": "2024-03-03T12:10:53.660178400Z",
     "start_time": "2024-03-03T12:10:53.641740300Z"
    }
   },
   "id": "112b29c38f9e4baa"
  },
  {
   "cell_type": "code",
   "execution_count": 7,
   "outputs": [
    {
     "data": {
      "text/plain": "1760"
     },
     "execution_count": 7,
     "metadata": {},
     "output_type": "execute_result"
    }
   ],
   "source": [
    "len(cliff_pivot_reset[(cliff_pivot_reset['proportion_of_1'] != 0) & (cliff_pivot_reset['proportion_of_1'] != 1)])"
   ],
   "metadata": {
    "collapsed": false,
    "ExecuteTime": {
     "end_time": "2024-03-03T12:10:54.426559700Z",
     "start_time": "2024-03-03T12:10:54.372503400Z"
    }
   },
   "id": "a462b8e5fbfa9927"
  },
  {
   "cell_type": "markdown",
   "source": [
    "Out of 2627 drug pairs, 795 do not exhibit ACs (as it was expected) and 72 pairs does show AC exclusively. Moreover, there exists 1760 of compounds that demonstrate both non-AC and AC."
   ],
   "metadata": {
    "collapsed": false
   },
   "id": "594c8c9a7fb4842b"
  },
  {
   "cell_type": "code",
   "execution_count": 16,
   "outputs": [
    {
     "data": {
      "text/plain": "cliff                      0  1  total_count  proportion_of_1\ndrug1        drug2                                           \nCHEMBL100102 CHEMBL327291  1  0            1              0.0\n             CHEMBL95737   1  0            1              0.0\n             CHEMBL97026   1  0            1              0.0\n             CHEMBL97448   1  0            1              0.0\n             CHEMBL97768   1  0            1              0.0\n...                       .. ..          ...              ...\nCHEMBL97448  CHEMBL97768   0  1            1              1.0\n             CHEMBL97796   1  0            1              0.0\nCHEMBL97768  CHEMBL97796   0  1            1              1.0\nCHEMBL98721  CHEMBL99572   1  0            1              0.0\nCHEMBL99743  CHEMBL104067  1  0            1              0.0\n\n[2627 rows x 4 columns]",
      "text/html": "<div>\n<style scoped>\n    .dataframe tbody tr th:only-of-type {\n        vertical-align: middle;\n    }\n\n    .dataframe tbody tr th {\n        vertical-align: top;\n    }\n\n    .dataframe thead th {\n        text-align: right;\n    }\n</style>\n<table border=\"1\" class=\"dataframe\">\n  <thead>\n    <tr style=\"text-align: right;\">\n      <th></th>\n      <th>cliff</th>\n      <th>0</th>\n      <th>1</th>\n      <th>total_count</th>\n      <th>proportion_of_1</th>\n    </tr>\n    <tr>\n      <th>drug1</th>\n      <th>drug2</th>\n      <th></th>\n      <th></th>\n      <th></th>\n      <th></th>\n    </tr>\n  </thead>\n  <tbody>\n    <tr>\n      <th rowspan=\"5\" valign=\"top\">CHEMBL100102</th>\n      <th>CHEMBL327291</th>\n      <td>1</td>\n      <td>0</td>\n      <td>1</td>\n      <td>0.0</td>\n    </tr>\n    <tr>\n      <th>CHEMBL95737</th>\n      <td>1</td>\n      <td>0</td>\n      <td>1</td>\n      <td>0.0</td>\n    </tr>\n    <tr>\n      <th>CHEMBL97026</th>\n      <td>1</td>\n      <td>0</td>\n      <td>1</td>\n      <td>0.0</td>\n    </tr>\n    <tr>\n      <th>CHEMBL97448</th>\n      <td>1</td>\n      <td>0</td>\n      <td>1</td>\n      <td>0.0</td>\n    </tr>\n    <tr>\n      <th>CHEMBL97768</th>\n      <td>1</td>\n      <td>0</td>\n      <td>1</td>\n      <td>0.0</td>\n    </tr>\n    <tr>\n      <th>...</th>\n      <th>...</th>\n      <td>...</td>\n      <td>...</td>\n      <td>...</td>\n      <td>...</td>\n    </tr>\n    <tr>\n      <th rowspan=\"2\" valign=\"top\">CHEMBL97448</th>\n      <th>CHEMBL97768</th>\n      <td>0</td>\n      <td>1</td>\n      <td>1</td>\n      <td>1.0</td>\n    </tr>\n    <tr>\n      <th>CHEMBL97796</th>\n      <td>1</td>\n      <td>0</td>\n      <td>1</td>\n      <td>0.0</td>\n    </tr>\n    <tr>\n      <th>CHEMBL97768</th>\n      <th>CHEMBL97796</th>\n      <td>0</td>\n      <td>1</td>\n      <td>1</td>\n      <td>1.0</td>\n    </tr>\n    <tr>\n      <th>CHEMBL98721</th>\n      <th>CHEMBL99572</th>\n      <td>1</td>\n      <td>0</td>\n      <td>1</td>\n      <td>0.0</td>\n    </tr>\n    <tr>\n      <th>CHEMBL99743</th>\n      <th>CHEMBL104067</th>\n      <td>1</td>\n      <td>0</td>\n      <td>1</td>\n      <td>0.0</td>\n    </tr>\n  </tbody>\n</table>\n<p>2627 rows × 4 columns</p>\n</div>"
     },
     "execution_count": 16,
     "metadata": {},
     "output_type": "execute_result"
    }
   ],
   "source": [
    "mv = majority_vote(cliff_pairs)\n",
    "cliff_pivot_mv = mv.pivot_table(index=['drug1', 'drug2'], columns='cliff', aggfunc='size', fill_value=0)\n",
    "cliff_pivot_mv['total_count'] = cliff_pivot_mv[0] + cliff_pivot_mv[1]\n",
    "cliff_pivot_mv['proportion_of_1'] = cliff_pivot_mv[1] / cliff_pivot_mv['total_count']\n",
    "cliff_pivot_mv"
   ],
   "metadata": {
    "collapsed": false,
    "ExecuteTime": {
     "end_time": "2024-03-03T12:37:32.910151Z",
     "start_time": "2024-03-03T12:37:32.699706500Z"
    }
   },
   "id": "cbd7d3ded3c1c21f"
  },
  {
   "cell_type": "code",
   "execution_count": 17,
   "outputs": [
    {
     "data": {
      "text/plain": "<Figure size 1000x600 with 1 Axes>",
      "image/png": "[encoded data removed]"
     },
     "metadata": {},
     "output_type": "display_data"
    }
   ],
   "source": [
    "get_hist_prop(cliff_pivot_mv, 'proportion_of_1')"
   ],
   "metadata": {
    "collapsed": false,
    "ExecuteTime": {
     "end_time": "2024-03-03T12:37:34.804406600Z",
     "start_time": "2024-03-03T12:37:34.308027Z"
    }
   },
   "id": "5a3d145e09b2d612"
  },
  {
   "cell_type": "code",
   "execution_count": 18,
   "outputs": [
    {
     "data": {
      "text/plain": "cliff                      0  1  total_count  proportion_of_1\ndrug1        drug2                                           \nCHEMBL100102 CHEMBL327291  1  0            1              0.0\n             CHEMBL95737   1  0            1              0.0\n             CHEMBL97026   1  0            1              0.0\n             CHEMBL97448   1  0            1              0.0\n             CHEMBL97768   1  0            1              0.0\n...                       .. ..          ...              ...\nCHEMBL97448  CHEMBL97768   0  1            1              1.0\n             CHEMBL97796   1  0            1              0.0\nCHEMBL97768  CHEMBL97796   0  1            1              1.0\nCHEMBL98721  CHEMBL99572   0  1            1              1.0\nCHEMBL99743  CHEMBL104067  0  1            1              1.0\n\n[2627 rows x 4 columns]",
      "text/html": "<div>\n<style scoped>\n    .dataframe tbody tr th:only-of-type {\n        vertical-align: middle;\n    }\n\n    .dataframe tbody tr th {\n        vertical-align: top;\n    }\n\n    .dataframe thead th {\n        text-align: right;\n    }\n</style>\n<table border=\"1\" class=\"dataframe\">\n  <thead>\n    <tr style=\"text-align: right;\">\n      <th></th>\n      <th>cliff</th>\n      <th>0</th>\n      <th>1</th>\n      <th>total_count</th>\n      <th>proportion_of_1</th>\n    </tr>\n    <tr>\n      <th>drug1</th>\n      <th>drug2</th>\n      <th></th>\n      <th></th>\n      <th></th>\n      <th></th>\n    </tr>\n  </thead>\n  <tbody>\n    <tr>\n      <th rowspan=\"5\" valign=\"top\">CHEMBL100102</th>\n      <th>CHEMBL327291</th>\n      <td>1</td>\n      <td>0</td>\n      <td>1</td>\n      <td>0.0</td>\n    </tr>\n    <tr>\n      <th>CHEMBL95737</th>\n      <td>1</td>\n      <td>0</td>\n      <td>1</td>\n      <td>0.0</td>\n    </tr>\n    <tr>\n      <th>CHEMBL97026</th>\n      <td>1</td>\n      <td>0</td>\n      <td>1</td>\n      <td>0.0</td>\n    </tr>\n    <tr>\n      <th>CHEMBL97448</th>\n      <td>1</td>\n      <td>0</td>\n      <td>1</td>\n      <td>0.0</td>\n    </tr>\n    <tr>\n      <th>CHEMBL97768</th>\n      <td>1</td>\n      <td>0</td>\n      <td>1</td>\n      <td>0.0</td>\n    </tr>\n    <tr>\n      <th>...</th>\n      <th>...</th>\n      <td>...</td>\n      <td>...</td>\n      <td>...</td>\n      <td>...</td>\n    </tr>\n    <tr>\n      <th rowspan=\"2\" valign=\"top\">CHEMBL97448</th>\n      <th>CHEMBL97768</th>\n      <td>0</td>\n      <td>1</td>\n      <td>1</td>\n      <td>1.0</td>\n    </tr>\n    <tr>\n      <th>CHEMBL97796</th>\n      <td>1</td>\n      <td>0</td>\n      <td>1</td>\n      <td>0.0</td>\n    </tr>\n    <tr>\n      <th>CHEMBL97768</th>\n      <th>CHEMBL97796</th>\n      <td>0</td>\n      <td>1</td>\n      <td>1</td>\n      <td>1.0</td>\n    </tr>\n    <tr>\n      <th>CHEMBL98721</th>\n      <th>CHEMBL99572</th>\n      <td>0</td>\n      <td>1</td>\n      <td>1</td>\n      <td>1.0</td>\n    </tr>\n    <tr>\n      <th>CHEMBL99743</th>\n      <th>CHEMBL104067</th>\n      <td>0</td>\n      <td>1</td>\n      <td>1</td>\n      <td>1.0</td>\n    </tr>\n  </tbody>\n</table>\n<p>2627 rows × 4 columns</p>\n</div>"
     },
     "execution_count": 18,
     "metadata": {},
     "output_type": "execute_result"
    }
   ],
   "source": [
    "atleast_ac= at_least_once_AC(cliff_pairs)\n",
    "cliff_pivot_ac = atleast_ac.pivot_table(index=['drug1', 'drug2'], columns='cliff', aggfunc='size', fill_value=0)\n",
    "cliff_pivot_ac['total_count'] = cliff_pivot_ac[0] + cliff_pivot_ac[1]\n",
    "cliff_pivot_ac['proportion_of_1'] = cliff_pivot_ac[1] / cliff_pivot_ac['total_count']\n",
    "cliff_pivot_ac"
   ],
   "metadata": {
    "collapsed": false,
    "ExecuteTime": {
     "end_time": "2024-03-03T12:38:59.823608500Z",
     "start_time": "2024-03-03T12:38:59.549930400Z"
    }
   },
   "id": "f03bd1c06d46c964"
  },
  {
   "cell_type": "code",
   "execution_count": 19,
   "outputs": [
    {
     "data": {
      "text/plain": "<Figure size 1000x600 with 1 Axes>",
      "image/png": "[encoded data removed]"
     },
     "metadata": {},
     "output_type": "display_data"
    }
   ],
   "source": [
    "get_hist_prop(cliff_pivot_ac, 'proportion_of_1')"
   ],
   "metadata": {
    "collapsed": false,
    "ExecuteTime": {
     "end_time": "2024-03-03T12:39:17.291255Z",
     "start_time": "2024-03-03T12:39:17.041738300Z"
    }
   },
   "id": "16f205b850ec46ef"
  },
  {
   "cell_type": "code",
   "execution_count": 51,
   "outputs": [
    {
     "data": {
      "text/plain": "               drug1          drug2\n0      CHEMBL1087421  CHEMBL1088633\n1       CHEMBL206783   CHEMBL207037\n2       CHEMBL206783   CHEMBL207246\n3       CHEMBL206783   CHEMBL207584\n4       CHEMBL206783   CHEMBL207674\n...              ...            ...\n19116  CHEMBL1996176    CHEMBL86755\n20272   CHEMBL383264  CHEMBL1981133\n24434  CHEMBL1981133   CHEMBL378963\n55605  CHEMBL1991008  CHEMBL2002182\n78751   CHEMBL360847   CHEMBL432130\n\n[2627 rows x 2 columns]",
      "text/html": "<div>\n<style scoped>\n    .dataframe tbody tr th:only-of-type {\n        vertical-align: middle;\n    }\n\n    .dataframe tbody tr th {\n        vertical-align: top;\n    }\n\n    .dataframe thead th {\n        text-align: right;\n    }\n</style>\n<table border=\"1\" class=\"dataframe\">\n  <thead>\n    <tr style=\"text-align: right;\">\n      <th></th>\n      <th>drug1</th>\n      <th>drug2</th>\n    </tr>\n  </thead>\n  <tbody>\n    <tr>\n      <th>0</th>\n      <td>CHEMBL1087421</td>\n      <td>CHEMBL1088633</td>\n    </tr>\n    <tr>\n      <th>1</th>\n      <td>CHEMBL206783</td>\n      <td>CHEMBL207037</td>\n    </tr>\n    <tr>\n      <th>2</th>\n      <td>CHEMBL206783</td>\n      <td>CHEMBL207246</td>\n    </tr>\n    <tr>\n      <th>3</th>\n      <td>CHEMBL206783</td>\n      <td>CHEMBL207584</td>\n    </tr>\n    <tr>\n      <th>4</th>\n      <td>CHEMBL206783</td>\n      <td>CHEMBL207674</td>\n    </tr>\n    <tr>\n      <th>...</th>\n      <td>...</td>\n      <td>...</td>\n    </tr>\n    <tr>\n      <th>19116</th>\n      <td>CHEMBL1996176</td>\n      <td>CHEMBL86755</td>\n    </tr>\n    <tr>\n      <th>20272</th>\n      <td>CHEMBL383264</td>\n      <td>CHEMBL1981133</td>\n    </tr>\n    <tr>\n      <th>24434</th>\n      <td>CHEMBL1981133</td>\n      <td>CHEMBL378963</td>\n    </tr>\n    <tr>\n      <th>55605</th>\n      <td>CHEMBL1991008</td>\n      <td>CHEMBL2002182</td>\n    </tr>\n    <tr>\n      <th>78751</th>\n      <td>CHEMBL360847</td>\n      <td>CHEMBL432130</td>\n    </tr>\n  </tbody>\n</table>\n<p>2627 rows × 2 columns</p>\n</div>"
     },
     "execution_count": 51,
     "metadata": {},
     "output_type": "execute_result"
    }
   ],
   "source": [
    "un1 = cliff_pairs[['drug1', 'drug2']].drop_duplicates()\n",
    "un1"
   ],
   "metadata": {
    "collapsed": false,
    "ExecuteTime": {
     "end_time": "2024-03-03T10:23:56.708984600Z",
     "start_time": "2024-03-03T10:23:56.659427300Z"
    }
   },
   "id": "9fba3c33cb7a6f0e"
  },
  {
   "cell_type": "code",
   "execution_count": 105,
   "outputs": [
    {
     "data": {
      "text/plain": "drug1          drug2        \nCHEMBL210928   CHEMBL210963     158\nCHEMBL210963   CHEMBL378627     157\nCHEMBL210928   CHEMBL378627     157\nCHEMBL1991678  CHEMBL1996500    152\nCHEMBL1980297  CHEMBL1989708    145\n                               ... \nCHEMBL1987143  CHEMBL1973795      2\nCHEMBL1979933  CHEMBL242237       2\nCHEMBL360847   CHEMBL432130       1\nCHEMBL1981133  CHEMBL378963       1\nCHEMBL1970950  CHEMBL242237       1\nName: count, Length: 2627, dtype: int64"
     },
     "execution_count": 105,
     "metadata": {},
     "output_type": "execute_result"
    }
   ],
   "source": [
    "un2 = cliff_pairs[['drug1', 'drug2']].value_counts()\n",
    "un2"
   ],
   "metadata": {
    "collapsed": false,
    "ExecuteTime": {
     "end_time": "2024-03-03T11:08:04.689403600Z",
     "start_time": "2024-03-03T11:08:04.586663900Z"
    }
   },
   "id": "eeeb42fdf83cdcfe"
  },
  {
   "cell_type": "code",
   "execution_count": 137,
   "outputs": [
    {
     "data": {
      "text/plain": "<Figure size 640x480 with 1 Axes>",
      "image/png": "[encoded data removed]"
     },
     "metadata": {},
     "output_type": "display_data"
    }
   ],
   "source": [
    "plt.hist(un2)\n",
    "plt.title('The frequency of appearance of pairs')\n",
    "plt.xlabel('The number of targets')\n",
    "plt.ylabel('The number of pairs');"
   ],
   "metadata": {
    "collapsed": false,
    "ExecuteTime": {
     "end_time": "2024-03-03T11:54:22.735998Z",
     "start_time": "2024-03-03T11:54:22.452499500Z"
    }
   },
   "id": "731c9c2099480523"
  },
  {
   "cell_type": "code",
   "execution_count": 53,
   "outputs": [
    {
     "data": {
      "text/plain": "drug1          drug2          target\nCHEMBL100102   CHEMBL327291   O94806    1\nCHEMBL1984206  CHEMBL209534   P22607    1\n                              P31749    1\n                              P29597    1\n                              P29317    1\n                                       ..\nCHEMBL1967116  CHEMBL1974254  P06493    1\n                              P06241    1\n                              P06239    1\n                              P06213    1\nCHEMBL99743    CHEMBL104067   Q15139    1\nName: count, Length: 80517, dtype: int64"
     },
     "execution_count": 53,
     "metadata": {},
     "output_type": "execute_result"
    }
   ],
   "source": [
    "un3 = cliff_pairs[['drug1', 'drug2', 'target']].value_counts()\n",
    "un3"
   ],
   "metadata": {
    "collapsed": false,
    "ExecuteTime": {
     "end_time": "2024-03-03T10:24:18.240473600Z",
     "start_time": "2024-03-03T10:24:18.151009100Z"
    }
   },
   "id": "592ec30d38969ae2"
  },
  {
   "cell_type": "code",
   "execution_count": 87,
   "outputs": [
    {
     "data": {
      "text/plain": "drug1          drug2          cliff\nCHEMBL210928   CHEMBL210963   0        158\nCHEMBL210963   CHEMBL378627   0        157\nCHEMBL210928   CHEMBL378627   0        157\nCHEMBL1991678  CHEMBL1996500  0        151\nCHEMBL377408   CHEMBL424872   0        140\n                                      ... \nCHEMBL1242114  CHEMBL1242198  1          1\nCHEMBL1242113  CHEMBL1242114  1          1\nCHEMBL210032   CHEMBL2006567  1          1\nCHEMBL1242109  CHEMBL1242114  1          1\nCHEMBL99743    CHEMBL104067   1          1\nName: count, Length: 4387, dtype: int64"
     },
     "execution_count": 87,
     "metadata": {},
     "output_type": "execute_result"
    }
   ],
   "source": [
    "un4 = cliff_pairs[['drug1', 'drug2', 'cliff']].value_counts()\n",
    "un4"
   ],
   "metadata": {
    "collapsed": false,
    "ExecuteTime": {
     "end_time": "2024-03-03T10:50:30.502213900Z",
     "start_time": "2024-03-03T10:50:30.387157800Z"
    }
   },
   "id": "b68627104a93ed5f"
  },
  {
   "cell_type": "code",
   "execution_count": 114,
   "outputs": [
    {
     "data": {
      "text/plain": "target\nO00141     81\nO00311    371\nO00329    894\nO00418    175\nO00444    373\n         ... \nQ9Y243    443\nQ9Y463     87\nQ9Y478     91\nQ9Y4K4    407\nQ9Y6M4    248\nLength: 222, dtype: int64"
     },
     "execution_count": 114,
     "metadata": {},
     "output_type": "execute_result"
    }
   ],
   "source": [
    "size_per_target = cliff_pairs.groupby('target').size()\n",
    "size_per_target"
   ],
   "metadata": {
    "collapsed": false,
    "ExecuteTime": {
     "end_time": "2024-03-03T11:11:21.010796100Z",
     "start_time": "2024-03-03T11:11:20.953242500Z"
    }
   },
   "id": "ff6204f4d47c4f82"
  },
  {
   "cell_type": "code",
   "execution_count": 115,
   "outputs": [
    {
     "data": {
      "text/plain": "(1, 1699)"
     },
     "execution_count": 115,
     "metadata": {},
     "output_type": "execute_result"
    }
   ],
   "source": [
    "min(size_per_target), max(size_per_target)"
   ],
   "metadata": {
    "collapsed": false,
    "ExecuteTime": {
     "end_time": "2024-03-03T11:11:38.574902700Z",
     "start_time": "2024-03-03T11:11:38.550906900Z"
    }
   },
   "id": "23a844cd8733e788"
  },
  {
   "cell_type": "code",
   "execution_count": 116,
   "outputs": [
    {
     "data": {
      "text/plain": "<Figure size 640x480 with 1 Axes>",
      "image/png": "[encoded data removed]"
     },
     "metadata": {},
     "output_type": "display_data"
    }
   ],
   "source": [
    "plt.hist(size_per_target)\n",
    "plt.xlabel('The number of pairs')\n",
    "plt.ylabel('The number of targets');"
   ],
   "metadata": {
    "collapsed": false,
    "ExecuteTime": {
     "end_time": "2024-03-03T11:11:39.533680100Z",
     "start_time": "2024-03-03T11:11:39.261308Z"
    }
   },
   "id": "86803e374d49a5e1"
  },
  {
   "cell_type": "code",
   "execution_count": 99,
   "outputs": [
    {
     "data": {
      "text/plain": "cliff\n0    70601\n1     9916\nName: count, dtype: int64"
     },
     "execution_count": 99,
     "metadata": {},
     "output_type": "execute_result"
    }
   ],
   "source": [
    "cliff_pairs['cliff'].value_counts()"
   ],
   "metadata": {
    "collapsed": false,
    "ExecuteTime": {
     "end_time": "2024-03-03T10:53:34.827137900Z",
     "start_time": "2024-03-03T10:53:34.767221700Z"
    }
   },
   "id": "9998810d003c3615"
  },
  {
   "cell_type": "code",
   "execution_count": 6,
   "outputs": [],
   "source": [
    "cliff_pairs.to_csv('../analysis/morgan_cnn_kiba_cliff_pairs.csv', index=False)"
   ],
   "metadata": {
    "collapsed": false,
    "ExecuteTime": {
     "end_time": "2024-02-27T10:42:36.016006900Z",
     "start_time": "2024-02-27T10:42:35.885272600Z"
    }
   },
   "id": "fa9be0cf7ae02b0b"
  },
  {
   "cell_type": "code",
   "execution_count": 4,
   "outputs": [],
   "source": [
    "cliff_pairs = pd.read_csv('../analysis/morgan_cnn_kiba_cliff_pairs.csv')"
   ],
   "metadata": {
    "collapsed": false,
    "ExecuteTime": {
     "end_time": "2024-02-27T10:54:22.791795200Z",
     "start_time": "2024-02-27T10:54:22.717868200Z"
    }
   },
   "id": "deb2b9d546bb07b9"
  },
  {
   "cell_type": "code",
   "execution_count": null,
   "outputs": [],
   "source": [
    "cliff_pairs"
   ],
   "metadata": {
    "collapsed": false
   },
   "id": "f4d4ad7f5098c5ca"
  },
  {
   "cell_type": "code",
   "execution_count": 6,
   "outputs": [],
   "source": [
    "cliff_pairs_nodup = cliff_pairs.drop_duplicates()"
   ],
   "metadata": {
    "collapsed": false,
    "ExecuteTime": {
     "end_time": "2024-02-27T10:54:49.054747900Z",
     "start_time": "2024-02-27T10:54:48.972985300Z"
    }
   },
   "id": "df17aefddba11869"
  },
  {
   "cell_type": "code",
   "execution_count": null,
   "outputs": [],
   "source": [
    "cliff_pairs_nodup[cliff_pairs_nodup.cliff == 1]"
   ],
   "metadata": {
    "collapsed": false
   },
   "id": "f45982c53664f04a"
  },
  {
   "cell_type": "code",
   "execution_count": 8,
   "outputs": [],
   "source": [
    "drugs = load(open('../data/KIBA/SMILES.txt'))"
   ],
   "metadata": {
    "collapsed": false,
    "ExecuteTime": {
     "end_time": "2024-02-27T10:55:07.222655200Z",
     "start_time": "2024-02-27T10:55:07.189882600Z"
    }
   },
   "id": "afd1f4a27ea47f8a"
  },
  {
   "cell_type": "code",
   "execution_count": null,
   "outputs": [],
   "source": [
    "cliff_pairs_nodup['smiles1'] = cliff_pairs_nodup.drug1.apply(drugs.__getitem__)\n",
    "cliff_pairs_nodup['smiles2'] = cliff_pairs_nodup.drug2.apply(drugs.__getitem__)"
   ],
   "metadata": {
    "collapsed": false
   },
   "id": "2d9d78dea08d7710"
  },
  {
   "cell_type": "code",
   "execution_count": null,
   "outputs": [],
   "source": [
    "cliff_pairs_nodup"
   ],
   "metadata": {
    "collapsed": false
   },
   "id": "85162c47952222d3"
  },
  {
   "cell_type": "code",
   "execution_count": 12,
   "outputs": [],
   "source": [
    "cliff_pairs_nodup_split_random = split_data(cliff_pairs_nodup, split='random')"
   ],
   "metadata": {
    "collapsed": false,
    "ExecuteTime": {
     "end_time": "2024-02-27T10:55:40.759157500Z",
     "start_time": "2024-02-27T10:55:40.723559300Z"
    }
   },
   "id": "640f9239050000b4"
  },
  {
   "cell_type": "code",
   "execution_count": null,
   "outputs": [],
   "source": [
    "cliff_pairs_nodup_split_random[cliff_pairs_nodup_split_random.split == 0]"
   ],
   "metadata": {
    "collapsed": false
   },
   "id": "e305bce13d8e35f5"
  },
  {
   "cell_type": "code",
   "execution_count": 25,
   "outputs": [],
   "source": [
    "cliff_pairs_nodup_split_random.to_csv('../analysis/kiba_cliff_pairs_ta_1_ts_0.9_random.csv', index=False)"
   ],
   "metadata": {
    "collapsed": false,
    "ExecuteTime": {
     "end_time": "2024-02-27T10:58:44.075137700Z",
     "start_time": "2024-02-27T10:58:44.039805600Z"
    }
   },
   "id": "ed3c9a93b623337"
  },
  {
   "cell_type": "code",
   "execution_count": 18,
   "outputs": [],
   "source": [
    "cliff_pairs_nodup_split_cb = split_data(cliff_pairs_nodup, split='compound-based')"
   ],
   "metadata": {
    "collapsed": false,
    "ExecuteTime": {
     "end_time": "2024-02-27T10:57:04.413251400Z",
     "start_time": "2024-02-27T10:57:04.382116300Z"
    }
   },
   "id": "cd7489b829ad4874"
  },
  {
   "cell_type": "code",
   "execution_count": null,
   "outputs": [],
   "source": [
    "cliff_pairs_nodup_split_cb[cliff_pairs_nodup_split_cb.split == 2]"
   ],
   "metadata": {
    "collapsed": false
   },
   "id": "cd7a927059e9985d"
  },
  {
   "cell_type": "code",
   "execution_count": 24,
   "outputs": [],
   "source": [
    "cliff_pairs_nodup_split_cb.to_csv('../analysis/kiba_cliff_pairs_ta_1_ts_0.9_cb.csv', index=False)"
   ],
   "metadata": {
    "collapsed": false,
    "ExecuteTime": {
     "end_time": "2024-02-27T10:58:40.967476400Z",
     "start_time": "2024-02-27T10:58:40.878061400Z"
    }
   },
   "id": "38d3a8b3d628f92f"
  }
 ],
 "metadata": {
  "kernelspec": {
   "display_name": "Python 3",
   "language": "python",
   "name": "python3"
  },
  "language_info": {
   "codemirror_mode": {
    "name": "ipython",
    "version": 2
   },
   "file_extension": ".py",
   "mimetype": "text/x-python",
   "name": "python",
   "nbconvert_exporter": "python",
   "pygments_lexer": "ipython2",
   "version": "2.7.6"
  }
 },
 "nbformat": 4,
 "nbformat_minor": 5
}
