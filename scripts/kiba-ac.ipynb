{
 "cells": [
  {
   "cell_type": "code",
   "execution_count": null,
   "outputs": [],
   "source": [
    "import pandas as pd\n",
    "\n",
    "from json import load\n",
    "from dataset import get_cliffs, random_split, compound_based_split"
   ],
   "metadata": {
    "collapsed": false
   },
   "id": "initial_id"
  },
  {
   "cell_type": "code",
   "execution_count": null,
   "outputs": [],
   "source": [
    "# Load target sequences and drugs from respective JSON files\n",
    "targets = load(open('../data/KIBA/target_seq.txt'))\n",
    "drugs = load(open('../data/KIBA/SMILES.txt'))"
   ],
   "metadata": {
    "collapsed": false
   },
   "id": "45f1d3d891a8da84"
  },
  {
   "cell_type": "code",
   "outputs": [],
   "source": [
    "# Change the location of the file to process\n",
    "df = pd.read_csv('../analysis/morgan_cnn_kiba_predictions.csv')\n",
    "del df['predicted'] \n",
    "df.columns = ['drug', 'target', 'affinity']\n",
    "df['SMILES'] = df.drug.apply(drugs.get)\n",
    "df.to_csv('../analysis/morgan_cnn_kiba_affinity.csv')"
   ],
   "metadata": {
    "collapsed": false
   },
   "id": "2c6fd6f6474e495e",
   "execution_count": null
  },
  {
   "cell_type": "code",
   "execution_count": null,
   "outputs": [],
   "source": [
    "df"
   ],
   "metadata": {
    "collapsed": false
   },
   "id": "330df1c9f9da0c33"
  },
  {
   "cell_type": "code",
   "execution_count": null,
   "outputs": [],
   "source": [
    "cliff_pairs = get_cliffs(df)"
   ],
   "metadata": {
    "collapsed": false
   },
   "id": "c5c2cdfd8dace996"
  },
  {
   "cell_type": "code",
   "execution_count": null,
   "outputs": [],
   "source": [
    "cliff_pairs"
   ],
   "metadata": {
    "collapsed": false
   },
   "id": "ffb152012d109337"
  },
  {
   "cell_type": "code",
   "execution_count": null,
   "outputs": [],
   "source": [
    "cliff_pairs['cliff'].value_counts()"
   ],
   "metadata": {
    "collapsed": false
   },
   "id": "9998810d003c3615"
  },
  {
   "cell_type": "code",
   "execution_count": null,
   "outputs": [],
   "source": [
    "cliff_pairs.to_csv('../analysis/morgan_cnn_kiba_cliff_pairs.csv')"
   ],
   "metadata": {
    "collapsed": false
   },
   "id": "fa9be0cf7ae02b0b"
  },
  {
   "cell_type": "code",
   "execution_count": null,
   "outputs": [],
   "source": [
    "cliff_pairs = pd.read_csv('../analysis/morgan_cnn_kiba_cliff_pairs.csv')"
   ],
   "metadata": {
    "collapsed": false
   },
   "id": "deb2b9d546bb07b9"
  },
  {
   "cell_type": "code",
   "execution_count": null,
   "outputs": [],
   "source": [
    "cliff_pairs.head()"
   ],
   "metadata": {
    "collapsed": false
   },
   "id": "72448af130dde957"
  },
  {
   "cell_type": "code",
   "execution_count": null,
   "outputs": [],
   "source": [
    "train, validation, test = random_split(cliff_pairs)"
   ],
   "metadata": {
    "collapsed": false
   },
   "id": "235b7b0cd78e1264"
  },
  {
   "cell_type": "code",
   "execution_count": null,
   "outputs": [],
   "source": [
    "train"
   ],
   "metadata": {
    "collapsed": false
   },
   "id": "f3713e9cb775ec1d"
  },
  {
   "cell_type": "code",
   "execution_count": null,
   "outputs": [],
   "source": [
    "train['cliff'].value_counts()/len(train)"
   ],
   "metadata": {
    "collapsed": false
   },
   "id": "31038f068dce2749"
  },
  {
   "cell_type": "code",
   "execution_count": null,
   "outputs": [],
   "source": [
    "validation['cliff'].value_counts()/len(validation)"
   ],
   "metadata": {
    "collapsed": false
   },
   "id": "aa1c2c558bc4a39c"
  },
  {
   "cell_type": "code",
   "execution_count": null,
   "outputs": [],
   "source": [
    "test['cliff'].value_counts()/len(test)"
   ],
   "metadata": {
    "collapsed": false
   },
   "id": "3236f3a9349ef84"
  }
 ],
 "metadata": {
  "kernelspec": {
   "display_name": "Python 3",
   "language": "python",
   "name": "python3"
  },
  "language_info": {
   "codemirror_mode": {
    "name": "ipython",
    "version": 2
   },
   "file_extension": ".py",
   "mimetype": "text/x-python",
   "name": "python",
   "nbconvert_exporter": "python",
   "pygments_lexer": "ipython2",
   "version": "2.7.6"
  }
 },
 "nbformat": 4,
 "nbformat_minor": 5
}
