{
 "cells": [
  {
   "cell_type": "code",
   "execution_count": null,
   "id": "initial_id",
   "metadata": {
    "collapsed": true
   },
   "outputs": [],
   "source": [
    "import numpy as np\n",
    "import pandas as pd\n",
    "from cliffs import get_similarity_matrix\n",
    "from json import load\n",
    "from chython import smiles, GridDepict"
   ]
  },
  {
   "cell_type": "code",
   "execution_count": null,
   "outputs": [],
   "source": [
    "# Load target sequences and drugs from respective JSON files\n",
    "targets = load(open('../data/KIBA/target_seq.txt'))\n",
    "drugs = load(open('../data/KIBA/SMILES.txt'))\n",
    "\n",
    "# Load drug-target affinity data from a CSV file into a DataFrame\n",
    "# The last column is excluded from the data as it has only NAs\n",
    "affinity = pd.read_csv('../data/KIBA/affinity.txt', sep='\\t', header=None).iloc[:, :-1].copy()\n",
    "\n",
    "# Map drug ids to indices (rows) and target ids to columns\n",
    "affinity.index = drugs\n",
    "affinity.columns = targets"
   ],
   "metadata": {
    "collapsed": false
   },
   "id": "45f1d3d891a8da84"
  },
  {
   "cell_type": "code",
   "execution_count": null,
   "outputs": [],
   "source": [
    "affinity"
   ],
   "metadata": {
    "collapsed": false
   },
   "id": "98279bc9a2996a66"
  },
  {
   "cell_type": "code",
   "execution_count": null,
   "outputs": [],
   "source": [
    "# Transform the 'affinity' DataFrame from wide format to long format\n",
    "unpivoted = affinity.stack().reset_index()\n",
    "\n",
    "# Rename the columns of the transformed DataFrame for clarity\n",
    "unpivoted.columns = ['drug', 'target', 'affinity']\n",
    "unpivoted"
   ],
   "metadata": {
    "collapsed": false
   },
   "id": "6aa1edf19a9f182"
  },
  {
   "cell_type": "code",
   "execution_count": null,
   "outputs": [],
   "source": [
    "groups = []\n",
    "\n",
    "# Loop through each group in the DataFrame 'unpivoted' grouped by 'target'\n",
    "# 'g_name' holds the name of the target, 'group' contains the corresponding rows\n",
    "for g_name, group in unpivoted.groupby('target', sort=False):\n",
    "    \n",
    "    # Calculate the similarity matrix for the drug molecules\n",
    "    sim = get_similarity_matrix([drugs[x] for x in group.drug])\n",
    "    # Find non-zero elements in the similarity matrix, indicating pairs of similar drugs\n",
    "    i, j = sim.nonzero()\n",
    "    \n",
    "    # Select corresponding rows from the affinity DataFrame for these drug pairs d1-d2\n",
    "    # 'd1' and 'd2' represent the first and second drug in the pair respectively\n",
    "    d1 = group.iloc[i]\n",
    "    d2 = group.iloc[j]\n",
    "    \n",
    "    # Calculate the 1x difference in affinity between the two drugs (KIBA values)\n",
    "    affinity_diff = np.abs(d1.affinity.values - d2.affinity.values) > 1\n",
    "    \n",
    "    # Select rows from d1 and d2 where the affinity difference is significant\n",
    "    cliff1 = d1.iloc[affinity_diff]\n",
    "    cliff2 = d2.iloc[affinity_diff]\n",
    "    \n",
    "    # Pair up corresponding rows from cliff1 and cliff2 side by side\n",
    "    paired = pd.concat([cliff1.reset_index(drop=True), cliff2.reset_index(drop=True)], axis=1)\n",
    "    paired.columns = ['drug1', 'target', 'affinity1', 'drug2', 'remove', 'affinity2']\n",
    "    paired = paired[['target', 'drug1', 'drug2', 'affinity1', 'affinity2']].copy()\n",
    "    groups.append(paired)\n",
    "\n",
    "# Concatenate all group DataFrames into a single DataFrame\n",
    "groups = pd.concat(groups)"
   ],
   "metadata": {
    "collapsed": false
   },
   "id": "8e0c8e12b097485f"
  },
  {
   "cell_type": "code",
   "execution_count": null,
   "outputs": [],
   "source": [
    "groups.to_csv('../analysis/kiba.csv', index=False)"
   ],
   "metadata": {
    "collapsed": false
   },
   "id": "74e4ca23d61ab785"
  },
  {
   "cell_type": "code",
   "execution_count": null,
   "outputs": [],
   "source": [
    "groups"
   ],
   "metadata": {
    "collapsed": false
   },
   "id": "e7ed92453066e4f7"
  },
  {
   "cell_type": "code",
   "execution_count": null,
   "outputs": [],
   "source": [
    "# Compare random values\n",
    "affinity.loc[['CHEMBL1230790','CHEMBL1241582']]"
   ],
   "metadata": {
    "collapsed": false
   },
   "id": "687e3c64fd3fbfd1"
  }
 ],
 "metadata": {
  "kernelspec": {
   "display_name": "Python 3",
   "language": "python",
   "name": "python3"
  },
  "language_info": {
   "codemirror_mode": {
    "name": "ipython",
    "version": 2
   },
   "file_extension": ".py",
   "mimetype": "text/x-python",
   "name": "python",
   "nbconvert_exporter": "python",
   "pygments_lexer": "ipython2",
   "version": "2.7.6"
  }
 },
 "nbformat": 4,
 "nbformat_minor": 5
}
