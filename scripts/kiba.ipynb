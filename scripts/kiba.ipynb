{
 "cells": [
  {
   "cell_type": "code",
   "execution_count": null,
   "id": "initial_id",
   "metadata": {
    "collapsed": true
   },
   "outputs": [],
   "source": [
    "import numpy as np\n",
    "import pandas as pd\n",
    "from cliffs import get_similarity_matrix\n",
    "from json import load\n",
    "from sklearn import metrics"
   ]
  },
  {
   "cell_type": "code",
   "execution_count": null,
   "outputs": [],
   "source": [
    "# Load target sequences and drugs from respective JSON files\n",
    "targets = load(open('../data/KIBA/target_seq.txt'))\n",
    "drugs = load(open('../data/KIBA/SMILES.txt'))"
   ],
   "metadata": {
    "collapsed": false
   },
   "id": "45f1d3d891a8da84"
  },
  {
   "cell_type": "code",
   "outputs": [],
   "source": [
    "# Change the location of the file to process\n",
    "unpivoted = pd.read_csv('../analysis/morgan_cnn_kiba_predictions.csv')\n",
    "\n",
    "unpivoted.columns = ['drug', 'target', 'affinity', 'predicted']\n",
    "unpivoted"
   ],
   "metadata": {
    "collapsed": false
   },
   "id": "2c6fd6f6474e495e",
   "execution_count": null
  },
  {
   "cell_type": "code",
   "execution_count": null,
   "outputs": [],
   "source": [
    "groups = []\n",
    "threshold_affinity = 1\n",
    "threshold_similarity = .9\n",
    "\n",
    "# Loop through each group in the DataFrame 'unpivoted' grouped by 'target'\n",
    "# 'g_name' holds the name of the target, 'group' contains the corresponding rows (related to specific target)\n",
    "for g_name, group in unpivoted.groupby('target', sort=False):\n",
    "    # Calculate the similarity matrix for the drug molecules (related to specific target)\n",
    "    sim = get_similarity_matrix([drugs[x] for x in group.drug], similarity=threshold_similarity)\n",
    "    # Find non-zero elements in the similarity matrix, indicating pairs of similar drugs\n",
    "    i, j = sim.nonzero()\n",
    "\n",
    "    # Select corresponding rows from the affinity DataFrame for these drug pairs d1-d2\n",
    "    # 'd1' and 'd2' represent the first and second drug in the pair respectively\n",
    "    d1 = group.iloc[i]\n",
    "    d2 = group.iloc[j]\n",
    "    \n",
    "    # Calculate the 1x difference in affinity between the two drugs (KIBA values)\n",
    "    affinity_diff = np.abs(d1.affinity.values - d2.affinity.values) > threshold_affinity\n",
    "    \n",
    "    # Select rows from d1 and d2 where the affinity difference is significant\n",
    "    cliff1 = d1.iloc[affinity_diff]\n",
    "    cliff2 = d2.iloc[affinity_diff]\n",
    "    \n",
    "    # Pair up corresponding rows from cliff1 and cliff2 side by side\n",
    "    paired = pd.concat([cliff1.reset_index(drop=True), cliff2.reset_index(drop=True)], axis=1)\n",
    "    paired.columns = ['drug1', 'target', 'affinity1', 'predicted1', 'drug2', 'remove', 'affinity2', 'predicted2']\n",
    "    paired = paired[['target', 'drug1', 'drug2', 'affinity1', 'affinity2', 'predicted1', 'predicted2']].copy()\n",
    "    groups.append(paired)\n",
    "\n",
    "# Concatenate all group DataFrames into a single DataFrame\n",
    "groups = pd.concat(groups)"
   ],
   "metadata": {
    "collapsed": false
   },
   "id": "8e0c8e12b097485f"
  },
  {
   "cell_type": "code",
   "execution_count": null,
   "outputs": [],
   "source": [
    "groups"
   ],
   "metadata": {
    "collapsed": false
   },
   "id": "e7ed92453066e4f7"
  },
  {
   "cell_type": "code",
   "outputs": [],
   "source": [
    "# Compare group 1 and 2\n",
    "# Calculate the R-squared and RMSE between the actual and predicted affinity values of group 1\n",
    "# Name: metrics_groupnumber_thresholdaffinity\n",
    "\n",
    "r2_score_1_ta1 = metrics.r2_score(groups.affinity1, groups.predicted1)\n",
    "mse_1_ta1 = metrics.mean_squared_error(groups.affinity1, groups.predicted1, squared=False)\n",
    "r2_score_1_ta1, mse_1_ta1 "
   ],
   "metadata": {
    "collapsed": false
   },
   "id": "ebcb79d61f0139ca",
   "execution_count": null
  },
  {
   "cell_type": "code",
   "outputs": [],
   "source": [
    "# Calculate the R-squared and RMSE between the actual and predicted affinity values of group 2\n",
    "r2_score_2_ta1 = metrics.r2_score(groups.affinity2, groups.predicted2)\n",
    "mse_2_ta1 = metrics.mean_squared_error(groups.affinity2, groups.predicted2, squared=False)\n",
    "r2_score_2_ta1, mse_2_ta1 "
   ],
   "metadata": {
    "collapsed": false
   },
   "id": "140cb9bd2b94ccb3",
   "execution_count": null
  },
  {
   "cell_type": "code",
   "execution_count": null,
   "outputs": [],
   "source": [
    "# Add metrics to the file\n",
    "df = pd.read_csv('../analysis/morgan_cnn_kiba_performance.csv')\n",
    "df['Value_1_ta1'] = r2_score_1_ta1, mse_1_ta1 \n",
    "df['Value_2_ta1'] = r2_score_2_ta1, mse_2_ta1 \n"
   ],
   "metadata": {
    "collapsed": false
   },
   "id": "7148eaaeb2465497"
  },
  {
   "cell_type": "code",
   "execution_count": null,
   "outputs": [],
   "source": [
    "df.to_csv('../analysis/morgan_cnn_kiba_performance.csv', index=False)"
   ],
   "metadata": {
    "collapsed": false
   },
   "id": "66c109f8a95a9d84"
  },
  {
   "cell_type": "code",
   "outputs": [],
   "source": [
    "# Check of the models recognizes the compounds\n",
    "metrics.r2_score(groups.affinity1, groups.predicted2), metrics.mean_squared_error(groups.affinity1, groups.predicted2, squared=False)"
   ],
   "metadata": {
    "collapsed": false
   },
   "id": "fe8fe2b6183487bf",
   "execution_count": null
  },
  {
   "cell_type": "code",
   "outputs": [],
   "source": [
    "metrics.r2_score(groups.affinity2, groups.predicted1), metrics.mean_squared_error(groups.affinity2, groups.predicted1, squared=False)"
   ],
   "metadata": {
    "collapsed": false
   },
   "id": "aba2a2d75d19fa60",
   "execution_count": null
  },
  {
   "cell_type": "code",
   "outputs": [],
   "source": [
    "# threshold_affinity = 2\n",
    "groups_2 = groups.loc[(groups.affinity1 - groups.affinity2).abs() >= 2]\n",
    "groups_2"
   ],
   "metadata": {
    "collapsed": false
   },
   "id": "6b81fea4abe437d2",
   "execution_count": null
  },
  {
   "cell_type": "code",
   "execution_count": null,
   "outputs": [],
   "source": [
    "r2_score_1_ta2 = metrics.r2_score(groups_2.affinity1, groups_2.predicted1)\n",
    "mse_1_ta2 = metrics.mean_squared_error(groups_2.affinity1, groups_2.predicted1, squared=False)\n",
    "r2_score_1_ta2, mse_1_ta2 "
   ],
   "metadata": {
    "collapsed": false
   },
   "id": "6621cbc07f6e9e27"
  },
  {
   "cell_type": "code",
   "execution_count": null,
   "outputs": [],
   "source": [
    "r2_score_2_ta2 = metrics.r2_score(groups_2.affinity2, groups_2.predicted2)\n",
    "mse_2_ta2 = metrics.mean_squared_error(groups_2.affinity2, groups_2.predicted2, squared=False)\n",
    "r2_score_2_ta2, mse_2_ta2 "
   ],
   "metadata": {
    "collapsed": false
   },
   "id": "6bb9a51f5c9dbe7c"
  },
  {
   "cell_type": "code",
   "execution_count": null,
   "outputs": [],
   "source": [
    "groups_3 = groups.loc[(groups.affinity1 - groups.affinity2).abs() >= 3]\n",
    "groups_3\n"
   ],
   "metadata": {
    "collapsed": false
   },
   "id": "d64bb97ab67034a1"
  },
  {
   "cell_type": "code",
   "execution_count": null,
   "outputs": [],
   "source": [
    "r2_score_1_ta3 = metrics.r2_score(groups_3.affinity1, groups_3.predicted1)\n",
    "mse_1_ta3 = metrics.mean_squared_error(groups_3.affinity1, groups_3.predicted1, squared=False)\n",
    "r2_score_1_ta3, mse_1_ta3 "
   ],
   "metadata": {
    "collapsed": false
   },
   "id": "87c2fc4ed1984ed1"
  },
  {
   "cell_type": "code",
   "execution_count": null,
   "outputs": [],
   "source": [
    "r2_score_2_ta3 = metrics.r2_score(groups_3.affinity2, groups_3.predicted2)\n",
    "mse_2_ta3 = metrics.mean_squared_error(groups_3.affinity2, groups_3.predicted2, squared=False)\n",
    "r2_score_2_ta3, mse_2_ta3 "
   ],
   "metadata": {
    "collapsed": false
   },
   "id": "10534070de30017e"
  },
  {
   "cell_type": "code",
   "execution_count": null,
   "outputs": [],
   "source": [
    "groups_4 = groups.loc[(groups.affinity1 - groups.affinity2).abs() >= 4]\n",
    "groups_4\n",
    "# only 18 compounds"
   ],
   "metadata": {
    "collapsed": false
   },
   "id": "11760a57b146912d"
  },
  {
   "cell_type": "code",
   "execution_count": null,
   "outputs": [],
   "source": [
    "r2_score_1_ta4 = metrics.r2_score(groups_4.affinity1, groups_4.predicted1)\n",
    "mse_1_ta4 = metrics.mean_squared_error(groups_4.affinity1, groups_4.predicted1, squared=False)\n",
    "r2_score_1_ta4, mse_1_ta4 "
   ],
   "metadata": {
    "collapsed": false
   },
   "id": "a7f1b7656f8b7ac7"
  },
  {
   "cell_type": "code",
   "execution_count": null,
   "outputs": [],
   "source": [
    "r2_score_2_ta4 = metrics.r2_score(groups_4.affinity2, groups_4.predicted2)\n",
    "mse_2_ta4 = metrics.mean_squared_error(groups_4.affinity2, groups_4.predicted2, squared=False)\n",
    "r2_score_2_ta4, mse_2_ta4 "
   ],
   "metadata": {
    "collapsed": false
   },
   "id": "7b5b05442466210e"
  },
  {
   "cell_type": "code",
   "execution_count": null,
   "outputs": [],
   "source": [
    "groups.loc[(groups.affinity1 - groups.affinity2).abs() >= 5]\n",
    "# no compounds\n"
   ],
   "metadata": {
    "collapsed": false
   },
   "id": "e5b8cb539e3828a6"
  },
  {
   "cell_type": "code",
   "execution_count": null,
   "outputs": [],
   "source": [
    "df = pd.read_csv('../analysis/morgan_cnn_kiba_performance.csv')\n",
    "df['Value_1_ta2'] = r2_score_1_ta2, mse_1_ta2 \n",
    "df['Value_2_ta2'] = r2_score_2_ta2, mse_2_ta2 \n",
    "df['Value_1_ta3'] = r2_score_1_ta3, mse_1_ta3\n",
    "df['Value_2_ta3'] = r2_score_2_ta3, mse_2_ta3 \n",
    "df['Value_1_ta4'] = r2_score_1_ta4, mse_1_ta4\n",
    "df['Value_2_ta4'] = r2_score_2_ta4, mse_2_ta4 \n",
    "df.to_csv('../analysis/morgan_cnn_kiba_performance.csv', index=False)"
   ],
   "metadata": {
    "collapsed": false
   },
   "id": "11d2c629d4524bea"
  },
  {
   "cell_type": "code",
   "execution_count": null,
   "outputs": [],
   "source": [
    "df"
   ],
   "metadata": {
    "collapsed": false
   },
   "id": "f93c9761c732687a"
  },
  {
   "cell_type": "code",
   "execution_count": null,
   "outputs": [],
   "source": [
    "df.transpose()"
   ],
   "metadata": {
    "collapsed": false
   },
   "id": "1e7cb648970ea4ed"
  },
  {
   "cell_type": "code",
   "execution_count": null,
   "outputs": [],
   "source": [
    "df.transpose().to_csv('../analysis/morgan_cnn_kiba_performance.csv', index=True, header=None)"
   ],
   "metadata": {
    "collapsed": false
   },
   "id": "33b9f910447a4bad"
  },
  {
   "cell_type": "code",
   "execution_count": null,
   "outputs": [],
   "source": [],
   "metadata": {
    "collapsed": false
   },
   "id": "4c755d1be6cf049b"
  }
 ],
 "metadata": {
  "kernelspec": {
   "display_name": "Python 3",
   "language": "python",
   "name": "python3"
  },
  "language_info": {
   "codemirror_mode": {
    "name": "ipython",
    "version": 2
   },
   "file_extension": ".py",
   "mimetype": "text/x-python",
   "name": "python",
   "nbconvert_exporter": "python",
   "pygments_lexer": "ipython2",
   "version": "2.7.6"
  }
 },
 "nbformat": 4,
 "nbformat_minor": 5
}
