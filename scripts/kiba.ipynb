{
 "cells": [
  {
   "cell_type": "code",
   "execution_count": null,
   "id": "initial_id",
   "metadata": {
    "collapsed": true
   },
   "outputs": [],
   "source": [
    "import pandas as pd\n",
    "from json import load\n",
    "from metrics import get_total_metrics\n",
    "from graphics import get_3d_plot, get_2d_plot, get_heatmap"
   ]
  },
  {
   "cell_type": "code",
   "execution_count": null,
   "outputs": [],
   "source": [
    "# Load target sequences and drugs from respective JSON files\n",
    "targets = load(open('../data/KIBA/target_seq.txt'))\n",
    "drugs = load(open('../data/KIBA/SMILES.txt'))"
   ],
   "metadata": {
    "collapsed": false
   },
   "id": "45f1d3d891a8da84"
  },
  {
   "cell_type": "code",
   "outputs": [],
   "source": [
    "# Change the location of the file to process\n",
    "unpivoted = pd.read_csv('../analysis/morgan_cnn_kiba_predictions.csv')\n",
    "\n",
    "unpivoted.columns = ['drug', 'target', 'affinity', 'predicted']\n",
    "unpivoted['SMILES'] = unpivoted.drug.apply(drugs.get)\n",
    "unpivoted"
   ],
   "metadata": {
    "collapsed": false
   },
   "id": "2c6fd6f6474e495e",
   "execution_count": null
  },
  {
   "cell_type": "code",
   "execution_count": null,
   "outputs": [],
   "source": [
    "results = get_total_metrics(unpivoted, threshold_affinity=[1, 1.5, 2, 2.5, 3, 3.5, 4], threshold_similarity=[0.1, 0.2, 0.3, 0.4, 0.5, 0.6, 0.7, 0.8, 0.9])"
   ],
   "metadata": {
    "collapsed": false
   },
   "id": "57fd2a630bcf1e41"
  },
  {
   "cell_type": "code",
   "execution_count": null,
   "outputs": [],
   "source": [
    "results"
   ],
   "metadata": {
    "collapsed": false
   },
   "id": "80eddcbb9cf0d0c2"
  },
  {
   "cell_type": "code",
   "execution_count": null,
   "outputs": [],
   "source": [
    "# backup\n",
    "bu = results.copy()"
   ],
   "metadata": {
    "collapsed": false
   },
   "id": "9ae10baa61f3f607"
  },
  {
   "cell_type": "code",
   "execution_count": null,
   "outputs": [],
   "source": [
    "results.to_csv('../analysis/morgan_cnn_kiba_performance_results-2.csv')\n",
    "results"
   ],
   "metadata": {
    "collapsed": false
   },
   "id": "f254aee503ce058a"
  },
  {
   "cell_type": "code",
   "execution_count": null,
   "outputs": [],
   "source": [
    "df = pd.read_csv('../analysis/morgan_cnn_kiba_performance.csv')"
   ],
   "metadata": {
    "collapsed": false
   },
   "id": "9a69d18add522056"
  },
  {
   "cell_type": "code",
   "execution_count": null,
   "outputs": [],
   "source": [
    "df3 = pd.concat([df[:1], results], ignore_index=True)\n",
    "df3.to_csv('../analysis/morgan_cnn_kiba_performance-2.csv', index=False)"
   ],
   "metadata": {
    "collapsed": false
   },
   "id": "30db87c3e4f46b53"
  },
  {
   "cell_type": "code",
   "execution_count": null,
   "outputs": [],
   "source": [
    "df.insert(0, 'threshold_similarity', 0)\n",
    "df.insert(0, 'threshold_affinity', 0)\n",
    "df2 = pd.concat([df, results], ignore_index=True)\n",
    "df2.to_csv('../analysis/morgan_cnn_kiba_performance.csv', index=False)"
   ],
   "metadata": {
    "collapsed": false
   },
   "id": "916adf6a51a4dc0c"
  },
  {
   "cell_type": "code",
   "execution_count": null,
   "outputs": [],
   "source": [
    "get_3d_plot(df2[1:], 'rmse_micro', general_performance=df2.loc[0, 'rmse_micro'],\n",
    "            model_name='morgan_cnn_kiba')\n",
    "get_3d_plot(df2[1:], 'rmse_macro', general_performance=df2.loc[0, 'rmse_macro'],\n",
    "            model_name='morgan_cnn_kiba')"
   ],
   "metadata": {
    "collapsed": false
   },
   "id": "70adbcbf95baedd9"
  },
  {
   "cell_type": "code",
   "execution_count": null,
   "outputs": [],
   "source": [
    "df2_sub = df2[(df2['threshold_similarity'] == 0.0) | (df2['threshold_similarity'] == 0.9)]\n",
    "get_2d_plot(df2_sub, 'rmse_micro', 'threshold_affinity')\n",
    "get_2d_plot(df2_sub, 'rmse_macro', 'threshold_affinity')"
   ],
   "metadata": {
    "collapsed": false
   },
   "id": "f391492df9aaa978"
  },
  {
   "cell_type": "code",
   "execution_count": null,
   "outputs": [],
   "source": [
    "df2_sub2 = df2[(df2['threshold_affinity'] == 0) | (df2['threshold_affinity'] == 4)]\n",
    "get_2d_plot(df2_sub2, 'rmse_micro', 'threshold_similarity')\n",
    "get_2d_plot(df2_sub2, 'rmse_macro', 'threshold_similarity')"
   ],
   "metadata": {
    "collapsed": false
   },
   "id": "24df786b064a3135"
  },
  {
   "cell_type": "code",
   "execution_count": null,
   "outputs": [],
   "source": [],
   "metadata": {
    "collapsed": false
   },
   "id": "aeb7addbd043e265"
  },
  {
   "cell_type": "code",
   "execution_count": null,
   "outputs": [],
   "source": [
    "import matplotlib.pyplot as plt\n",
    "import numpy as np\n",
    "import seaborn as sns"
   ],
   "metadata": {
    "collapsed": false
   },
   "id": "30ffbee9332474bd"
  },
  {
   "cell_type": "code",
   "execution_count": null,
   "outputs": [],
   "source": [
    "# Adjusting the plot to make points into circles\n",
    "plt.figure(figsize=(10, 8))\n",
    "scatter = plt.scatter(df3['threshold_affinity'], df3['threshold_similarity'], c=df3['rmse_macro'], cmap='viridis', s=100, marker='o')  # marker='o' makes the points circles\n",
    "# Adding color bar\n",
    "plt.colorbar(scatter, label='RMSE Macro')\n",
    "# Labeling axes\n",
    "plt.xlabel('Threshold Affinity')\n",
    "plt.ylabel('Threshold Similarity')\n",
    "plt.title('Threshold Affinity vs. Threshold Similarity (Color: RMSE Macro)')\n",
    "plt.show()\n"
   ],
   "metadata": {
    "collapsed": false
   },
   "id": "3b52cf37995c94fa"
  },
  {
   "cell_type": "code",
   "execution_count": null,
   "outputs": [],
   "source": [
    "df3 = pd.read_csv('../analysis/morgan_cnn_kiba_performance-2.csv')"
   ],
   "metadata": {
    "collapsed": false
   },
   "id": "3970a731b8cab5b2"
  },
  {
   "cell_type": "code",
   "execution_count": null,
   "outputs": [],
   "source": [
    "get_heatmap(df3, 'rmse_micro', model_name='morgan_cnn_kiba')"
   ],
   "metadata": {
    "collapsed": false
   },
   "id": "86aa8954d7b2eb26"
  },
  {
   "cell_type": "code",
   "execution_count": null,
   "outputs": [],
   "source": [
    "get_heatmap(df3, 'rmse_macro', model_name='morgan_cnn_kiba')"
   ],
   "metadata": {
    "collapsed": false
   },
   "id": "9cce4b237301a0bd"
  },
  {
   "cell_type": "code",
   "execution_count": null,
   "outputs": [],
   "source": [
    "df3_sub = df3[df3['threshold_similarity'].isin([0, 0.1, 0.3, 0.5, 0.7, 0.9])]"
   ],
   "metadata": {
    "collapsed": false
   },
   "id": "d8cbdf2c63fe34a7"
  },
  {
   "cell_type": "code",
   "execution_count": null,
   "outputs": [],
   "source": [
    "get_heatmap(df3_sub, 'rmse_macro', model_name='morgan_cnn_kiba_1')"
   ],
   "metadata": {
    "collapsed": false
   },
   "id": "ccca1683b9c7da3f"
  },
  {
   "cell_type": "code",
   "execution_count": null,
   "outputs": [],
   "source": [
    "get_heatmap(df3_sub, 'rmse_micro', model_name='morgan_cnn_kiba_1')"
   ],
   "metadata": {
    "collapsed": false
   },
   "id": "c8af5789026e5a66"
  },
  {
   "cell_type": "code",
   "execution_count": null,
   "outputs": [],
   "source": [],
   "metadata": {
    "collapsed": false
   },
   "id": "f3fbe50d954e890a"
  }
 ],
 "metadata": {
  "kernelspec": {
   "display_name": "Python 3",
   "language": "python",
   "name": "python3"
  },
  "language_info": {
   "codemirror_mode": {
    "name": "ipython",
    "version": 2
   },
   "file_extension": ".py",
   "mimetype": "text/x-python",
   "name": "python",
   "nbconvert_exporter": "python",
   "pygments_lexer": "ipython2",
   "version": "2.7.6"
  }
 },
 "nbformat": 4,
 "nbformat_minor": 5
}
