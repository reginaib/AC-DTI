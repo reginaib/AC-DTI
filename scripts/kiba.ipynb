{
 "cells": [
  {
   "cell_type": "code",
   "execution_count": null,
   "id": "initial_id",
   "metadata": {
    "collapsed": true
   },
   "outputs": [],
   "source": [
    "import pandas as pd\n",
    "from json import load\n",
    "from metrics import get_total_metrics\n",
    "from graphics import get_3d_plot, get_2d_plot"
   ]
  },
  {
   "cell_type": "code",
   "execution_count": null,
   "outputs": [],
   "source": [
    "# Load target sequences and drugs from respective JSON files\n",
    "targets = load(open('../data/KIBA/target_seq.txt'))\n",
    "drugs = load(open('../data/KIBA/SMILES.txt'))"
   ],
   "metadata": {
    "collapsed": false
   },
   "id": "45f1d3d891a8da84"
  },
  {
   "cell_type": "code",
   "outputs": [],
   "source": [
    "# Change the location of the file to process\n",
    "unpivoted = pd.read_csv('../analysis/morgan_cnn_kiba_predictions.csv')\n",
    "\n",
    "unpivoted.columns = ['drug', 'target', 'affinity', 'predicted']\n",
    "unpivoted['SMILES'] = unpivoted.drug.apply(drugs.get)\n",
    "unpivoted"
   ],
   "metadata": {
    "collapsed": false
   },
   "id": "2c6fd6f6474e495e",
   "execution_count": null
  },
  {
   "cell_type": "code",
   "execution_count": null,
   "outputs": [],
   "source": [
    "results = get_total_metrics(unpivoted, threshold_affinity=[1, 2, 3, 4], threshold_similarity=[0.1, 0.3, 0.5, 0.7, 0.9])\n",
    "# takes 18 mins"
   ],
   "metadata": {
    "collapsed": false
   },
   "id": "57fd2a630bcf1e41"
  },
  {
   "cell_type": "code",
   "execution_count": null,
   "outputs": [],
   "source": [
    "# backup\n",
    "bu = results.copy()"
   ],
   "metadata": {
    "collapsed": false
   },
   "id": "9ae10baa61f3f607"
  },
  {
   "cell_type": "code",
   "execution_count": null,
   "outputs": [],
   "source": [
    "results.to_csv('../analysis/morgan_cnn_kiba_performance_results.csv')\n",
    "results"
   ],
   "metadata": {
    "collapsed": false
   },
   "id": "f254aee503ce058a"
  },
  {
   "cell_type": "code",
   "execution_count": null,
   "outputs": [],
   "source": [
    "df = pd.read_csv('../analysis/morgan_cnn_kiba_performance.csv', index_col=0).T"
   ],
   "metadata": {
    "collapsed": false
   },
   "id": "9a69d18add522056"
  },
  {
   "cell_type": "code",
   "execution_count": null,
   "outputs": [],
   "source": [
    "df"
   ],
   "metadata": {
    "collapsed": false
   },
   "id": "6a6bc5c61802ab02"
  },
  {
   "cell_type": "code",
   "execution_count": null,
   "outputs": [],
   "source": [
    "df.insert(0, 'threshold_similarity', 0)\n",
    "df.insert(0, 'threshold_affinity', 0)\n",
    "df2 = pd.concat([df, results], ignore_index=True)\n",
    "df2.to_csv('../analysis/morgan_cnn_kiba_performance.csv')"
   ],
   "metadata": {
    "collapsed": false
   },
   "id": "916adf6a51a4dc0c"
  },
  {
   "cell_type": "code",
   "execution_count": null,
   "outputs": [],
   "source": [
    "df2"
   ],
   "metadata": {
    "collapsed": false
   },
   "id": "dd0fcacda5b3b9ea"
  },
  {
   "cell_type": "code",
   "execution_count": null,
   "outputs": [],
   "source": [
    "get_3d_plot(df2[1:], 'rmse_micro', general_performance=df2.loc[0, 'rmse_micro'],\n",
    "            model_name='morgan_cnn_kiba')\n",
    "get_3d_plot(df2[1:], 'rmse_macro', general_performance=df2.loc[0, 'rmse_macro'],\n",
    "            model_name='morgan_cnn_kiba')"
   ],
   "metadata": {
    "collapsed": false
   },
   "id": "70adbcbf95baedd9"
  },
  {
   "cell_type": "code",
   "execution_count": null,
   "outputs": [],
   "source": [
    "df2_sub = df2[(df2['threshold_similarity'] == 0.0) | (df2['threshold_similarity'] == 0.9)]\n",
    "df2_sub"
   ],
   "metadata": {
    "collapsed": false
   },
   "id": "f391492df9aaa978"
  },
  {
   "cell_type": "code",
   "execution_count": null,
   "outputs": [],
   "source": [
    "get_2d_plot(df2_sub, 'rmse_micro', 'threshold_affinity')\n",
    "get_2d_plot(df2_sub, 'rmse_macro', 'threshold_affinity')"
   ],
   "metadata": {
    "collapsed": false
   },
   "id": "46dffcf7b1177a17"
  },
  {
   "cell_type": "code",
   "execution_count": null,
   "outputs": [],
   "source": [
    "df2_sub2 = df2[(df2['threshold_affinity'] == 0) | (df2['threshold_affinity'] == 4)]\n",
    "df2_sub2"
   ],
   "metadata": {
    "collapsed": false
   },
   "id": "24df786b064a3135"
  },
  {
   "cell_type": "code",
   "execution_count": null,
   "outputs": [],
   "source": [
    "get_2d_plot(df2_sub2, 'rmse_micro', 'threshold_similarity')\n",
    "get_2d_plot(df2_sub2, 'rmse_macro', 'threshold_similarity')"
   ],
   "metadata": {
    "collapsed": false
   },
   "id": "6fcfd25166475521"
  }
 ],
 "metadata": {
  "kernelspec": {
   "display_name": "Python 3",
   "language": "python",
   "name": "python3"
  },
  "language_info": {
   "codemirror_mode": {
    "name": "ipython",
    "version": 2
   },
   "file_extension": ".py",
   "mimetype": "text/x-python",
   "name": "python",
   "nbconvert_exporter": "python",
   "pygments_lexer": "ipython2",
   "version": "2.7.6"
  }
 },
 "nbformat": 4,
 "nbformat_minor": 5
}
