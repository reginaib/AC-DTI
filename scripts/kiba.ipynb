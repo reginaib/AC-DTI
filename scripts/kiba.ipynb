{
 "cells": [
  {
   "cell_type": "code",
   "execution_count": null,
   "id": "initial_id",
   "metadata": {
    "collapsed": true
   },
   "outputs": [],
   "source": [
    "import numpy as np\n",
    "import pandas as pd\n",
    "from cliffs import get_similarity_matrix\n",
    "from json import load\n",
    "from chython import smiles, GridDepict"
   ]
  },
  {
   "cell_type": "code",
   "execution_count": null,
   "outputs": [],
   "source": [
    "# Load target sequences and drugs from respective JSON files\n",
    "targets = load(open('../data/KIBA/target_seq.txt'))\n",
    "drugs = load(open('../data/KIBA/SMILES.txt'))\n",
    "\n",
    "# Load drug-target affinity data from a CSV file into a DataFrame\n",
    "# The last column is excluded from the data as it has only NAs\n",
    "affinity = pd.read_csv('../data/KIBA/affinity.txt', sep='\\t', header=None).iloc[:, :-1].copy()\n",
    "\n",
    "# Map drug ids to indices (rows) and target ids to columns\n",
    "affinity.index = drugs\n",
    "affinity.columns = targets"
   ],
   "metadata": {
    "collapsed": false
   },
   "id": "45f1d3d891a8da84"
  },
  {
   "cell_type": "code",
   "execution_count": null,
   "outputs": [],
   "source": [
    "# Calculate the similarity matrix for the drug molecules using SMILES strings\n",
    "sim = get_similarity_matrix(list(drugs.values()))\n",
    "\n",
    "# Find indices of non-zero elements in the similarity matrix, indicating pairs of similar drugs\n",
    "i, j = sim.nonzero()\n",
    "\n",
    "# Select corresponding rows from the affinity DataFrame for these drug pairs d1-d2\n",
    "# d1 is the first drug in the pair\n",
    "# d2 is the second drug in the pair\n",
    "d1 = affinity.iloc[i]\n",
    "d2 = affinity.iloc[j]\n",
    "\n",
    "# Find 1x difference in affinities (KIBA values)\n",
    "col_slice = (np.abs(d1.values - d2.values) > 1).sum(0) > 0\n",
    "\n",
    "# Concatenate and sort the data for drugs with significant differences in affinity\n",
    "found = pd.concat([d1.iloc[:, col_slice].reset_index(), d2.iloc[:, col_slice].reset_index()]).sort_index()\n",
    "found"
   ],
   "metadata": {
    "collapsed": false
   },
   "id": "66b2a31453a696fe"
  },
  {
   "cell_type": "code",
   "execution_count": null,
   "outputs": [],
   "source": [
    "# Visualize the structures of the drugs with significant differences in affinity\n",
    "GridDepict([smiles(drugs[x]) for x in found['index']], cols=2, labels=found['index'])"
   ],
   "metadata": {
    "collapsed": false
   },
   "id": "131069a278634c7f"
  },
  {
   "cell_type": "code",
   "execution_count": null,
   "outputs": [],
   "source": [],
   "metadata": {
    "collapsed": false
   },
   "id": "687e3c64fd3fbfd1"
  }
 ],
 "metadata": {
  "kernelspec": {
   "display_name": "Python 3",
   "language": "python",
   "name": "python3"
  },
  "language_info": {
   "codemirror_mode": {
    "name": "ipython",
    "version": 2
   },
   "file_extension": ".py",
   "mimetype": "text/x-python",
   "name": "python",
   "nbconvert_exporter": "python",
   "pygments_lexer": "ipython2",
   "version": "2.7.6"
  }
 },
 "nbformat": 4,
 "nbformat_minor": 5
}
