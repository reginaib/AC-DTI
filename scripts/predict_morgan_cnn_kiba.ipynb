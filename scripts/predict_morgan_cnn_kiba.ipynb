{
 "cells": [
  {
   "cell_type": "code",
   "execution_count": null,
   "id": "eb8ca1cd",
   "metadata": {},
   "outputs": [],
   "source": [
    "from DeepPurpose import DTI\n",
    "from DeepPurpose.dataset import *\n",
    "\n",
    "from sklearn import metrics\n",
    "import pandas as pd"
   ]
  },
  {
   "cell_type": "code",
   "execution_count": null,
   "id": "a84d7d85",
   "metadata": {},
   "outputs": [],
   "source": [
    "# Define the path where the KIBA dataset is saved\n",
    "SAVE_PATH = '../data/KIBA'"
   ]
  },
  {
   "cell_type": "code",
   "execution_count": null,
   "id": "870a1a85",
   "metadata": {},
   "outputs": [],
   "source": [
    "# Load and process the KIBA dataset\n",
    "X_drug, X_target, y = load_process_KIBA(SAVE_PATH, binary=False)"
   ]
  },
  {
   "cell_type": "code",
   "execution_count": null,
   "id": "dbbbf35b",
   "metadata": {},
   "outputs": [],
   "source": [
    "len(X_drug), len(set(X_drug))"
   ]
  },
  {
   "cell_type": "code",
   "execution_count": null,
   "id": "c96e5876",
   "metadata": {},
   "outputs": [],
   "source": [
    "len(X_target), len(set(X_target))"
   ]
  },
  {
   "cell_type": "code",
   "execution_count": null,
   "id": "c0fbfee6",
   "metadata": {},
   "outputs": [],
   "source": [
    "# Specify the encoding methods for drugs and targets\n",
    "drug_encoding, target_encoding = 'Morgan', 'CNN'"
   ]
  },
  {
   "cell_type": "code",
   "execution_count": null,
   "id": "8e474faf",
   "metadata": {},
   "outputs": [],
   "source": [
    "# Process the dataset using the specified encoding methods without splitting it\n",
    "dataset = data_process(X_drug, X_target, y, drug_encoding, target_encoding, split_method='no_split')"
   ]
  },
  {
   "cell_type": "code",
   "outputs": [],
   "source": [
    "# Read and preprocess the affinity data, filling missing values with -1\n",
    "affinity = pd.read_csv(SAVE_PATH + '/KIBA/affinity.txt', header=None, sep = '\\t')\n",
    "affinity = affinity.fillna(-1)\n",
    "\n",
    "# Load target sequences and drug SMILES from the files\n",
    "with open(SAVE_PATH + '/KIBA/target_seq.txt') as f:\n",
    "    target = json.load(f)\n",
    "\n",
    "with open(SAVE_PATH + '/KIBA/SMILES.txt') as f:\n",
    "    drug = json.load(f)\n",
    "\n",
    "target = list(target)\n",
    "drug = list(drug)\n",
    "\n",
    "drug_ids = []\n",
    "target_ids = []\n",
    "\n",
    "# Iterate over drug-target pairs, recording identifiers where affinity is present\n",
    "for i in range(len(drug)):\n",
    "    for j in range(len(target)):\n",
    "        if affinity.values[i, j] != -1:\n",
    "            drug_ids.append(drug[i])\n",
    "            target_ids.append(target[j])"
   ],
   "metadata": {
    "collapsed": false
   },
   "id": "17e123acc7abe6c0",
   "execution_count": null
  },
  {
   "cell_type": "code",
   "outputs": [],
   "source": [
    "# Add drug and target ids to the dataset\n",
    "dataset['drug_id'] = drug_ids\n",
    "dataset['target_id'] = target_ids"
   ],
   "metadata": {
    "collapsed": false
   },
   "id": "cec6be36fb63b3c7",
   "execution_count": null
  },
  {
   "cell_type": "code",
   "execution_count": null,
   "id": "47346eeb",
   "metadata": {},
   "outputs": [],
   "source": [
    "# Load a pre-trained DTI model \n",
    "model = DTI.model_pretrained(model='morgan_cnn_kiba')"
   ]
  },
  {
   "cell_type": "code",
   "execution_count": null,
   "id": "a3a6b3a1",
   "metadata": {},
   "outputs": [],
   "source": [
    "# Predict the interactions using the model and insert the predictions into the dataset\n",
    "dataset.insert(3, 'predicted', model.predict(dataset))"
   ]
  },
  {
   "cell_type": "code",
   "outputs": [],
   "source": [
    "# Save the drug-target pairs with actual and predicted labels to a CSV file\n",
    "dataset[['drug_id', 'target_id', 'Label', 'predicted']].to_csv('../analysis/morgan_cnn_kiba_predictions.csv', index=False)"
   ],
   "metadata": {
    "collapsed": false
   },
   "id": "f71d36e8f21a197f",
   "execution_count": null
  },
  {
   "cell_type": "code",
   "outputs": [],
   "source": [
    "# Calculate the R-squared score and RMSE between actual and predicted labels\n",
    "r2_score = metrics.r2_score(dataset.Label, dataset.predicted)\n",
    "r2_score"
   ],
   "metadata": {},
   "id": "c564fbc9",
   "execution_count": null
  },
  {
   "cell_type": "code",
   "execution_count": null,
   "outputs": [],
   "source": [
    "mse = metrics.mean_squared_error(dataset.Label, dataset.predicted, squared=False)\n",
    "mse"
   ],
   "metadata": {
    "collapsed": false
   },
   "id": "8faa57478cbf18be"
  },
  {
   "cell_type": "code",
   "execution_count": null,
   "id": "0c4f8321",
   "metadata": {},
   "outputs": [],
   "source": [
    "metrics_df = pd.DataFrame({\n",
    "    'Metric': ['R-squared', 'MSE'],\n",
    "    'Value_general': [r2_score, mse]\n",
    "})"
   ]
  },
  {
   "cell_type": "code",
   "execution_count": null,
   "outputs": [],
   "source": [
    "metrics_df"
   ],
   "metadata": {
    "collapsed": false
   },
   "id": "be1dc5582254a6ba"
  },
  {
   "cell_type": "code",
   "execution_count": null,
   "outputs": [],
   "source": [
    "metrics_df.to_csv('../analysis/morgan_cnn_kiba_performance.csv', index=False)\n"
   ],
   "metadata": {
    "collapsed": false
   },
   "id": "e9e2f0e4fc9c2e23"
  },
  {
   "cell_type": "code",
   "execution_count": null,
   "outputs": [],
   "source": [],
   "metadata": {
    "collapsed": false
   },
   "id": "ba454b5fb2b2c4ab"
  }
 ],
 "metadata": {
  "kernelspec": {
   "display_name": "Python 3 (ipykernel)",
   "language": "python",
   "name": "python3"
  },
  "language_info": {
   "codemirror_mode": {
    "name": "ipython",
    "version": 3
   },
   "file_extension": ".py",
   "mimetype": "text/x-python",
   "name": "python",
   "nbconvert_exporter": "python",
   "pygments_lexer": "ipython3",
   "version": "3.10.6"
  }
 },
 "nbformat": 4,
 "nbformat_minor": 5
}
