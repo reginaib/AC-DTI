{
 "cells": [
  {
   "cell_type": "code",
   "id": "initial_id",
   "metadata": {
    "collapsed": true,
    "ExecuteTime": {
     "end_time": "2024-05-25T16:05:30.223658Z",
     "start_time": "2024-05-25T16:05:30.211577Z"
    }
   },
   "source": [
    "import pandas as pd\n",
    "import numpy as np\n",
    "import torch\n",
    "from torch import nn\n",
    "import matplotlib.pyplot as plt\n",
    "import umap\n",
    "\n",
    "from rdkit.Chem import MolFromSmiles, DataStructs\n",
    "from rdkit.Chem.AllChem import GetMorganFingerprintAsBitVect"
   ],
   "execution_count": 186,
   "outputs": []
  },
  {
   "metadata": {
    "ExecuteTime": {
     "end_time": "2024-05-25T14:22:40.898138Z",
     "start_time": "2024-05-25T14:22:40.876706Z"
    }
   },
   "cell_type": "code",
   "source": "w = torch.load('../analysis/DDC_KIBA_best_epoch_23.ckpt', map_location=torch.device('cpu'))",
   "id": "10de2fd67a682d0d",
   "execution_count": 55,
   "outputs": []
  },
  {
   "metadata": {
    "ExecuteTime": {
     "end_time": "2024-05-25T14:22:41.253335Z",
     "start_time": "2024-05-25T14:22:41.238709Z"
    }
   },
   "cell_type": "code",
   "source": "d_enc = nn.Sequential(nn.Linear(1024, 1024), nn.ReLU())",
   "id": "e18390b5eff5734f",
   "execution_count": 56,
   "outputs": []
  },
  {
   "metadata": {
    "ExecuteTime": {
     "end_time": "2024-05-25T14:22:41.629479Z",
     "start_time": "2024-05-25T14:22:41.617005Z"
    }
   },
   "cell_type": "code",
   "source": "d_enc.load_state_dict({k[10:]: v for k, v in w['state_dict'].items() if k.startswith('d_encoder')}, strict=False)",
   "id": "401c09f33fafb097",
   "execution_count": 57,
   "outputs": []
  },
  {
   "metadata": {
    "ExecuteTime": {
     "end_time": "2024-05-25T14:22:42.095966Z",
     "start_time": "2024-05-25T14:22:42.087862Z"
    }
   },
   "cell_type": "code",
   "source": "d_enc",
   "id": "f8b610398272ded",
   "execution_count": 58,
   "outputs": []
  },
  {
   "metadata": {
    "ExecuteTime": {
     "end_time": "2024-05-25T15:10:05.937928Z",
     "start_time": "2024-05-25T15:10:05.802784Z"
    }
   },
   "cell_type": "code",
   "source": "kiba_ddc = pd.read_csv('../analysis/kiba_cliff_pairs_ta1_ts0.9_r_wt.csv')",
   "id": "2c9bcac50323eb92",
   "execution_count": 99,
   "outputs": []
  },
  {
   "metadata": {
    "ExecuteTime": {
     "end_time": "2024-05-25T15:04:42.536627Z",
     "start_time": "2024-05-25T15:04:42.514993Z"
    }
   },
   "cell_type": "code",
   "source": "kiba_ddc",
   "id": "1fcfcf8f45c91e40",
   "execution_count": 84,
   "outputs": []
  },
  {
   "metadata": {
    "ExecuteTime": {
     "end_time": "2024-05-25T15:05:38.376567Z",
     "start_time": "2024-05-25T15:05:38.363081Z"
    }
   },
   "cell_type": "code",
   "source": "kiba_ddc['target'].unique().sum()",
   "id": "8a9673468fc6e497",
   "execution_count": 87,
   "outputs": []
  },
  {
   "metadata": {
    "ExecuteTime": {
     "end_time": "2024-05-25T15:07:21.191087Z",
     "start_time": "2024-05-25T15:07:20.844002Z"
    }
   },
   "cell_type": "code",
   "source": "target_pairs_count = kiba_ddc.groupby('target').apply(lambda x: x[['drug1', 'drug2']].apply(frozenset, axis=1).nunique())",
   "id": "1af7bfa5ac00d974",
   "execution_count": 89,
   "outputs": []
  },
  {
   "metadata": {
    "ExecuteTime": {
     "end_time": "2024-05-25T15:07:26.742850Z",
     "start_time": "2024-05-25T15:07:26.724246Z"
    }
   },
   "cell_type": "code",
   "source": "target_pairs_count",
   "id": "36c6dea16597118",
   "execution_count": 90,
   "outputs": []
  },
  {
   "metadata": {
    "ExecuteTime": {
     "end_time": "2024-05-25T15:28:24.082601Z",
     "start_time": "2024-05-25T15:28:24.066007Z"
    }
   },
   "cell_type": "code",
   "source": "t70 = kiba_ddc[kiba_ddc['target'] == 70]",
   "id": "451ef1f39ef20dda",
   "execution_count": 109,
   "outputs": []
  },
  {
   "metadata": {
    "ExecuteTime": {
     "end_time": "2024-05-25T15:28:25.220018Z",
     "start_time": "2024-05-25T15:28:25.209428Z"
    }
   },
   "cell_type": "code",
   "source": "t70['drug1'].value_counts()",
   "id": "b62e49f150345c51",
   "execution_count": 110,
   "outputs": []
  },
  {
   "metadata": {
    "ExecuteTime": {
     "end_time": "2024-05-25T15:30:49.340220Z",
     "start_time": "2024-05-25T15:30:49.325509Z"
    }
   },
   "cell_type": "code",
   "source": "t70[t70['drug1']=='CHEMBL1241487']['cliff'].value_counts()",
   "id": "afba5aa231ff6163",
   "execution_count": 115,
   "outputs": []
  },
  {
   "metadata": {
    "ExecuteTime": {
     "end_time": "2024-05-25T15:33:05.517505Z",
     "start_time": "2024-05-25T15:33:05.512683Z"
    }
   },
   "cell_type": "code",
   "source": "t70_d1_d = t70[t70['drug1']=='CHEMBL1241487']",
   "id": "76c8de9d7059ac79",
   "execution_count": 119,
   "outputs": []
  },
  {
   "metadata": {
    "ExecuteTime": {
     "end_time": "2024-05-25T16:17:42.653126Z",
     "start_time": "2024-05-25T16:17:42.643506Z"
    }
   },
   "cell_type": "code",
   "source": "t70_d1_d",
   "id": "e4da730cff915176",
   "execution_count": 205,
   "outputs": []
  },
  {
   "metadata": {
    "ExecuteTime": {
     "end_time": "2024-05-25T16:23:25.713720Z",
     "start_time": "2024-05-25T16:23:25.694181Z"
    }
   },
   "cell_type": "code",
   "source": [
    "dr1 = pd.DataFrame({'drug1': ['CHEMBL1241487'], \n",
    "                    'drug2': ['CHEMBL1241487'], \n",
    "                    'cliff': [2], \n",
    "                    'target': [70], \n",
    "                    'smiles1': ['C1CCC(C1)N2C3=C(C(=N2)C4=CC(=C(C=C4)N)O)C(=NC=N3)N'], \n",
    "                    'smiles2': ['C1CCC(C1)N2C3=C(C(=N2)C4=CC(=C(C=C4)N)O)C(=NC=N3)N']})\n",
    "\n",
    "t70_d1_d = pd.concat([t70_d1_d, dr1], axis=0)"
   ],
   "id": "fc2801449e31fea9",
   "execution_count": 210,
   "outputs": []
  },
  {
   "metadata": {
    "ExecuteTime": {
     "end_time": "2024-05-25T16:24:01.116287Z",
     "start_time": "2024-05-25T16:24:01.101274Z"
    }
   },
   "cell_type": "code",
   "source": "smiles = t70_d1_d['smiles2'].tolist()",
   "id": "1fe08472829004f6",
   "execution_count": 213,
   "outputs": []
  },
  {
   "metadata": {
    "ExecuteTime": {
     "end_time": "2024-05-25T16:24:01.978949Z",
     "start_time": "2024-05-25T16:24:01.969560Z"
    }
   },
   "cell_type": "code",
   "source": "len(smiles)",
   "id": "1c342bbea9ea2f79",
   "execution_count": 214,
   "outputs": []
  },
  {
   "metadata": {
    "ExecuteTime": {
     "end_time": "2024-05-25T16:24:16.626522Z",
     "start_time": "2024-05-25T16:24:16.610368Z"
    }
   },
   "cell_type": "code",
   "source": [
    "features = []\n",
    "for s in smiles:    \n",
    "    mol = MolFromSmiles(s)\n",
    "    if mol is not None:\n",
    "        fp = GetMorganFingerprintAsBitVect(mol, 2, 1024)\n",
    "        arr = np.zeros((0,), dtype=np.int8)\n",
    "        DataStructs.ConvertToNumpyArray(fp, arr)\n",
    "        features.append(torch.tensor(arr, dtype=torch.float32))\n",
    "    else:\n",
    "        print(s)"
   ],
   "id": "dbcb33dc6b12a0e8",
   "execution_count": 217,
   "outputs": []
  },
  {
   "metadata": {
    "ExecuteTime": {
     "end_time": "2024-05-25T16:24:17.695556Z",
     "start_time": "2024-05-25T16:24:17.674435Z"
    }
   },
   "cell_type": "code",
   "source": "features",
   "id": "577cb13f748cc2a2",
   "execution_count": 218,
   "outputs": []
  },
  {
   "metadata": {
    "ExecuteTime": {
     "end_time": "2024-05-25T16:24:19.234519Z",
     "start_time": "2024-05-25T16:24:19.216416Z"
    }
   },
   "cell_type": "code",
   "source": "len(features)",
   "id": "ece8035900384a2e",
   "execution_count": 219,
   "outputs": []
  },
  {
   "metadata": {
    "ExecuteTime": {
     "end_time": "2024-05-25T16:24:24.844173Z",
     "start_time": "2024-05-25T16:24:24.830447Z"
    }
   },
   "cell_type": "code",
   "source": "out = d_enc(torch.stack(features)).detach().numpy()",
   "id": "56f6da1a64f6c221",
   "execution_count": 221,
   "outputs": []
  },
  {
   "metadata": {
    "ExecuteTime": {
     "end_time": "2024-05-25T16:24:25.487640Z",
     "start_time": "2024-05-25T16:24:25.474913Z"
    }
   },
   "cell_type": "code",
   "source": "out.shape",
   "id": "95b73eed53d63a01",
   "execution_count": 222,
   "outputs": []
  },
  {
   "metadata": {
    "ExecuteTime": {
     "end_time": "2024-05-25T16:24:26.973227Z",
     "start_time": "2024-05-25T16:24:26.970179Z"
    }
   },
   "cell_type": "code",
   "source": "u = umap.UMAP()",
   "id": "87c55dda9e840607",
   "execution_count": 224,
   "outputs": []
  },
  {
   "metadata": {
    "ExecuteTime": {
     "end_time": "2024-05-25T16:24:31.715587Z",
     "start_time": "2024-05-25T16:24:29.913939Z"
    }
   },
   "cell_type": "code",
   "source": "umap_res = u.fit_transform(out)",
   "id": "c36f3691d7c2fb0",
   "execution_count": 225,
   "outputs": []
  },
  {
   "metadata": {
    "ExecuteTime": {
     "end_time": "2024-05-25T16:24:34.183793Z",
     "start_time": "2024-05-25T16:24:34.073094Z"
    }
   },
   "cell_type": "code",
   "source": [
    "plt.scatter(umap_res[:, 0], umap_res[:, 1], c = t70_d1_d['cliff'], cmap='viridis')\n",
    "plt.title(' ')\n",
    "plt.xlabel('UMAP Dimension 1')\n",
    "plt.ylabel('UMAP Dimension 2')\n",
    "plt.colorbar(label='Cliff Value')\n",
    "plt.show()"
   ],
   "id": "125d49a58e1a4171",
   "execution_count": 226,
   "outputs": []
  }
 ],
 "metadata": {
  "kernelspec": {
   "display_name": "Python 3",
   "language": "python",
   "name": "python3"
  },
  "language_info": {
   "codemirror_mode": {
    "name": "ipython",
    "version": 2
   },
   "file_extension": ".py",
   "mimetype": "text/x-python",
   "name": "python",
   "nbconvert_exporter": "python",
   "pygments_lexer": "ipython2",
   "version": "2.7.6"
  }
 },
 "nbformat": 4,
 "nbformat_minor": 5
}
